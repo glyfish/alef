{
 "cells": [
  {
   "cell_type": "markdown",
   "id": "d1b085c6-de03-4ccb-88d4-4b9ea0a8bf1a",
   "metadata": {},
   "source": [
    "# Fractional Brownian Motion"
   ]
  },
  {
   "cell_type": "code",
   "execution_count": 13,
   "id": "e634729c-4002-4ee1-aad8-98a7991d0d63",
   "metadata": {},
   "outputs": [],
   "source": [
    "# import system modules and set local import path\n",
    "import os\n",
    "import sys\n",
    "import numpy\n",
    "sys.path.insert(0, os.path.abspath('../..'))"
   ]
  },
  {
   "cell_type": "code",
   "execution_count": 11,
   "id": "edbe8b70-744c-4e86-b421-0562b1aaa227",
   "metadata": {},
   "outputs": [],
   "source": [
    "# import local modules\n",
    "from lib import bm"
   ]
  },
  {
   "cell_type": "markdown",
   "id": "aea3ab51-2fde-4cb6-a79e-79a5083ec771",
   "metadata": {},
   "source": [
    "## Noise Comparison"
   ]
  },
  {
   "cell_type": "code",
   "execution_count": 14,
   "id": "32fbf3f5-fee6-493d-bef0-d128d47ffca7",
   "metadata": {
    "tags": []
   },
   "outputs": [],
   "source": [
    "Δt = 1.0\n",
    "npts = 1000\n",
    "time = numpy.linspace(0.0, float(npts)*Δt, npts + 1)\n",
    "dB = bm.brownian_noise(npts+1)"
   ]
  },
  {
   "cell_type": "code",
   "execution_count": null,
   "id": "c6d4425c-0a69-49e0-abdb-3bca82b52db4",
   "metadata": {},
   "outputs": [],
   "source": []
  },
  {
   "cell_type": "code",
   "execution_count": null,
   "id": "59431dca-8a51-4ecc-9143-7029b6d9f11b",
   "metadata": {},
   "outputs": [],
   "source": []
  }
 ],
 "metadata": {
  "kernelspec": {
   "display_name": "Python 3 (ipykernel)",
   "language": "python",
   "name": "python3"
  },
  "language_info": {
   "codemirror_mode": {
    "name": "ipython",
    "version": 3
   },
   "file_extension": ".py",
   "mimetype": "text/x-python",
   "name": "python",
   "nbconvert_exporter": "python",
   "pygments_lexer": "ipython3",
   "version": "3.9.2"
  }
 },
 "nbformat": 4,
 "nbformat_minor": 5
}
