{
 "cells": [
  {
   "cell_type": "markdown",
   "id": "155e1fea-c853-4b39-82a2-0378a3a138b9",
   "metadata": {},
   "source": [
    "# Fractional Brownian Motion Expectations\n",
    "Here the first and second order expectaions of fractional brownian motion are discussed. <br>\n",
    "Let $Z_t^H$ denote a fractional brownian motion path with paramter $H$ as a function of time. Then moments are given by,<br>\n",
    "\n",
    "$E[Z^H_t] = 0$<br>\n",
    "$E[(Z_t^H)^2] = t^{2H}$<br>\n",
    "$E[Z^H_t Z^H_s] = \\frac{1}{2}[t^{2H}+s^{2H}-(t-s)^{2H}]$ where $t > s$<br>\n",
    "\n",
    "Let $\\Delta Z^H_t$ denote an increment of fractional brownina motion then the autocovariance of increments seperated in time by $n$ is given by,<br>\n",
    "\n",
    "$E[\\Delta Z^H_t \\Delta Z^H_{t+n}] = \\frac{1}{2}\\Delta t^{2H}[(n-1)^{2H} + (n+1)^{2H} - 2n^{2H}]$<br> "
   ]
  },
  {
   "cell_type": "markdown",
   "id": "00916b44-616e-432a-b52d-cb56c8e5fafd",
   "metadata": {},
   "source": [
    "## Imports"
   ]
  },
  {
   "cell_type": "code",
   "execution_count": 1,
   "id": "a6a0df9d-0e07-4ccd-94ff-4cb6b8306a8b",
   "metadata": {},
   "outputs": [],
   "source": [
    "%load_ext autoreload\n",
    "%autoreload 2\n",
    "\n",
    "# import system modules and set local import path\n",
    "import os\n",
    "import sys\n",
    "import numpy\n",
    "from matplotlib import pyplot\n",
    "\n",
    "sys.path.insert(0, os.path.abspath('../..'))\n",
    "\n",
    "# import local modules\n",
    "from lib import bm\n",
    "from lib import plots\n",
    "from lib import config\n",
    "\n",
    "# Config Plot Style\n",
    "pyplot.style.use(config.glyfish_style)"
   ]
  },
  {
   "cell_type": "markdown",
   "id": "02e3360b-543d-459b-9c82-164159bbb03c",
   "metadata": {},
   "source": [
    "## Plots"
   ]
  },
  {
   "cell_type": "code",
   "execution_count": 3,
   "id": "1c44689f-efe3-4f0b-abae-53b6ee5bfa24",
   "metadata": {},
   "outputs": [],
   "source": [
    "def covariance_plot(H_vals, s, time):\n",
    "    figure, axis = pyplot.subplots(figsize=(12, 8))\n",
    "    axis.set_xlabel(\"Time\")\n",
    "    axis.set_ylabel(\"Value\")\n",
    "    axis.set_title(r\"Fraction Brownian Motion Covariance, $\\frac{1}{2}[t^{2H} + s^{2H} - \\mid t-s \\mid^{2H}]$\" + f\", s={format(s, '1.2f')}\")\n",
    "\n",
    "    for H in H_vals:\n",
    "        axis.plot(time, brownian_motion.fbm_covariance(H, s, time), label=f\"H={format(H, '1.2f')}\")\n",
    "\n",
    "    axis.legend(ncol=2)\n",
    "\n",
    "def autocorrelation_plot(H_vals, time, lengend_location):\n",
    "    figure, axis = pyplot.subplots(figsize=(12, 8))\n",
    "    axis.set_xlabel(r\"$n$\")\n",
    "    axis.set_ylabel(r\"$r_{n}^{H}$\")\n",
    "    axis.set_title(r\"Fraction Brownian Motion Autocovariance, $r^{H}_{n}=\\frac{1}{2}[(n-1)^{2H} + (n+1)^{2H} - 2n^{2H}]$\")\n",
    "\n",
    "    for H in H_vals:\n",
    "        axis.plot(time, brownian_motion.fbn_autocorrelation(H, time), label=f\"H={format(H, '1.2f')}\")\n",
    "\n",
    "    axis.legend(ncol=2, bbox_to_anchor=lengend_location)\n",
    "\n",
    "def autocorrelation_limit(H_vals, time, lengend_location):\n",
    "    figure, axis = pyplot.subplots(figsize=(12, 8))\n",
    "    axis.set_xlabel(r\"$n$\")\n",
    "    axis.set_ylabel(r\"$r_{n}^{H}$\")\n",
    "    axis.set_title(r\"Fraction Brownian Motion Autocorrelation for $n\\gg1$, $r^{H}_{n}=H(2H-1)n^{2H-2}$\")\n",
    "\n",
    "    for H in H_vals:\n",
    "        axis.plot(time, brownian_motion.fbn_autocorrelation_large_n(H, time), label=f\"H={format(H, '1.2f')}\")\n",
    "\n",
    "    axis.legend(ncol=2, bbox_to_anchor=lengend_location)\n",
    "    \n",
    "def variance(H_vals, time, lengend_location):\n",
    "    "
   ]
  },
  {
   "cell_type": "code",
   "execution_count": null,
   "id": "6450907a-cbd2-47c0-9839-fa624d5cf309",
   "metadata": {},
   "outputs": [],
   "source": []
  }
 ],
 "metadata": {
  "kernelspec": {
   "display_name": "Python 3 (ipykernel)",
   "language": "python",
   "name": "python3"
  },
  "language_info": {
   "codemirror_mode": {
    "name": "ipython",
    "version": 3
   },
   "file_extension": ".py",
   "mimetype": "text/x-python",
   "name": "python",
   "nbconvert_exporter": "python",
   "pygments_lexer": "ipython3",
   "version": "3.9.2"
  }
 },
 "nbformat": 4,
 "nbformat_minor": 5
}
