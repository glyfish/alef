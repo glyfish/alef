{
 "cells": [
  {
   "cell_type": "markdown",
   "id": "9496bef0-11cb-467b-8793-bfe4cb87dc6e",
   "metadata": {
    "tags": []
   },
   "source": [
    "# Augmented Dickey-Fuller (ADF) Test\n",
    "\n",
    "The Augmented Dickey-Fuller identifies stationarity in an autoregressive process. This is accomplished by testing for the presence</br>\n",
    "of nonstationarity, called the unit root. For example consider the $\\text{AR}(1)$ process,\n",
    "\n",
    "$\n",
    "\\begin{align}\n",
    "X_t = \\varphi X_{t-1} + \\varepsilon_t\n",
    "\\end{align}\n",
    "$\n",
    "\n",
    "where $\\varepsilon_t \\sim \\text{Normal}(0,\\sigma^2)$ and independent. If $\\lvert \\varphi \\rvert < 1$ it can be shown that $X_t$ is stationary. The unit root,</br>\n",
    "$\\lvert \\varphi \\rvert = 1$, is equivalent to brownian motion. \n",
    "\n",
    "### Unit Root Form of $\\text{AR}(1)$\n",
    "\n",
    "The unit root form of $\\text{AR}(1)$ used in the analysis is constructed as follows. Subtracting $X_{t-1}$ from both sides of the expression</br>\n",
    "for $\\text{AR}(1)$ gives,\n",
    "\n",
    "$\n",
    "\\begin{align}\n",
    "X_t - X_{t-1} = \\left( \\varphi - 1\\right) X_{t-1} + \\varepsilon_t\n",
    "\\end{align}\n",
    "$\n",
    "\n",
    "Recall that the lag operator, $L$, is defined by, $L X_t = X_{t-1}, L^2 X_t = X_{t-2}, L^3 X_t = X_{t-3}, \\ldots$. The difference operator is then given by</br> \n",
    "$\\Delta = 1 - L$ and let $\\delta = \\varphi - 1$. It follows that\n",
    "\n",
    "$\n",
    "\\begin{align}\n",
    "& X_t - X_{t-1} = \\left( \\varphi - 1\\right) X_{t-1} + \\varepsilon_t \\\\\n",
    "\\Rightarrow & \\Delta X_t = \\delta X_{t-1} + \\varepsilon_t\n",
    "\\end{align}\n",
    "$\n",
    "\n",
    "Stationarity implies that, $\\delta < 0$, while nonstationarity, unit root, implies $\\delta = 0$. If follows that ADF tests is a lower tail significance test</br>\n",
    "with null hypothesis $\\delta = 0$ and alternative hypothesis $\\delta < 0$. Thus if the test fails $X_t$ is stationary. \n",
    "\n",
    "The lag polynomial is defined by,\n",
    "\n",
    "$\n",
    "\\begin{align}\n",
    "\\Phi^1(L) = 1 - \\varphi L\n",
    "\\end{align}\n",
    "$\n",
    "\n",
    "It follows that,\n",
    "\n",
    "$\n",
    "\\begin{align}\n",
    "\\Phi^1(L)X_t = \\varepsilon_t\n",
    "\\end{align}\n",
    "$\n",
    "\n",
    "The unit root is defined in terms of the lag polynomial by,\n",
    "\n",
    "$\n",
    "\\begin{align}\n",
    "&\\Phi^1(1) =  -\\delta \\\\\n",
    "\\Rightarrow& \\delta = 1 - \\varphi = 0\n",
    "\\end{align}\n",
    "$\n",
    "\n",
    "### Unit Root Form of $\\text{AR}(q)$\n",
    "\n",
    "Following the procedure used for $\\text{AR}(1)$ the unit root form of $\\text{AR}(2)$ can be constructed. The $\\text{AR}(2)$ lag polynomial is given by,\n",
    "\n",
    "$\n",
    "\\begin{align}\n",
    "\\Phi^2(L) = 1 - \\varphi_1 L - \\varphi_2 L^2\n",
    "\\end{align}\n",
    "$\n",
    "\n",
    "If follows that,\n",
    "\n",
    "$\n",
    "\\begin{align}\n",
    "&\\Phi^2(L) X_t = \\varepsilon_t \\\\\n",
    "\\Rightarrow & X_t = \\varphi_1 X_{t-1} + \\varphi_2 X_{t-2} + \\varepsilon_t\n",
    "\\end{align}\n",
    "$\n",
    "\n",
    "To obtain the unit root form subtract $X_{t-1}$ from both sides of $\\text{AR}(2)$ to obtain,\n",
    "\n",
    "$\n",
    "\\begin{align}\n",
    "& X_t - X_{t-1} = \\left( \\varphi_1 - 1 \\right) X_{t-1} + \\varphi_2 X_{t-2} + \\varepsilon_t \\\\\n",
    "\\Rightarrow & \\Delta X_t = \\left( \\varphi_1 - 1 \\right) X_{t-1} + \\varphi_2 X_{t-2} + \\varepsilon_t\n",
    "\\end{align}\n",
    "$\n",
    "\n",
    "Next add and subtract $\\varphi_3 X_{t-1}$ to obtain the final result,\n",
    "\n",
    "$\n",
    "\\begin{align}\n",
    "& \\Delta X_t = \\left( \\varphi_1 - 1 \\right) X_{t-1} + \\varphi_2 X_{t-1} + \\varphi_2 X_{t-2} + \\varepsilon_t - \\varphi_2 X_{t-1} \\\\\n",
    "\\Rightarrow & \\Delta X_t = \\left( \\varphi_2 + \\varphi_1 - 1 \\right) X_{t-1} + \\varphi_2 \\Delta X_{t-1} + \\varepsilon_t\n",
    "\\end{align}\n",
    "$\n",
    "\n",
    "Let $\\delta = \\varphi_2 + \\varphi_1 - 1$ to obtain the unit root form,\n",
    "\n",
    "$\n",
    "\\begin{align}\n",
    "\\Delta X_t = \\delta X_{t-1} + \\varphi_2 \\Delta X_{t-1} + \\varepsilon_t\n",
    "\\end{align}\n",
    "$\n",
    "\n",
    "The unit root is defined in terms of the lag polynomial by,\n",
    "\n",
    "$\n",
    "\\begin{align}\n",
    "&\\Phi^2(1) = -\\delta \\\\\n",
    "\\Rightarrow& \\delta = \\varphi_1 + \\varphi_2 - 1 = 0\n",
    "\\end{align}\n",
    "$\n",
    "\n",
    "This procedure can be repeated for autoregressive processes of arbitrary order. $\\text{AR}(q)$ is defined by\n",
    "\n",
    "$\n",
    "\\begin{align}\n",
    "&\\Phi^q(L) = 1 - \\varphi_1 L + \\varphi_2 L^2 - \\cdots - \\varphi_q L^q \\\\\n",
    "\\Rightarrow & \\Phi^q(L) X_t = \\varepsilon_t \\\\\n",
    "\\Rightarrow & X_t = \\varphi_1 X_{t-1} + \\varphi_2 X_{t-2} + \\cdots + + \\varphi_q X_{t-q} + \\varepsilon_t\n",
    "\\end{align}\n",
    "$\n",
    "\n",
    "the unit root form is given by,\n",
    "\n",
    "$\n",
    "\\begin{align}\n",
    "\\Delta X_t = \\delta X_{t-1} + C_1 \\Delta X_{t-1} + C_2 \\Delta X_{t-2} + \\cdots + C_{q-1} \\Delta X_{t- \\left( q - 1 \\right)} + \\varepsilon_t\n",
    "\\end{align}\n",
    "$\n",
    "\n",
    "where,\n",
    "\n",
    "$\n",
    "\\begin{align}\n",
    "&\\delta = \\varphi_1 + \\varphi_2 + \\cdots + \\varphi_q  -1\\\\\n",
    "&\\Phi^q(1) = -\\delta \\\\\n",
    "&C_i = -\\sum_{j=i+1}^q \\varphi_j\n",
    "\\end{align}\n",
    "$\n",
    "\n",
    "### $\\text{AR}(1)$ Test Statistic\n",
    "\n",
    "The OLS estimate for the $\\text{AR}(1)$ coefficient $\\varphi$  is given by,\n",
    "\n",
    "$\n",
    "\\begin{align}\n",
    "\\hat{\\varphi} = \\frac{\\sum_{t=1}^T X_t X_{t-1}}{\\sum_{t=1}^T X^2_{t-1}}\n",
    "\\end{align}\n",
    "$\n",
    "\n",
    "Using $X_t = \\Delta X_t + X_{t-1}$ and $\\hat{\\delta} = \\hat{\\varphi} - 1$ gives,\n",
    "\n",
    "$\n",
    "\\begin{align}\n",
    "\\hat{\\delta} = \\frac{\\sum_{t=1}^T X_{t-1} \\varepsilon_t}{\\sum_{t=1}^T X^2_{t-1}}\n",
    "\\end{align}\n",
    "$\n",
    "\n",
    "From this expression it can be shown that,\n",
    "\n",
    "$\n",
    "\\begin{align}\n",
    "&\\text{E}(\\hat{\\delta}) = 0 \\\\\n",
    "&\\text{Var}(\\hat{\\delta}) = \\frac{\\sigma}{\\sum_{t=1}^T X^2_{t-1}}\n",
    "\\end{align}\n",
    "$\n",
    "\n",
    "The test statistic is given by,\n",
    "\n",
    "$\n",
    "\\begin{align}\n",
    "t = \\frac{\\hat{\\delta}}{\\sqrt{\\text{Var}({\\hat{\\delta}})}}\n",
    "\\end{align}\n",
    "$\n",
    "\n",
    "The distribution of $t$ is not a standard distribution but has a stochastic integral representation that must be evaluated numerically, namely,\n",
    "\n",
    "$\n",
    "\\begin{align}\n",
    "T \\hat{\\delta} \\sim \\frac{\\int_0^1 B(s) dB(s)}{\\sqrt{\\int_0^1 B^2(s) ds}}\n",
    "\\end{align}\n",
    "$\n",
    "\n",
    "where $B(s)$ is a Wiener process. The numerator integral can be evaluated to obtain,\n",
    "\n",
    "$\n",
    "\\begin{align}\n",
    "\\int_0^1 B(s) dB(s) = \\frac{1}{2} \\left[ B^2(1) - 1 \\right]\n",
    "\\end{align}\n",
    "$\n",
    "\n",
    "The final result is given by,\n",
    "\n",
    "$\n",
    "\\begin{align}\n",
    "T \\hat{\\delta} \\sim \\frac{\\frac{1}{2} \\left[ B^2(1) - 1 \\right]}{ \\sqrt{\\int_0^1 B^2(s) ds}}\n",
    "\\end{align}\n",
    "$\n",
    "\n",
    "The ADF test is a lower tailed hypothesis test. If successful $\\delta = 0$ and the time series is brownian motion. If testing a time series for stationarity</br>, for $\\delta$ as defined,\n",
    "$\\delta > 0$ is desired so the test must fail."
   ]
  },
  {
   "cell_type": "markdown",
   "id": "fd31202b-e824-48b4-b02b-bf9e54cac010",
   "metadata": {},
   "source": [
    "## Includes"
   ]
  },
  {
   "cell_type": "code",
   "execution_count": 1,
   "id": "261f4904-a397-48ed-8242-819bc220827f",
   "metadata": {},
   "outputs": [
    {
     "name": "stderr",
     "output_type": "stream",
     "text": [
      "/Users/troy/.pyenv/versions/gly.fish.3.9.2/lib/python3.9/site-packages/pandas/compat/__init__.py:109: UserWarning: Could not import the lzma module. Your installed Python is incomplete. Attempting to use lzma compression will result in a RuntimeError.\n",
      "  warnings.warn(msg)\n"
     ]
    }
   ],
   "source": [
    "%reload_ext autoreload\n",
    "%autoreload 2\n",
    "\n",
    "# import system modules and set local import path\n",
    "import os\n",
    "import sys\n",
    "import numpy\n",
    "from matplotlib import pyplot\n",
    "\n",
    "sys.path.insert(0, os.path.abspath('../..'))\n",
    "\n",
    "# import local modules\n",
    "from lib import config\n",
    "from lib import (ARIMA, ADF, Test, Stats)\n",
    "from lib import (curve, bar)\n",
    "\n",
    "# Config Plot Style\n",
    "pyplot.style.use(config.glyfish_style)"
   ]
  },
  {
   "cell_type": "markdown",
   "id": "654db384-3b21-4da4-aa83-0818bb6d8595",
   "metadata": {},
   "source": [
    "## ADF Distribution\n",
    "\n",
    "The probability distribution of the ADF test statistic,\n",
    "\n",
    "$\n",
    "\\begin{align}\n",
    "T \\hat{\\delta} \\sim \\frac{\\frac{1}{2} \\left[ B^2(1) - 1 \\right]}{ \\sqrt{\\int_0^1 B^2(s) ds}}\n",
    "\\end{align}\n",
    "$\n",
    "\n",
    "is computed by simulation."
   ]
  },
  {
   "cell_type": "code",
   "execution_count": 2,
   "id": "a86631de-4f3f-4e2a-b340-d1d7956362ad",
   "metadata": {},
   "outputs": [
    {
     "data": {
      "text/plain": [
       "{'SourceType': None,\n",
       " 'SourceName': None,\n",
       " 'Schema': DataSchema(xcol=(t), ycol=(S(t)), data_type=(DataType.TIME_SERIES)),\n",
       " 'Date': '19/06/2022 12:52:33',\n",
       " 'Type': <Source.DF: 'DF'>,\n",
       " 'Name': 'Dickey-Fuller-Simulation-cb5e0dfd-aa80-4d44-86dd-b2dda9e6f208',\n",
       " 'SchemaIterations': None,\n",
       " 'DF': {'npts': 10000,\n",
       "  'DataType': <DataType.TIME_SERIES: 'TIME_SERIES'>,\n",
       "  'Parameters': {'nstep': 100, 'nsim': 10000},\n",
       "  'Description': 'Dickey-Fuller Distribution',\n",
       "  'ylabel': '$S_t$',\n",
       "  'xlabel': '$t$',\n",
       "  'SourceSchema': None,\n",
       "  'Formula': None,\n",
       "  'Estimates': {},\n",
       "  'Tests': {}}}"
      ]
     },
     "execution_count": 2,
     "metadata": {},
     "output_type": "execute_result"
    }
   ],
   "source": [
    "nstep = 100\n",
    "nsim = 10000\n",
    "df = ADF.Source.DF.create(nstep=nstep, nsim=nsim, npts=nsim)\n",
    "df.attrs"
   ]
  },
  {
   "cell_type": "code",
   "execution_count": 3,
   "id": "db3fe077-b9d7-44c6-8fd1-64312a73dd13",
   "metadata": {},
   "outputs": [
    {
     "data": {
      "text/plain": [
       "{'SourceType': <Source.DF: 'DF'>,\n",
       " 'SourceName': 'Dickey-Fuller-Simulation-cb5e0dfd-aa80-4d44-86dd-b2dda9e6f208',\n",
       " 'Schema': DataSchema(xcol=(x), ycol=(p(x)), data_type=(DataType.DIST)),\n",
       " 'Date': '19/06/2022 12:52:33',\n",
       " 'Type': <Func.PDF_HIST: 'PDF_HIST'>,\n",
       " 'Name': 'PDF_HIST-75020435-9c50-49ce-a67e-3bc0bb51745c',\n",
       " 'SchemaIterations': None,\n",
       " 'DF': {'npts': 10000,\n",
       "  'DataType': <DataType.TIME_SERIES: 'TIME_SERIES'>,\n",
       "  'Parameters': {'nstep': 100, 'nsim': 10000},\n",
       "  'Description': 'Dickey-Fuller Distribution',\n",
       "  'ylabel': '$S_t$',\n",
       "  'xlabel': '$t$',\n",
       "  'SourceSchema': None,\n",
       "  'Formula': None,\n",
       "  'Estimates': {},\n",
       "  'Tests': {}},\n",
       " 'PDF_HIST': {'npts': 50,\n",
       "  'DataType': <DataType.DIST: 'DIST'>,\n",
       "  'Parameters': {},\n",
       "  'Description': 'PDF',\n",
       "  'ylabel': '$p(x)$',\n",
       "  'xlabel': '$x$',\n",
       "  'SourceSchema': DataSchema(xcol=(t), ycol=(S(t)), data_type=(DataType.TIME_SERIES)),\n",
       "  'Formula': '$x \\\\sim \\\\frac{\\\\frac{1}{2}[B^2(1) - 1]}{\\\\sqrt{\\\\int_{0}^{1}B^2(s)ds}}$',\n",
       "  'Estimates': {},\n",
       "  'Tests': {}}}"
      ]
     },
     "execution_count": 3,
     "metadata": {},
     "output_type": "execute_result"
    },
    {
     "data": {
      "image/png": "[encoded data removed]",
      "text/plain": [
       "<Figure size 936x720 with 1 Axes>"
      ]
     },
     "metadata": {},
     "output_type": "display_data"
    }
   ],
   "source": [
    "pdf = Stats.Func.PDF_HIST.apply(df, xmin=-4.0, xmax=8.0)\n",
    "bar(pdf)\n",
    "pdf.attrs"
   ]
  },
  {
   "cell_type": "code",
   "execution_count": 4,
   "id": "a022d8cf-d3d0-47c5-af38-6d4f6ccd2f89",
   "metadata": {},
   "outputs": [
    {
     "data": {
      "text/plain": [
       "{'SourceType': <Source.DF: 'DF'>,\n",
       " 'SourceName': 'Dickey-Fuller-Simulation-cb5e0dfd-aa80-4d44-86dd-b2dda9e6f208',\n",
       " 'Schema': DataSchema(xcol=(x), ycol=(p(x)), data_type=(DataType.DIST)),\n",
       " 'Date': '19/06/2022 12:52:33',\n",
       " 'Type': <Func.CDF_HIST: 'CDF_HIST'>,\n",
       " 'Name': 'CDF_HIST-4874682d-5c10-43ed-87e5-d26957a6a1fa',\n",
       " 'SchemaIterations': None,\n",
       " 'DF': {'npts': 10000,\n",
       "  'DataType': <DataType.TIME_SERIES: 'TIME_SERIES'>,\n",
       "  'Parameters': {'nstep': 100, 'nsim': 10000},\n",
       "  'Description': 'Dickey-Fuller Distribution',\n",
       "  'ylabel': '$S_t$',\n",
       "  'xlabel': '$t$',\n",
       "  'SourceSchema': None,\n",
       "  'Formula': None,\n",
       "  'Estimates': {},\n",
       "  'Tests': {}},\n",
       " 'PDF_HIST': {'npts': 50,\n",
       "  'DataType': <DataType.DIST: 'DIST'>,\n",
       "  'Parameters': {},\n",
       "  'Description': 'PDF',\n",
       "  'ylabel': '$p(x)$',\n",
       "  'xlabel': '$x$',\n",
       "  'SourceSchema': DataSchema(xcol=(t), ycol=(S(t)), data_type=(DataType.TIME_SERIES)),\n",
       "  'Formula': '$x \\\\sim \\\\frac{\\\\frac{1}{2}[B^2(1) - 1]}{\\\\sqrt{\\\\int_{0}^{1}B^2(s)ds}}$',\n",
       "  'Estimates': {},\n",
       "  'Tests': {}},\n",
       " 'CDF_HIST': {'npts': 49,\n",
       "  'DataType': <DataType.DIST: 'DIST'>,\n",
       "  'Parameters': {},\n",
       "  'Description': 'CDF',\n",
       "  'ylabel': '$P(x)$',\n",
       "  'xlabel': '$x$',\n",
       "  'SourceSchema': DataSchema(xcol=(x), ycol=(p(x)), data_type=(DataType.DIST)),\n",
       "  'Formula': '$x \\\\sim \\\\frac{\\\\frac{1}{2}[B^2(1) - 1]}{\\\\sqrt{\\\\int_{0}^{1}B^2(s)ds}}$',\n",
       "  'Estimates': {},\n",
       "  'Tests': {}}}"
      ]
     },
     "execution_count": 4,
     "metadata": {},
     "output_type": "execute_result"
    },
    {
     "data": {
      "image/png": "[encoded data removed]",
      "text/plain": [
       "<Figure size 936x720 with 1 Axes>"
      ]
     },
     "metadata": {},
     "output_type": "display_data"
    }
   ],
   "source": [
    "cdf = Stats.Func.CDF_HIST.apply(pdf)\n",
    "bar(cdf, loc=\"rup\")\n",
    "cdf.attrs"
   ]
  },
  {
   "cell_type": "markdown",
   "id": "984ff9ba-6d4a-421d-9829-8ed660b6d5b5",
   "metadata": {},
   "source": [
    "## ADF Test examples"
   ]
  },
  {
   "cell_type": "code",
   "execution_count": 5,
   "id": "17ad7f0d-4f8c-4d20-9040-bfde6ea75bc0",
   "metadata": {},
   "outputs": [],
   "source": [
    "nsample = 1000"
   ]
  },
  {
   "cell_type": "markdown",
   "id": "2cb1c6f9-9166-4af6-8f5c-95201c9e912d",
   "metadata": {},
   "source": [
    "### $\\text{AR}(1)$\n",
    "\n",
    "$\\delta = 1 - \\varphi$"
   ]
  },
  {
   "cell_type": "code",
   "execution_count": 6,
   "id": "0d3c18a5-4deb-4f1c-bce4-09e66912f228",
   "metadata": {},
   "outputs": [
    {
     "ename": "NameError",
     "evalue": "name 'Source' is not defined",
     "output_type": "error",
     "traceback": [
      "\u001b[0;31m---------------------------------------------------------------------------\u001b[0m",
      "\u001b[0;31mNameError\u001b[0m                                 Traceback (most recent call last)",
      "\u001b[0;32m/var/folders/hc/xc94zvls2pq_pw366sdbqlhr0000gn/T/ipykernel_54698/1557556477.py\u001b[0m in \u001b[0;36m<module>\u001b[0;34m\u001b[0m\n\u001b[1;32m      1\u001b[0m \u001b[0mφ\u001b[0m \u001b[0;34m=\u001b[0m \u001b[0;34m[\u001b[0m\u001b[0;36m0.5\u001b[0m\u001b[0;34m]\u001b[0m\u001b[0;34m\u001b[0m\u001b[0;34m\u001b[0m\u001b[0m\n\u001b[0;32m----> 2\u001b[0;31m \u001b[0mdf\u001b[0m \u001b[0;34m=\u001b[0m \u001b[0mSource\u001b[0m\u001b[0;34m.\u001b[0m\u001b[0mAR\u001b[0m\u001b[0;34m.\u001b[0m\u001b[0mcreate\u001b[0m\u001b[0;34m(\u001b[0m\u001b[0mφ\u001b[0m\u001b[0;34m=\u001b[0m\u001b[0mφ\u001b[0m\u001b[0;34m,\u001b[0m \u001b[0mnpts\u001b[0m\u001b[0;34m=\u001b[0m\u001b[0mnsample\u001b[0m\u001b[0;34m)\u001b[0m\u001b[0;34m\u001b[0m\u001b[0;34m\u001b[0m\u001b[0m\n\u001b[0m\u001b[1;32m      3\u001b[0m \u001b[0mtitle\u001b[0m \u001b[0;34m=\u001b[0m \u001b[0;34mf\"AR(1) ADF Example: φ={φ}, δ={format(1.0-φ[0], '1.2f')}\"\u001b[0m\u001b[0;34m\u001b[0m\u001b[0;34m\u001b[0m\u001b[0m\n\u001b[1;32m      4\u001b[0m \u001b[0mcurve\u001b[0m\u001b[0;34m(\u001b[0m\u001b[0mdf\u001b[0m\u001b[0;34m,\u001b[0m \u001b[0mlw\u001b[0m\u001b[0;34m=\u001b[0m\u001b[0;36m1\u001b[0m\u001b[0;34m,\u001b[0m \u001b[0mtitle\u001b[0m\u001b[0;34m=\u001b[0m\u001b[0mtitle\u001b[0m\u001b[0;34m)\u001b[0m\u001b[0;34m\u001b[0m\u001b[0;34m\u001b[0m\u001b[0m\n",
      "\u001b[0;31mNameError\u001b[0m: name 'Source' is not defined"
     ]
    }
   ],
   "source": [
    "φ = [0.5]\n",
    "df = ARIMA.Source.AR.create(φ=φ, npts=nsample)\n",
    "title = f\"AR(1) ADF Example: φ={φ}, δ={format(1.0-φ[0], '1.2f')}\"\n",
    "curve(df, lw=1, title=title)"
   ]
  },
  {
   "cell_type": "code",
   "execution_count": null,
   "id": "6c586302-b4c1-45f2-aa42-3dfc81739966",
   "metadata": {
    "tags": []
   },
   "outputs": [],
   "source": [
    "result = Test.STATIONARITY.perform(df)\n",
    "result.summary()"
   ]
  },
  {
   "cell_type": "code",
   "execution_count": null,
   "id": "f2da8bd7-bbbd-4301-b497-f12b797b738b",
   "metadata": {},
   "outputs": [],
   "source": [
    "df.attrs"
   ]
  },
  {
   "cell_type": "code",
   "execution_count": null,
   "id": "feb46fab-84e8-4c27-a362-6047e783f653",
   "metadata": {},
   "outputs": [],
   "source": [
    "φ = [-0.5]\n",
    "df = ARIMA.Source.AR.create(φ=φ, npts=nsample)\n",
    "title = f\"AR(1) ADF Example: φ={φ}, δ={format(1.0-φ[0], '1.2f')}\"\n",
    "curve(df, title=title, lw=1)"
   ]
  },
  {
   "cell_type": "code",
   "execution_count": null,
   "id": "1699335d-f378-4cad-8d34-101d9f6a4202",
   "metadata": {},
   "outputs": [],
   "source": [
    "result = Test.STATIONARITY.perform(df)\n",
    "result.summary()"
   ]
  },
  {
   "cell_type": "code",
   "execution_count": null,
   "id": "e5f2bea5-32b8-499e-bb3e-c38555aa1b8a",
   "metadata": {},
   "outputs": [],
   "source": [
    "df.attrs"
   ]
  },
  {
   "cell_type": "code",
   "execution_count": null,
   "id": "49122435-3f59-4af1-8027-576f200e37cd",
   "metadata": {},
   "outputs": [],
   "source": [
    "φ = [0.99]\n",
    "df = ARIMA.Source.AR.create(φ=φ, npts=nsample)\n",
    "title = f\"AR(1) ADF Example: φ={φ}, δ={format(1.0-φ[0], '1.2f')}\"\n",
    "curve(df, title=title, lw=1)"
   ]
  },
  {
   "cell_type": "code",
   "execution_count": null,
   "id": "6f0277b4-e57b-4180-904a-66784ae359e6",
   "metadata": {},
   "outputs": [],
   "source": [
    "result = Test.STATIONARITY.perform(df)\n",
    "result.summary()"
   ]
  },
  {
   "cell_type": "code",
   "execution_count": null,
   "id": "6fdea862-9c35-48d0-b36c-909b52ab7538",
   "metadata": {},
   "outputs": [],
   "source": [
    "df.attrs"
   ]
  },
  {
   "cell_type": "code",
   "execution_count": null,
   "id": "2a25467c-120b-4a4f-9757-6d46829cc209",
   "metadata": {},
   "outputs": [],
   "source": [
    "φ = [1.0]\n",
    "df = ARIMA.Source.AR.create(φ=φ, npts=nsample)\n",
    "title = f\"AR(1) ADF Example: φ={φ}, δ={format(1.0-φ[0], '1.2f')}\"\n",
    "curve(df, title=title, lw=1)"
   ]
  },
  {
   "cell_type": "code",
   "execution_count": null,
   "id": "d63cc5d7-56f9-4a14-a2b2-8f19ba5aca36",
   "metadata": {},
   "outputs": [],
   "source": [
    "result = Test.STATIONARITY.perform(df)\n",
    "result.summary()"
   ]
  },
  {
   "cell_type": "code",
   "execution_count": null,
   "id": "56787819-d1c1-4267-b698-c62dfb2bdef6",
   "metadata": {},
   "outputs": [],
   "source": [
    "df.attrs"
   ]
  },
  {
   "cell_type": "code",
   "execution_count": null,
   "id": "3a1a5261-a0bd-495c-a966-5322cb0b5879",
   "metadata": {},
   "outputs": [],
   "source": [
    "φ = [-1.0]\n",
    "df = ARIMA.Source.AR.create(φ=φ, npts=nsample)\n",
    "title = f\"AR(1) ADF Example: φ={φ}, δ={format(1.0-φ[0], '1.2f')}\"\n",
    "curve(df, title=title, lw=1)"
   ]
  },
  {
   "cell_type": "code",
   "execution_count": null,
   "id": "c082c348-8487-4299-b72d-9d0471c0d107",
   "metadata": {},
   "outputs": [],
   "source": [
    "result = Test.STATIONARITY.perform(df)\n",
    "result.summary()"
   ]
  },
  {
   "cell_type": "code",
   "execution_count": null,
   "id": "3fa22553-e85d-45c2-a7d6-9dfdb8a133b1",
   "metadata": {},
   "outputs": [],
   "source": [
    "df.attrs"
   ]
  },
  {
   "cell_type": "markdown",
   "id": "ebdfe2b8-f71b-4181-bbc2-f99c3e10a3f2",
   "metadata": {},
   "source": [
    "### $\\text{AR}(2)$\n",
    "\n",
    "$\\delta = 1 - \\varphi_1 - \\varphi_2$"
   ]
  },
  {
   "cell_type": "code",
   "execution_count": null,
   "id": "08ca5fb0-57b5-412d-af79-d5abc35839e2",
   "metadata": {
    "tags": []
   },
   "outputs": [],
   "source": [
    "φ = [0.2, 0.3]\n",
    "df = ARIMA.Source.AR.create(φ=φ, npts=nsample)\n",
    "title = f\"AR(1) ADF Example: φ={φ}, δ={format(1.0-φ[0]-φ[1], '1.2f')}\"\n",
    "curve(df, title=title, lw=1)"
   ]
  },
  {
   "cell_type": "code",
   "execution_count": null,
   "id": "4c178ed9-dd46-45ff-bf20-a1c07ab5140c",
   "metadata": {},
   "outputs": [],
   "source": [
    "result = Test.STATIONARITY.perform(df)\n",
    "result.summary()"
   ]
  },
  {
   "cell_type": "code",
   "execution_count": null,
   "id": "9195a41b-f216-41a5-a696-d6b6766cbc27",
   "metadata": {},
   "outputs": [],
   "source": [
    "df.attrs"
   ]
  },
  {
   "cell_type": "code",
   "execution_count": null,
   "id": "85d7e09b-d5e2-4a28-aacf-45b288335be0",
   "metadata": {
    "tags": []
   },
   "outputs": [],
   "source": [
    "φ = [0.3, -0.4]\n",
    "samples = ARIMA.Source.AR.create(φ=φ, npts=nsample)\n",
    "title = f\"AR(1) ADF Example: φ={φ}, δ={format(1.0-φ[0]-φ[1], '1.2f')}\"\n",
    "curve(samples, title=title, lw=1)"
   ]
  },
  {
   "cell_type": "code",
   "execution_count": null,
   "id": "58f0418b-9f91-4b94-b338-d221a2b32ccd",
   "metadata": {},
   "outputs": [],
   "source": [
    "result = Test.STATIONARITY.perform(df)\n",
    "result.summary()"
   ]
  },
  {
   "cell_type": "code",
   "execution_count": null,
   "id": "f7059b34-ef04-48c5-900a-8b10b38b381c",
   "metadata": {},
   "outputs": [],
   "source": [
    "df.attrs"
   ]
  },
  {
   "cell_type": "code",
   "execution_count": null,
   "id": "48aca5b1-d6dc-4fd1-a84a-6e3c33f53164",
   "metadata": {
    "tags": []
   },
   "outputs": [],
   "source": [
    "φ = [0.2, 0.8]\n",
    "df = ARIMA.Source.AR.create(φ=φ, npts=nsample)\n",
    "title = f\"AR(1) ADF Example: φ={φ}, δ={format(1.0-φ[0]-φ[1], '1.2f')}\"\n",
    "curve(df, title=title, lw=1)"
   ]
  },
  {
   "cell_type": "code",
   "execution_count": null,
   "id": "d2e53c0b-7ba3-4f99-9efb-05f5d96ade31",
   "metadata": {},
   "outputs": [],
   "source": [
    "result = Test.STATIONARITY.perform(df)\n",
    "result.summary()"
   ]
  },
  {
   "cell_type": "code",
   "execution_count": null,
   "id": "9f4da7e0-716e-4170-9cd1-f163b1acb586",
   "metadata": {},
   "outputs": [],
   "source": [
    "df.attrs"
   ]
  },
  {
   "cell_type": "markdown",
   "id": "87f0978b-fe56-4d87-8d66-54e4bd730ac2",
   "metadata": {},
   "source": [
    "### $\\text{AR}(3)$\n",
    "\n",
    "$\\delta = 1 - \\varphi_1 - \\varphi_2 - \\varphi_3$ "
   ]
  },
  {
   "cell_type": "code",
   "execution_count": null,
   "id": "90cde003-fc2e-4eb8-8b97-94f484478b78",
   "metadata": {
    "tags": []
   },
   "outputs": [],
   "source": [
    "φ = [0.2, 0.3, 0.3]\n",
    "df = ARIMA.Source.AR.create(φ=φ, npts=nsample)\n",
    "title = f\"AR(1) ADF Example: φ={φ}, δ={format(1.0-φ[0]-φ[1]-φ[2], '1.2f')}\"\n",
    "curve(df, title=title, lw=1)"
   ]
  },
  {
   "cell_type": "code",
   "execution_count": null,
   "id": "e3e7669b-c6b7-469e-92f6-d2bfc1e411c3",
   "metadata": {},
   "outputs": [],
   "source": [
    "result = Test.STATIONARITY.perform(df)\n",
    "result.summary()"
   ]
  },
  {
   "cell_type": "code",
   "execution_count": null,
   "id": "74fab74e-aa5f-43de-8d41-480655a2a961",
   "metadata": {},
   "outputs": [],
   "source": [
    "df.attrs"
   ]
  },
  {
   "cell_type": "code",
   "execution_count": null,
   "id": "5c1e3c23-b3a6-435a-86ff-ddc0ce5426fb",
   "metadata": {
    "tags": []
   },
   "outputs": [],
   "source": [
    "φ = [0.2, 0.3, -0.3]\n",
    "df = ARIMA.Source.AR.create(φ=φ, npts=nsample)\n",
    "title = f\"AR(1) ADF Example: φ={φ}, δ={format(1.0-φ[0]-φ[1]-φ[2], '1.2f')}\"\n",
    "curve(df, title=title, lw=1)"
   ]
  },
  {
   "cell_type": "code",
   "execution_count": null,
   "id": "157701a9-9166-4079-a328-85e15bd1387a",
   "metadata": {},
   "outputs": [],
   "source": [
    "result = Test.STATIONARITY.perform(df)\n",
    "result.summary()"
   ]
  },
  {
   "cell_type": "code",
   "execution_count": null,
   "id": "2ba204f4-0199-4826-95be-9395d5133637",
   "metadata": {},
   "outputs": [],
   "source": [
    "df.attrs"
   ]
  },
  {
   "cell_type": "code",
   "execution_count": null,
   "id": "8da5db11-8c3e-4787-8b70-7601133b79cb",
   "metadata": {
    "tags": []
   },
   "outputs": [],
   "source": [
    "φ = [0.2, 0.3, 0.5]\n",
    "df = ARIMA.Source.AR.create(φ=φ, npts=nsample)\n",
    "title = f\"AR(1) ADF Example: φ={φ}, δ={format(1.0-φ[0]-φ[1]-φ[2], '1.2f')}\"\n",
    "curve(df, title=title, lw=1)"
   ]
  },
  {
   "cell_type": "code",
   "execution_count": null,
   "id": "eaf734e7-e8dc-4e85-8c3c-aff6ab220738",
   "metadata": {},
   "outputs": [],
   "source": [
    "result=Test.STATIONARITY.perform(df)\n",
    "result.summary()"
   ]
  },
  {
   "cell_type": "code",
   "execution_count": null,
   "id": "ab212a75-9745-4063-8987-d40b6ae69c77",
   "metadata": {},
   "outputs": [],
   "source": [
    "df.attrs"
   ]
  },
  {
   "cell_type": "markdown",
   "id": "08e8373c-d331-4969-b2c1-1d5f8d10d76d",
   "metadata": {},
   "source": [
    "### AR(1) with Offset"
   ]
  },
  {
   "cell_type": "code",
   "execution_count": null,
   "id": "d93f91de-5448-4f9c-bbe5-f43f490ef75f",
   "metadata": {
    "tags": []
   },
   "outputs": [],
   "source": [
    "μ = 1.0\n",
    "γ = 0.0"
   ]
  },
  {
   "cell_type": "code",
   "execution_count": null,
   "id": "0acdb4d3-d447-4323-b567-06aa10497839",
   "metadata": {},
   "outputs": [],
   "source": [
    "φ = [0.5]\n",
    "df = ARIMA.Source.AR_OFFSET.create(φ=φ, μ=μ, npts=nsample)\n",
    "title = f\"AR(1) with Offset ADF Example: φ={φ}, μ={μ}, δ={format(1.0-φ[0], '1.2f')}\"\n",
    "curve(df, title=title, lw=1)"
   ]
  },
  {
   "cell_type": "code",
   "execution_count": null,
   "id": "d37feb7a-fdc2-4121-a6e8-7f6a70e3c27b",
   "metadata": {
    "tags": []
   },
   "outputs": [],
   "source": [
    "result = Test.STATIONARITY_OFFSET.perform(df)\n",
    "result.summary()"
   ]
  },
  {
   "cell_type": "code",
   "execution_count": null,
   "id": "2f14604f-2196-490f-b206-651e631c3ffc",
   "metadata": {},
   "outputs": [],
   "source": [
    "df.attrs"
   ]
  },
  {
   "cell_type": "code",
   "execution_count": null,
   "id": "3f34b562-7d13-4b86-aff1-8e8c38ff5a26",
   "metadata": {},
   "outputs": [],
   "source": [
    "φ = [0.99]\n",
    "df = ARIMA.Source.AR_OFFSET.create(φ=φ, μ=μ, npts=nsample)\n",
    "title = f\"AR(1) with Offset ADF Example: φ={φ}, μ={μ}, δ={format(1.0-φ[0], '1.2f')}\"\n",
    "curve(df, title=title, lw=1)"
   ]
  },
  {
   "cell_type": "code",
   "execution_count": null,
   "id": "a243bc4b-329d-4e1d-9b43-aee0bca2a575",
   "metadata": {},
   "outputs": [],
   "source": [
    "result = Test.STATIONARITY_OFFSET.perform(df)\n",
    "result.summary()"
   ]
  },
  {
   "cell_type": "code",
   "execution_count": null,
   "id": "06cc00fb-f986-4e06-8648-0da6c3e15806",
   "metadata": {},
   "outputs": [],
   "source": [
    "df.attrs"
   ]
  },
  {
   "cell_type": "code",
   "execution_count": null,
   "id": "20ebf629-8687-4b87-ab6f-4383b27bb7cf",
   "metadata": {},
   "outputs": [],
   "source": [
    "φ = [1.0]\n",
    "df = ARIMA.Source.AR_OFFSET.create(φ=[φ], μ=μ, npts=nsample)\n",
    "title = f\"AR(1) with Offset ADF Example: φ={φ}, μ={μ}, δ={format(1.0-φ[0], '1.2f')}\"\n",
    "curve(df, title=title, lw=1)"
   ]
  },
  {
   "cell_type": "code",
   "execution_count": null,
   "id": "2b7569b6-9bb5-458f-837f-02e5599228f1",
   "metadata": {},
   "outputs": [],
   "source": [
    "result = Test.STATIONARITY_OFFSET.perform(df)\n",
    "result.summary()"
   ]
  },
  {
   "cell_type": "code",
   "execution_count": null,
   "id": "00825655-8e3c-4b0a-b076-a03e0bcce734",
   "metadata": {},
   "outputs": [],
   "source": [
    "df.attrs"
   ]
  },
  {
   "cell_type": "markdown",
   "id": "59d36d53-60e5-4a86-84c3-f5334093b789",
   "metadata": {},
   "source": [
    "### $\\text{AR}(1)$ with Drift"
   ]
  },
  {
   "cell_type": "code",
   "execution_count": null,
   "id": "c6b8ab0f-abe6-41a4-a1b6-4bf00f206d12",
   "metadata": {
    "tags": []
   },
   "outputs": [],
   "source": [
    "μ = 1.0\n",
    "γ = 0.01"
   ]
  },
  {
   "cell_type": "code",
   "execution_count": null,
   "id": "b6814afa-a6a8-41ef-b812-17521949e438",
   "metadata": {},
   "outputs": [],
   "source": [
    "φ = [0.5]\n",
    "df = ARIMA.Source.AR_DRIFT.create(φ=[φ], μ=μ, γ=γ, npts=nsample)\n",
    "title = f\"AR(1) with Drift ADF Example: φ={φ}, μ={μ}, γ={γ}, δ={format(1.0-φ[0], '1.2f')}\"\n",
    "curve(df, title=title, lw=1)"
   ]
  },
  {
   "cell_type": "code",
   "execution_count": null,
   "id": "1fa9c462-5192-4cc3-a29d-754a8fe2acef",
   "metadata": {
    "tags": []
   },
   "outputs": [],
   "source": [
    "result = Test.STATIONARITY_DRIFT.perform(df)\n",
    "result.summary()"
   ]
  },
  {
   "cell_type": "code",
   "execution_count": null,
   "id": "ad1aa307-3593-40af-8fc8-bd44757ed841",
   "metadata": {},
   "outputs": [],
   "source": [
    "df.attrs"
   ]
  },
  {
   "cell_type": "code",
   "execution_count": null,
   "id": "4fdf31d3-9281-4d50-ab8b-c2d245d9e33a",
   "metadata": {},
   "outputs": [],
   "source": [
    "φ = [-0.5]\n",
    "df = ARIMA.Source.AR_DRIFT.create(φ=[φ], μ=μ, γ=γ, npts=nsample)\n",
    "title = f\"AR(1) with Drift ADF Example: φ={φ}, μ={μ}, γ={γ}, δ={format(1.0-φ[0], '1.2f')}\"\n",
    "curve(df, title=title, lw=1)"
   ]
  },
  {
   "cell_type": "code",
   "execution_count": null,
   "id": "cc4a70b7-aa41-4405-a711-aaa8c09e3aaa",
   "metadata": {
    "tags": []
   },
   "outputs": [],
   "source": [
    "result = Test.STATIONARITY_DRIFT.perform(df)\n",
    "result.summary()"
   ]
  },
  {
   "cell_type": "code",
   "execution_count": null,
   "id": "e95ce4d2-0fb0-4202-a152-5a6d653408f1",
   "metadata": {},
   "outputs": [],
   "source": [
    "df.attrs"
   ]
  },
  {
   "cell_type": "code",
   "execution_count": null,
   "id": "de619f7e-f753-4611-9d34-967956fe0c35",
   "metadata": {},
   "outputs": [],
   "source": [
    "φ = [0.9]\n",
    "df = ARIMA.Source.AR_DRIFT.create(φ=[φ], μ=μ, γ=γ, npts=nsample)\n",
    "title = f\"AR(1) with Drift ADF Example: φ={φ}, μ={μ}, γ={γ}, δ={format(1.0-φ[0], '1.2f')}\"\n",
    "curve(df, title=title, lw=1)"
   ]
  },
  {
   "cell_type": "code",
   "execution_count": null,
   "id": "cb67fefe-e527-4924-a3de-b47f64a8313e",
   "metadata": {
    "tags": []
   },
   "outputs": [],
   "source": [
    "result = Test.STATIONARITY_DRIFT.perform(df)\n",
    "result.summary()"
   ]
  },
  {
   "cell_type": "code",
   "execution_count": null,
   "id": "76730133-f43b-472e-aa87-bba56b4a9771",
   "metadata": {},
   "outputs": [],
   "source": [
    "df.attrs"
   ]
  },
  {
   "cell_type": "code",
   "execution_count": null,
   "id": "52cbbb87-a40d-4dc0-aa74-df68ce4c0163",
   "metadata": {},
   "outputs": [],
   "source": [
    "φ = [1.0]\n",
    "df = ARIMA.Source.AR_DRIFT.create(φ=[φ], μ=μ, γ=γ, npts=nsample)\n",
    "title = f\"AR(1) with Drift ADF Example: φ={φ}, μ={μ}, γ={γ}, δ={format(1.0-φ[0], '1.2f')}\"\n",
    "curve(df, title=title, lw=1)"
   ]
  },
  {
   "cell_type": "code",
   "execution_count": null,
   "id": "6de29bbd-39f6-4fda-997a-bf959df171df",
   "metadata": {},
   "outputs": [],
   "source": [
    "result = Test.STATIONARITY_DRIFT.perform(df)\n",
    "result.summary()"
   ]
  },
  {
   "cell_type": "code",
   "execution_count": null,
   "id": "840b2779-55b5-43a6-abdb-e1ea13477499",
   "metadata": {},
   "outputs": [],
   "source": [
    "df.attrs"
   ]
  },
  {
   "cell_type": "markdown",
   "id": "3f1ab931-70bd-4091-b685-65dd43a8c3d7",
   "metadata": {},
   "source": [
    "### $\\text{AR}(2)$ with Drift"
   ]
  },
  {
   "cell_type": "code",
   "execution_count": null,
   "id": "f0ab77dd-51cc-4133-89b1-8f3fbcc4686d",
   "metadata": {},
   "outputs": [],
   "source": [
    "φ = [0.2, 0.3]\n",
    "df = Source.AR_DRIFT.create(φ=φ, μ=μ, γ=γ, npts=nsample)\n",
    "title = f\"AR(2) with Drift ADF Example: φ={φ}, μ={μ}, γ={γ}, δ={format(1.0-φ[0], '1.2f')}\"\n",
    "curve(df, title=title, lw=1)"
   ]
  },
  {
   "cell_type": "code",
   "execution_count": null,
   "id": "193b02e6-faf1-466a-97c7-293b5f2951eb",
   "metadata": {},
   "outputs": [],
   "source": [
    "result = Test.STATIONARITY_DRIFT.perform(df)\n",
    "result.summary()"
   ]
  },
  {
   "cell_type": "code",
   "execution_count": null,
   "id": "bdad183d-16b5-4806-ad07-fbc2394fe94e",
   "metadata": {},
   "outputs": [],
   "source": [
    "df.attrs"
   ]
  },
  {
   "cell_type": "code",
   "execution_count": null,
   "id": "cdc58a81-0a34-4be2-bd06-cf36155b5830",
   "metadata": {},
   "outputs": [],
   "source": [
    "φ = [0.4, 0.6]\n",
    "df = Source.AR_DRIFT.create(φ=φ, μ=μ, γ=γ, npts=nsample)\n",
    "title = f\"AR(2) with Drift ADF Example: φ={φ}, μ={μ}, γ={γ}, δ={format(1.0-φ[0], '1.2f')}\"\n",
    "curve(df, title=title, lw=1)"
   ]
  },
  {
   "cell_type": "code",
   "execution_count": null,
   "id": "0aed5b1d-1bec-4fde-b712-43659c89411f",
   "metadata": {},
   "outputs": [],
   "source": [
    "result = Test.STATIONARITY_DRIFT.perform(df)\n",
    "result.summary()"
   ]
  },
  {
   "cell_type": "code",
   "execution_count": null,
   "id": "9e93b037-e318-4b25-b18a-89856055a184",
   "metadata": {},
   "outputs": [],
   "source": [
    "df.attrs"
   ]
  }
 ],
 "metadata": {
  "kernelspec": {
   "display_name": "Python 3 (ipykernel)",
   "language": "python",
   "name": "python3"
  },
  "language_info": {
   "codemirror_mode": {
    "name": "ipython",
    "version": 3
   },
   "file_extension": ".py",
   "mimetype": "text/x-python",
   "name": "python",
   "nbconvert_exporter": "python",
   "pygments_lexer": "ipython3",
   "version": "3.9.2"
  }
 },
 "nbformat": 4,
 "nbformat_minor": 5
}
