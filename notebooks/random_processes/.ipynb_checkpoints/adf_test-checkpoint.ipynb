{
 "cells": [
  {
   "cell_type": "markdown",
   "id": "9496bef0-11cb-467b-8793-bfe4cb87dc6e",
   "metadata": {},
   "source": [
    "# Augmented Dickey-Fuller (ADF) Test\n",
    "\n",
    "The Augmented Dickey-Fuller identifies stationarity in an autoregressive process. This is accomplished by detecting the presence of nonstationarity, called the unit root.</br>\n",
    "For example consider the $\\text{AR}(1)$ process,\n",
    "\n",
    "$\n",
    "\\begin{align}\n",
    "X_t = \\varphi X_{t-1} + \\varepsilon_t\n",
    "\\end{align}\n",
    "$\n",
    "\n",
    "where $\\varepsilon_t \\sim \\text{Normal}(0,\\sigma^2)$ and independent. If $\\lvert \\varphi \\rvert < 1$ it can be shown that $X_t$ is stationary.</br>\n",
    "The unit root, $\\lvert \\varphi \\rvert = 1$, is equivalent to brownian motion.\n",
    "\n",
    "### Unit Root Form\n",
    "\n",
    "The unit root form</br> of $\\text{AR}(1)$ used in the analysis is constructed as follows. Subtracting $X_{t-1}$ gives,\n",
    "\n",
    "$\n",
    "\\begin{align}\n",
    "X_t - X_{t-1} = \\left( \\varphi - 1\\right) X_{t-1} + \\varepsilon_t\n",
    "\\end{align}\n",
    "$\n",
    "\n",
    "using the lag operator $L$,\n",
    "\n",
    "$\n",
    "\\begin{align}\n",
    "&L X_t = X_{t-1} \\\\\n",
    "&L^2 X_t = X_{t-2} \\\\\n",
    "&L^3 X_t = X_{t-3} \\\\\n",
    "&\\vdots\n",
    "\\end{align}\n",
    "$\n",
    "\n",
    "it follows that,\n",
    "\n",
    "$\n",
    "\\begin{align}\n",
    "(1 - \\varphi L)X_t = \\varepsilon_t\n",
    "\\end{align}\n",
    "$"
   ]
  }
 ],
 "metadata": {
  "kernelspec": {
   "display_name": "Python 3 (ipykernel)",
   "language": "python",
   "name": "python3"
  },
  "language_info": {
   "codemirror_mode": {
    "name": "ipython",
    "version": 3
   },
   "file_extension": ".py",
   "mimetype": "text/x-python",
   "name": "python",
   "nbconvert_exporter": "python",
   "pygments_lexer": "ipython3",
   "version": "3.9.2"
  }
 },
 "nbformat": 4,
 "nbformat_minor": 5
}
