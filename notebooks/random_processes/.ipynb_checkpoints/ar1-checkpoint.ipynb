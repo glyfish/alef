{
 "cells": [
  {
   "cell_type": "markdown",
   "id": "e0d9f9ec-3647-4306-b9bf-1c6cf243c137",
   "metadata": {},
   "source": [
    "# AR(1)\n",
    "\n",
    "The autoregressive model of order 1, denoted by $\\text{AR}(1)$, random process is defined by,\n",
    "\n",
    "$\n",
    "\\begin{align}\n",
    "X_t=\\varphi X_{t-1} + \\varepsilon_t\n",
    "\\end{align}\n",
    "$\n",
    "\n",
    "where $\\varepsilon_t$ are independent and identically distributed random variables with distribution,\n",
    "\n",
    "$\n",
    "\\begin{align}\n",
    "\\varepsilon_t \\sim \\text{Normal}(0, \\sigma^2)\n",
    "\\end{align}\n",
    "$\n",
    "\n",
    "It follows that,\n",
    "\n",
    "$\n",
    "\\begin{align}\n",
    "&\\text{E}[\\varepsilon_t] = 0 \\\\\n",
    "&\\text{E}[\\varepsilon_t^2] = \\sigma^2 \\\\\n",
    "&\\text{E}[\\varepsilon_t \\varepsilon_s] = \\delta_{ts} \\sigma^2\n",
    "\\end{align}\n",
    "$\n",
    "\n",
    "For  $\\text{AR}(1)$ can be shown that in the limit $t \\rightarrow \\infty$ with $\\lvert \\varphi \\rvert < 1,$\n",
    "\n",
    "$\n",
    "\\begin{align}\n",
    "&\\lim_{t \\to \\infty} \\text{E}[X_t] = 0 \\\\\n",
    "&\\lim_{t \\to \\infty} \\text{E}[X_t^2] = \\frac{\\sigma^2}{1-\\varphi^2} \\\\\n",
    "&\\lim_{t \\to \\infty} \\text{E}[X_t X_{t+n}] = \\varphi^n \\sigma^2\n",
    "\\end{align}\n",
    "$\n",
    "\n",
    "where $n>0$.The autocorrelation function, $\\rho_\\tau$, is defined by,\n",
    "\n",
    "$\n",
    "\\begin{align}\n",
    "\\rho_{\\tau} = \\frac{\\text{E}[X_t X_{t+\\tau}]}{\\sigma^2} = \\varphi^{\\tau}\n",
    "\\end{align}\n",
    "$\n",
    "\n",
    "Convergence of $\\rho_{\\tau}$ as $\\tau \\to \\infty$ requires that $\\lvert \\varphi \\rvert < 1$.\n",
    "\n",
    "### Relation to $\\text{MA}(\\infty)$\n",
    "AR(1) is related to $\\text{MA}(\\infty)$. To see this consider,\n",
    "\n",
    "$\n",
    "\\begin{align}\n",
    "X_t = \\left( 1 - \\varphi L \\right)^{-1} \\varepsilon_t\n",
    "\\end{align}\n",
    "$\n",
    "\n",
    "where $L$ is the lag operator,\n",
    "\n",
    "$\n",
    "\\begin{align}\n",
    "&L X_t = X_{t-1} \\\\\n",
    "&L^2 X_t = X_{t-2} \\\\\n",
    "&L^3 X_t = X_{t-3} \\\\\n",
    "&\\vdots\n",
    "\\end{align}\n",
    "$\n",
    "\n",
    "In the limit $t \\to \\infty$ it can be shown that for $\\lvert \\varphi \\rvert < 1$,\n",
    "\n",
    "$\n",
    "\\begin{align}\n",
    "\\left( 1 - \\varphi L \\right)^{-1} = \\sum_{i = 0}^{\\infty} \\varphi^i L^i\n",
    "\\end{align}\n",
    "$\n",
    "\n",
    "It follows that,\n",
    "\n",
    "$\n",
    "\\begin{align}\n",
    "X_t = \\sum_{i=0}^{\\infty} \\varphi^i L^i \\varepsilon_t\n",
    "\\end{align}\n",
    "$\n",
    "\n",
    "which is $\\text{MA}(\\infty)$ with $\\vartheta_i = \\varphi^i$."
   ]
  },
  {
   "cell_type": "markdown",
   "id": "888676f3-7b94-4eb0-90c3-d20b2435f08c",
   "metadata": {
    "tags": []
   },
   "source": [
    "## Imports"
   ]
  },
  {
   "cell_type": "code",
   "execution_count": 1,
   "id": "b96fdcf9-0eaa-475b-81f4-710024926bd1",
   "metadata": {},
   "outputs": [
    {
     "name": "stderr",
     "output_type": "stream",
     "text": [
      "/Users/troy/.pyenv/versions/gly.fish.3.9.2/lib/python3.9/site-packages/pandas/compat/__init__.py:109: UserWarning: Could not import the lzma module. Your installed Python is incomplete. Attempting to use lzma compression will result in a RuntimeError.\n",
      "  warnings.warn(msg)\n"
     ]
    }
   ],
   "source": [
    "%reload_ext autoreload\n",
    "%autoreload 2\n",
    "\n",
    "# import system modules and set local import path\n",
    "import os\n",
    "import sys\n",
    "from matplotlib import pyplot\n",
    "\n",
    "sys.path.insert(0, os.path.abspath('../..'))\n",
    "\n",
    "# import local modules\n",
    "from lib import config\n",
    "from lib import (FuncType, SourceType, PlotType)\n",
    "from lib import (stack, fpoints, fcurve)\n",
    "\n",
    "# Config Plot Style\n",
    "pyplot.style.use(config.glyfish_style)"
   ]
  },
  {
   "cell_type": "markdown",
   "id": "106ef42a-f5d9-434d-aaf0-c552d87e7c8a",
   "metadata": {
    "tags": []
   },
   "source": [
    "## Helpers"
   ]
  },
  {
   "cell_type": "code",
   "execution_count": 2,
   "id": "4285020e-78cd-4ada-a905-ca94a4b7e06d",
   "metadata": {},
   "outputs": [],
   "source": [
    "σ = 1.0\n",
    "\n",
    "def ac_plot(φ, σ, nsample, nsim, nlags):\n",
    "    dfs = SourceType.AR.create_ensemble(nsim, φ=[φ], σ=σ, npts=nsample)\n",
    "    ac = FuncType.ACF.apply_to_ensemble(dfs, nlags=nlags)\n",
    "    ar1_ac = FuncType.AR1_ACF.apply(ac, φ=φ, nlags=nlags)\n",
    "    fpoints(data=ac, func=ar1_ac)\n",
    "    \n",
    "def comparison_plot(φ_vals, title, *params):\n",
    "    labels = [f\"φ={val}\" for val in φ_vals] \n",
    "    scan = SourceType.AR.create_parameter_scan(*params)\n",
    "    stack(scan, ylim=[-7.5, 7.5], title=title, labels=labels, data_type=DataType.TIME_SERIES)\n",
    "\n",
    "def cumu_mean_plot(φ, σ, nsample):\n",
    "    ar = SourceType.AR.create(φ=[φ], σ=σ, npts=nsample)\n",
    "    cumu_mean = FuncType.CUMU_MEAN.apply(ar)\n",
    "    ar_mean = FuncType.ARMA_MEAN.apply_func_type(ar)\n",
    "    fcurve(data=cumu_mean, func=ar_mean, title_offset=1.025, plot_type=PlotType.XLOG)\n",
    "    \n",
    "def cumu_sd_plot(φ, σ, nsample):\n",
    "    ar = SourceType.AR.create(φ=[φ], σ=σ, npts=nsample)\n",
    "    cumu_sd = FuncType.CUMU_SD.apply_func_type(ar)\n",
    "    ar_sd = FuncType.apply(ar, φ=φ, σ=σ)\n",
    "    fcurve(data=cumu_sd, func=ar_sd, title_offset=1.025, plot_type=PlotType.XLOG)"
   ]
  },
  {
   "cell_type": "markdown",
   "id": "3e68268f-bf44-499c-ba5c-5339e8604aa2",
   "metadata": {},
   "source": [
    "## Simulation $\\varphi$ Scan "
   ]
  },
  {
   "cell_type": "code",
   "execution_count": 3,
   "id": "845d2791-1bec-4669-be36-9ed294f50499",
   "metadata": {},
   "outputs": [],
   "source": [
    "nsample = 1000"
   ]
  },
  {
   "cell_type": "code",
   "execution_count": 4,
   "id": "72b86b73-47f0-4392-99e4-2ba8ac16aca8",
   "metadata": {},
   "outputs": [
    {
     "ename": "NameError",
     "evalue": "name 'DataSource' is not defined",
     "output_type": "error",
     "traceback": [
      "\u001b[0;31m---------------------------------------------------------------------------\u001b[0m",
      "\u001b[0;31mNameError\u001b[0m                                 Traceback (most recent call last)",
      "\u001b[0;32m/var/folders/hc/xc94zvls2pq_pw366sdbqlhr0000gn/T/ipykernel_18176/3247195313.py\u001b[0m in \u001b[0;36m<module>\u001b[0;34m\u001b[0m\n\u001b[1;32m      2\u001b[0m \u001b[0mφ_vals\u001b[0m \u001b[0;34m=\u001b[0m \u001b[0;34m[\u001b[0m\u001b[0;36m0.1\u001b[0m\u001b[0;34m,\u001b[0m \u001b[0;36m0.5\u001b[0m\u001b[0;34m,\u001b[0m \u001b[0;36m0.9\u001b[0m\u001b[0;34m]\u001b[0m\u001b[0;34m\u001b[0m\u001b[0;34m\u001b[0m\u001b[0m\n\u001b[1;32m      3\u001b[0m \u001b[0mparams\u001b[0m \u001b[0;34m=\u001b[0m \u001b[0;34m[\u001b[0m\u001b[0;34m{\u001b[0m\u001b[0;34m\"φ\"\u001b[0m\u001b[0;34m:\u001b[0m \u001b[0;34m[\u001b[0m\u001b[0mφ\u001b[0m\u001b[0;34m]\u001b[0m\u001b[0;34m,\u001b[0m \u001b[0;34m\"σ\"\u001b[0m\u001b[0;34m:\u001b[0m \u001b[0mσ\u001b[0m\u001b[0;34m,\u001b[0m \u001b[0;34m\"npts\"\u001b[0m\u001b[0;34m:\u001b[0m \u001b[0mnsample\u001b[0m\u001b[0;34m}\u001b[0m \u001b[0;32mfor\u001b[0m \u001b[0mφ\u001b[0m \u001b[0;32min\u001b[0m \u001b[0mφ_vals\u001b[0m\u001b[0;34m]\u001b[0m\u001b[0;34m\u001b[0m\u001b[0;34m\u001b[0m\u001b[0m\n\u001b[0;32m----> 4\u001b[0;31m \u001b[0mcomparison_plot\u001b[0m\u001b[0;34m(\u001b[0m\u001b[0mφ_vals\u001b[0m\u001b[0;34m,\u001b[0m \u001b[0mtitle\u001b[0m\u001b[0;34m,\u001b[0m \u001b[0;34m*\u001b[0m\u001b[0mparams\u001b[0m\u001b[0;34m)\u001b[0m\u001b[0;34m\u001b[0m\u001b[0;34m\u001b[0m\u001b[0m\n\u001b[0m",
      "\u001b[0;32m/var/folders/hc/xc94zvls2pq_pw366sdbqlhr0000gn/T/ipykernel_18176/212545334.py\u001b[0m in \u001b[0;36mcomparison_plot\u001b[0;34m(φ_vals, title, *params)\u001b[0m\n\u001b[1;32m      9\u001b[0m \u001b[0;32mdef\u001b[0m \u001b[0mcomparison_plot\u001b[0m\u001b[0;34m(\u001b[0m\u001b[0mφ_vals\u001b[0m\u001b[0;34m,\u001b[0m \u001b[0mtitle\u001b[0m\u001b[0;34m,\u001b[0m \u001b[0;34m*\u001b[0m\u001b[0mparams\u001b[0m\u001b[0;34m)\u001b[0m\u001b[0;34m:\u001b[0m\u001b[0;34m\u001b[0m\u001b[0;34m\u001b[0m\u001b[0m\n\u001b[1;32m     10\u001b[0m     \u001b[0mlabels\u001b[0m \u001b[0;34m=\u001b[0m \u001b[0;34m[\u001b[0m\u001b[0;34mf\"φ={val}\"\u001b[0m \u001b[0;32mfor\u001b[0m \u001b[0mval\u001b[0m \u001b[0;32min\u001b[0m \u001b[0mφ_vals\u001b[0m\u001b[0;34m]\u001b[0m\u001b[0;34m\u001b[0m\u001b[0;34m\u001b[0m\u001b[0m\n\u001b[0;32m---> 11\u001b[0;31m     \u001b[0mscan\u001b[0m \u001b[0;34m=\u001b[0m \u001b[0mDataSource\u001b[0m\u001b[0;34m.\u001b[0m\u001b[0mcreate_parameter_scan\u001b[0m\u001b[0;34m(\u001b[0m\u001b[0mSourceType\u001b[0m\u001b[0;34m.\u001b[0m\u001b[0mAR\u001b[0m\u001b[0;34m,\u001b[0m \u001b[0;34m*\u001b[0m\u001b[0mparams\u001b[0m\u001b[0;34m)\u001b[0m\u001b[0;34m\u001b[0m\u001b[0;34m\u001b[0m\u001b[0m\n\u001b[0m\u001b[1;32m     12\u001b[0m     \u001b[0mstack\u001b[0m\u001b[0;34m(\u001b[0m\u001b[0mscan\u001b[0m\u001b[0;34m,\u001b[0m \u001b[0mylim\u001b[0m\u001b[0;34m=\u001b[0m\u001b[0;34m[\u001b[0m\u001b[0;34m-\u001b[0m\u001b[0;36m7.5\u001b[0m\u001b[0;34m,\u001b[0m \u001b[0;36m7.5\u001b[0m\u001b[0;34m]\u001b[0m\u001b[0;34m,\u001b[0m \u001b[0mtitle\u001b[0m\u001b[0;34m=\u001b[0m\u001b[0mtitle\u001b[0m\u001b[0;34m,\u001b[0m \u001b[0mlabels\u001b[0m\u001b[0;34m=\u001b[0m\u001b[0mlabels\u001b[0m\u001b[0;34m,\u001b[0m \u001b[0mdata_type\u001b[0m\u001b[0;34m=\u001b[0m\u001b[0mDataType\u001b[0m\u001b[0;34m.\u001b[0m\u001b[0mTIME_SERIES\u001b[0m\u001b[0;34m)\u001b[0m\u001b[0;34m\u001b[0m\u001b[0;34m\u001b[0m\u001b[0m\n\u001b[1;32m     13\u001b[0m \u001b[0;34m\u001b[0m\u001b[0m\n",
      "\u001b[0;31mNameError\u001b[0m: name 'DataSource' is not defined"
     ]
    }
   ],
   "source": [
    "title = f\"AR(1) Series Comparison: σ={σ}\"\n",
    "φ_vals = [0.1, 0.5, 0.9]\n",
    "params = [{\"φ\": [φ], \"σ\": σ, \"npts\": nsample} for φ in φ_vals]\n",
    "comparison_plot(φ_vals, title, *params)"
   ]
  },
  {
   "cell_type": "code",
   "execution_count": null,
   "id": "ca21a451-caf8-419e-92ab-a04379de09c6",
   "metadata": {},
   "outputs": [],
   "source": [
    "title = f\"AR(1) Series Comparison: σ={σ}\"\n",
    "φ_vals = [-0.1, -0.5, -0.9]\n",
    "params = [{\"φ\": [φ], \"σ\": σ, \"npts\": nsample} for φ in φ_vals]\n",
    "comparison_plot(φ_vals, title, *params)"
   ]
  },
  {
   "cell_type": "markdown",
   "id": "8b4c0823-5e71-4026-8a11-0b78ec602291",
   "metadata": {},
   "source": [
    "## Mean"
   ]
  },
  {
   "cell_type": "code",
   "execution_count": null,
   "id": "d09a88ec-342d-4883-91f9-818b98bbe57f",
   "metadata": {},
   "outputs": [],
   "source": [
    "φ = 0.9\n",
    "nsample = 100000\n",
    "cumu_mean_plot(φ, σ, nsample)"
   ]
  },
  {
   "cell_type": "code",
   "execution_count": null,
   "id": "cf84f4b4-6f4b-4875-9cff-98d1499b2625",
   "metadata": {},
   "outputs": [],
   "source": [
    "φ = 0.5\n",
    "nsample = 100000\n",
    "cumu_mean_plot(φ, σ, nsample)"
   ]
  },
  {
   "cell_type": "code",
   "execution_count": null,
   "id": "7f16bcea-d054-42fe-b977-937ea3c291e2",
   "metadata": {},
   "outputs": [],
   "source": [
    "φ = 0.3\n",
    "nsample = 100000\n",
    "cumu_mean_plot(φ, σ, nsample)"
   ]
  },
  {
   "cell_type": "code",
   "execution_count": null,
   "id": "b3c9accb-4648-46f4-8000-b8da8db322b5",
   "metadata": {},
   "outputs": [],
   "source": [
    "φ = -0.9\n",
    "nsample = 100000\n",
    "cumu_mean_plot(φ, σ, nsample)"
   ]
  },
  {
   "cell_type": "code",
   "execution_count": null,
   "id": "b9d326d9-8bef-4180-87e6-c2c1f674b09b",
   "metadata": {},
   "outputs": [],
   "source": [
    "φ = -0.5\n",
    "cumu_mean_plot(φ, σ, nsample)"
   ]
  },
  {
   "cell_type": "code",
   "execution_count": null,
   "id": "03c519b8-6a32-46d0-b127-d0151968659e",
   "metadata": {},
   "outputs": [],
   "source": [
    "φ = -0.3\n",
    "nsample = 100000\n",
    "cumu_mean_plot(φ, σ, nsample)"
   ]
  },
  {
   "cell_type": "markdown",
   "id": "991ffc69-8903-4d56-95b6-94cafd3e5f5c",
   "metadata": {},
   "source": [
    "## Standard Deviation"
   ]
  },
  {
   "cell_type": "code",
   "execution_count": null,
   "id": "bb133ad2-97bf-4167-99eb-930f899c5175",
   "metadata": {},
   "outputs": [],
   "source": [
    "φ = 0.9\n",
    "nsample = 100000\n",
    "cumu_sd_plot(φ, σ, nsample)"
   ]
  },
  {
   "cell_type": "code",
   "execution_count": null,
   "id": "8d91ec2d-cad7-4f08-bca1-85017eaa9d51",
   "metadata": {},
   "outputs": [],
   "source": [
    "φ = 0.5\n",
    "nsample = 100000\n",
    "cumu_sd_plot(φ, σ, nsample)"
   ]
  },
  {
   "cell_type": "code",
   "execution_count": null,
   "id": "374c98a9-fbe7-4af7-9153-2302dd03328f",
   "metadata": {},
   "outputs": [],
   "source": [
    "φ = 0.3\n",
    "nsample = 100000\n",
    "cumu_sd_plot(φ, σ, nsample)"
   ]
  },
  {
   "cell_type": "code",
   "execution_count": null,
   "id": "64eeffb9-b91b-4295-a800-48fcd9448f83",
   "metadata": {},
   "outputs": [],
   "source": [
    "φ = -0.9\n",
    "nsample = 100000\n",
    "cumu_sd_plot(φ, σ, nsample)"
   ]
  },
  {
   "cell_type": "code",
   "execution_count": null,
   "id": "6f36cf12-f05a-48ce-8cda-6eb5679aebbd",
   "metadata": {},
   "outputs": [],
   "source": [
    "φ = -0.5\n",
    "nsample = 100000\n",
    "cumu_sd_plot(φ, σ, nsample)"
   ]
  },
  {
   "cell_type": "code",
   "execution_count": null,
   "id": "5621b20a-e212-46e0-9c33-0364cf55ad9f",
   "metadata": {},
   "outputs": [],
   "source": [
    "φ = -0.3\n",
    "nsample = 100000\n",
    "cumu_sd_plot(φ, σ, nsample)"
   ]
  },
  {
   "cell_type": "markdown",
   "id": "87ffdc78-e8a4-4fa6-967a-150e960ebb9b",
   "metadata": {},
   "source": [
    "## Autocorrelation"
   ]
  },
  {
   "cell_type": "code",
   "execution_count": null,
   "id": "01f9bfdc-d46d-47ca-b61b-89e59b971cf0",
   "metadata": {},
   "outputs": [],
   "source": [
    "φ = 0.9\n",
    "nlags = 31\n",
    "nsample = 5000\n",
    "nsim = 500\n",
    "ac_plot(φ, σ, nsample, nsim, nlags)"
   ]
  },
  {
   "cell_type": "code",
   "execution_count": null,
   "id": "5231724d-e2e4-4cc6-ae67-f8f1522c43a6",
   "metadata": {
    "tags": []
   },
   "outputs": [],
   "source": [
    "φ = -0.9\n",
    "nlags = 51\n",
    "nsample = 500\n",
    "nsim = 1000\n",
    "ac_plot(φ, σ, nsample, nsim, nlags)"
   ]
  },
  {
   "cell_type": "code",
   "execution_count": null,
   "id": "71da729d-a772-479f-864b-ee41c5de2df7",
   "metadata": {
    "tags": []
   },
   "outputs": [],
   "source": [
    "φ = 0.5\n",
    "nlags = 15\n",
    "nsample = 5000\n",
    "nsim = 1000\n",
    "ac_plot(φ, σ, nsample, nsim, nlags)"
   ]
  },
  {
   "cell_type": "code",
   "execution_count": null,
   "id": "01de25d5-cd16-48f1-843e-a8a133b351ba",
   "metadata": {
    "tags": []
   },
   "outputs": [],
   "source": [
    "φ = -0.5\n",
    "nlags = 15\n",
    "nsample = 5000\n",
    "nsim = 1000\n",
    "ac_plot(φ, σ, nsample, nsim, nlags)"
   ]
  },
  {
   "cell_type": "code",
   "execution_count": null,
   "id": "2e5bdd70-996c-4db3-96fe-2a87ba636b6b",
   "metadata": {
    "tags": []
   },
   "outputs": [],
   "source": [
    "φ = 0.3\n",
    "nsample = 5000\n",
    "nsim = 1000\n",
    "nlags = 15\n",
    "ac_plot(φ, σ, nsample, nsim, nlags)"
   ]
  },
  {
   "cell_type": "code",
   "execution_count": null,
   "id": "dace789e-9cd8-4194-839f-792f06c4c81d",
   "metadata": {
    "tags": []
   },
   "outputs": [],
   "source": [
    "φ = -0.3\n",
    "nlags = 15\n",
    "nsample = 5000\n",
    "nsim = 1000\n",
    "ac_plot(φ, σ, nsample, nsim, nlags)"
   ]
  }
 ],
 "metadata": {
  "kernelspec": {
   "display_name": "Python 3 (ipykernel)",
   "language": "python",
   "name": "python3"
  },
  "language_info": {
   "codemirror_mode": {
    "name": "ipython",
    "version": 3
   },
   "file_extension": ".py",
   "mimetype": "text/x-python",
   "name": "python",
   "nbconvert_exporter": "python",
   "pygments_lexer": "ipython3",
   "version": "3.9.2"
  }
 },
 "nbformat": 4,
 "nbformat_minor": 5
}
