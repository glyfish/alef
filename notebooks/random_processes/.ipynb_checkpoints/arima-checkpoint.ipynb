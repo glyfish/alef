{
 "cells": [
  {
   "cell_type": "markdown",
   "id": "bea85cd0-3a67-49f7-9b31-b85dd8f90002",
   "metadata": {},
   "source": [
    "# $\\text{ARIMA}(p,d,q)$\n",
    "\n",
    "ARIMA stands for Auto-Regressive Integrated Moving Average. The intent of $\\text{ARIMA}(p,d,q)$ is to construct a stationary, $\\text{ARMA}(p,q)$</br>\n",
    "time series from a non-stationary time series by differencing $d$ times. Recall that an $\\text{ARMA}(p,q)$ process is defined by,\n",
    "\n",
    "$\n",
    "\\begin{align}\n",
    "X_t = \\varepsilon_t + \\sum_{i=1}^p \\varphi_i X_{t-i} + \\sum_{i=1}^q \\vartheta_i \\varepsilon_{t-i}\n",
    "\\end{align}\n",
    "$\n",
    "\n",
    "In terms of the lag operator $L X_t = X_{t-1}, L^2 X_t = X_{t-2}, L^3 X_t = X_{t-3}, \\ldots$, The $\\text{ARMA}(p,q)$ model can be written as,\n",
    "\n",
    "$\n",
    "\\begin{align}\n",
    "\\left( 1 - \\sum_{i=1}^p \\varphi_i L^i \\right) X_t = \\left( 1  + \\sum_{i=1}^q \\vartheta_i L^i \\right)\\varepsilon_{t}\n",
    "\\end{align}\n",
    "$\n",
    "\n",
    "If $X_t$ is stationary after $d$ differences it follows that $\\left( 1 - L \\right)^d X_t$ is stationary. This is the definition of integration order.</br> \n",
    "Thus, $\\text{ARIMA}(p,d,q)$ can be written as,\n",
    "\n",
    "$\n",
    "\\begin{align}\n",
    "\\left( 1 - \\sum_{i=1}^p \\varphi_i L^i \\right) \\left( 1 - L \\right)^d X_t = \\left( 1  + \\sum_{i=1}^q \\vartheta_i L^i \\right)\\varepsilon_{t}\n",
    "\\end{align}\n",
    "$\n"
   ]
  }
 ],
 "metadata": {
  "kernelspec": {
   "display_name": "Python 3 (ipykernel)",
   "language": "python",
   "name": "python3"
  },
  "language_info": {
   "codemirror_mode": {
    "name": "ipython",
    "version": 3
   },
   "file_extension": ".py",
   "mimetype": "text/x-python",
   "name": "python",
   "nbconvert_exporter": "python",
   "pygments_lexer": "ipython3",
   "version": "3.9.2"
  }
 },
 "nbformat": 4,
 "nbformat_minor": 5
}
