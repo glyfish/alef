{
 "cells": [
  {
   "cell_type": "markdown",
   "id": "c29a4949-5589-4413-ab00-8c341a875196",
   "metadata": {},
   "source": [
    "# AR(p) Yule-Walker Equations\n",
    "\n",
    "The $\\text{AR}(p)$ process is defined by,\n",
    "\n",
    "$\n",
    "\\begin{align}\n",
    "X_t = \\sum_{i=1}^p \\varphi_i X_{t-i} + \\varepsilon_{t}\n",
    "\\end{align}\n",
    "$\n",
    "\n",
    "where,\n",
    "\n",
    "$\n",
    "\\begin{align}\n",
    "\\varepsilon_t \\sim \\text{Normal}(0, \\sigma^2)\n",
    "\\end{align}\n",
    "$\n",
    "\n",
    "The Yule-Walker equations relate the AR(p) parameters $\\varphi_i$ to the autocorrelation function,\n",
    "\n",
    "$\n",
    "\\begin{align}\n",
    "\\end{align}\n",
    "$"
   ]
  },
  {
   "cell_type": "code",
   "execution_count": null,
   "id": "d0a385a4-8486-46d9-861f-7b098155384f",
   "metadata": {},
   "outputs": [],
   "source": []
  }
 ],
 "metadata": {
  "kernelspec": {
   "display_name": "Python 3 (ipykernel)",
   "language": "python",
   "name": "python3"
  },
  "language_info": {
   "codemirror_mode": {
    "name": "ipython",
    "version": 3
   },
   "file_extension": ".py",
   "mimetype": "text/x-python",
   "name": "python",
   "nbconvert_exporter": "python",
   "pygments_lexer": "ipython3",
   "version": "3.9.2"
  }
 },
 "nbformat": 4,
 "nbformat_minor": 5
}
