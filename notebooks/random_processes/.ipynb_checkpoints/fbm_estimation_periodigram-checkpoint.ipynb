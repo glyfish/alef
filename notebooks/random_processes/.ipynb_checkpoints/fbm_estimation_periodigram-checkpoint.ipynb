{
 "cells": [
  {
   "cell_type": "markdown",
   "id": "35afe0fa-cd38-4a60-aba0-2c23222a2230",
   "metadata": {},
   "source": [
    "# Fractional Brownian Motion Parameter Estimation"
   ]
  }
 ],
 "metadata": {
  "kernelspec": {
   "display_name": "Python 3 (ipykernel)",
   "language": "python",
   "name": "python3"
  },
  "language_info": {
   "codemirror_mode": {
    "name": "ipython",
    "version": 3
   },
   "file_extension": ".py",
   "mimetype": "text/x-python",
   "name": "python",
   "nbconvert_exporter": "python",
   "pygments_lexer": "ipython3",
   "version": "3.9.2"
  }
 },
 "nbformat": 4,
 "nbformat_minor": 5
}
