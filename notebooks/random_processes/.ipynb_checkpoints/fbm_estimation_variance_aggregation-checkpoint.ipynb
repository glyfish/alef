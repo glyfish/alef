{
 "cells": [
  {
   "cell_type": "markdown",
   "id": "672269ef-a994-476c-aab7-1ed42c93cbcc",
   "metadata": {},
   "source": [
    "# Fractional Brownian Motion Parameter Estimation Using Variance Aggregation\n",
    "\n",
    "Consider a time series of $n$, identically distributed samples,</br>\n",
    "\n",
    "$\n",
    "\\begin{align}\n",
    "X_1, X_2,X_3,\\ldots,X_n\n",
    "\\end{align}\n",
    "$\n",
    "\n",
    "Divide the series into $d$ smaller series of length $m$ where $md=n$.\\ and let,</br>\n",
    "$k = 0,1,2,3,\\ldots,d-1$ and define the aggregated sum by,\n",
    "\n",
    "$\n",
    "\\begin{align}\n",
    "X_k^m &= \\frac{1}{m}\\left( X_{km+1} + X_{km+2} + \\cdots + X_{km+m-1} + X_{km+m} \\right) \\\\\n",
    "&= \\frac{1}{m} \\left( X_{km+1} + \\cdots + X_{(k+1)m} \\right) \\\\\n",
    "&= \\frac{1}{m} \\sum_{i=km+1}^{(k+1)m} X_i\n",
    "\\end{align}\n",
    "$\n",
    "\n",
    "The aggregated mean is given by,\n",
    "\n",
    "$\n",
    "\\begin{align}\n",
    "\\text{E}[X^m] &= \\frac{1}{d}\\sum_{i=1}^d X_i^m \\\\\n",
    "&= \\frac{1}{dm} \\sum_{i=1}^d \\sum_{j=im+1}^{(k+1)i} X_j \\\\\n",
    "&= \\frac{1}{n} \\sum_{i=1}^n X_i\n",
    "\\end{align}\n",
    "$\n",
    "\n",
    "and the aggregated variance by,\n",
    "\n",
    "$\n",
    "\\begin{align}\n",
    "\\text{Var}[X^m] = \\frac{1}{d} \\sum_{i=1}^d\\left( X^m_i - \\text{E}[X^m] \\right)^2\n",
    "\\end{align}\n",
    "$\n",
    "\n",
    "This method makes use of the self similarity of fractional brownian motion. Consider the aggregated process,\n",
    "\n",
    "$\n",
    "\\begin{align}\n",
    "X_0^m = \\frac{1}{m} \\sum_{i=1}^m X_i\n",
    "\\end{align}\n",
    "$\n",
    "\n",
    "From self similarity of fractional brownian motion,\n",
    "\n",
    "$\n",
    "\\begin{align}\n",
    "X_{ai} \\sim a^H X_i\n",
    "\\end{align}\n",
    "$\n",
    "\n",
    "since the $X_i$ are identically distributed it follows that,\n",
    "\n",
    "$\n",
    "\\begin{align}\n",
    "X_0^m \\sim \\frac{1}{m} X_m \\sim \\frac{m^H}{m} X_1 = m^{H-1} X_1\n",
    "\\end{align}\n",
    "$\n",
    "\n",
    "For fractional brownian noise,\n",
    "\n",
    "$\n",
    "\\begin{align}\n",
    "&\\text{E}[\\Delta Z^H_t] = 0 \\\\\n",
    "&\\text{Var}[\\Delta Z^H_t] = \\Delta t^{2H}\n",
    "\\end{align}\n",
    "$\n",
    "\n",
    "Since $X_1$ is a single increment of brownian motion it follows that,\n",
    "\n",
    "$\n",
    "\\begin{align}\n",
    "\\text{Var}[X_1] = \\Delta t^{2H} = \\sigma^2\n",
    "\\end{align}\n",
    "$\n",
    "\n",
    "so,\n",
    "\n",
    "$\n",
    "\\begin{align}\n",
    "\\text{Var}[X_0^m] = \\text{Var}[m^{H-1} X_1] = m^{2(H-1)}\\text{Var}[X_1] = \\sigma^2 m^{2(H-1)}\n",
    "\\end{align}\n",
    "$\n",
    "\n",
    "From stationarity of it follows that,\n",
    "\n",
    "$\n",
    "\\begin{align}\n",
    "\\text{Var}[X_k^m] = \\sigma^2 m^{2(H-1)}\n",
    "\\end{align}\n",
    "$\n"
   ]
  },
  {
   "cell_type": "markdown",
   "id": "af06b456-5e1f-4a36-b146-992f671ba8d7",
   "metadata": {
    "tags": []
   },
   "source": [
    "## Imports"
   ]
  },
  {
   "cell_type": "code",
   "execution_count": 3,
   "id": "2cb1373d-2295-4227-ad1e-f0340eda9d92",
   "metadata": {
    "tags": []
   },
   "outputs": [],
   "source": [
    "%reload_ext autoreload\n",
    "%autoreload 2\n",
    "\n",
    "# import system modules and set local import path\n",
    "import os\n",
    "import sys\n",
    "import numpy\n",
    "from matplotlib import pyplot\n",
    "\n",
    "sys.path.insert(0, os.path.abspath('../..'))\n",
    "\n",
    "# import local modules\n",
    "from lib import fbm\n",
    "from lib import bm\n",
    "from lib import plots\n",
    "from lib import config\n",
    "\n",
    "# Config Plot Style\n",
    "pyplot.style.use(config.glyfish_style)"
   ]
  },
  {
   "cell_type": "markdown",
   "id": "07d7d8bc-197b-428b-8ef2-14af80fb9e5d",
   "metadata": {},
   "source": [
    "## Helpers"
   ]
  },
  {
   "cell_type": "code",
   "execution_count": 20,
   "id": "a80fa23d-535c-44fa-a972-ea1cbd981da4",
   "metadata": {},
   "outputs": [],
   "source": [
    "def agg_series(samples,m):\n",
    "    series = []\n",
    "    for i in range(len(m)):\n",
    "        series.append(fbm.agg(samples, m[i]))\n",
    "    return series\n",
    "\n",
    "def agg_time(samples, m):\n",
    "    n = len(samples)\n",
    "    times = []\n",
    "    for i in range(len(m)):\n",
    "        d = int(n/m[i])\n",
    "        times.append(numpy.linspace(0, n-1, d))\n",
    "    return times"
   ]
  },
  {
   "cell_type": "markdown",
   "id": "366d5ce1-104d-40ea-bddb-c276e8f392b0",
   "metadata": {},
   "source": [
    "## Simulation $H=0.8$"
   ]
  },
  {
   "cell_type": "code",
   "execution_count": 4,
   "id": "5f9a046f-1e24-4317-922f-5fba40f69a13",
   "metadata": {},
   "outputs": [],
   "source": [
    "H = 0.8\n",
    "Δt = 1.0\n",
    "npts = 2**12"
   ]
  },
  {
   "cell_type": "code",
   "execution_count": 21,
   "id": "3d4e93c7-a7d2-4c64-aabe-126adea053ad",
   "metadata": {},
   "outputs": [
    {
     "name": "stderr",
     "output_type": "stream",
     "text": [
      "/var/folders/hc/xc94zvls2pq_pw366sdbqlhr0000gn/T/ipykernel_43125/33982099.py:5: VisibleDeprecationWarning: Creating an ndarray from ragged nested sequences (which is a list-or-tuple of lists-or-tuples-or ndarrays with different lengths or shapes) is deprecated. If you meant to do this, you must specify 'dtype=object' when creating the ndarray.\n",
      "  return numpy.array(series, ndmin=2)\n",
      "/var/folders/hc/xc94zvls2pq_pw366sdbqlhr0000gn/T/ipykernel_43125/33982099.py:13: VisibleDeprecationWarning: Creating an ndarray from ragged nested sequences (which is a list-or-tuple of lists-or-tuples-or ndarrays with different lengths or shapes) is deprecated. If you meant to do this, you must specify 'dtype=object' when creating the ndarray.\n",
      "  return numpy.array(times, ndmin=2)\n"
     ]
    },
    {
     "ename": "TypeError",
     "evalue": "'AxesSubplot' object is not subscriptable",
     "output_type": "error",
     "traceback": [
      "\u001b[0;31m---------------------------------------------------------------------------\u001b[0m",
      "\u001b[0;31mTypeError\u001b[0m                                 Traceback (most recent call last)",
      "\u001b[0;32m/var/folders/hc/xc94zvls2pq_pw366sdbqlhr0000gn/T/ipykernel_43125/653911907.py\u001b[0m in \u001b[0;36m<module>\u001b[0;34m\u001b[0m\n\u001b[1;32m      8\u001b[0m \u001b[0mtime\u001b[0m \u001b[0;34m=\u001b[0m \u001b[0magg_time\u001b[0m\u001b[0;34m(\u001b[0m\u001b[0msamples\u001b[0m\u001b[0;34m,\u001b[0m \u001b[0mm\u001b[0m\u001b[0;34m)\u001b[0m\u001b[0;34m\u001b[0m\u001b[0;34m\u001b[0m\u001b[0m\n\u001b[1;32m      9\u001b[0m \u001b[0;34m\u001b[0m\u001b[0m\n\u001b[0;32m---> 10\u001b[0;31m \u001b[0mplots\u001b[0m\u001b[0;34m.\u001b[0m\u001b[0mtime_series_stack\u001b[0m\u001b[0;34m(\u001b[0m\u001b[0mseries\u001b[0m\u001b[0;34m,\u001b[0m \u001b[0mlabels\u001b[0m\u001b[0;34m,\u001b[0m \u001b[0;34m[\u001b[0m\u001b[0;34m-\u001b[0m\u001b[0;36m8.0\u001b[0m\u001b[0;34m,\u001b[0m \u001b[0;36m8.0\u001b[0m\u001b[0;34m]\u001b[0m\u001b[0;34m,\u001b[0m \u001b[0mtitle\u001b[0m\u001b[0;34m,\u001b[0m \u001b[0mtime\u001b[0m\u001b[0;34m=\u001b[0m\u001b[0mtime\u001b[0m\u001b[0;34m)\u001b[0m\u001b[0;34m\u001b[0m\u001b[0;34m\u001b[0m\u001b[0m\n\u001b[0m",
      "\u001b[0;32m~/Develop/gly.fish/alef/lib/plots.py\u001b[0m in \u001b[0;36mtime_series_stack\u001b[0;34m(series, labels, ylim, title, time)\u001b[0m\n\u001b[1;32m     27\u001b[0m         \u001b[0mtime\u001b[0m \u001b[0;34m=\u001b[0m \u001b[0mnumpy\u001b[0m\u001b[0;34m.\u001b[0m\u001b[0mtile\u001b[0m\u001b[0;34m(\u001b[0m\u001b[0mnumpy\u001b[0m\u001b[0;34m.\u001b[0m\u001b[0mlinspace\u001b[0m\u001b[0;34m(\u001b[0m\u001b[0;36m0\u001b[0m\u001b[0;34m,\u001b[0m \u001b[0mnsample\u001b[0m\u001b[0;34m-\u001b[0m\u001b[0;36m1\u001b[0m\u001b[0;34m,\u001b[0m \u001b[0mnsample\u001b[0m\u001b[0;34m)\u001b[0m\u001b[0;34m,\u001b[0m \u001b[0;34m(\u001b[0m\u001b[0mnplot\u001b[0m\u001b[0;34m,\u001b[0m\u001b[0;36m1\u001b[0m\u001b[0;34m)\u001b[0m\u001b[0;34m)\u001b[0m\u001b[0;34m\u001b[0m\u001b[0;34m\u001b[0m\u001b[0m\n\u001b[1;32m     28\u001b[0m     \u001b[0mfigure\u001b[0m\u001b[0;34m,\u001b[0m \u001b[0maxis\u001b[0m \u001b[0;34m=\u001b[0m \u001b[0mpyplot\u001b[0m\u001b[0;34m.\u001b[0m\u001b[0msubplots\u001b[0m\u001b[0;34m(\u001b[0m\u001b[0mnplot\u001b[0m\u001b[0;34m,\u001b[0m \u001b[0msharex\u001b[0m\u001b[0;34m=\u001b[0m\u001b[0;32mTrue\u001b[0m\u001b[0;34m,\u001b[0m \u001b[0mfigsize\u001b[0m\u001b[0;34m=\u001b[0m\u001b[0;34m(\u001b[0m\u001b[0;36m15\u001b[0m\u001b[0;34m,\u001b[0m \u001b[0;36m12\u001b[0m\u001b[0;34m)\u001b[0m\u001b[0;34m)\u001b[0m\u001b[0;34m\u001b[0m\u001b[0;34m\u001b[0m\u001b[0m\n\u001b[0;32m---> 29\u001b[0;31m     \u001b[0maxis\u001b[0m\u001b[0;34m[\u001b[0m\u001b[0;36m0\u001b[0m\u001b[0;34m]\u001b[0m\u001b[0;34m.\u001b[0m\u001b[0mset_title\u001b[0m\u001b[0;34m(\u001b[0m\u001b[0mtitle\u001b[0m\u001b[0;34m)\u001b[0m\u001b[0;34m\u001b[0m\u001b[0;34m\u001b[0m\u001b[0m\n\u001b[0m\u001b[1;32m     30\u001b[0m     \u001b[0maxis\u001b[0m\u001b[0;34m[\u001b[0m\u001b[0mnplot\u001b[0m\u001b[0;34m-\u001b[0m\u001b[0;36m1\u001b[0m\u001b[0;34m]\u001b[0m\u001b[0;34m.\u001b[0m\u001b[0mset_xlabel\u001b[0m\u001b[0;34m(\u001b[0m\u001b[0;34mr\"$t$\"\u001b[0m\u001b[0;34m)\u001b[0m\u001b[0;34m\u001b[0m\u001b[0;34m\u001b[0m\u001b[0m\n\u001b[1;32m     31\u001b[0m     \u001b[0;32mfor\u001b[0m \u001b[0mi\u001b[0m \u001b[0;32min\u001b[0m \u001b[0mrange\u001b[0m\u001b[0;34m(\u001b[0m\u001b[0mnplot\u001b[0m\u001b[0;34m)\u001b[0m\u001b[0;34m:\u001b[0m\u001b[0;34m\u001b[0m\u001b[0;34m\u001b[0m\u001b[0m\n",
      "\u001b[0;31mTypeError\u001b[0m: 'AxesSubplot' object is not subscriptable"
     ]
    },
    {
     "data": {
      "image/png": "[encoded data removed]",
      "text/plain": [
       "<Figure size 1080x864 with 1 Axes>"
      ]
     },
     "metadata": {},
     "output_type": "display_data"
    }
   ],
   "source": [
    "m = [1, 10, 50]\n",
    "samples = fbm.fft_noise(H, npts, Δt)\n",
    "\n",
    "title = f\"Aggregated Fractional Brownian Noise: Δt={Δt}, H={H}\"\n",
    "labels = [f\"m={m[0]}\", f\"m={m[1]}\", f\"m={m[2]}\"]\n",
    "\n",
    "series = agg_series(samples, m)\n",
    "time = agg_time(samples, m)\n",
    "\n",
    "plots.time_series_stack(series, labels, [-8.0, 8.0], title, time=time)"
   ]
  }
 ],
 "metadata": {
  "kernelspec": {
   "display_name": "Python 3 (ipykernel)",
   "language": "python",
   "name": "python3"
  },
  "language_info": {
   "codemirror_mode": {
    "name": "ipython",
    "version": 3
   },
   "file_extension": ".py",
   "mimetype": "text/x-python",
   "name": "python",
   "nbconvert_exporter": "python",
   "pygments_lexer": "ipython3",
   "version": "3.9.2"
  }
 },
 "nbformat": 4,
 "nbformat_minor": 5
}
