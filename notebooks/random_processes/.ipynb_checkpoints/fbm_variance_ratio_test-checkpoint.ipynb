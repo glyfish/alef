{
 "cells": [
  {
   "cell_type": "markdown",
   "id": "a8be157b-8589-4c18-834f-25e896124136",
   "metadata": {},
   "source": [
    "# Fractional Brownian Motion Using Variance Ratio Tests\n",
    "\n",
    "Consider a sample of $t$ measurements,\n",
    "\n",
    "$\n",
    "\\begin{align}\n",
    "X_0, X_1, X_2, \\ldots, X_t\n",
    "\\end{align}\n",
    "$\n",
    "\n",
    "A test is desired to determine if the series represents brownian motion, which is defined by,\n",
    "\n",
    "$\n",
    "\\begin{align}\n",
    "X_t = \\sum_{i=1}^t X_i - X_{i-1} = \\sum_{i=1}^t \\Delta X_{i}\n",
    "\\end{align}\n",
    "$\n",
    "\n",
    "where $\\Delta X_i$ are independent and identically distributed with distribution,\n",
    "\n",
    "$\n",
    "\\begin{align}\n",
    "\\Delta X_i \\sim \\text{Normal}(0, \\sigma^2)\n",
    "\\end{align}\n",
    "$\n",
    "\n",
    "and\n",
    "\n",
    "$\n",
    "\\begin{align}\n",
    "\\text{Cov}(\\Delta X_i \\Delta X_j) = \\sigma^2 \\delta_{ij}\n",
    "\\end{align}\n",
    "$\n",
    "\n",
    "This is the homoscedasticity assumption. Consider the difference,\n",
    "\n",
    "$\n",
    "\\begin{align}\n",
    "\\Delta X_i(s) = X_i - X_{i+s}\n",
    "\\end{align}\n",
    "$\n",
    "\n",
    "So that,\n",
    "\n",
    "$\n",
    "\\begin{align}\n",
    "X_t = \\sum_{i=1}^n \\Delta X_i(s)\n",
    "\\end{align}\n",
    "$\n",
    "\n",
    "with $t=ns$. Let, \n",
    "\n",
    "$\n",
    "\\begin{align}\n",
    "\\sigma^2(s) = \\text{Var}\\left(\\Delta X_i (s) \\right)\n",
    "\\end{align}\n",
    "$\n",
    "\n",
    "Recall for brownian motion $\\sigma_B^2(t) = \\sigma^2t$, it follows that $\\sigma^2_B(s) = \\sigma^2(1)s$. Consider the ratio,\n",
    "\n",
    "$\n",
    "\\begin{align}\n",
    "\\text{VR}(s) = \\frac{\\sigma^2(s)}{\\sigma_B^2(s)}\n",
    "\\end{align}\n",
    "$\n",
    "\n",
    "where,\n",
    "\n",
    "$\n",
    "\\begin{align}\n",
    "&\\sigma^2(1) = \\frac{1}{t-1} \\sum_{i=1}^t \\left(X_i - X_{i-1} - \\mu \\right) \\\\\n",
    "&\\mu = \\frac{1}{t} \\left( X_t - X_0 \\right)\n",
    "\\end{align}\n",
    "$\n",
    "\n",
    "In Lo and Mackinlay, 1988, \"Stock market Prices do not Follow Random Walks\" it was shown that an unbiased estimator of</br>\n",
    "$\\sigma^2(s)$ is given by,\n",
    "\n",
    "$\n",
    "\\begin{align}\n",
    "\\sigma^2(s) = \\frac{1}{m} \\sum_{i=s}^t \\left( X_t - X_{t-s} - s\\mu \\right)^2\n",
    "\\end{align}\n",
    "$\n",
    "\n",
    "where,\n",
    "\n",
    "$\n",
    "\\begin{align}\n",
    "m = \\left(t - s + 1 \\right) \\left( 1 - \\frac{s}{t} \\right)\n",
    "\\end{align}\n",
    "$\n",
    "\n",
    "If $X_t$ is brownian motion, $\\sigma^2(s) = \\sigma^2(1)$, $s = \\sigma^2_B(s)$. It follows that $\\text{VR}(s) = 1$. A test statistic</br>\n",
    "for this condition is given by,\n",
    "\n",
    "$\n",
    "\\begin{align}\n",
    "Z(s) = \\frac{\\text{VR}(s) - 1}{\\sqrt{\\theta(s)}}\n",
    "\\end{align}\n",
    "$\n",
    "\n",
    "where,\n",
    "\n",
    "$\n",
    "\\begin{align}\n",
    "\\theta(s) = \\frac{2\\left( 2s - 1 \\right)\\left( s - 1 \\right)}{3st}\n",
    "\\end{align}\n",
    "$\n",
    "\n",
    "and $Z(s) \\sim \\text{Normal}(0,1)$. This test-statistic was derived assuming homoscedasticity which implies that the</br>\n",
    "random component is independent of $s$. If instead the random component varies with $s$ heteroscedasticity is assumed.\n",
    "\n",
    "For this case the test-statistic is given by,\n",
    "\n",
    "$\n",
    "\\begin{align}\n",
    "Z^\\ast(s) = \\frac{\\text{VR}(s) - 1}{\\sqrt{\\theta^\\ast (s)}}\n",
    "\\end{align}\n",
    "$\n",
    "\n",
    "where,\n",
    "\n",
    "$\n",
    "\\begin{align}\n",
    "&\\theta^\\ast (s) = \\sum_{j=1}^{s-1} \\left[ \\frac{2\\left( s - j \\right) } {s} \\right]^2 \\hat{\\delta}(j) \\\\\n",
    "&\\hat{\\delta}(j) = \\frac{\\sum_{i=j+1}^t \\left( X_i - X_{i-1} - \\mu \\right)^2 \\left( X_{i-j} - X_{i-j-1} - \\mu \\right)^2}{\\left[ \\sum_{i=1}^t \\left( X_i - X_{i-1} - \\mu \\right)^2 \\right]^2}\n",
    "\\end{align}\n",
    "$\n",
    "\n",
    "The significance test using $Z(s)$ and $Z^\\ast(s)$ succeeds if the time series is brownian motion. This test is implemented using two tails and</br> \n",
    "the series is brownian motion if it succeeds. A test for $H<0.5$ uses a lower tail test and succeeds if the test for brownian motion fails. Similarly,</br>\n",
    "A test for $H>0.5$ would use an upper tail test and succeed if the test for brownian motion fails."
   ]
  },
  {
   "cell_type": "markdown",
   "id": "59c7f2f4-e4a0-4ee5-8222-bdd3ba973443",
   "metadata": {},
   "source": [
    "## Import"
   ]
  },
  {
   "cell_type": "code",
   "execution_count": 1,
   "id": "0eeb8872-168e-4f06-a8b4-6b144e752a54",
   "metadata": {},
   "outputs": [
    {
     "name": "stderr",
     "output_type": "stream",
     "text": [
      "/Users/troy/.pyenv/versions/gly.fish.3.9.2/lib/python3.9/site-packages/pandas/compat/__init__.py:109: UserWarning: Could not import the lzma module. Your installed Python is incomplete. Attempting to use lzma compression will result in a RuntimeError.\n",
      "  warnings.warn(msg)\n"
     ]
    }
   ],
   "source": [
    "%reload_ext autoreload\n",
    "%autoreload 2\n",
    "\n",
    "# import system modules and set local import path\n",
    "import os\n",
    "import sys\n",
    "import numpy\n",
    "from matplotlib import pyplot\n",
    "\n",
    "sys.path.insert(0, os.path.abspath('../..'))\n",
    "\n",
    "# import local modules\n",
    "from lib import config\n",
    "from lib import (FBM, Stats, Test, PlotType, HypTestPlotType, TestHypothesis)\n",
    "from lib import (curve, comparison, fpoints, hyp_test)\n",
    "\n",
    "# Config Plot Style\n",
    "pyplot.style.use(config.glyfish_style)"
   ]
  },
  {
   "cell_type": "markdown",
   "id": "9e7b85ab-e7be-4ef3-9792-cf0326dd7a54",
   "metadata": {
    "tags": []
   },
   "source": [
    "## Helpers"
   ]
  },
  {
   "cell_type": "code",
   "execution_count": 2,
   "id": "6b370a46-9869-4f33-b5b1-c2b9d588fc39",
   "metadata": {},
   "outputs": [],
   "source": [
    "def create(H_vals, npts):\n",
    "    params = [{\"H\": H, \"npts\": npts} for H in H_vals]\n",
    "    return FBM.Source.MOTION_FFT.create_parameter_scan(*params)\n",
    "\n",
    "def lag_var_plot(df, H, npts):\n",
    "    lag_var = Stats.Func.LAG_VAR.apply(df, s_max=npts/10, npts=100)\n",
    "    fbm_var = FBM.Func.VAR.apply(lag_var, H=H, nplot=20)\n",
    "    fpoints(data=lag_var, func=fbm_var, plot_type=PlotType.LOG)\n",
    "\n",
    "def vr_plot(df, H, npts):\n",
    "    vr = FBM.Func.VR_STAT.apply(df, s_max=npts/10, npts=100)\n",
    "    fbm_vr = FBM.Func.VR.apply(vr, H=H, nplot=20)\n",
    "    fpoints(data=vr, func=fbm_vr, plot_type=PlotType.LOG)\n",
    "    \n",
    "def homo_test_stat_plot(s_vals, df, H, test_type=TestHypothesis.TWO_TAIL, sig_level=0.1):\n",
    "    test_stats = FBM.Func.VR_HOMO_STAT.apply(df, s_vals=s_vals)\n",
    "    labels = test_stat_labels(s_vals)\n",
    "    title = f\"Homoscedastic Variance Ratio Test: H={H}, σ=1.0\"\n",
    "    hyp_test(test_stats, HypTestPlotType.VR_TEST, title=title, labels=labels, test_type=test_type, sig_level=sig_level)\n",
    "\n",
    "def hetero_test_stat_plot(s_vals, df, H, test_type=TestHypothesis.TWO_TAIL, sig_level=0.1):\n",
    "    test_stats = FBM.Func.VR_HETERO_STAT.apply(df, s_vals=s_vals)\n",
    "    labels = test_stat_labels(s_vals)\n",
    "    title = f\"Heteroscedastic Variance Ratio Test: H={H}, σ=1.0\"\n",
    "    hyp_test(test_stats, HypTestPlotType.VR_TEST, title=title, labels=labels, test_type=test_type, sig_level=sig_level)\n",
    "\n",
    "def test_stat_labels(s_vals):\n",
    "    return [f\"s={format(s, '4.0f')}\" for s in s_vals]\n",
    "\n",
    "def H_labels(H_vals):\n",
    "    return [f\"H={format(H, '1.2f')}\" for H in H_vals]"
   ]
  },
  {
   "cell_type": "markdown",
   "id": "7794b525-b870-4b2c-b4f9-1d63da84d952",
   "metadata": {},
   "source": [
    "## $\\sigma^2 (s)$ and $\\text{VR}(s)$ Verification\n",
    "\n",
    "The $\\sigma^2 (s)$ calculation is verified by comparing with $t^{2H}$. The variance ratio is given by,\n",
    "\n",
    "$\n",
    "\\begin{align}\n",
    "\\text{VR}(s) = \\frac{\\sigma^2(s)}{\\sigma_B^2(s)}\n",
    "\\end{align}\n",
    "$\n",
    "\n",
    "Since $\\sigma^2(s) \\sim t^{2H}$ and $\\sigma_B^2(s) \\sim t$ it follows that $\\text{VR}(s) \\sim t^{2H - 1}$. Here the variance ratio computed from simulations is</br>\n",
    "compared with $t^{2H-1}$"
   ]
  },
  {
   "cell_type": "code",
   "execution_count": 3,
   "id": "e5d0467e-0348-44a1-abb1-38e22fd86c77",
   "metadata": {},
   "outputs": [
    {
     "ename": "AttributeError",
     "evalue": "FFT",
     "output_type": "error",
     "traceback": [
      "\u001b[0;31m---------------------------------------------------------------------------\u001b[0m",
      "\u001b[0;31mAttributeError\u001b[0m                            Traceback (most recent call last)",
      "\u001b[0;32m/var/folders/hc/xc94zvls2pq_pw366sdbqlhr0000gn/T/ipykernel_55816/3812615797.py\u001b[0m in \u001b[0;36m<module>\u001b[0;34m\u001b[0m\n\u001b[1;32m      1\u001b[0m \u001b[0mnpts\u001b[0m \u001b[0;34m=\u001b[0m \u001b[0;36m2\u001b[0m\u001b[0;34m**\u001b[0m\u001b[0;36m16\u001b[0m\u001b[0;34m\u001b[0m\u001b[0;34m\u001b[0m\u001b[0m\n\u001b[1;32m      2\u001b[0m \u001b[0mH_vals\u001b[0m \u001b[0;34m=\u001b[0m \u001b[0;34m[\u001b[0m\u001b[0;36m0.5\u001b[0m\u001b[0;34m,\u001b[0m \u001b[0;36m0.3\u001b[0m\u001b[0;34m,\u001b[0m \u001b[0;36m0.8\u001b[0m\u001b[0;34m]\u001b[0m\u001b[0;34m\u001b[0m\u001b[0;34m\u001b[0m\u001b[0m\n\u001b[0;32m----> 3\u001b[0;31m \u001b[0mdfs\u001b[0m \u001b[0;34m=\u001b[0m \u001b[0mcreate\u001b[0m\u001b[0;34m(\u001b[0m\u001b[0mH_vals\u001b[0m\u001b[0;34m,\u001b[0m \u001b[0mnpts\u001b[0m\u001b[0;34m)\u001b[0m\u001b[0;34m\u001b[0m\u001b[0;34m\u001b[0m\u001b[0m\n\u001b[0m",
      "\u001b[0;32m/var/folders/hc/xc94zvls2pq_pw366sdbqlhr0000gn/T/ipykernel_55816/3705572927.py\u001b[0m in \u001b[0;36mcreate\u001b[0;34m(H_vals, npts)\u001b[0m\n\u001b[1;32m      1\u001b[0m \u001b[0;32mdef\u001b[0m \u001b[0mcreate\u001b[0m\u001b[0;34m(\u001b[0m\u001b[0mH_vals\u001b[0m\u001b[0;34m,\u001b[0m \u001b[0mnpts\u001b[0m\u001b[0;34m)\u001b[0m\u001b[0;34m:\u001b[0m\u001b[0;34m\u001b[0m\u001b[0;34m\u001b[0m\u001b[0m\n\u001b[1;32m      2\u001b[0m     \u001b[0mparams\u001b[0m \u001b[0;34m=\u001b[0m \u001b[0;34m[\u001b[0m\u001b[0;34m{\u001b[0m\u001b[0;34m\"H\"\u001b[0m\u001b[0;34m:\u001b[0m \u001b[0mH\u001b[0m\u001b[0;34m,\u001b[0m \u001b[0;34m\"npts\"\u001b[0m\u001b[0;34m:\u001b[0m \u001b[0mnpts\u001b[0m\u001b[0;34m}\u001b[0m \u001b[0;32mfor\u001b[0m \u001b[0mH\u001b[0m \u001b[0;32min\u001b[0m \u001b[0mH_vals\u001b[0m\u001b[0;34m]\u001b[0m\u001b[0;34m\u001b[0m\u001b[0;34m\u001b[0m\u001b[0m\n\u001b[0;32m----> 3\u001b[0;31m     \u001b[0;32mreturn\u001b[0m \u001b[0mFBM\u001b[0m\u001b[0;34m.\u001b[0m\u001b[0mSource\u001b[0m\u001b[0;34m.\u001b[0m\u001b[0mFFT\u001b[0m\u001b[0;34m.\u001b[0m\u001b[0mcreate_parameter_scan\u001b[0m\u001b[0;34m(\u001b[0m\u001b[0;34m*\u001b[0m\u001b[0mparams\u001b[0m\u001b[0;34m)\u001b[0m\u001b[0;34m\u001b[0m\u001b[0;34m\u001b[0m\u001b[0m\n\u001b[0m\u001b[1;32m      4\u001b[0m \u001b[0;34m\u001b[0m\u001b[0m\n\u001b[1;32m      5\u001b[0m \u001b[0;32mdef\u001b[0m \u001b[0mlag_var_plot\u001b[0m\u001b[0;34m(\u001b[0m\u001b[0mdf\u001b[0m\u001b[0;34m,\u001b[0m \u001b[0mH\u001b[0m\u001b[0;34m,\u001b[0m \u001b[0mnpts\u001b[0m\u001b[0;34m)\u001b[0m\u001b[0;34m:\u001b[0m\u001b[0;34m\u001b[0m\u001b[0;34m\u001b[0m\u001b[0m\n",
      "\u001b[0;32m~/.pyenv/versions/3.9.2/lib/python3.9/enum.py\u001b[0m in \u001b[0;36m__getattr__\u001b[0;34m(cls, name)\u001b[0m\n\u001b[1;32m    403\u001b[0m             \u001b[0;32mreturn\u001b[0m \u001b[0mcls\u001b[0m\u001b[0;34m.\u001b[0m\u001b[0m_member_map_\u001b[0m\u001b[0;34m[\u001b[0m\u001b[0mname\u001b[0m\u001b[0;34m]\u001b[0m\u001b[0;34m\u001b[0m\u001b[0;34m\u001b[0m\u001b[0m\n\u001b[1;32m    404\u001b[0m         \u001b[0;32mexcept\u001b[0m \u001b[0mKeyError\u001b[0m\u001b[0;34m:\u001b[0m\u001b[0;34m\u001b[0m\u001b[0;34m\u001b[0m\u001b[0m\n\u001b[0;32m--> 405\u001b[0;31m             \u001b[0;32mraise\u001b[0m \u001b[0mAttributeError\u001b[0m\u001b[0;34m(\u001b[0m\u001b[0mname\u001b[0m\u001b[0;34m)\u001b[0m \u001b[0;32mfrom\u001b[0m \u001b[0;32mNone\u001b[0m\u001b[0;34m\u001b[0m\u001b[0;34m\u001b[0m\u001b[0m\n\u001b[0m\u001b[1;32m    406\u001b[0m \u001b[0;34m\u001b[0m\u001b[0m\n\u001b[1;32m    407\u001b[0m     \u001b[0;32mdef\u001b[0m \u001b[0m__getitem__\u001b[0m\u001b[0;34m(\u001b[0m\u001b[0mcls\u001b[0m\u001b[0;34m,\u001b[0m \u001b[0mname\u001b[0m\u001b[0;34m)\u001b[0m\u001b[0;34m:\u001b[0m\u001b[0;34m\u001b[0m\u001b[0;34m\u001b[0m\u001b[0m\n",
      "\u001b[0;31mAttributeError\u001b[0m: FFT"
     ]
    }
   ],
   "source": [
    "npts = 2**16\n",
    "H_vals = [0.5, 0.3, 0.8]\n",
    "dfs = create(H_vals, npts)"
   ]
  },
  {
   "cell_type": "code",
   "execution_count": null,
   "id": "821f3c37-9993-4c25-9431-17d0eb5b2be6",
   "metadata": {},
   "outputs": [],
   "source": [
    "curve(dfs[0])"
   ]
  },
  {
   "cell_type": "code",
   "execution_count": null,
   "id": "8ddb7cf3-8594-489d-a34a-abe32718e671",
   "metadata": {
    "tags": []
   },
   "outputs": [],
   "source": [
    "lag_var_plot(dfs[0], H_vals[0], npts)"
   ]
  },
  {
   "cell_type": "code",
   "execution_count": null,
   "id": "b30e290c-7426-458a-ae0f-23b0619ce743",
   "metadata": {},
   "outputs": [],
   "source": [
    "vr_plot(dfs[0], H_vals[0], npts)"
   ]
  },
  {
   "cell_type": "code",
   "execution_count": null,
   "id": "19f84407-41e1-4edb-b61d-5e66a86a22f9",
   "metadata": {
    "tags": []
   },
   "outputs": [],
   "source": [
    "curve(dfs[1])"
   ]
  },
  {
   "cell_type": "code",
   "execution_count": null,
   "id": "071e3a82-5b06-4be9-b525-b9be8fca53f9",
   "metadata": {
    "tags": []
   },
   "outputs": [],
   "source": [
    "lag_var_plot(dfs[1], H_vals[1], npts)"
   ]
  },
  {
   "cell_type": "code",
   "execution_count": null,
   "id": "7d964217-2aab-497f-bd73-977eb4b667ec",
   "metadata": {},
   "outputs": [],
   "source": [
    "vr_plot(dfs[1], H_vals[1], npts)"
   ]
  },
  {
   "cell_type": "code",
   "execution_count": null,
   "id": "8041ace6-a63b-4403-af97-483f38e64b5c",
   "metadata": {},
   "outputs": [],
   "source": [
    "curve(dfs[2])"
   ]
  },
  {
   "cell_type": "code",
   "execution_count": null,
   "id": "71d52074-1871-4b38-b11f-d9a5425936e0",
   "metadata": {},
   "outputs": [],
   "source": [
    "lag_var_plot(dfs[2], H_vals[2], npts)"
   ]
  },
  {
   "cell_type": "code",
   "execution_count": null,
   "id": "eca52527-d5e9-492d-8f61-034c34980311",
   "metadata": {},
   "outputs": [],
   "source": [
    "vr_plot(dfs[2], H_vals[2], npts)"
   ]
  },
  {
   "cell_type": "markdown",
   "id": "e9b397b3-b8f8-4028-bb92-1e9b5f7f5716",
   "metadata": {},
   "source": [
    "## Small Sample Size\n",
    "\n",
    "In the previous verification section a rather large sample size was used to provide enough data to compute accurate averages. In general</br>\n",
    "this is not practical. here more realistic sample sizes are used to see the impact on the analysis. "
   ]
  },
  {
   "cell_type": "code",
   "execution_count": null,
   "id": "e52b5c2d-a4d5-46ce-8c45-a7036cfbd181",
   "metadata": {},
   "outputs": [],
   "source": [
    "npts = 2**9\n",
    "H_vals = [0.5, 0.3, 0.8]\n",
    "dfs = create(H_vals, npts)"
   ]
  },
  {
   "cell_type": "code",
   "execution_count": null,
   "id": "7eacf9b3-42bc-4cea-b791-af7d47dddd33",
   "metadata": {},
   "outputs": [],
   "source": [
    "curve(dfs[0])"
   ]
  },
  {
   "cell_type": "code",
   "execution_count": null,
   "id": "2618b927-4dee-4440-b2dd-b45ff38fd202",
   "metadata": {},
   "outputs": [],
   "source": [
    "lag_var_plot(dfs[0], H_vals[0], npts)"
   ]
  },
  {
   "cell_type": "code",
   "execution_count": null,
   "id": "25b440e3-b6f3-4d4d-879a-2217eb0f9315",
   "metadata": {},
   "outputs": [],
   "source": [
    "vr_plot(dfs[0], H_vals[0], npts)"
   ]
  },
  {
   "cell_type": "code",
   "execution_count": null,
   "id": "855d7cf7-bf16-4b93-9213-e355c6ab65a2",
   "metadata": {},
   "outputs": [],
   "source": [
    "curve(dfs[2])"
   ]
  },
  {
   "cell_type": "code",
   "execution_count": null,
   "id": "b0dd3276-0ff5-4061-b213-52886b040e8c",
   "metadata": {},
   "outputs": [],
   "source": [
    "lag_var_plot(dfs[1], H_vals[1], npts)"
   ]
  },
  {
   "cell_type": "code",
   "execution_count": null,
   "id": "edb0fbc7-9d49-4ef2-8b10-c09a40c2eb37",
   "metadata": {},
   "outputs": [],
   "source": [
    "vr_plot(dfs[1], H_vals[1], npts)"
   ]
  },
  {
   "cell_type": "code",
   "execution_count": null,
   "id": "291ddd44-c4b4-456d-a1bb-e7e294427058",
   "metadata": {},
   "outputs": [],
   "source": [
    "curve(dfs[2])"
   ]
  },
  {
   "cell_type": "code",
   "execution_count": null,
   "id": "eb65976a-2ee9-4787-befa-6d565314f77e",
   "metadata": {},
   "outputs": [],
   "source": [
    "lag_var_plot(dfs[2], H_vals[2], npts)"
   ]
  },
  {
   "cell_type": "code",
   "execution_count": null,
   "id": "c87d2fac-ce6d-417f-8963-d20a76be2bc9",
   "metadata": {},
   "outputs": [],
   "source": [
    "vr_plot(dfs[2], H_vals[2], npts)"
   ]
  },
  {
   "cell_type": "markdown",
   "id": "09c69f51-742e-4ae4-924c-5ef3301f5dad",
   "metadata": {},
   "source": [
    "## Variance Ratio Test Statistic\n",
    "\n",
    "In this section simulations that test the homoscedastic and heteroscedastic variance ratio test statistic are presented. First large time series are</br>\n",
    "analyzed followed by more realistic series lengths. A range of $H$ values is used."
   ]
  },
  {
   "cell_type": "code",
   "execution_count": null,
   "id": "9d056ade-ef8e-4b04-96c2-6c84cf3ed04d",
   "metadata": {},
   "outputs": [],
   "source": [
    "npts = 2**16\n",
    "s_vals = [2, 10, 100, 1000]\n",
    "H_vals = [0.5, 0.3, 0.7]\n",
    "dfs = create(H_vals, npts)"
   ]
  },
  {
   "cell_type": "markdown",
   "id": "222387ec-469e-425f-9e0e-7874b1637ab5",
   "metadata": {},
   "source": [
    "### H = 0.5 "
   ]
  },
  {
   "cell_type": "code",
   "execution_count": null,
   "id": "4d2e1597-25fc-416d-bc37-dfd763b0548b",
   "metadata": {},
   "outputs": [],
   "source": [
    "curve(dfs[0])"
   ]
  },
  {
   "cell_type": "code",
   "execution_count": null,
   "id": "922c9ca1-5655-412a-8e03-50b66af707db",
   "metadata": {},
   "outputs": [],
   "source": [
    "homo_test_stat_plot(s_vals, dfs[0], H_vals[0])"
   ]
  },
  {
   "cell_type": "code",
   "execution_count": null,
   "id": "387afe9c-4cd3-419e-9d93-ce2103032502",
   "metadata": {},
   "outputs": [],
   "source": [
    "hetero_test_stat_plot(s_vals, dfs[0], H_vals[0])"
   ]
  },
  {
   "cell_type": "markdown",
   "id": "1c0b5a75-60ad-466a-bcb2-bd9f60d57d0a",
   "metadata": {},
   "source": [
    "### H = 0.3"
   ]
  },
  {
   "cell_type": "code",
   "execution_count": null,
   "id": "c163ed5c-6e2b-4daa-ba94-876971644a86",
   "metadata": {},
   "outputs": [],
   "source": [
    "curve(dfs[1])"
   ]
  },
  {
   "cell_type": "code",
   "execution_count": null,
   "id": "beb6edf1-2205-48de-88bc-4e398a1f2480",
   "metadata": {},
   "outputs": [],
   "source": [
    "homo_test_stat_plot(s_vals, dfs[1], H_vals[1])"
   ]
  },
  {
   "cell_type": "code",
   "execution_count": null,
   "id": "0e6e1e27-e611-4213-a8e1-0a106ddb7238",
   "metadata": {},
   "outputs": [],
   "source": [
    "hetero_test_stat_plot(s_vals, dfs[1], H_vals[1])"
   ]
  },
  {
   "cell_type": "markdown",
   "id": "55700cfa-e060-4684-895a-fefba833578b",
   "metadata": {},
   "source": [
    "### H=0.7"
   ]
  },
  {
   "cell_type": "code",
   "execution_count": null,
   "id": "1d6e1fa2-92b2-4d96-bce4-87a490154d45",
   "metadata": {},
   "outputs": [],
   "source": [
    "curve(dfs[2])"
   ]
  },
  {
   "cell_type": "code",
   "execution_count": null,
   "id": "03f36982-1ce4-47a9-a611-258152a637cb",
   "metadata": {},
   "outputs": [],
   "source": [
    "homo_test_stat_plot(s_vals, dfs[2], H_vals[2])"
   ]
  },
  {
   "cell_type": "code",
   "execution_count": null,
   "id": "93902bf3-2116-4f89-aea7-94e9783b8187",
   "metadata": {
    "tags": []
   },
   "outputs": [],
   "source": [
    "hetero_test_stat_plot(s_vals, dfs[2], H_vals[2])"
   ]
  },
  {
   "cell_type": "markdown",
   "id": "d5917ccc-1921-4c54-a779-69a9ec5b29d0",
   "metadata": {},
   "source": [
    "### Values Near H=0.5"
   ]
  },
  {
   "cell_type": "code",
   "execution_count": null,
   "id": "a841ba0f-a581-4c38-8f61-cf8a5f546f89",
   "metadata": {},
   "outputs": [],
   "source": [
    "npts = 2**16\n",
    "s_vals = [2, 10, 100, 1000]\n",
    "H_vals = [0.475, 0.49, 0.51, 0.525]\n",
    "dfs = create(H_vals, npts)"
   ]
  },
  {
   "cell_type": "markdown",
   "id": "9f332cb0-1e88-4811-9483-572a41b2b618",
   "metadata": {},
   "source": [
    "#### H=0.51"
   ]
  },
  {
   "cell_type": "code",
   "execution_count": null,
   "id": "96f459ee-426e-419e-8155-4a705d8a0853",
   "metadata": {},
   "outputs": [],
   "source": [
    "curve(dfs[2])"
   ]
  },
  {
   "cell_type": "code",
   "execution_count": null,
   "id": "42aef420-35d3-446b-aa97-8dc9adfa6046",
   "metadata": {},
   "outputs": [],
   "source": [
    "homo_test_stat_plot(s_vals, dfs[2], H_vals[2])"
   ]
  },
  {
   "cell_type": "code",
   "execution_count": null,
   "id": "57332d90-7884-46ff-a1c6-c50ba99df834",
   "metadata": {},
   "outputs": [],
   "source": [
    "hetero_test_stat_plot(s_vals, dfs[2], H_vals[2])"
   ]
  },
  {
   "cell_type": "markdown",
   "id": "b529c37b-88b3-45ba-9993-7422b83a7d53",
   "metadata": {},
   "source": [
    "#### H=0.49"
   ]
  },
  {
   "cell_type": "code",
   "execution_count": null,
   "id": "4c42d2dd-f67c-4a45-9105-a86c901d3780",
   "metadata": {},
   "outputs": [],
   "source": [
    "curve(dfs[1])"
   ]
  },
  {
   "cell_type": "code",
   "execution_count": null,
   "id": "59a0e064-7f5e-403a-80f5-0fba0c19646f",
   "metadata": {},
   "outputs": [],
   "source": [
    "homo_test_stat_plot(s_vals, dfs[1], H_vals[1])"
   ]
  },
  {
   "cell_type": "code",
   "execution_count": null,
   "id": "7710a34b-8729-4e0a-bf0d-5c92972feea2",
   "metadata": {},
   "outputs": [],
   "source": [
    "hetero_test_stat_plot(s_vals, dfs[1], H_vals[1])"
   ]
  },
  {
   "cell_type": "markdown",
   "id": "2a6453a4-6f45-4248-b5a5-3593db1e9a87",
   "metadata": {},
   "source": [
    "#### H=0.475"
   ]
  },
  {
   "cell_type": "code",
   "execution_count": null,
   "id": "896da4c0-7ca4-41e4-9bb3-093aa616ff0f",
   "metadata": {},
   "outputs": [],
   "source": [
    "curve(dfs[0])"
   ]
  },
  {
   "cell_type": "code",
   "execution_count": null,
   "id": "03b5a5bf-5172-4f7f-9917-8b96a8d47206",
   "metadata": {},
   "outputs": [],
   "source": [
    "homo_test_stat_plot(s_vals, dfs[0], H_vals[0])"
   ]
  },
  {
   "cell_type": "code",
   "execution_count": null,
   "id": "b2c9b840-851f-42b4-94f9-c2bb474d402b",
   "metadata": {},
   "outputs": [],
   "source": [
    "hetero_test_stat_plot(s_vals, dfs[0], H_vals[0])"
   ]
  },
  {
   "cell_type": "markdown",
   "id": "f98e7dcb-f1da-4aef-a885-4e7b1ae7b690",
   "metadata": {},
   "source": [
    "### Small Sample Size"
   ]
  },
  {
   "cell_type": "code",
   "execution_count": null,
   "id": "729c5ff0-691c-43dc-869e-7bdb8fee36e0",
   "metadata": {
    "tags": []
   },
   "outputs": [],
   "source": [
    "npts = 2**9\n",
    "s_vals = [4, 10, 25, 50, 100]\n",
    "H_vals = [0.5, 0.7, 0.3]\n",
    "dfs = create(H_vals, npts)"
   ]
  },
  {
   "cell_type": "markdown",
   "id": "064e754e-559e-48e8-a186-b8f2e9a2359c",
   "metadata": {},
   "source": [
    "#### H=0.5"
   ]
  },
  {
   "cell_type": "code",
   "execution_count": null,
   "id": "d087b43d-baa9-46f8-91d7-a56f5536886b",
   "metadata": {},
   "outputs": [],
   "source": [
    "curve(dfs[0])"
   ]
  },
  {
   "cell_type": "code",
   "execution_count": null,
   "id": "f1fa9161-4436-4d40-9deb-b29d0815f40b",
   "metadata": {},
   "outputs": [],
   "source": [
    "homo_test_stat_plot(s_vals, dfs[0], H_vals[0])"
   ]
  },
  {
   "cell_type": "code",
   "execution_count": null,
   "id": "978b0a3e-6bff-4114-8dba-b7ad83f13d51",
   "metadata": {},
   "outputs": [],
   "source": [
    "hetero_test_stat_plot(s_vals, dfs[0], H_vals[0])"
   ]
  },
  {
   "cell_type": "markdown",
   "id": "0524e3b1-0553-47b4-88dc-5db2f1635692",
   "metadata": {},
   "source": [
    "#### H=0.7"
   ]
  },
  {
   "cell_type": "code",
   "execution_count": null,
   "id": "e71a8a58-de4a-4461-8a37-66b6823843f0",
   "metadata": {},
   "outputs": [],
   "source": [
    "curve(dfs[1])"
   ]
  },
  {
   "cell_type": "code",
   "execution_count": null,
   "id": "fdaf1fdf-d5df-4a5a-9050-dbabadd3b977",
   "metadata": {},
   "outputs": [],
   "source": [
    "homo_test_stat_plot(s_vals, dfs[1], H_vals[1])"
   ]
  },
  {
   "cell_type": "code",
   "execution_count": null,
   "id": "d1d189b6-38f9-43b0-9915-7593267ee974",
   "metadata": {},
   "outputs": [],
   "source": [
    "hetero_test_stat_plot(s_vals, dfs[1], H_vals[1])"
   ]
  },
  {
   "cell_type": "markdown",
   "id": "4ecf3d93-31c1-4c2f-be6f-377fb2ea19f7",
   "metadata": {},
   "source": [
    "#### H=0.3"
   ]
  },
  {
   "cell_type": "code",
   "execution_count": null,
   "id": "f2b3392d-a48f-4eaa-89e6-b083b1a3c42c",
   "metadata": {},
   "outputs": [],
   "source": [
    "curve(dfs[2])"
   ]
  },
  {
   "cell_type": "code",
   "execution_count": null,
   "id": "8dba1257-25ae-424f-bdcb-d65dbec5f650",
   "metadata": {},
   "outputs": [],
   "source": [
    "homo_test_stat_plot(s_vals, dfs[2], H_vals[2])"
   ]
  },
  {
   "cell_type": "code",
   "execution_count": null,
   "id": "6b79c268-d491-4484-b8c4-62e0cc65a613",
   "metadata": {},
   "outputs": [],
   "source": [
    "hetero_test_stat_plot(s_vals, dfs[2], H_vals[2])"
   ]
  },
  {
   "cell_type": "markdown",
   "id": "650409e7-a77c-4d6a-8847-ce61a0d55226",
   "metadata": {},
   "source": [
    "### Values Near H=0.5"
   ]
  },
  {
   "cell_type": "code",
   "execution_count": null,
   "id": "2f227a5c-c73b-428d-b59a-8c9170dcb00e",
   "metadata": {
    "tags": []
   },
   "outputs": [],
   "source": [
    "npts = 2**9\n",
    "s_vals = [2, 4, 10, 25, 50]\n",
    "H_vals = [0.49, 0.45, 0.4, 0.51, 0.55]\n",
    "dfs = create(H_vals, npts)"
   ]
  },
  {
   "cell_type": "markdown",
   "id": "594380c7-f8b8-433e-83c7-33d85c7c190b",
   "metadata": {},
   "source": [
    "#### H=0.49"
   ]
  },
  {
   "cell_type": "code",
   "execution_count": null,
   "id": "8af07f0f-e0e1-43f7-8c60-63b62777473b",
   "metadata": {},
   "outputs": [],
   "source": [
    "curve(dfs[0])"
   ]
  },
  {
   "cell_type": "code",
   "execution_count": null,
   "id": "08ea55b5-1e9e-40fc-a44e-781e56bbd5cf",
   "metadata": {},
   "outputs": [],
   "source": [
    "homo_test_stat_plot(s_vals, dfs[0], H_vals[0])"
   ]
  },
  {
   "cell_type": "code",
   "execution_count": null,
   "id": "4439ba0b-21c2-4f30-9a8e-34bf9f1488b3",
   "metadata": {},
   "outputs": [],
   "source": [
    "hetero_test_stat_plot(s_vals, dfs[0], H_vals[0])"
   ]
  },
  {
   "cell_type": "markdown",
   "id": "9b0213ac-e361-4cdb-b111-a5cc19afc1e6",
   "metadata": {},
   "source": [
    "#### H=0.45"
   ]
  },
  {
   "cell_type": "code",
   "execution_count": null,
   "id": "d06f361f-9792-47bd-ba79-034213e1f212",
   "metadata": {},
   "outputs": [],
   "source": [
    "curve(dfs[1])"
   ]
  },
  {
   "cell_type": "code",
   "execution_count": null,
   "id": "8e2251eb-5350-4e78-8fe8-6ba2ef7a4e09",
   "metadata": {},
   "outputs": [],
   "source": [
    "homo_test_stat_plot(s_vals, dfs[1], H_vals[1])"
   ]
  },
  {
   "cell_type": "code",
   "execution_count": null,
   "id": "68d99ec4-b4bf-42e7-b9a4-972365a34c58",
   "metadata": {},
   "outputs": [],
   "source": [
    "hetero_test_stat_plot(s_vals, dfs[1], H_vals[1])"
   ]
  },
  {
   "cell_type": "markdown",
   "id": "e8e6c7da-63e2-4674-a231-a040feeacbff",
   "metadata": {},
   "source": [
    "#### H=0.4"
   ]
  },
  {
   "cell_type": "code",
   "execution_count": null,
   "id": "558db357-7eb5-49df-b302-02edd39db23b",
   "metadata": {},
   "outputs": [],
   "source": [
    "curve(dfs[2])"
   ]
  },
  {
   "cell_type": "code",
   "execution_count": null,
   "id": "e97c15db-5f0b-4706-b6f2-bdb9ddf83faa",
   "metadata": {},
   "outputs": [],
   "source": [
    "homo_test_stat_plot(s_vals, dfs[2], H_vals[2])"
   ]
  },
  {
   "cell_type": "code",
   "execution_count": null,
   "id": "86d856c7-cff5-413c-8399-ac486cf107f3",
   "metadata": {},
   "outputs": [],
   "source": [
    "hetero_test_stat_plot(s_vals, dfs[2], H_vals[2])"
   ]
  },
  {
   "cell_type": "markdown",
   "id": "6fe02df4-0f40-4ce9-a337-f7da46c9e659",
   "metadata": {},
   "source": [
    "#### H=0.51"
   ]
  },
  {
   "cell_type": "code",
   "execution_count": null,
   "id": "96a9bc76-0ad5-4075-b59c-f84fd865f9df",
   "metadata": {},
   "outputs": [],
   "source": [
    "curve(dfs[3])"
   ]
  },
  {
   "cell_type": "code",
   "execution_count": null,
   "id": "f297a0eb-5e52-46f2-8935-41fb2fa612a2",
   "metadata": {},
   "outputs": [],
   "source": [
    "homo_test_stat_plot(s_vals, dfs[3], H_vals[3])"
   ]
  },
  {
   "cell_type": "code",
   "execution_count": null,
   "id": "c8de41b4-1ceb-49b2-abd3-2672fee4a6e5",
   "metadata": {},
   "outputs": [],
   "source": [
    "hetero_test_stat_plot(s_vals, dfs[3], H_vals[3])"
   ]
  },
  {
   "cell_type": "markdown",
   "id": "35ba3a5a-0211-4f97-b510-2f2ae488d67f",
   "metadata": {},
   "source": [
    "#### H=0.55"
   ]
  },
  {
   "cell_type": "code",
   "execution_count": null,
   "id": "1601fc78-db8b-47d3-a6bd-a810edcaaf71",
   "metadata": {},
   "outputs": [],
   "source": [
    "curve(dfs[4])"
   ]
  },
  {
   "cell_type": "code",
   "execution_count": null,
   "id": "dd4e8f0b-e9b3-481a-ba3c-a25c34726921",
   "metadata": {},
   "outputs": [],
   "source": [
    "homo_test_stat_plot(s_vals, dfs[4], H_vals[4])"
   ]
  },
  {
   "cell_type": "code",
   "execution_count": null,
   "id": "a54b1fc3-1e6d-48be-95e9-17bbdd2824b7",
   "metadata": {},
   "outputs": [],
   "source": [
    "hetero_test_stat_plot(s_vals, dfs[4], H_vals[4])"
   ]
  },
  {
   "cell_type": "markdown",
   "id": "bd273ba3-d5e5-4176-8894-7403a99c64f9",
   "metadata": {
    "tags": []
   },
   "source": [
    "## Variance Ratio Test\n",
    "\n",
    "Here the performance of the variance ratio test is evaluated. In the previous analysis the performance of the homoscedastic test was not significantly different</br>\n",
    "than the heteroscedastic test. Since the homoscedastic test is much faster it is used. The values of the variance ratio test statistic for $0 < H < \\frac{1}{2}$, $H=\\frac{1}{2}$</br>\n",
    "and $\\frac{1}{2} < H < 1$ respectively satisfy $Z(s) < 0$, $Z(s) = 0$ and $Z(s) > 0$. This follows from the variance ratio, $\\text{VR}(s)$ satisfying $0 < \\text{VR}(s) < 1$, $\\text{VR}(s)=1$ and $\\text{VR}(s) > 1$</br>\n",
    "in that same regions. Plots of $Z(s)$ for these regions are shown below. It is seen for $0 < H < \\frac{1}{2}$ that $Z(s)$ is an increasing function of $s$ and for $\\frac{1}{2} < H < 1$</br>\n",
    "$Z(s)$ has a more complex behavior but is increasing for smaller values of $s$. It follows that eventually for some value of $s$ the test will likely fail. This makes interpreting the tests</br> \n",
    "results somewhat difficult. In the previous analysis where $\\text{VR}(s)$ was compared to $\\sigma s^{2H-1}$ it was seen that for a series with $2^9$ points the the two values agreed well for</br>\n",
    "up to $s=2^8$. This motivates evaluating $Z(s)$ in regions where it is always increasing using a sequence of values of $s$ satisfying $s \\le 25$. For this range the agreement between $\\text{VR}(s)$</br>\n",
    "and $\\sigma s^{2H-1}$ was best. $Z(s)$ is evaluated for each $s$ and the result is pass if at least one test passes and failed otherwise."
   ]
  },
  {
   "cell_type": "markdown",
   "id": "4e3187f0-0747-48e9-81d4-3062c3dccd2b",
   "metadata": {
    "tags": []
   },
   "source": [
    "### $H \\le \\frac{1}{2}$"
   ]
  },
  {
   "cell_type": "code",
   "execution_count": null,
   "id": "ca39fd99-c195-473e-b063-087e0e857a6d",
   "metadata": {},
   "outputs": [],
   "source": [
    "npts = 2**9\n",
    "s_min=2.0\n",
    "s_max=npts/2\n",
    "s_npts=int(s_max-s_min+1)"
   ]
  },
  {
   "cell_type": "code",
   "execution_count": null,
   "id": "d3fd6d1a-7e06-4531-91e6-940c1e205ce8",
   "metadata": {},
   "outputs": [],
   "source": [
    "H_vals = [0.1, 0.2, 0.3, 0.4, 0.5]\n",
    "dfs = create(H_vals, npts)\n",
    "stats = Func.VR_STAT.apply_to_list(dfs, s_min=s_min, s_max=s_max, npts=s_npts, linear=True)"
   ]
  },
  {
   "cell_type": "code",
   "execution_count": null,
   "id": "c11f8f31-0921-4c3a-b161-e65532da8787",
   "metadata": {},
   "outputs": [],
   "source": [
    "title = r\"Variance Ratio Statistic\"\n",
    "comparison(stats, title=title, labels=H_labels(H_vals))"
   ]
  },
  {
   "cell_type": "markdown",
   "id": "1e8c9921-4e1f-4ea6-ab5e-7e8f59ea00be",
   "metadata": {},
   "source": [
    "### $H \\ge \\frac{1}{2}$"
   ]
  },
  {
   "cell_type": "code",
   "execution_count": null,
   "id": "c350ce2d-6744-48ae-9ebf-3ccb26259ac3",
   "metadata": {},
   "outputs": [],
   "source": [
    "H_vals = [0.5, 0.6, 0.7, 0.8, 0.89]\n",
    "dfs = create(H_vals, npts)\n",
    "stats = Func.VR_STAT.apply_to_list(dfs, s_min=s_min, s_max=s_max, npts=s_npts, linear=True)"
   ]
  },
  {
   "cell_type": "code",
   "execution_count": null,
   "id": "27762843-8745-42e0-9218-6c20f150725f",
   "metadata": {
    "tags": []
   },
   "outputs": [],
   "source": [
    "title = r\"Variance Ratio Statistic\"\n",
    "s = numpy.tile(s_vals, (len(H_vals), 1))\n",
    "comparison(stats, title=title, labels=H_labels(H_vals))"
   ]
  },
  {
   "cell_type": "markdown",
   "id": "82d71af2-6f19-4863-857f-f76ad79b4098",
   "metadata": {},
   "source": [
    "### $H = 0.5$\n",
    "\n",
    "Here a two tailed test for brownian motion is performed. This test is successful if the result is **PASSED**"
   ]
  },
  {
   "cell_type": "code",
   "execution_count": null,
   "id": "9c230fb9-a841-422f-b4ae-8be0d8eaf7a9",
   "metadata": {
    "tags": []
   },
   "outputs": [],
   "source": [
    "H=0.5\n",
    "df=FBM.Source.MOTION_FFT.create(H=H, npts=npts)\n",
    "result=Test.BM.perform(df)\n",
    "result.summary()"
   ]
  },
  {
   "cell_type": "code",
   "execution_count": null,
   "id": "0182a32e-71ba-499e-82c3-662dc0daa987",
   "metadata": {},
   "outputs": [],
   "source": [
    "result=Test.AUTO_CORR.perform(df)\n",
    "result.summary()"
   ]
  },
  {
   "cell_type": "code",
   "execution_count": null,
   "id": "541e76be-dd74-4683-be88-4deff2de7b79",
   "metadata": {},
   "outputs": [],
   "source": [
    "result=Test.NEG_AUTO_CORR.perform(df)\n",
    "result.summary()"
   ]
  },
  {
   "cell_type": "code",
   "execution_count": null,
   "id": "deb758db-2896-4799-8526-9a44b3fd2550",
   "metadata": {},
   "outputs": [],
   "source": [
    "df.attrs"
   ]
  },
  {
   "cell_type": "code",
   "execution_count": null,
   "id": "93799fb0-ebaf-4b03-bc4d-e0c918424cfa",
   "metadata": {},
   "outputs": [],
   "source": [
    "homo_test_stat_plot([4, 6, 10, 16, 24], df, H, test_type=TestHypothesis.TWO_TAIL, sig_level=0.1)"
   ]
  },
  {
   "cell_type": "markdown",
   "id": "349ec7d2-3e9a-44f0-85f9-bea4d1c66994",
   "metadata": {},
   "source": [
    "### $H = 0.4$\n",
    "\n",
    "Here a lower tail test is performed for fractional brownian with $H<\\frac{1}{2}$. The test is successful if the result is **Failed**."
   ]
  },
  {
   "cell_type": "code",
   "execution_count": null,
   "id": "fe3ab770-07c5-47bd-976f-a0bcbf53c144",
   "metadata": {
    "tags": []
   },
   "outputs": [],
   "source": [
    "H=0.4\n",
    "df=FBM.Source.MOTION_FFT.create(H=H, npts=npts)\n",
    "result=Test.BM.perform(df)\n",
    "result.summary()"
   ]
  },
  {
   "cell_type": "code",
   "execution_count": null,
   "id": "469bd03c-ef1d-4540-a8f1-56fcb218aab0",
   "metadata": {
    "tags": []
   },
   "outputs": [],
   "source": [
    "result=Test.AUTO_CORR.perform(df)\n",
    "result.summary()"
   ]
  },
  {
   "cell_type": "code",
   "execution_count": null,
   "id": "488649e9-d319-4815-8b32-4aebd84f9a24",
   "metadata": {},
   "outputs": [],
   "source": [
    "result=Test.NEG_AUTO_CORR.perform(df)\n",
    "result.summary()"
   ]
  },
  {
   "cell_type": "code",
   "execution_count": null,
   "id": "0fe4f86e-56ac-4a5d-9974-af334b7519f2",
   "metadata": {},
   "outputs": [],
   "source": [
    "df.attrs"
   ]
  },
  {
   "cell_type": "code",
   "execution_count": null,
   "id": "cf7364ed-3662-44c0-91be-8bed58aaa21a",
   "metadata": {},
   "outputs": [],
   "source": [
    "homo_test_stat_plot([4, 6, 10, 16, 24], df, H, test_type=TestHypothesis.LOWER_TAIL, sig_level=0.1)"
   ]
  },
  {
   "cell_type": "markdown",
   "id": "fb953044-fc61-470f-8315-7d67e9badd3f",
   "metadata": {},
   "source": [
    "### $H = 0.6$\n",
    "\n",
    "Here an upper tailed test for fractional brownian motion with $H > \\frac{1}{2}$. The test is successful if the result is **Failed**."
   ]
  },
  {
   "cell_type": "code",
   "execution_count": null,
   "id": "eb400ceb-da4b-454a-af13-96de93bc7669",
   "metadata": {
    "tags": []
   },
   "outputs": [],
   "source": [
    "H=0.6\n",
    "df=FBM.Source.MOTION_FFT.create(H=H, npts=npts)\n",
    "result=Test.BM.perform(df)\n",
    "result.summary()"
   ]
  },
  {
   "cell_type": "code",
   "execution_count": null,
   "id": "2756f97b-e20f-4313-987f-50865b6888bb",
   "metadata": {},
   "outputs": [],
   "source": [
    "result=Test.AUTO_CORR.perform(df)\n",
    "result.summary()"
   ]
  },
  {
   "cell_type": "code",
   "execution_count": null,
   "id": "ae788219-e382-4c82-a89d-b68633a0b2b2",
   "metadata": {},
   "outputs": [],
   "source": [
    "result=Test.NEG_AUTO_CORR.perform(df)\n",
    "result.summary()"
   ]
  },
  {
   "cell_type": "code",
   "execution_count": null,
   "id": "de904c02-a8cd-4f92-8f4a-af90dc8873dd",
   "metadata": {},
   "outputs": [],
   "source": [
    "df.attrs"
   ]
  },
  {
   "cell_type": "code",
   "execution_count": null,
   "id": "426ce00f-e4c4-48a3-9ca7-f2faf181d581",
   "metadata": {},
   "outputs": [],
   "source": [
    "homo_test_stat_plot([4, 6, 10, 16, 24], df, H, test_type=TestHypothesis.TWO_TAIL, sig_level=0.1)"
   ]
  }
 ],
 "metadata": {
  "kernelspec": {
   "display_name": "Python 3 (ipykernel)",
   "language": "python",
   "name": "python3"
  },
  "language_info": {
   "codemirror_mode": {
    "name": "ipython",
    "version": 3
   },
   "file_extension": ".py",
   "mimetype": "text/x-python",
   "name": "python",
   "nbconvert_exporter": "python",
   "pygments_lexer": "ipython3",
   "version": "3.9.2"
  }
 },
 "nbformat": 4,
 "nbformat_minor": 5
}
