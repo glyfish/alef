{
 "cells": [
  {
   "cell_type": "markdown",
   "id": "48e9334d-fe44-4f8d-8dff-2518af25e3dc",
   "metadata": {
    "tags": []
   },
   "source": [
    "# MA(q)\n",
    "\n",
    "The moving average model of order $q$, denoted by $\\text{MA}(q)$, is defined by,\n",
    "\n",
    "$\n",
    "\\begin{align}\n",
    "X_t = \\sum_{i=1}^q \\vartheta_i \\varepsilon_{t-i} + \\varepsilon_t\n",
    "\\end{align}\n",
    "$\n",
    "\n",
    "where $\\varepsilon_t$ are independent and identically distributed random variables with distribution,\n",
    "\n",
    "$\n",
    "\\begin{align}\n",
    "\\varepsilon_i \\sim \\text{Normal}(0, \\sigma)\n",
    "\\end{align}\n",
    "$\n",
    "\n",
    "It follows that,\n",
    "\n",
    "$\n",
    "\\begin{align}\n",
    "&\\text{E}[\\varepsilon_t] = 0 \\\\\n",
    "&\\text{E}[\\varepsilon_t^2] = \\sigma^2 \\\\\n",
    "&\\text{E}[\\varepsilon_t \\varepsilon_s] = \\delta_{ts} \\sigma^2\n",
    "\\end{align}\n",
    "$\n",
    "\n",
    "For $\\text{MA}(q)$ it can be shown that,\n",
    "\n",
    "$\n",
    "\\begin{align}\n",
    "&\\text{E}[X_t] = 0 \\\\\n",
    "&\\text{E}[X_t^2] = \\nu^q_t = \\sigma^2 \\left( \\sum_{i=1}^q \\vartheta_i^2 + 1 \\right) \\\\\n",
    "&\\text{E}[X_t X_{t+n}] = \\sigma^2 \\left( \\sum_{i=i}^{q-n} \\vartheta_i \\vartheta_{i+n} + \\vartheta_n \\right)\n",
    "\\end{align}\n",
    "$\n",
    "\n",
    "The autocorrelation is defined by,\n",
    "\n",
    "$\n",
    "\\begin{align}\n",
    "\\rho_n = \\frac{\\text{E}[X_t X_{t+n}]}{\\text{E}[X_t^2]}\n",
    "\\end{align}\n",
    "$\n",
    "\n",
    "Note that $\\gamma_n$ is independent of $t$. This is in contrast to $\\text{AR}(1)$ which depends on $t$. Also, for</br>\n",
    "$n \\geq q$ it is seen that $\\gamma_n=0$.\n",
    "\n",
    "### Example $\\text{MA}(1)$\n",
    "\n",
    "First consider $\\text{MA}(1)$,\n",
    "\n",
    "$\n",
    "\\begin{align}\n",
    "X_t = \\varepsilon_t + \\vartheta_1 \\varepsilon_{t-1}\n",
    "\\end{align}\n",
    "$\n",
    "\n",
    "The moments are given by,\n",
    "\n",
    "$\n",
    "\\begin{align}\n",
    "&\\text{E}[X_t] = 0 \\\\\n",
    "&\\nu^1_t = \\sigma^2 \\left( \\vartheta_1^2 + 1 \\right) \\\\\n",
    "\\end{align}\n",
    "$\n",
    "\n",
    "For $n=1$,\n",
    "\n",
    "$\n",
    "\\begin{align}\n",
    "&\\text{E}[X_t X_{t+1}] = \\sigma^2 \\theta_1 \\\\\n",
    "&\\rho_1 = \\theta_1\n",
    "\\end{align}\n",
    "$\n",
    "\n",
    "and $n > 2$,\n",
    "\n",
    "$\n",
    "\\begin{align}\n",
    "&\\text{E}[X_t X_{t+2}] = 0 \\\\\n",
    "&\\rho_n = 0\n",
    "\\end{align}\n",
    "$\n",
    "\n",
    "### Example $\\text{MA}(2)$\n",
    "\n",
    "Next consider $\\text{MA}(2)$,\n",
    "\n",
    "$\n",
    "\\begin{align}\n",
    "X_t = \\varepsilon_t + \\vartheta_1 \\varepsilon_{t-1} + \\vartheta_2 \\varepsilon_{t-2} \n",
    "\\end{align}\n",
    "$\n",
    "\n",
    "The moments are given by,\n",
    "\n",
    "$\n",
    "\\begin{align}\n",
    "&\\text{E}[X_t] = 0 \\\\\n",
    "&\\nu^2_t = \\sigma^2 \\left( \\vartheta_1^2 + \\vartheta_2^2 + 1 \\right) \\\\\n",
    "\\end{align}\n",
    "$\n",
    "\n",
    "For $n=1$,\n",
    "\n",
    "$\n",
    "\\begin{align}\n",
    "&\\text{E}[X_t X_{t+1}] = \\sigma^2 \\left( \\vartheta_1 \\vartheta_2 + \\vartheta_1 \\right) \\\\\n",
    "&\\rho_1 = \\vartheta_1 \\vartheta_2 + \\vartheta_1 + \\vartheta_2\n",
    "\\end{align}\n",
    "$\n",
    "\n",
    "For $n=2$,\n",
    "\n",
    "$\n",
    "\\begin{align}\n",
    "&\\text{E}[X_t X_{t+1}] = \\sigma^2 \\vartheta_2 \\\\\n",
    "&\\rho_2 = \\vartheta_2\n",
    "\\end{align}\n",
    "$\n",
    "\n",
    "and $n>2$,\n",
    "\n",
    "$\n",
    "\\begin{align}\n",
    "&\\text{E}[X_t X_{t+1}] = 0 \\\\\n",
    "&\\rho_n = 0\n",
    "\\end{align}\n",
    "$\n",
    "\n",
    "### Relation to $\\text{AR}(1)$\n",
    "AR(1) is related to $\\text{MA}(\\infty)$. To see this consider $\\text{AR}(1)$,\n",
    "\n",
    "$\n",
    "\\begin{align}\n",
    "X_t = \\left( 1 - \\varphi L \\right)^{-1} \\varepsilon_t\n",
    "\\end{align}\n",
    "$\n",
    "\n",
    "where $L$ is the lag operator,\n",
    "\n",
    "$\n",
    "\\begin{align}\n",
    "&L X_t = X_{t-1} \\\\\n",
    "&L^2 X_t = X_{t-2} \\\\\n",
    "&L^3 X_t = X_{t-3} \\\\\n",
    "&\\vdots\n",
    "\\end{align}\n",
    "$\n",
    "\n",
    "In the limit $t \\to \\infty$ it can be shown that for $\\lvert \\varphi \\rvert < 1$,\n",
    "\n",
    "$\n",
    "\\begin{align}\n",
    "\\left( 1 - \\varphi L \\right)^{-1} = \\sum_{i = 0}^{\\infty} \\varphi^i L^i\n",
    "\\end{align}\n",
    "$\n",
    "\n",
    "It follows that,\n",
    "\n",
    "$\n",
    "\\begin{align}\n",
    "X_t = \\sum_{i=0}^{\\infty} \\varphi^i L^i \\varepsilon_t\n",
    "\\end{align}\n",
    "$\n",
    "\n",
    "which is $\\text{MA}(\\infty)$ with $\\vartheta_i = \\varphi^i$.\n"
   ]
  },
  {
   "cell_type": "markdown",
   "id": "0f8c4801-be92-4abb-8421-86b204acbbc9",
   "metadata": {},
   "source": [
    "## Imports"
   ]
  },
  {
   "cell_type": "code",
   "execution_count": 1,
   "id": "c0b85170-fa19-458f-9e7a-e3e5171d895a",
   "metadata": {},
   "outputs": [
    {
     "ename": "NameError",
     "evalue": "name 'sys' is not defined",
     "output_type": "error",
     "traceback": [
      "\u001b[0;31m---------------------------------------------------------------------------\u001b[0m",
      "\u001b[0;31mNameError\u001b[0m                                 Traceback (most recent call last)",
      "\u001b[0;32m/var/folders/hc/xc94zvls2pq_pw366sdbqlhr0000gn/T/ipykernel_58940/3584174148.py\u001b[0m in \u001b[0;36m<module>\u001b[0;34m\u001b[0m\n\u001b[1;32m      5\u001b[0m \u001b[0;32mfrom\u001b[0m \u001b[0mmatplotlib\u001b[0m \u001b[0;32mimport\u001b[0m \u001b[0mpyplot\u001b[0m\u001b[0;34m\u001b[0m\u001b[0;34m\u001b[0m\u001b[0m\n\u001b[1;32m      6\u001b[0m \u001b[0;34m\u001b[0m\u001b[0m\n\u001b[0;32m----> 7\u001b[0;31m \u001b[0msys\u001b[0m\u001b[0;34m.\u001b[0m\u001b[0mpath\u001b[0m\u001b[0;34m.\u001b[0m\u001b[0minsert\u001b[0m\u001b[0;34m(\u001b[0m\u001b[0;36m0\u001b[0m\u001b[0;34m,\u001b[0m \u001b[0mos\u001b[0m\u001b[0;34m.\u001b[0m\u001b[0mpath\u001b[0m\u001b[0;34m.\u001b[0m\u001b[0mabspath\u001b[0m\u001b[0;34m(\u001b[0m\u001b[0;34m'../..'\u001b[0m\u001b[0;34m)\u001b[0m\u001b[0;34m)\u001b[0m\u001b[0;34m\u001b[0m\u001b[0;34m\u001b[0m\u001b[0m\n\u001b[0m\u001b[1;32m      8\u001b[0m \u001b[0;34m\u001b[0m\u001b[0m\n\u001b[1;32m      9\u001b[0m \u001b[0;31m# import local modules\u001b[0m\u001b[0;34m\u001b[0m\u001b[0;34m\u001b[0m\u001b[0;34m\u001b[0m\u001b[0m\n",
      "\u001b[0;31mNameError\u001b[0m: name 'sys' is not defined"
     ]
    }
   ],
   "source": [
    "%reload_ext autoreload\n",
    "%autoreload 2\n",
    "\n",
    "# import system modules and set local import path\n",
    "import sys\n",
    "from matplotlib import pyplot\n",
    "\n",
    "sys.path.insert(0, os.path.abspath('../..'))\n",
    "\n",
    "# import local modules\n",
    "from lib import config\n",
    "from lib import (DataType, DataSchema, DataFunc, SourceType, DataSource)\n",
    "from lib import (stack, FuncPlotType, fpoints, fcurve)\n",
    "\n",
    "# Config Plot Style\n",
    "pyplot.style.use(config.glyfish_style)"
   ]
  },
  {
   "cell_type": "markdown",
   "id": "23fa06d6-ff6c-4e74-98f9-2fa466957834",
   "metadata": {},
   "source": [
    "## Helpers"
   ]
  },
  {
   "cell_type": "code",
   "execution_count": 2,
   "id": "061ec796-7630-43e7-a22d-e7cec862b1e8",
   "metadata": {},
   "outputs": [],
   "source": [
    "σ = 1\n",
    "nsample = 1000\n",
    "\n",
    "def ac_plot(θ, σ, nsample, nlags):\n",
    "    df = DataSource.create_source_type(SourceType.MA, θ=θ, σ=σ, xmax=nsample)\n",
    "    df = DataFunc.apply_func_type(df, DataType.ACF, nlags=nlags)\n",
    "    df = DataFunc.apply_func_type(df, DataType.MAQ_ACF, θ=θ, σ=σ, nlags=nlags)\n",
    "    fpoints(df, FuncPlotType.MAQ_ACF)\n",
    "    \n",
    "def comparison_plot(θ_vals, ylim, *params):\n",
    "    title = \"MA(q) Comparison Plot\"\n",
    "    labels = [f\"θ={val}\" for val in θ_vals] \n",
    "    scan = DataSource.create_parameter_scan(SourceType.MA, *params)\n",
    "    stack(scan, ylim=ylim, title=title, labels=labels, data_type=DataType.TIME_SERIES)\n",
    "\n",
    "def cumu_mean_plot(θ, σ, nsample):\n",
    "    ar = DataSource.create_source_type(SourceType.MA, θ=θ, σ=σ, xmax=nsample)\n",
    "    ar = DataFunc.apply_func_type(ar, DataType.CUMU_MEAN)\n",
    "    ar = DataFunc.apply_func_type(ar, DataType.ARMA_MEAN)\n",
    "    fcurve(ar, FuncPlotType.MAQ_CUMU_MEAN, title_offset=1.025)\n",
    "    \n",
    "def cumu_sd_plot(θ, σ, nsample):\n",
    "    ar = DataSource.create_source_type(SourceType.MA, θ=θ, σ=σ, xmax=nsample)\n",
    "    ar = DataFunc.apply_func_type(ar, DataType.CUMU_SD)\n",
    "    ar = DataFunc.apply_func_type(ar, DataType.MAQ_SD, θ=θ, σ=σ)\n",
    "    fcurve(ar, FuncPlotType.MAQ_CUMU_SD, title_offset=1.025)"
   ]
  },
  {
   "cell_type": "markdown",
   "id": "a41d7723-4649-4999-b2dc-2a5680b0c569",
   "metadata": {},
   "source": [
    "## Simulations"
   ]
  },
  {
   "cell_type": "code",
   "execution_count": 3,
   "id": "32a4beb6-f89c-4b88-8aa6-52d6f8b5d1d3",
   "metadata": {},
   "outputs": [],
   "source": [
    "θ_vals = [[0.2], [0.2, 0.4], [0.2, 0.4, 0.5]]\n",
    "params = [{\"θ\": θ, \"σ\": σ, \"xmax\": nsample} for θ in θ_vals]\n",
    "comparison_plot(θ_vals, [-3.0, 3.0], *params)"
   ]
  },
  {
   "cell_type": "code",
   "execution_count": 4,
   "id": "49255e33-6575-48df-9bd4-f3cd6b75208a",
   "metadata": {
    "tags": []
   },
   "outputs": [],
   "source": [
    "θ_vals = [[-0.2], [-0.2, -0.4], [0.2, -0.4, -0.5]]\n",
    "params = [{\"θ\": θ, \"σ\": σ, \"xmax\": nsample} for θ in θ_vals]\n",
    "comparison_plot(θ_vals, [-3.0, 3.0], *params)"
   ]
  },
  {
   "cell_type": "code",
   "execution_count": 5,
   "id": "ded3e4fd-2be2-4690-9517-2335f60634de",
   "metadata": {},
   "outputs": [],
   "source": [
    "θ_vals = [[2.4], [1.5, -1.5], [1.2, -3.4, -1.5]]\n",
    "params = [{\"θ\": θ, \"σ\": σ, \"xmax\": nsample} for θ in θ_vals]\n",
    "comparison_plot(θ_vals, [-10.0, 10.0], *params)"
   ]
  },
  {
   "cell_type": "markdown",
   "id": "8a1d971f-c5b5-4835-8ad2-8a27a028c3f5",
   "metadata": {},
   "source": [
    "## Mean"
   ]
  },
  {
   "cell_type": "code",
   "execution_count": 6,
   "id": "27f21cb7-ad04-4cdc-b099-ca5f5b82d002",
   "metadata": {},
   "outputs": [],
   "source": [
    "nsample = 100000\n",
    "θ = [2.4]\n",
    "cumu_mean_plot(θ, σ, nsample)"
   ]
  },
  {
   "cell_type": "code",
   "execution_count": 7,
   "id": "800e637a-6bbe-484c-89d4-506dc31b5d2b",
   "metadata": {
    "tags": []
   },
   "outputs": [],
   "source": [
    "nsample = 100000\n",
    "θ = [2.4, -0.9]\n",
    "cumu_mean_plot(θ, σ, nsample)"
   ]
  },
  {
   "cell_type": "code",
   "execution_count": 8,
   "id": "23feca17-f77a-487a-9fc5-b2562f372782",
   "metadata": {},
   "outputs": [],
   "source": [
    "nsample = 100000\n",
    "θ = [2.4, -0.9, 0.3]\n",
    "cumu_mean_plot(θ, σ, nsample)"
   ]
  },
  {
   "cell_type": "markdown",
   "id": "198104b5-0b02-4b63-9684-f196ebea7f03",
   "metadata": {},
   "source": [
    "## Standard Deviation"
   ]
  },
  {
   "cell_type": "code",
   "execution_count": 9,
   "id": "94ac571e-827e-4dd5-87d4-4987b6840d50",
   "metadata": {},
   "outputs": [],
   "source": [
    "θ = [2.4]\n",
    "nsample = 100000\n",
    "cumu_sd_plot(θ, σ, nsample)"
   ]
  },
  {
   "cell_type": "code",
   "execution_count": 10,
   "id": "e1f633a4-6186-4b73-9675-4973dff684e4",
   "metadata": {},
   "outputs": [],
   "source": [
    "θ = [2.4, -1.2]\n",
    "nsample = 100000\n",
    "cumu_sd_plot(θ, σ, nsample)"
   ]
  },
  {
   "cell_type": "code",
   "execution_count": 11,
   "id": "78ea4b3f-4589-4c4c-a9de-2878685622f2",
   "metadata": {},
   "outputs": [],
   "source": [
    "θ = [2.4, -1.2, 0.6]\n",
    "nsample = 100000\n",
    "cumu_sd_plot(θ, σ, nsample)"
   ]
  },
  {
   "cell_type": "markdown",
   "id": "6fb90d19-212d-4cb0-8404-2035992c75a7",
   "metadata": {},
   "source": [
    "## Autocorrelation"
   ]
  },
  {
   "cell_type": "code",
   "execution_count": 12,
   "id": "61feea00-566e-4263-90f1-63abec660b60",
   "metadata": {},
   "outputs": [],
   "source": [
    "θ = [0.2]\n",
    "lag = 11\n",
    "nsample = 50000\n",
    "ac_plot(θ, σ, nsample, lag)"
   ]
  },
  {
   "cell_type": "code",
   "execution_count": 13,
   "id": "25d04806-ca7a-4dc7-9912-42f10cd32911",
   "metadata": {},
   "outputs": [],
   "source": [
    "θ = [-0.2]\n",
    "lag = 11\n",
    "nsample = 50000\n",
    "ac_plot(θ, σ, nsample, lag)"
   ]
  },
  {
   "cell_type": "code",
   "execution_count": 14,
   "id": "d05a712e-1baa-41ef-aa6d-196d4aca714a",
   "metadata": {},
   "outputs": [],
   "source": [
    "θ = [0.4, 0.2]\n",
    "lag = 11\n",
    "nsample = 100000\n",
    "ac_plot(θ, σ, nsample, lag)"
   ]
  },
  {
   "cell_type": "code",
   "execution_count": 15,
   "id": "0d46ac1e-1cd6-451b-89cc-d6f13f1d0846",
   "metadata": {},
   "outputs": [],
   "source": [
    "θ = [0.2, -0.2]\n",
    "lag = 10\n",
    "nsample = 50000\n",
    "ac_plot(θ, σ, nsample, lag)"
   ]
  },
  {
   "cell_type": "code",
   "execution_count": 16,
   "id": "7993071d-6400-4856-be41-5256db228f05",
   "metadata": {},
   "outputs": [],
   "source": [
    "θ = [0.2, 0.3, 0.1]\n",
    "lag = 10\n",
    "nsample = 500000\n",
    "ac_plot(θ, σ, nsample, lag)"
   ]
  },
  {
   "cell_type": "code",
   "execution_count": 17,
   "id": "b3df1677-2895-4763-a697-314529c76208",
   "metadata": {},
   "outputs": [],
   "source": [
    "θ = [0.4, -0.2, -0.1]\n",
    "lag = 10\n",
    "nsample = 50000\n",
    "ac_plot(θ, σ, nsample, lag)"
   ]
  }
 ],
 "metadata": {
  "kernelspec": {
   "display_name": "Python 3 (ipykernel)",
   "language": "python",
   "name": "python3"
  },
  "language_info": {
   "codemirror_mode": {
    "name": "ipython",
    "version": 3
   },
   "file_extension": ".py",
   "mimetype": "text/x-python",
   "name": "python",
   "nbconvert_exporter": "python",
   "pygments_lexer": "ipython3",
   "version": "3.9.2"
  }
 },
 "nbformat": 4,
 "nbformat_minor": 5
}
