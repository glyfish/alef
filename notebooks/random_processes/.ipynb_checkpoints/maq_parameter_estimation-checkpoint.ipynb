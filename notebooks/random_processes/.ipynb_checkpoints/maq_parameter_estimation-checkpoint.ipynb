{
 "cells": [
  {
   "cell_type": "markdown",
   "id": "f0d66706-16fa-43cc-91a8-f4dda9dc320e",
   "metadata": {
    "tags": []
   },
   "source": [
    "# MA(q) Parameter Estimation\n",
    "\n",
    "The moving average model of order $q$, denoted by $\\text{MA}(q)$, is defined by,\n",
    "\n",
    "$\n",
    "\\begin{align}\n",
    "X_t = \\sum_{i=1}^q \\vartheta_i \\varepsilon_{t-i} + \\varepsilon_t\n",
    "\\end{align}\n",
    "$\n",
    "\n",
    "where $\\varepsilon_t$ are independent and identically distributed random variables with distribution,\n",
    "\n",
    "$\n",
    "\\begin{align}\n",
    "\\varepsilon_i \\sim \\text{Normal}(0, \\sigma)\n",
    "\\end{align}\n",
    "$\n",
    "\n",
    "It follows that,\n",
    "\n",
    "$\n",
    "\\begin{align}\n",
    "&\\text{E}[\\varepsilon_t] = 0 \\\\\n",
    "&\\text{E}[\\varepsilon_t^2] = \\sigma^2 \\\\\n",
    "&\\text{E}[\\varepsilon_t \\varepsilon_s] = \\delta_{ts} \\sigma^2\n",
    "\\end{align}\n",
    "$\n",
    "\n",
    "Here the $\\vartheta_i$ are estimated given an $MA(q)$ time series. "
   ]
  },
  {
   "cell_type": "markdown",
   "id": "d0e1b7e4-5d43-44e8-8998-8509a79a9649",
   "metadata": {},
   "source": [
    "## Includes"
   ]
  },
  {
   "cell_type": "code",
   "execution_count": 15,
   "id": "6eb4d6b2-0e5c-47d8-ab42-00fbb5873916",
   "metadata": {},
   "outputs": [],
   "source": [
    "%reload_ext autoreload\n",
    "%autoreload 2\n",
    "\n",
    "# import system modules and set local import path\n",
    "import os\n",
    "import sys\n",
    "import numpy\n",
    "from matplotlib import pyplot\n",
    "\n",
    "sys.path.insert(0, os.path.abspath('../..'))\n",
    "\n",
    "# import local modules\n",
    "from lib import plots\n",
    "from lib import config\n",
    "from lib import arima\n",
    "from lib import stats\n",
    "\n",
    "# Config Plot Style\n",
    "pyplot.style.use(config.glyfish_style)"
   ]
  },
  {
   "cell_type": "markdown",
   "id": "02290944-dc2b-44d4-a2da-774c7b146d0f",
   "metadata": {},
   "source": [
    "## Helpers"
   ]
  },
  {
   "cell_type": "code",
   "execution_count": 6,
   "id": "7e59fa6a-0293-4313-9d62-738a1fb24c13",
   "metadata": {},
   "outputs": [],
   "source": [
    "σ = 1"
   ]
  },
  {
   "cell_type": "markdown",
   "id": "0e14b6fb-906f-4269-9dc8-be1364259ef4",
   "metadata": {},
   "source": [
    "## Simulations"
   ]
  },
  {
   "cell_type": "code",
   "execution_count": 16,
   "id": "b9e8e599-2d5f-497e-89a1-467631df2fb3",
   "metadata": {},
   "outputs": [],
   "source": [
    "nsample = 1000\n",
    "\n",
    "θ1 = numpy.array([0.2])\n",
    "ma1 = arima.maq(θ1, nsample)\n",
    "\n",
    "θ2 = numpy.array([0.2, 0.4])\n",
    "ma2 = arima.maq(θ2, nsample)\n",
    "\n",
    "θ3 = numpy.array([0.2, 0.4, 0.5])\n",
    "ma3 = arima.maq(θ3, nsample)"
   ]
  },
  {
   "cell_type": "code",
   "execution_count": null,
   "id": "95d1f69b-93c0-4f0a-9718-1d28553d4779",
   "metadata": {},
   "outputs": [],
   "source": [
    "labels = [r\"$\\vartheta=$\"+f\"{numpy.array2string(θ1, precision=2, separator=',')}\",\n",
    "          r\"$\\vartheta=$\"+f\"{numpy.array2string(θ2, precision=2, separator=',')}\",\n",
    "          r\"$\\vartheta=$\"+f\"{numpy.array2string(θ3, precision=2, separator=',')}\"]\n",
    "title = \"ΜΑ(q) Comparison\"\n",
    "samples = numpy.array([ma1, ma2, ma3])\n",
    "plots.stack(samples, [-5.0, 5.0], labels, title)"
   ]
  },
  {
   "cell_type": "markdown",
   "id": "4f3ef0ac-1bc8-4b6e-878a-6f9c234a3033",
   "metadata": {
    "tags": []
   },
   "source": [
    "## Estimation of $\\text{MA}(q)$ Parameters\n",
    "\n",
    "$\\text{MA}(q)$ parameters are estimated using `statsmodels.tsa.arima_model.ARMA`"
   ]
  },
  {
   "cell_type": "markdown",
   "id": "feafe3f9-b5a6-49bc-b20b-10855dff2167",
   "metadata": {},
   "source": [
    "### $\\text{MA}(1)$ Example\n",
    "\n",
    "The parameter used in the $\\text{MA}(q)$ simulation is $\\varphi = 0.2$"
   ]
  },
  {
   "cell_type": "code",
   "execution_count": 19,
   "id": "2131ed66-09a4-4fdb-af62-019098a0c714",
   "metadata": {},
   "outputs": [
    {
     "data": {
      "text/plain": [
       "(array([1.        , 0.19776357]), array([0.07953037]))"
      ]
     },
     "execution_count": 19,
     "metadata": {},
     "output_type": "execute_result"
    }
   ],
   "source": [
    "results = arima.ma_estimate(ma1, 1)\n",
    "results.polynomial_ma, result.bse"
   ]
  },
  {
   "cell_type": "code",
   "execution_count": 20,
   "id": "d81e2120-f324-481c-beea-543d7a219e66",
   "metadata": {},
   "outputs": [
    {
     "data": {
      "text/html": [
       "<table class=\"simpletable\">\n",
       "<caption>SARIMAX Results</caption>\n",
       "<tr>\n",
       "  <th>Dep. Variable:</th>           <td>y</td>        <th>  No. Observations:  </th>   <td>1000</td>   \n",
       "</tr>\n",
       "<tr>\n",
       "  <th>Model:</th>            <td>ARIMA(0, 0, 1)</td>  <th>  Log Likelihood     </th> <td>-1418.858</td>\n",
       "</tr>\n",
       "<tr>\n",
       "  <th>Date:</th>            <td>Sat, 19 Mar 2022</td> <th>  AIC                </th> <td>2843.716</td> \n",
       "</tr>\n",
       "<tr>\n",
       "  <th>Time:</th>                <td>15:04:46</td>     <th>  BIC                </th> <td>2858.439</td> \n",
       "</tr>\n",
       "<tr>\n",
       "  <th>Sample:</th>                  <td>0</td>        <th>  HQIC               </th> <td>2849.312</td> \n",
       "</tr>\n",
       "<tr>\n",
       "  <th></th>                      <td> - 1000</td>     <th>                     </th>     <td> </td>    \n",
       "</tr>\n",
       "<tr>\n",
       "  <th>Covariance Type:</th>        <td>opg</td>       <th>                     </th>     <td> </td>    \n",
       "</tr>\n",
       "</table>\n",
       "<table class=\"simpletable\">\n",
       "<tr>\n",
       "     <td></td>       <th>coef</th>     <th>std err</th>      <th>z</th>      <th>P>|z|</th>  <th>[0.025</th>    <th>0.975]</th>  \n",
       "</tr>\n",
       "<tr>\n",
       "  <th>const</th>  <td>    0.0143</td> <td>    0.038</td> <td>    0.377</td> <td> 0.706</td> <td>   -0.060</td> <td>    0.089</td>\n",
       "</tr>\n",
       "<tr>\n",
       "  <th>ma.L1</th>  <td>    0.1978</td> <td>    0.032</td> <td>    6.259</td> <td> 0.000</td> <td>    0.136</td> <td>    0.260</td>\n",
       "</tr>\n",
       "<tr>\n",
       "  <th>sigma2</th> <td>    0.9998</td> <td>    0.048</td> <td>   20.640</td> <td> 0.000</td> <td>    0.905</td> <td>    1.095</td>\n",
       "</tr>\n",
       "</table>\n",
       "<table class=\"simpletable\">\n",
       "<tr>\n",
       "  <th>Ljung-Box (L1) (Q):</th>     <td>0.13</td> <th>  Jarque-Bera (JB):  </th> <td>3.99</td> \n",
       "</tr>\n",
       "<tr>\n",
       "  <th>Prob(Q):</th>                <td>0.71</td> <th>  Prob(JB):          </th> <td>0.14</td> \n",
       "</tr>\n",
       "<tr>\n",
       "  <th>Heteroskedasticity (H):</th> <td>1.02</td> <th>  Skew:              </th> <td>-0.06</td>\n",
       "</tr>\n",
       "<tr>\n",
       "  <th>Prob(H) (two-sided):</th>    <td>0.85</td> <th>  Kurtosis:          </th> <td>2.72</td> \n",
       "</tr>\n",
       "</table><br/><br/>Warnings:<br/>[1] Covariance matrix calculated using the outer product of gradients (complex-step)."
      ],
      "text/plain": [
       "<class 'statsmodels.iolib.summary.Summary'>\n",
       "\"\"\"\n",
       "                               SARIMAX Results                                \n",
       "==============================================================================\n",
       "Dep. Variable:                      y   No. Observations:                 1000\n",
       "Model:                 ARIMA(0, 0, 1)   Log Likelihood               -1418.858\n",
       "Date:                Sat, 19 Mar 2022   AIC                           2843.716\n",
       "Time:                        15:04:46   BIC                           2858.439\n",
       "Sample:                             0   HQIC                          2849.312\n",
       "                               - 1000                                         \n",
       "Covariance Type:                  opg                                         \n",
       "==============================================================================\n",
       "                 coef    std err          z      P>|z|      [0.025      0.975]\n",
       "------------------------------------------------------------------------------\n",
       "const          0.0143      0.038      0.377      0.706      -0.060       0.089\n",
       "ma.L1          0.1978      0.032      6.259      0.000       0.136       0.260\n",
       "sigma2         0.9998      0.048     20.640      0.000       0.905       1.095\n",
       "===================================================================================\n",
       "Ljung-Box (L1) (Q):                   0.13   Jarque-Bera (JB):                 3.99\n",
       "Prob(Q):                              0.71   Prob(JB):                         0.14\n",
       "Heteroskedasticity (H):               1.02   Skew:                            -0.06\n",
       "Prob(H) (two-sided):                  0.85   Kurtosis:                         2.72\n",
       "===================================================================================\n",
       "\n",
       "Warnings:\n",
       "[1] Covariance matrix calculated using the outer product of gradients (complex-step).\n",
       "\"\"\""
      ]
     },
     "execution_count": 20,
     "metadata": {},
     "output_type": "execute_result"
    }
   ],
   "source": [
    "results.summary()"
   ]
  },
  {
   "cell_type": "markdown",
   "id": "fdbdbfd5-454b-44d9-9b59-0d85fb7c663f",
   "metadata": {},
   "source": [
    "### $\\text{MA}(2)$ Example\n",
    "\n",
    "The parameter used in the $\\text{MA}(q)$ simulation is $\\varphi = [0.2, 0.4]$"
   ]
  },
  {
   "cell_type": "code",
   "execution_count": 23,
   "id": "ed9e1f61-6ce9-45ed-8600-2b3df3437b1f",
   "metadata": {},
   "outputs": [
    {
     "data": {
      "text/plain": [
       "(array([1.        , 0.23026805, 0.39547963]), array([0.07953037]))"
      ]
     },
     "execution_count": 23,
     "metadata": {},
     "output_type": "execute_result"
    }
   ],
   "source": [
    "results = arima.ma_estimate(ma2, 2)\n",
    "results.polynomial_ma, result.bse"
   ]
  },
  {
   "cell_type": "code",
   "execution_count": 24,
   "id": "7e307cd9-631c-4389-b88d-8cb23ecfe764",
   "metadata": {},
   "outputs": [
    {
     "data": {
      "text/html": [
       "<table class=\"simpletable\">\n",
       "<caption>SARIMAX Results</caption>\n",
       "<tr>\n",
       "  <th>Dep. Variable:</th>           <td>y</td>        <th>  No. Observations:  </th>   <td>1000</td>   \n",
       "</tr>\n",
       "<tr>\n",
       "  <th>Model:</th>            <td>ARIMA(0, 0, 2)</td>  <th>  Log Likelihood     </th> <td>-1379.659</td>\n",
       "</tr>\n",
       "<tr>\n",
       "  <th>Date:</th>            <td>Sat, 19 Mar 2022</td> <th>  AIC                </th> <td>2767.319</td> \n",
       "</tr>\n",
       "<tr>\n",
       "  <th>Time:</th>                <td>15:06:35</td>     <th>  BIC                </th> <td>2786.950</td> \n",
       "</tr>\n",
       "<tr>\n",
       "  <th>Sample:</th>                  <td>0</td>        <th>  HQIC               </th> <td>2774.780</td> \n",
       "</tr>\n",
       "<tr>\n",
       "  <th></th>                      <td> - 1000</td>     <th>                     </th>     <td> </td>    \n",
       "</tr>\n",
       "<tr>\n",
       "  <th>Covariance Type:</th>        <td>opg</td>       <th>                     </th>     <td> </td>    \n",
       "</tr>\n",
       "</table>\n",
       "<table class=\"simpletable\">\n",
       "<tr>\n",
       "     <td></td>       <th>coef</th>     <th>std err</th>      <th>z</th>      <th>P>|z|</th>  <th>[0.025</th>    <th>0.975]</th>  \n",
       "</tr>\n",
       "<tr>\n",
       "  <th>const</th>  <td>    0.0203</td> <td>    0.050</td> <td>    0.411</td> <td> 0.681</td> <td>   -0.077</td> <td>    0.117</td>\n",
       "</tr>\n",
       "<tr>\n",
       "  <th>ma.L1</th>  <td>    0.2303</td> <td>    0.029</td> <td>    7.841</td> <td> 0.000</td> <td>    0.173</td> <td>    0.288</td>\n",
       "</tr>\n",
       "<tr>\n",
       "  <th>ma.L2</th>  <td>    0.3955</td> <td>    0.030</td> <td>   13.241</td> <td> 0.000</td> <td>    0.337</td> <td>    0.454</td>\n",
       "</tr>\n",
       "<tr>\n",
       "  <th>sigma2</th> <td>    0.9241</td> <td>    0.042</td> <td>   22.107</td> <td> 0.000</td> <td>    0.842</td> <td>    1.006</td>\n",
       "</tr>\n",
       "</table>\n",
       "<table class=\"simpletable\">\n",
       "<tr>\n",
       "  <th>Ljung-Box (L1) (Q):</th>     <td>0.15</td> <th>  Jarque-Bera (JB):  </th> <td>0.28</td>\n",
       "</tr>\n",
       "<tr>\n",
       "  <th>Prob(Q):</th>                <td>0.70</td> <th>  Prob(JB):          </th> <td>0.87</td>\n",
       "</tr>\n",
       "<tr>\n",
       "  <th>Heteroskedasticity (H):</th> <td>1.03</td> <th>  Skew:              </th> <td>0.04</td>\n",
       "</tr>\n",
       "<tr>\n",
       "  <th>Prob(H) (two-sided):</th>    <td>0.82</td> <th>  Kurtosis:          </th> <td>2.97</td>\n",
       "</tr>\n",
       "</table><br/><br/>Warnings:<br/>[1] Covariance matrix calculated using the outer product of gradients (complex-step)."
      ],
      "text/plain": [
       "<class 'statsmodels.iolib.summary.Summary'>\n",
       "\"\"\"\n",
       "                               SARIMAX Results                                \n",
       "==============================================================================\n",
       "Dep. Variable:                      y   No. Observations:                 1000\n",
       "Model:                 ARIMA(0, 0, 2)   Log Likelihood               -1379.659\n",
       "Date:                Sat, 19 Mar 2022   AIC                           2767.319\n",
       "Time:                        15:06:35   BIC                           2786.950\n",
       "Sample:                             0   HQIC                          2774.780\n",
       "                               - 1000                                         \n",
       "Covariance Type:                  opg                                         \n",
       "==============================================================================\n",
       "                 coef    std err          z      P>|z|      [0.025      0.975]\n",
       "------------------------------------------------------------------------------\n",
       "const          0.0203      0.050      0.411      0.681      -0.077       0.117\n",
       "ma.L1          0.2303      0.029      7.841      0.000       0.173       0.288\n",
       "ma.L2          0.3955      0.030     13.241      0.000       0.337       0.454\n",
       "sigma2         0.9241      0.042     22.107      0.000       0.842       1.006\n",
       "===================================================================================\n",
       "Ljung-Box (L1) (Q):                   0.15   Jarque-Bera (JB):                 0.28\n",
       "Prob(Q):                              0.70   Prob(JB):                         0.87\n",
       "Heteroskedasticity (H):               1.03   Skew:                             0.04\n",
       "Prob(H) (two-sided):                  0.82   Kurtosis:                         2.97\n",
       "===================================================================================\n",
       "\n",
       "Warnings:\n",
       "[1] Covariance matrix calculated using the outer product of gradients (complex-step).\n",
       "\"\"\""
      ]
     },
     "execution_count": 24,
     "metadata": {},
     "output_type": "execute_result"
    }
   ],
   "source": [
    "results.summary()"
   ]
  },
  {
   "cell_type": "markdown",
   "id": "54b7132a-e2ad-46e0-bdde-02b75819d4a4",
   "metadata": {},
   "source": [
    "### $\\text{MA}(3)$ Example\n",
    "\n",
    "The parameter used in the $\\text{MA}(q)$ simulation is $\\varphi = [0.2, 0.4, 0.5]$"
   ]
  },
  {
   "cell_type": "code",
   "execution_count": 25,
   "id": "dec13bb8-a8de-43ee-8ba0-16c8d0b03201",
   "metadata": {},
   "outputs": [
    {
     "data": {
      "text/plain": [
       "(array([1.        , 0.21934146, 0.40387758, 0.51688763]), array([0.07953037]))"
      ]
     },
     "execution_count": 25,
     "metadata": {},
     "output_type": "execute_result"
    }
   ],
   "source": [
    "results = arima.ma_estimate(ma3, 3)\n",
    "results.polynomial_ma, result.bse"
   ]
  },
  {
   "cell_type": "code",
   "execution_count": 26,
   "id": "852bebf9-492c-4d59-b5fc-e0cf9cc95f26",
   "metadata": {},
   "outputs": [
    {
     "data": {
      "text/html": [
       "<table class=\"simpletable\">\n",
       "<caption>SARIMAX Results</caption>\n",
       "<tr>\n",
       "  <th>Dep. Variable:</th>           <td>y</td>        <th>  No. Observations:  </th>   <td>1000</td>   \n",
       "</tr>\n",
       "<tr>\n",
       "  <th>Model:</th>            <td>ARIMA(0, 0, 3)</td>  <th>  Log Likelihood     </th> <td>-1403.250</td>\n",
       "</tr>\n",
       "<tr>\n",
       "  <th>Date:</th>            <td>Sat, 19 Mar 2022</td> <th>  AIC                </th> <td>2816.501</td> \n",
       "</tr>\n",
       "<tr>\n",
       "  <th>Time:</th>                <td>15:10:16</td>     <th>  BIC                </th> <td>2841.040</td> \n",
       "</tr>\n",
       "<tr>\n",
       "  <th>Sample:</th>                  <td>0</td>        <th>  HQIC               </th> <td>2825.827</td> \n",
       "</tr>\n",
       "<tr>\n",
       "  <th></th>                      <td> - 1000</td>     <th>                     </th>     <td> </td>    \n",
       "</tr>\n",
       "<tr>\n",
       "  <th>Covariance Type:</th>        <td>opg</td>       <th>                     </th>     <td> </td>    \n",
       "</tr>\n",
       "</table>\n",
       "<table class=\"simpletable\">\n",
       "<tr>\n",
       "     <td></td>       <th>coef</th>     <th>std err</th>      <th>z</th>      <th>P>|z|</th>  <th>[0.025</th>    <th>0.975]</th>  \n",
       "</tr>\n",
       "<tr>\n",
       "  <th>const</th>  <td>   -0.0138</td> <td>    0.067</td> <td>   -0.206</td> <td> 0.837</td> <td>   -0.145</td> <td>    0.117</td>\n",
       "</tr>\n",
       "<tr>\n",
       "  <th>ma.L1</th>  <td>    0.2193</td> <td>    0.028</td> <td>    7.822</td> <td> 0.000</td> <td>    0.164</td> <td>    0.274</td>\n",
       "</tr>\n",
       "<tr>\n",
       "  <th>ma.L2</th>  <td>    0.4039</td> <td>    0.025</td> <td>   16.151</td> <td> 0.000</td> <td>    0.355</td> <td>    0.453</td>\n",
       "</tr>\n",
       "<tr>\n",
       "  <th>ma.L3</th>  <td>    0.5169</td> <td>    0.027</td> <td>   19.233</td> <td> 0.000</td> <td>    0.464</td> <td>    0.570</td>\n",
       "</tr>\n",
       "<tr>\n",
       "  <th>sigma2</th> <td>    0.9679</td> <td>    0.042</td> <td>   23.251</td> <td> 0.000</td> <td>    0.886</td> <td>    1.049</td>\n",
       "</tr>\n",
       "</table>\n",
       "<table class=\"simpletable\">\n",
       "<tr>\n",
       "  <th>Ljung-Box (L1) (Q):</th>     <td>0.17</td> <th>  Jarque-Bera (JB):  </th> <td>1.50</td> \n",
       "</tr>\n",
       "<tr>\n",
       "  <th>Prob(Q):</th>                <td>0.68</td> <th>  Prob(JB):          </th> <td>0.47</td> \n",
       "</tr>\n",
       "<tr>\n",
       "  <th>Heteroskedasticity (H):</th> <td>1.13</td> <th>  Skew:              </th> <td>-0.04</td>\n",
       "</tr>\n",
       "<tr>\n",
       "  <th>Prob(H) (two-sided):</th>    <td>0.27</td> <th>  Kurtosis:          </th> <td>3.17</td> \n",
       "</tr>\n",
       "</table><br/><br/>Warnings:<br/>[1] Covariance matrix calculated using the outer product of gradients (complex-step)."
      ],
      "text/plain": [
       "<class 'statsmodels.iolib.summary.Summary'>\n",
       "\"\"\"\n",
       "                               SARIMAX Results                                \n",
       "==============================================================================\n",
       "Dep. Variable:                      y   No. Observations:                 1000\n",
       "Model:                 ARIMA(0, 0, 3)   Log Likelihood               -1403.250\n",
       "Date:                Sat, 19 Mar 2022   AIC                           2816.501\n",
       "Time:                        15:10:16   BIC                           2841.040\n",
       "Sample:                             0   HQIC                          2825.827\n",
       "                               - 1000                                         \n",
       "Covariance Type:                  opg                                         \n",
       "==============================================================================\n",
       "                 coef    std err          z      P>|z|      [0.025      0.975]\n",
       "------------------------------------------------------------------------------\n",
       "const         -0.0138      0.067     -0.206      0.837      -0.145       0.117\n",
       "ma.L1          0.2193      0.028      7.822      0.000       0.164       0.274\n",
       "ma.L2          0.4039      0.025     16.151      0.000       0.355       0.453\n",
       "ma.L3          0.5169      0.027     19.233      0.000       0.464       0.570\n",
       "sigma2         0.9679      0.042     23.251      0.000       0.886       1.049\n",
       "===================================================================================\n",
       "Ljung-Box (L1) (Q):                   0.17   Jarque-Bera (JB):                 1.50\n",
       "Prob(Q):                              0.68   Prob(JB):                         0.47\n",
       "Heteroskedasticity (H):               1.13   Skew:                            -0.04\n",
       "Prob(H) (two-sided):                  0.27   Kurtosis:                         3.17\n",
       "===================================================================================\n",
       "\n",
       "Warnings:\n",
       "[1] Covariance matrix calculated using the outer product of gradients (complex-step).\n",
       "\"\"\""
      ]
     },
     "execution_count": 26,
     "metadata": {},
     "output_type": "execute_result"
    }
   ],
   "source": [
    "results.summary()"
   ]
  },
  {
   "cell_type": "markdown",
   "id": "43249789-5c1f-4d82-9dc4-b826481bd421",
   "metadata": {},
   "source": []
  }
 ],
 "metadata": {
  "kernelspec": {
   "display_name": "Python 3 (ipykernel)",
   "language": "python",
   "name": "python3"
  },
  "language_info": {
   "codemirror_mode": {
    "name": "ipython",
    "version": 3
   },
   "file_extension": ".py",
   "mimetype": "text/x-python",
   "name": "python",
   "nbconvert_exporter": "python",
   "pygments_lexer": "ipython3",
   "version": "3.9.2"
  }
 },
 "nbformat": 4,
 "nbformat_minor": 5
}
