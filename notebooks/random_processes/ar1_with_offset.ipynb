{
 "cells": [
  {
   "cell_type": "markdown",
   "id": "54f46067-8c64-46d4-bac1-289b333fa4f3",
   "metadata": {},
   "source": [
    "# $\\text{AR}(1)$ with Offset\n",
    "\n",
    "$\\text{AR}(1)$ with a constant offset is defined by,\n",
    "\n",
    "$\n",
    "\\begin{align}\n",
    "X_t = \\varphi X_{t-1} + \\mu^* + \\sigma \\varepsilon_t\n",
    "\\end{align}\n",
    "$\n",
    "\n",
    "where, $\\varepsilon \\sim \\text{Normal}(0,1)$\n",
    "\n",
    "The stationarity requires $\\lvert \\varphi \\rvert < 1$. The stationary mean and variance are given by,\n",
    "\n",
    "$\n",
    "\\begin{align}\n",
    "&\\lim_{t \\to \\infty} \\text{E}(X_t) = \\frac{\\mu^*}{1 - \\varphi} \\\\\n",
    "&\\lim_{t \\to \\infty} \\text{Var}(X_t) = \\frac{\\sigma^2}{1 - \\varphi^2}\n",
    "\\end{align}\n",
    "$\n",
    "\n",
    "It follows that $X_t$ has distribution,\n",
    "\n",
    "$\n",
    "\\begin{align}\n",
    "X_t \\sim \\text{Normal}\\left(  \\frac{\\mu}{1 - \\varphi} ,  \\frac{\\sigma^2}{1 - \\varphi^2} \\right)\n",
    "\\end{align}\n",
    "$\n"
   ]
  },
  {
   "cell_type": "markdown",
   "id": "50391aa9-f978-407c-8e72-0d543f6bc5ea",
   "metadata": {},
   "source": [
    "## Imports"
   ]
  },
  {
   "cell_type": "code",
   "execution_count": 7,
   "id": "1cf77232-aae3-4775-ad3c-08f947b78d3e",
   "metadata": {},
   "outputs": [],
   "source": [
    "%reload_ext autoreload\n",
    "%autoreload 2\n",
    "\n",
    "# import system modules and set local import path\n",
    "import os\n",
    "import sys\n",
    "import numpy\n",
    "from matplotlib import pyplot\n",
    "\n",
    "sys.path.insert(0, os.path.abspath('../..'))\n",
    "\n",
    "# import local modules\n",
    "from lib import config\n",
    "from lib.models import arima\n",
    "from lib.data.func import (DataFunc)\n",
    "from lib.data.schema import (DataType)\n",
    "from lib.plots.data import (DataPlotType, stack, curve)\n",
    "from lib.plots.func import (FuncPlotType, fcompare)\n",
    "from lib.plots.cumu import (CumuPlotType, cumulative)\n",
    "\n",
    "# Config Plot Style\n",
    "pyplot.style.use(config.glyfish_style)"
   ]
  },
  {
   "cell_type": "markdown",
   "id": "352bacdd-cf8b-4ecf-ac8f-3104bdea886b",
   "metadata": {},
   "source": [
    "## Helpers"
   ]
  },
  {
   "cell_type": "code",
   "execution_count": 8,
   "id": "a244259e-92d3-4292-8cf3-f125c3c33cd8",
   "metadata": {},
   "outputs": [],
   "source": [
    "σ = 1.0\n",
    "nsample = 1000\n",
    "\n",
    "def plot_labels_φ(φ):\n",
    "    return [f\"φ={val}\" for val in φ]\n",
    "\n",
    "def plot_labels_μ(μ):\n",
    "    return [r\"$μ^*=$\" + f\"{val}\" for val in μ]\n",
    "\n",
    "def ar1_series_φ(φ_vals, μ):\n",
    "    series = []\n",
    "    for φ in φ_vals:\n",
    "        series.append(arima.arp_offset([φ], μ, nsample, σ))\n",
    "    return series\n",
    "\n",
    "def ar1_series_μ(φ, μ_vals):\n",
    "    series = []\n",
    "    for μ in μ_vals:\n",
    "        series.append(arima.arp_offset([φ], μ, nsample, σ))\n",
    "    return series"
   ]
  },
  {
   "cell_type": "markdown",
   "id": "714ca40c-b2d5-42c6-aa00-4df7c7834612",
   "metadata": {},
   "source": [
    "## Simulation $\\varphi$ Scan"
   ]
  },
  {
   "cell_type": "code",
   "execution_count": 10,
   "id": "4d755ec7-b7f7-4fd6-bdcd-3362cf14e5c4",
   "metadata": {},
   "outputs": [
    {
     "ename": "TypeError",
     "evalue": "unbound method dict.keys() needs an argument",
     "output_type": "error",
     "traceback": [
      "\u001b[0;31m---------------------------------------------------------------------------\u001b[0m",
      "\u001b[0;31mTypeError\u001b[0m                                 Traceback (most recent call last)",
      "\u001b[0;32m/var/folders/hc/xc94zvls2pq_pw366sdbqlhr0000gn/T/ipykernel_35268/1856402302.py\u001b[0m in \u001b[0;36m<module>\u001b[0;34m\u001b[0m\n\u001b[1;32m      3\u001b[0m \u001b[0mφ\u001b[0m \u001b[0;34m=\u001b[0m \u001b[0mnumpy\u001b[0m\u001b[0;34m.\u001b[0m\u001b[0marray\u001b[0m\u001b[0;34m(\u001b[0m\u001b[0;34m[\u001b[0m\u001b[0;36m0.1\u001b[0m\u001b[0;34m,\u001b[0m \u001b[0;36m0.5\u001b[0m\u001b[0;34m,\u001b[0m \u001b[0;36m0.9\u001b[0m\u001b[0;34m]\u001b[0m\u001b[0;34m)\u001b[0m\u001b[0;34m\u001b[0m\u001b[0;34m\u001b[0m\u001b[0m\n\u001b[1;32m      4\u001b[0m \u001b[0mlabels\u001b[0m \u001b[0;34m=\u001b[0m \u001b[0mplot_labels_φ\u001b[0m\u001b[0;34m(\u001b[0m\u001b[0mφ\u001b[0m\u001b[0;34m)\u001b[0m\u001b[0;34m\u001b[0m\u001b[0;34m\u001b[0m\u001b[0m\n\u001b[0;32m----> 5\u001b[0;31m \u001b[0mseries\u001b[0m \u001b[0;34m=\u001b[0m \u001b[0mar1_series_φ\u001b[0m\u001b[0;34m(\u001b[0m\u001b[0mφ\u001b[0m\u001b[0;34m,\u001b[0m \u001b[0mμ\u001b[0m\u001b[0;34m)\u001b[0m\u001b[0;34m\u001b[0m\u001b[0;34m\u001b[0m\u001b[0m\n\u001b[0m\u001b[1;32m      6\u001b[0m \u001b[0mstack\u001b[0m\u001b[0;34m(\u001b[0m\u001b[0mseries\u001b[0m\u001b[0;34m,\u001b[0m \u001b[0mylim\u001b[0m\u001b[0;34m=\u001b[0m\u001b[0;34m[\u001b[0m\u001b[0;36m0.0\u001b[0m\u001b[0;34m,\u001b[0m \u001b[0;36m60.0\u001b[0m\u001b[0;34m]\u001b[0m\u001b[0;34m,\u001b[0m \u001b[0mtitle\u001b[0m\u001b[0;34m=\u001b[0m\u001b[0mtitle\u001b[0m\u001b[0;34m,\u001b[0m \u001b[0mlabels\u001b[0m\u001b[0;34m=\u001b[0m\u001b[0mlabels\u001b[0m\u001b[0;34m,\u001b[0m \u001b[0mplot_type\u001b[0m\u001b[0;34m=\u001b[0m\u001b[0mDataPlotType\u001b[0m\u001b[0;34m.\u001b[0m\u001b[0mTIME_SERIES\u001b[0m\u001b[0;34m)\u001b[0m\u001b[0;34m\u001b[0m\u001b[0;34m\u001b[0m\u001b[0m\n",
      "\u001b[0;32m/var/folders/hc/xc94zvls2pq_pw366sdbqlhr0000gn/T/ipykernel_35268/4288881534.py\u001b[0m in \u001b[0;36mar1_series_φ\u001b[0;34m(φ_vals, μ)\u001b[0m\n\u001b[1;32m     11\u001b[0m     \u001b[0mseries\u001b[0m \u001b[0;34m=\u001b[0m \u001b[0;34m[\u001b[0m\u001b[0;34m]\u001b[0m\u001b[0;34m\u001b[0m\u001b[0;34m\u001b[0m\u001b[0m\n\u001b[1;32m     12\u001b[0m     \u001b[0;32mfor\u001b[0m \u001b[0mφ\u001b[0m \u001b[0;32min\u001b[0m \u001b[0mφ_vals\u001b[0m\u001b[0;34m:\u001b[0m\u001b[0;34m\u001b[0m\u001b[0;34m\u001b[0m\u001b[0m\n\u001b[0;32m---> 13\u001b[0;31m         \u001b[0mseries\u001b[0m\u001b[0;34m.\u001b[0m\u001b[0mappend\u001b[0m\u001b[0;34m(\u001b[0m\u001b[0marima\u001b[0m\u001b[0;34m.\u001b[0m\u001b[0marp_offset\u001b[0m\u001b[0;34m(\u001b[0m\u001b[0;34m[\u001b[0m\u001b[0mφ\u001b[0m\u001b[0;34m]\u001b[0m\u001b[0;34m,\u001b[0m \u001b[0mμ\u001b[0m\u001b[0;34m,\u001b[0m \u001b[0mnsample\u001b[0m\u001b[0;34m,\u001b[0m \u001b[0mσ\u001b[0m\u001b[0;34m)\u001b[0m\u001b[0;34m)\u001b[0m\u001b[0;34m\u001b[0m\u001b[0;34m\u001b[0m\u001b[0m\n\u001b[0m\u001b[1;32m     14\u001b[0m     \u001b[0;32mreturn\u001b[0m \u001b[0mseries\u001b[0m\u001b[0;34m\u001b[0m\u001b[0;34m\u001b[0m\u001b[0m\n\u001b[1;32m     15\u001b[0m \u001b[0;34m\u001b[0m\u001b[0m\n",
      "\u001b[0;32m~/Develop/gly.fish/alef/lib/models/arima.py\u001b[0m in \u001b[0;36marp_offset\u001b[0;34m(φ, μ, n, σ)\u001b[0m\n\u001b[1;32m     82\u001b[0m \u001b[0;34m\u001b[0m\u001b[0m\n\u001b[1;32m     83\u001b[0m \u001b[0;32mdef\u001b[0m \u001b[0marp_offset\u001b[0m\u001b[0;34m(\u001b[0m\u001b[0mφ\u001b[0m\u001b[0;34m,\u001b[0m \u001b[0mμ\u001b[0m\u001b[0;34m,\u001b[0m \u001b[0mn\u001b[0m\u001b[0;34m,\u001b[0m \u001b[0mσ\u001b[0m\u001b[0;34m)\u001b[0m\u001b[0;34m:\u001b[0m\u001b[0;34m\u001b[0m\u001b[0;34m\u001b[0m\u001b[0m\n\u001b[0;32m---> 84\u001b[0;31m     \u001b[0;32mreturn\u001b[0m \u001b[0marp_drift\u001b[0m\u001b[0;34m(\u001b[0m\u001b[0mφ\u001b[0m\u001b[0;34m,\u001b[0m \u001b[0mμ\u001b[0m\u001b[0;34m,\u001b[0m \u001b[0;36m0.0\u001b[0m\u001b[0;34m,\u001b[0m \u001b[0mn\u001b[0m\u001b[0;34m,\u001b[0m \u001b[0mσ\u001b[0m\u001b[0;34m)\u001b[0m\u001b[0;34m\u001b[0m\u001b[0;34m\u001b[0m\u001b[0m\n\u001b[0m\u001b[1;32m     85\u001b[0m \u001b[0;34m\u001b[0m\u001b[0m\n\u001b[1;32m     86\u001b[0m \u001b[0;32mdef\u001b[0m \u001b[0marp_drift\u001b[0m\u001b[0;34m(\u001b[0m\u001b[0mφ\u001b[0m\u001b[0;34m,\u001b[0m \u001b[0mμ\u001b[0m\u001b[0;34m,\u001b[0m \u001b[0mγ\u001b[0m\u001b[0;34m,\u001b[0m \u001b[0mn\u001b[0m\u001b[0;34m,\u001b[0m \u001b[0mσ\u001b[0m\u001b[0;34m)\u001b[0m\u001b[0;34m:\u001b[0m\u001b[0;34m\u001b[0m\u001b[0;34m\u001b[0m\u001b[0m\n",
      "\u001b[0;32m~/Develop/gly.fish/alef/lib/models/arima.py\u001b[0m in \u001b[0;36marp_drift\u001b[0;34m(φ, μ, γ, n, σ)\u001b[0m\n\u001b[1;32m     92\u001b[0m         \u001b[0;32mfor\u001b[0m \u001b[0mj\u001b[0m \u001b[0;32min\u001b[0m \u001b[0mrange\u001b[0m\u001b[0;34m(\u001b[0m\u001b[0;36m0\u001b[0m\u001b[0;34m,\u001b[0m \u001b[0mp\u001b[0m\u001b[0;34m)\u001b[0m\u001b[0;34m:\u001b[0m\u001b[0;34m\u001b[0m\u001b[0;34m\u001b[0m\u001b[0m\n\u001b[1;32m     93\u001b[0m             \u001b[0msamples\u001b[0m\u001b[0;34m[\u001b[0m\u001b[0mi\u001b[0m\u001b[0;34m]\u001b[0m \u001b[0;34m+=\u001b[0m \u001b[0mφ\u001b[0m\u001b[0;34m[\u001b[0m\u001b[0mj\u001b[0m\u001b[0;34m]\u001b[0m \u001b[0;34m*\u001b[0m \u001b[0msamples\u001b[0m\u001b[0;34m[\u001b[0m\u001b[0mi\u001b[0m\u001b[0;34m-\u001b[0m\u001b[0;34m(\u001b[0m\u001b[0mj\u001b[0m\u001b[0;34m+\u001b[0m\u001b[0;36m1\u001b[0m\u001b[0;34m)\u001b[0m\u001b[0;34m]\u001b[0m\u001b[0;34m\u001b[0m\u001b[0;34m\u001b[0m\u001b[0m\n\u001b[0;32m---> 94\u001b[0;31m     \u001b[0;32mreturn\u001b[0m \u001b[0m_create_arma_simulation_data_frame\u001b[0m\u001b[0;34m(\u001b[0m\u001b[0msamples\u001b[0m\u001b[0;34m,\u001b[0m \u001b[0mφ\u001b[0m\u001b[0;34m,\u001b[0m \u001b[0;34m[\u001b[0m\u001b[0;34m]\u001b[0m\u001b[0;34m,\u001b[0m \u001b[0mμ\u001b[0m\u001b[0;34m,\u001b[0m \u001b[0mγ\u001b[0m\u001b[0;34m,\u001b[0m \u001b[0mn\u001b[0m\u001b[0;34m,\u001b[0m \u001b[0mσ\u001b[0m\u001b[0;34m)\u001b[0m\u001b[0;34m\u001b[0m\u001b[0;34m\u001b[0m\u001b[0m\n\u001b[0m\u001b[1;32m     95\u001b[0m \u001b[0;34m\u001b[0m\u001b[0m\n\u001b[1;32m     96\u001b[0m \u001b[0;32mdef\u001b[0m \u001b[0mar1\u001b[0m\u001b[0;34m(\u001b[0m\u001b[0mφ\u001b[0m\u001b[0;34m,\u001b[0m \u001b[0mn\u001b[0m\u001b[0;34m,\u001b[0m \u001b[0mσ\u001b[0m\u001b[0;34m=\u001b[0m\u001b[0;36m1.0\u001b[0m\u001b[0;34m)\u001b[0m\u001b[0;34m:\u001b[0m\u001b[0;34m\u001b[0m\u001b[0;34m\u001b[0m\u001b[0m\n",
      "\u001b[0;32m~/Develop/gly.fish/alef/lib/models/arima.py\u001b[0m in \u001b[0;36m_create_arma_simulation_data_frame\u001b[0;34m(xt, φ, θ, μ, γ, n, σ)\u001b[0m\n\u001b[1;32m    142\u001b[0m         \u001b[0;34m\"ylabel\"\u001b[0m\u001b[0;34m:\u001b[0m \u001b[0;34mr\"$S_t$\"\u001b[0m\u001b[0;34m\u001b[0m\u001b[0;34m\u001b[0m\u001b[0m\n\u001b[1;32m    143\u001b[0m     }\n\u001b[0;32m--> 144\u001b[0;31m     \u001b[0mdf\u001b[0m \u001b[0;34m=\u001b[0m \u001b[0mDataSchema\u001b[0m\u001b[0;34m.\u001b[0m\u001b[0mcreate_data_frame\u001b[0m\u001b[0;34m(\u001b[0m\u001b[0mt\u001b[0m\u001b[0;34m,\u001b[0m \u001b[0mxt\u001b[0m\u001b[0;34m,\u001b[0m \u001b[0mMetaData\u001b[0m\u001b[0;34m.\u001b[0m\u001b[0mfrom_dict\u001b[0m\u001b[0;34m(\u001b[0m\u001b[0mmeta_data\u001b[0m\u001b[0;34m)\u001b[0m\u001b[0;34m)\u001b[0m\u001b[0;34m\u001b[0m\u001b[0;34m\u001b[0m\u001b[0m\n\u001b[0m\u001b[1;32m    145\u001b[0m     \u001b[0mattrs\u001b[0m \u001b[0;34m=\u001b[0m \u001b[0mdf\u001b[0m\u001b[0;34m.\u001b[0m\u001b[0mattrs\u001b[0m\u001b[0;34m\u001b[0m\u001b[0;34m\u001b[0m\u001b[0m\n\u001b[1;32m    146\u001b[0m     \u001b[0mattrs\u001b[0m\u001b[0;34m[\u001b[0m\u001b[0;34m\"Date\"\u001b[0m\u001b[0;34m]\u001b[0m \u001b[0;34m=\u001b[0m \u001b[0mdatetime\u001b[0m\u001b[0;34m.\u001b[0m\u001b[0mnow\u001b[0m\u001b[0;34m(\u001b[0m\u001b[0;34m)\u001b[0m\u001b[0;34m.\u001b[0m\u001b[0mstrftime\u001b[0m\u001b[0;34m(\u001b[0m\u001b[0;34m\"%d/%m/%Y %H:%M:%S\"\u001b[0m\u001b[0;34m)\u001b[0m\u001b[0;34m\u001b[0m\u001b[0;34m\u001b[0m\u001b[0m\n",
      "\u001b[0;32m~/Develop/gly.fish/alef/lib/data/meta_data.py\u001b[0m in \u001b[0;36mfrom_dict\u001b[0;34m(meta_data)\u001b[0m\n\u001b[1;32m     90\u001b[0m             \u001b[0mtests\u001b[0m \u001b[0;34m=\u001b[0m \u001b[0;34m{\u001b[0m\u001b[0;34m}\u001b[0m\u001b[0;34m\u001b[0m\u001b[0;34m\u001b[0m\u001b[0m\n\u001b[1;32m     91\u001b[0m \u001b[0;34m\u001b[0m\u001b[0m\n\u001b[0;32m---> 92\u001b[0;31m         return MetaData(\n\u001b[0m\u001b[1;32m     93\u001b[0m             \u001b[0mnpts\u001b[0m\u001b[0;34m=\u001b[0m\u001b[0mmeta_data\u001b[0m\u001b[0;34m[\u001b[0m\u001b[0;34m\"npts\"\u001b[0m\u001b[0;34m]\u001b[0m\u001b[0;34m,\u001b[0m\u001b[0;34m\u001b[0m\u001b[0;34m\u001b[0m\u001b[0m\n\u001b[1;32m     94\u001b[0m             \u001b[0mdata_type\u001b[0m\u001b[0;34m=\u001b[0m\u001b[0mmeta_data\u001b[0m\u001b[0;34m[\u001b[0m\u001b[0;34m\"DataType\"\u001b[0m\u001b[0;34m]\u001b[0m\u001b[0;34m,\u001b[0m\u001b[0;34m\u001b[0m\u001b[0;34m\u001b[0m\u001b[0m\n",
      "\u001b[0;32m~/Develop/gly.fish/alef/lib/data/meta_data.py\u001b[0m in \u001b[0;36m__init__\u001b[0;34m(self, npts, data_type, params, desc, xlabel, ylabel, ests, tests, source_schema)\u001b[0m\n\u001b[1;32m     28\u001b[0m           \u001b[0;34m\"xlabel\"\u001b[0m\u001b[0;34m:\u001b[0m \u001b[0mxlabel\u001b[0m\u001b[0;34m,\u001b[0m\u001b[0;34m\u001b[0m\u001b[0;34m\u001b[0m\u001b[0m\n\u001b[1;32m     29\u001b[0m           \u001b[0;34m\"SourceSchema\"\u001b[0m\u001b[0;34m:\u001b[0m \u001b[0msource_schema\u001b[0m\u001b[0;34m,\u001b[0m\u001b[0;34m\u001b[0m\u001b[0;34m\u001b[0m\u001b[0m\n\u001b[0;32m---> 30\u001b[0;31m           \u001b[0;34m\"Estimates\"\u001b[0m\u001b[0;34m:\u001b[0m \u001b[0mcreate_dict_from_estimates\u001b[0m\u001b[0;34m(\u001b[0m\u001b[0mests\u001b[0m\u001b[0;34m)\u001b[0m\u001b[0;34m,\u001b[0m\u001b[0;34m\u001b[0m\u001b[0;34m\u001b[0m\u001b[0m\n\u001b[0m\u001b[1;32m     31\u001b[0m           \u001b[0;34m\"Tests\"\u001b[0m\u001b[0;34m:\u001b[0m \u001b[0mcreate_dict_from_tests\u001b[0m\u001b[0;34m(\u001b[0m\u001b[0mtests\u001b[0m\u001b[0;34m)\u001b[0m\u001b[0;34m\u001b[0m\u001b[0;34m\u001b[0m\u001b[0m\n\u001b[1;32m     32\u001b[0m         }\n",
      "\u001b[0;32m~/Develop/gly.fish/alef/lib/data/est.py\u001b[0m in \u001b[0;36mcreate_dict_from_estimates\u001b[0;34m(ests)\u001b[0m\n\u001b[1;32m     90\u001b[0m \u001b[0;32mdef\u001b[0m \u001b[0mcreate_dict_from_estimates\u001b[0m\u001b[0;34m(\u001b[0m\u001b[0mests\u001b[0m\u001b[0;34m)\u001b[0m\u001b[0;34m:\u001b[0m\u001b[0;34m\u001b[0m\u001b[0;34m\u001b[0m\u001b[0m\n\u001b[1;32m     91\u001b[0m     \u001b[0mresult\u001b[0m \u001b[0;34m=\u001b[0m \u001b[0;34m{\u001b[0m\u001b[0;34m}\u001b[0m\u001b[0;34m\u001b[0m\u001b[0;34m\u001b[0m\u001b[0m\n\u001b[0;32m---> 92\u001b[0;31m     \u001b[0;32mfor\u001b[0m \u001b[0mkey\u001b[0m \u001b[0;32min\u001b[0m \u001b[0mdict\u001b[0m\u001b[0;34m.\u001b[0m\u001b[0mkeys\u001b[0m\u001b[0;34m(\u001b[0m\u001b[0;34m)\u001b[0m\u001b[0;34m:\u001b[0m\u001b[0;34m\u001b[0m\u001b[0;34m\u001b[0m\u001b[0m\n\u001b[0m\u001b[1;32m     93\u001b[0m         \u001b[0mresult\u001b[0m\u001b[0;34m[\u001b[0m\u001b[0mkey\u001b[0m\u001b[0;34m]\u001b[0m \u001b[0;34m=\u001b[0m \u001b[0mests\u001b[0m\u001b[0;34m[\u001b[0m\u001b[0mkey\u001b[0m\u001b[0;34m]\u001b[0m\u001b[0;34m.\u001b[0m\u001b[0mdata\u001b[0m\u001b[0;34m\u001b[0m\u001b[0;34m\u001b[0m\u001b[0m\n\u001b[1;32m     94\u001b[0m     \u001b[0;32mreturn\u001b[0m \u001b[0mresult\u001b[0m\u001b[0;34m\u001b[0m\u001b[0;34m\u001b[0m\u001b[0m\n",
      "\u001b[0;31mTypeError\u001b[0m: unbound method dict.keys() needs an argument"
     ]
    }
   ],
   "source": [
    "μ = 5.0\n",
    "title = f\"AR(1) Series Comparison φ Scan: σ={σ}, \" + r\"$μ^*$=\" + f\"{μ}\"\n",
    "φ = numpy.array([0.1, 0.5, 0.9])\n",
    "labels = plot_labels_φ(φ) \n",
    "series = ar1_series_φ(φ, μ)\n",
    "stack(series, ylim=[0.0, 60.0], title=title, labels=labels, plot_type=DataPlotType.TIME_SERIES)"
   ]
  },
  {
   "cell_type": "code",
   "execution_count": null,
   "id": "c4daceb6-701e-4609-8364-44c1d38ae7d7",
   "metadata": {},
   "outputs": [],
   "source": [
    "μ = 5.0\n",
    "title = f\"AR(1) Series Comparison φ Scan: σ={σ}, \" + r\"$μ^*$=\" + f\"{μ}\"\n",
    "φ = numpy.array([-0.1, -0.5, -0.9])\n",
    "labels = plot_labels_φ(φ) \n",
    "series = ar1_series_φ(φ, μ)\n",
    "stack(series, ylim=[-5.0, 10.0], title=title, labels=labels, plot_type=DataPlotType.TIME_SERIES)"
   ]
  },
  {
   "cell_type": "markdown",
   "id": "d2e3a5d4-37d0-4e80-8df1-527225fc756a",
   "metadata": {},
   "source": [
    "## Simulation $\\mu^*$ Scan"
   ]
  },
  {
   "cell_type": "code",
   "execution_count": null,
   "id": "8b183d1a-edef-4a49-80aa-3da9b27cfffa",
   "metadata": {},
   "outputs": [],
   "source": [
    "φ = 0.5\n",
    "title = f\"AR(1) Series Comparison \" + r\"$\\mu^*$\" + \" Scan: σ={σ}, φ={φ}\"\n",
    "μ = numpy.array([2.0, 5.0, 10.0])\n",
    "labels = plot_labels_μ(μ) \n",
    "series = ar1_series_μ(φ, μ)\n",
    "stack(series, ylim=[0.0, 25.0], title=title, labels=labels, plot_type=DataPlotType.TIME_SERIES)"
   ]
  },
  {
   "cell_type": "code",
   "execution_count": null,
   "id": "552269b1-d373-449e-b037-ac03c14c3bd3",
   "metadata": {},
   "outputs": [],
   "source": [
    "φ = 0.5\n",
    "title = f\"AR(1) Series Comparison \" + r\"$\\mu^*$\" + \" Scan: σ={σ}, φ={φ}\"\n",
    "μ = numpy.array([-2.0, -5.0, -10.0])\n",
    "labels = plot_labels_μ(μ) \n",
    "series = ar1_series_μ(φ, μ)\n",
    "stack(series, ylim=[-25.0, 5.0], title=title, labels=labels, plot_type=DataPlotType.TIME_SERIES)"
   ]
  },
  {
   "cell_type": "markdown",
   "id": "9bf21a16-21ea-422a-b526-69fae8c27d9a",
   "metadata": {},
   "source": [
    "## Mean"
   ]
  },
  {
   "cell_type": "code",
   "execution_count": null,
   "id": "1974c586-97db-4cbb-89b8-afa218e5f4fc",
   "metadata": {},
   "outputs": [],
   "source": [
    "φ = 0.9\n",
    "μ = 5.0\n",
    "nsample = 100000\n",
    "title = f\"AR(1) Cumulative Mean σ={σ}, φ={φ}, \" + r\"$\\mu^*=$\" + f\"{μ}\"\n",
    "data = DataFunc.apply_func_type(arima.arp_offset([φ], μ, nsample, σ), DataType.CUMU_MEAN)\n",
    "cumulative(data, CumuPlotType.AR1_OFFSET_MEAN, title=title, title_offset=1.025, φ=φ, μ=μ)"
   ]
  },
  {
   "cell_type": "code",
   "execution_count": null,
   "id": "575a5db5-19c2-4df5-9024-23a1aead8ebe",
   "metadata": {},
   "outputs": [],
   "source": [
    "φ = 0.5\n",
    "μ = 5.0\n",
    "nsample = 100000\n",
    "title = f\"AR(1) Cumulative Mean σ={σ}, φ={φ}, \" + r\"$\\mu^*=$\" + f\"{μ}\"\n",
    "data = DataFunc.apply_func_type(arima.arp_offset([φ], μ, nsample, σ), DataType.CUMU_MEAN)\n",
    "cumulative(data, CumuPlotType.AR1_OFFSET_MEAN, title=title, title_offset=1.025, φ=φ, μ=μ)"
   ]
  },
  {
   "cell_type": "code",
   "execution_count": null,
   "id": "7a22efef-30ed-4fde-a6ff-6ec1ded562a8",
   "metadata": {},
   "outputs": [],
   "source": [
    "φ = 0.1\n",
    "μ = 5.0\n",
    "nsample = 100000\n",
    "title = f\"AR(1) Cumulative Mean σ={σ}, φ={φ}, \" + r\"$\\mu^*=$\" + f\"{μ}\"\n",
    "data = DataFunc.apply_func_type(arima.arp_offset([φ], μ, nsample, σ), DataType.CUMU_MEAN)\n",
    "cumulative(data, CumuPlotType.AR1_OFFSET_MEAN, title=title, title_offset=1.025, φ=φ, μ=μ)"
   ]
  },
  {
   "cell_type": "code",
   "execution_count": null,
   "id": "00ad5222-475c-471c-bd42-deb74cdc5b9c",
   "metadata": {},
   "outputs": [],
   "source": [
    "φ = -0.9\n",
    "μ = 5.0\n",
    "nsample = 100000\n",
    "title = f\"AR(1) Cumulative Mean σ={σ}, φ={φ}, \" + r\"$\\mu^*=$\" + f\"{μ}\"\n",
    "data = DataFunc.apply_func_type(arima.arp_offset([φ], μ, nsample, σ), DataType.CUMU_MEAN)\n",
    "cumulative(data, CumuPlotType.AR1_OFFSET_MEAN, title=title, title_offset=1.025, φ=φ, μ=μ)"
   ]
  },
  {
   "cell_type": "markdown",
   "id": "2deefce6-4b12-4639-81e6-9f67555ba8ae",
   "metadata": {},
   "source": [
    "## Standard Deviation"
   ]
  },
  {
   "cell_type": "code",
   "execution_count": null,
   "id": "3a950b78-3e42-42e8-a5f5-21d5589ee3ee",
   "metadata": {},
   "outputs": [],
   "source": [
    "φ = 0.9\n",
    "nsample = 100000\n",
    "title = f\"AR(1) Cumulative Standard Deviation σ={σ}, φ={φ}, \" + r\"$\\mu^*=$\" + f\"{μ}\"\n",
    "data = DataFunc.apply_func_type(arima.arp_offset([φ], μ, nsample, σ), DataType.CUMU_SD)\n",
    "cumulative(data, CumuPlotType.AR1_OFFSET_SD, title=title, title_offset=1.025, φ=φ, μ=μ)"
   ]
  },
  {
   "cell_type": "code",
   "execution_count": null,
   "id": "bbe7af86-67ea-4c27-9dc9-d3deff6cc15a",
   "metadata": {},
   "outputs": [],
   "source": [
    "φ = 0.5\n",
    "nsample = 100000\n",
    "title = f\"AR(1) Cumulative Standard Deviation σ={σ}, φ={φ}, \" + r\"$\\mu^*=$\" + f\"{μ}\"\n",
    "data = DataFunc.apply_func_type(arima.arp_offset([φ], μ, nsample, σ), DataType.CUMU_SD)\n",
    "cumulative(data, CumuPlotType.AR1_OFFSET_SD, title=title, title_offset=1.025, φ=φ, μ=μ)"
   ]
  },
  {
   "cell_type": "code",
   "execution_count": null,
   "id": "55646fb5-47b2-4f67-a804-24cea0b5f14a",
   "metadata": {},
   "outputs": [],
   "source": [
    "φ = 0.2\n",
    "nsample = 100000\n",
    "title = f\"AR(1) Cumulative Standard Deviation σ={σ}, φ={φ}, \" + r\"$\\mu^*=$\" + f\"{μ}\"\n",
    "data = DataFunc.apply_func_type(arima.arp_offset([φ], μ, nsample, σ), DataType.CUMU_SD)\n",
    "cumulative(data, CumuPlotType.AR1_OFFSET_SD, title=title, title_offset=1.025, φ=φ, μ=μ)"
   ]
  },
  {
   "cell_type": "markdown",
   "id": "6e0ccc6f-e7a7-4261-8b50-b28cdd7b28de",
   "metadata": {
    "tags": []
   },
   "source": [
    "## Parameter Estimation"
   ]
  },
  {
   "cell_type": "code",
   "execution_count": null,
   "id": "68e887b4-5792-4fc6-8f72-9d623d794c5c",
   "metadata": {},
   "outputs": [],
   "source": [
    "φ = 0.5\n",
    "μ = 5.0\n",
    "σ = 2.0\n",
    "nsample = 1000\n",
    "df = arima.arp_offset([φ], μ, nsample, σ)\n",
    "title = f\"AR(1) σ={σ}, φ={φ}, \" + r\"$\\mu^*$=\" + f\"{μ},\" + r\" $\\mu$=\" + f\"{format(μ/(1.0-φ), '4.2f')}\"\n",
    "curve(df, plot_type=DataPlotType.TIME_SERIES, title=title)"
   ]
  },
  {
   "cell_type": "code",
   "execution_count": null,
   "id": "f6f23083-66ba-4b3e-96bb-94f677c52b16",
   "metadata": {
    "tags": []
   },
   "outputs": [],
   "source": [
    "results = arima.ar_offset_fit(df, 1)\n",
    "results.summary()"
   ]
  },
  {
   "cell_type": "code",
   "execution_count": null,
   "id": "7dfc1a9f-0536-4995-a963-2decff4f2497",
   "metadata": {},
   "outputs": [],
   "source": [
    "print(df.attrs)"
   ]
  },
  {
   "cell_type": "code",
   "execution_count": null,
   "id": "3e29faa8-9265-494d-a306-0b8a4cdd8d98",
   "metadata": {},
   "outputs": [],
   "source": [
    "φ = 0.9\n",
    "μ = 10.0\n",
    "σ = 5.0\n",
    "nsample = 1000\n",
    "title = f\"AR(1) σ={σ}, φ={φ}, \" + r\"$\\mu^*=$\" + f\"{μ},\" + r\" $\\mu$=\" + f\"{format(μ/(1.0-φ), '4.2f')}\"\n",
    "df = arima.arp_offset([φ], μ, nsample, σ)\n",
    "curve(df, plot_type=DataPlotType.TIME_SERIES, title=title)"
   ]
  },
  {
   "cell_type": "code",
   "execution_count": null,
   "id": "84247548-0ae9-4396-9134-84436c134046",
   "metadata": {},
   "outputs": [],
   "source": [
    "results = arima.ar_offset_fit(df, 1)\n",
    "results.summary()"
   ]
  },
  {
   "cell_type": "code",
   "execution_count": null,
   "id": "2ac8e69a-efef-4ee3-afd2-4daba9bc8399",
   "metadata": {},
   "outputs": [],
   "source": [
    "print(df.attrs)"
   ]
  },
  {
   "cell_type": "code",
   "execution_count": null,
   "id": "df538d23-4f68-45f2-afa2-fce49467a5bc",
   "metadata": {},
   "outputs": [],
   "source": [
    "φ = -0.5\n",
    "μ = 5.0\n",
    "nsample = 1000\n",
    "title = f\"AR(1) σ={σ}, φ={φ}, \" + r\"$\\mu^*=$\" + f\"{μ},\" + r\" $\\mu$=\" + f\"{format(μ/(1.0-φ), '4.2f')}\"\n",
    "df = arima.arp_offset([φ], μ, nsample, σ)\n",
    "curve(df, plot_type=DataPlotType.TIME_SERIES, title=title)"
   ]
  },
  {
   "cell_type": "code",
   "execution_count": null,
   "id": "53ec81c4-3316-406c-9aaf-ff24143b6dcf",
   "metadata": {},
   "outputs": [],
   "source": [
    "results = arima.ar_offset_fit(df, 1)\n",
    "results.summary()"
   ]
  },
  {
   "cell_type": "code",
   "execution_count": null,
   "id": "edb8acdf-fe1c-4170-9aec-c970ee402d8b",
   "metadata": {},
   "outputs": [],
   "source": [
    "print(df.attrs)"
   ]
  }
 ],
 "metadata": {
  "kernelspec": {
   "display_name": "Python 3 (ipykernel)",
   "language": "python",
   "name": "python3"
  },
  "language_info": {
   "codemirror_mode": {
    "name": "ipython",
    "version": 3
   },
   "file_extension": ".py",
   "mimetype": "text/x-python",
   "name": "python",
   "nbconvert_exporter": "python",
   "pygments_lexer": "ipython3",
   "version": "3.9.2"
  }
 },
 "nbformat": 4,
 "nbformat_minor": 5
}
