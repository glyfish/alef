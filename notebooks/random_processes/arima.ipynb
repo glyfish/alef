{
 "cells": [
  {
   "cell_type": "markdown",
   "id": "bea85cd0-3a67-49f7-9b31-b85dd8f90002",
   "metadata": {},
   "source": [
    "# $\\text{ARIMA}(p,d,q)$\n",
    "\n",
    "ARIMA stands for Auto Regressive Integrated Moving Average. The intent of $\\text{ARIMA}(p,d,q)$ is to construct a stationary, $\\text{ARMA}(p,q)$</br>\n",
    "time series from a non-stationary time series by differencing $d$ times. Recall that an $\\text{ARMA}(p,q)$ process is defined by,\n",
    "\n",
    "$\n",
    "\\begin{align}\n",
    "X_t = \\varepsilon_t + \\sum_{i=1}^p \\varphi_i X_{t-i} + \\sum_{i=1}^q \\vartheta_i \\varepsilon_{t-i}\n",
    "\\end{align}\n",
    "$\n",
    "\n",
    "In terms of the lag operator $L X_t = X_{t-1}, L^2 X_t = X_{t-2}, L^3 X_t = X_{t-3}, \\ldots$, The $\\text{ARMA}(p,q)$ model can be written as,\n",
    "\n",
    "$\n",
    "\\begin{align}\n",
    "\\left( 1 - \\sum_{i=1}^p \\varphi_i L^i \\right) X_t = \\left( 1  + \\sum_{i=1}^q \\vartheta_i L^i \\right)\\varepsilon_{t}\n",
    "\\end{align}\n",
    "$\n",
    "\n",
    "The difference operator is given by $\\Delta = (1 - L)$. If $X_t$ is stationary after $d$ differences it follows that $\\left( 1 - L \\right)^d X_t$ is stationary. This is the definition of integration order.</br> \n",
    "Thus, $\\text{ARIMA}(p,d,q)$ can be written as,\n",
    "\n",
    "$\n",
    "\\begin{align}\n",
    "\\left( 1 - \\sum_{i=1}^p \\varphi_i L^i \\right) \\left( 1 - L \\right)^d X_t = \\left( 1  + \\sum_{i=1}^q \\vartheta_i L^i \\right)\\varepsilon_{t}\n",
    "\\end{align}\n",
    "$\n",
    "\n",
    "The procedure followed to determine the order and coefficients of an $\\text{ARIMA}(p,d,q)$ series is as follows.\n",
    "\n",
    "1. Use ADF test to determine if series is stationary. To determine $d$ difference series until ADF test fails.\n",
    "2. User PACF/ACF analysis to determine $p$ and $q$.\n",
    "3. Perform regression on differenced series to determine coefficients."
   ]
  },
  {
   "cell_type": "markdown",
   "id": "678f2f87-053c-47d2-ab69-e7e2581211d5",
   "metadata": {},
   "source": [
    "## Includes"
   ]
  },
  {
   "cell_type": "code",
   "execution_count": 1,
   "id": "5fbd4d47-4ccf-4903-ab04-bc267933aaeb",
   "metadata": {},
   "outputs": [
    {
     "name": "stderr",
     "output_type": "stream",
     "text": [
      "/Users/troy/.pyenv/versions/gly.fish.3.9.2/lib/python3.9/site-packages/pandas/compat/__init__.py:109: UserWarning: Could not import the lzma module. Your installed Python is incomplete. Attempting to use lzma compression will result in a RuntimeError.\n",
      "  warnings.warn(msg)\n"
     ]
    },
    {
     "ename": "SyntaxError",
     "evalue": "invalid syntax (meta_data.py, line 746)",
     "output_type": "error",
     "traceback": [
      "Traceback \u001b[0;36m(most recent call last)\u001b[0m:\n",
      "  File \u001b[1;32m\"/Users/troy/.pyenv/versions/gly.fish.3.9.2/lib/python3.9/site-packages/IPython/core/interactiveshell.py\"\u001b[0m, line \u001b[1;32m3441\u001b[0m, in \u001b[1;35mrun_code\u001b[0m\n    exec(code_obj, self.user_global_ns, self.user_ns)\n",
      "  File \u001b[1;32m\"/var/folders/hc/xc94zvls2pq_pw366sdbqlhr0000gn/T/ipykernel_51608/2870017779.py\"\u001b[0m, line \u001b[1;32m13\u001b[0m, in \u001b[1;35m<module>\u001b[0m\n    from lib import config\n",
      "  File \u001b[1;32m\"/Users/troy/Develop/gly.fish/alef/lib/__init__.py\"\u001b[0m, line \u001b[1;32m1\u001b[0m, in \u001b[1;35m<module>\u001b[0m\n    from lib.plots.axis import (PlotType)\n",
      "  File \u001b[1;32m\"/Users/troy/Develop/gly.fish/alef/lib/plots/__init__.py\"\u001b[0m, line \u001b[1;32m1\u001b[0m, in \u001b[1;35m<module>\u001b[0m\n    from lib.plots.data import (curve, comparison, stack, twinx)\n",
      "  File \u001b[1;32m\"/Users/troy/Develop/gly.fish/alef/lib/plots/data.py\"\u001b[0m, line \u001b[1;32m6\u001b[0m, in \u001b[1;35m<module>\u001b[0m\n    from lib.data.schema import (DataType, DataSchema)\n",
      "  File \u001b[1;32m\"/Users/troy/Develop/gly.fish/alef/lib/data/__init__.py\"\u001b[0m, line \u001b[1;32m1\u001b[0m, in \u001b[1;35m<module>\u001b[0m\n    from lib.data.source import (Source)\n",
      "\u001b[0;36m  File \u001b[0;32m\"/Users/troy/Develop/gly.fish/alef/lib/data/source.py\"\u001b[0;36m, line \u001b[0;32m11\u001b[0;36m, in \u001b[0;35m<module>\u001b[0;36m\u001b[0m\n\u001b[0;31m    from lib.data.meta_data import (MetaData)\u001b[0m\n",
      "\u001b[0;36m  File \u001b[0;32m\"/Users/troy/Develop/gly.fish/alef/lib/data/meta_data.py\"\u001b[0;36m, line \u001b[0;32m746\u001b[0m\n\u001b[0;31m    TestReport(test_type: meta_data[\"TestType\"],\u001b[0m\n\u001b[0m                        ^\u001b[0m\n\u001b[0;31mSyntaxError\u001b[0m\u001b[0;31m:\u001b[0m invalid syntax\n"
     ]
    }
   ],
   "source": [
    "%reload_ext autoreload\n",
    "%autoreload 2\n",
    "\n",
    "# import system modules and set local import path\n",
    "import os\n",
    "import sys\n",
    "import numpy\n",
    "from matplotlib import pyplot\n",
    "\n",
    "sys.path.insert(0, os.path.abspath('../..'))\n",
    "\n",
    "# import local modules\n",
    "from lib import config\n",
    "from lib import (Func, Source, Est, Test, PlotType)\n",
    "from lib import (stack, comparison)\n",
    "\n",
    "# Config Plot Style\n",
    "pyplot.style.use(config.glyfish_style)"
   ]
  },
  {
   "cell_type": "markdown",
   "id": "8c3e3988-f71c-41fb-9205-6e8014055026",
   "metadata": {},
   "source": [
    "## $\\text{ARIMA}(1,1,0)$ Example"
   ]
  },
  {
   "cell_type": "code",
   "execution_count": null,
   "id": "11ee6f00-81d3-4fbd-a240-af0b200ac74c",
   "metadata": {},
   "outputs": [],
   "source": [
    "nsample = 1000\n",
    "σ = 1.0\n",
    "nlags = 10"
   ]
  },
  {
   "cell_type": "code",
   "execution_count": null,
   "id": "d1e43c9e-5747-409c-a753-492763dc5161",
   "metadata": {},
   "outputs": [],
   "source": [
    "φ = [0.5]\n",
    "d = 1\n",
    "ar = Source.AR.create(φ=φ, npts=nsample)\n",
    "arima = Source.ARIMA_FROM_ARMA.create(arma=ar, d=d, npts=nsample)\n",
    "diff_1 = Func.DIFF.apply(arima, ndiff=1)"
   ]
  },
  {
   "cell_type": "code",
   "execution_count": null,
   "id": "50370749-6247-4410-9a55-b79101726a8a",
   "metadata": {
    "tags": []
   },
   "outputs": [],
   "source": [
    "title=f\"ARIMA(1,1,0): φ={φ}\"\n",
    "stack([arima, diff_1], title=title)"
   ]
  },
  {
   "cell_type": "code",
   "execution_count": null,
   "id": "5ca63705-1552-4198-9d75-93135542ecd1",
   "metadata": {},
   "outputs": [],
   "source": [
    "title = f\"ARIMA(1,1,0) Difference Validation: φ={φ}\"\n",
    "stack([ar, diff_1], title=title, labels=[r\"AR(1) Input\", r\"$\\Delta^1 S_t$\"])"
   ]
  },
  {
   "cell_type": "code",
   "execution_count": null,
   "id": "f8812626-2063-4b52-9a81-ad66d97bee9e",
   "metadata": {},
   "outputs": [],
   "source": [
    "result = Test.STATIONARITY.perform(arima)\n",
    "result.summary()"
   ]
  },
  {
   "cell_type": "code",
   "execution_count": null,
   "id": "c22f83a2-aefc-4c1e-8729-68fee1685627",
   "metadata": {},
   "outputs": [],
   "source": [
    "arima.attrs"
   ]
  },
  {
   "cell_type": "code",
   "execution_count": null,
   "id": "d9df6342-e399-4d30-827e-12b901075654",
   "metadata": {},
   "outputs": [],
   "source": [
    "result = Test.STATIONARITY.perform(diff_1)\n",
    "result.summary()"
   ]
  },
  {
   "cell_type": "code",
   "execution_count": null,
   "id": "f18bb148-b035-4c23-a6b6-dd3048e2cde4",
   "metadata": {},
   "outputs": [],
   "source": [
    "diff_1.attrs"
   ]
  },
  {
   "cell_type": "code",
   "execution_count": null,
   "id": "1569ad9a-e207-45f4-b906-b5a36c4a0c9f",
   "metadata": {},
   "outputs": [],
   "source": [
    "acf = Func.ACF.apply(diff_1, nlags=nlags)\n",
    "pacf = Func.PACF.apply(diff_1, nlags=nlags)\n",
    "title = f\"AR(1) ACF-PACF σ={σ}, \" + r\"$\\varphi=$\"+f\"{φ}\"\n",
    "comparison([acf, pacf], title=title, labels=[\"ACF\", \"PACF\"])"
   ]
  },
  {
   "cell_type": "code",
   "execution_count": null,
   "id": "4ea2e3c9-ac12-498f-89d9-af6a1846a735",
   "metadata": {},
   "outputs": [],
   "source": [
    "result = Est.AR.perform(diff_1, order=1)\n",
    "result.summary()"
   ]
  },
  {
   "cell_type": "markdown",
   "id": "4945bbb5-0df8-4c96-8ebe-ae457dc5e99d",
   "metadata": {},
   "source": [
    "## $\\text{ARIMA}(1,2,0)$ Example"
   ]
  },
  {
   "cell_type": "code",
   "execution_count": null,
   "id": "66fe6cc4-70c1-4f25-868b-269439b66d93",
   "metadata": {},
   "outputs": [],
   "source": [
    "φ = [0.75]\n",
    "d = 2\n",
    "ar = Source.AR.create(φ=φ, npts=nsample)\n",
    "arima = Source.ARIMA_FROM_ARMA.create(arma=ar, d=d, npts=nsample)\n",
    "diff_1 = Func.DIFF.apply(arima, ndiff=1)\n",
    "diff_2 = Func.DIFF.apply(arima, ndiff=2)"
   ]
  },
  {
   "cell_type": "code",
   "execution_count": null,
   "id": "93fa60ab-5c49-48d1-bb89-256da3cba8dc",
   "metadata": {},
   "outputs": [],
   "source": [
    "title = f\"ARIMA(1,2,0): φ={φ}\"\n",
    "stack([arima, diff_1, diff_2], title=title)"
   ]
  },
  {
   "cell_type": "code",
   "execution_count": null,
   "id": "27216066-a8e3-43ab-a591-b7ad99b6e84b",
   "metadata": {},
   "outputs": [],
   "source": [
    "title = f\"ARIMA(1,2,0) Difference Validation: φ={φ}\"\n",
    "stack([ar, diff_2], title=title, labels=[r\"AR(1) Input\", r\"$\\Delta^2 S_t$\"])"
   ]
  },
  {
   "cell_type": "code",
   "execution_count": null,
   "id": "7bf564b7-eb12-442c-a36f-46f2c063653d",
   "metadata": {},
   "outputs": [],
   "source": [
    "result = Test.STATIONARITY.perform(arima)\n",
    "result.summary()"
   ]
  },
  {
   "cell_type": "code",
   "execution_count": null,
   "id": "7009912d-02f3-4868-9840-0dc1b2d3052b",
   "metadata": {},
   "outputs": [],
   "source": [
    "arima.attrs"
   ]
  },
  {
   "cell_type": "code",
   "execution_count": null,
   "id": "9c97ea89-e3b4-4994-a15c-f46575d294dd",
   "metadata": {},
   "outputs": [],
   "source": [
    "result = Test.STATIONARITY.perform(diff_1)\n",
    "result.summary()"
   ]
  },
  {
   "cell_type": "code",
   "execution_count": null,
   "id": "31d72b1e-a038-41af-b48c-06cebc59840f",
   "metadata": {},
   "outputs": [],
   "source": [
    "diff_1.attrs"
   ]
  },
  {
   "cell_type": "code",
   "execution_count": null,
   "id": "5414e8a7-c2ce-4c47-8e6c-810a41431b67",
   "metadata": {},
   "outputs": [],
   "source": [
    "result = Test.STATIONARITY.perform(diff_2)\n",
    "result.summary()"
   ]
  },
  {
   "cell_type": "code",
   "execution_count": null,
   "id": "a42dff5f-d3d9-4d2b-9b9d-79c031a57e2a",
   "metadata": {},
   "outputs": [],
   "source": [
    "diff_2.attrs"
   ]
  },
  {
   "cell_type": "code",
   "execution_count": null,
   "id": "53801da6-a28f-4de6-8f14-9505197db26d",
   "metadata": {},
   "outputs": [],
   "source": [
    "acf = Func.ACF.apply(diff_2, nlags=nlags)\n",
    "pacf = Func.PACF.apply(diff_2, nlags=nlags)\n",
    "title = f\"AR(1) ACF-PACF σ={σ}, \" + r\"$\\varphi=$\"+f\"{φ}\"\n",
    "comparison([acf, pacf], title=title, labels=[\"ACF\", \"PACF\"])"
   ]
  },
  {
   "cell_type": "code",
   "execution_count": null,
   "id": "a57d0fa3-4388-4995-8259-85fd5de7563a",
   "metadata": {},
   "outputs": [],
   "source": [
    "result = Est.AR.perform(diff_2, order=1)\n",
    "result.summary()"
   ]
  },
  {
   "cell_type": "markdown",
   "id": "9517f56d-d964-41d4-94a8-9bef0205a9c5",
   "metadata": {},
   "source": [
    "## $\\text{ARIMA}(2,2,0)$ Example"
   ]
  },
  {
   "cell_type": "code",
   "execution_count": null,
   "id": "3b3332cd-7fba-4b8c-95d3-72e1e2a86dfd",
   "metadata": {},
   "outputs": [],
   "source": [
    "φ = [0.25, 0.4]\n",
    "d = 2\n",
    "ar = Source.AR.create(φ=φ, npts=nsample)\n",
    "arima = Source.ARIMA_FROM_ARMA.create(arma=ar, d=d, npts=nsample)\n",
    "diff_1 = Func.DIFF.apply(arima, ndiff=1)\n",
    "diff_2 = Func.DIFF.apply(arima, ndiff=2)"
   ]
  },
  {
   "cell_type": "code",
   "execution_count": null,
   "id": "b346b42d-015f-452a-b990-789caf16770a",
   "metadata": {},
   "outputs": [],
   "source": [
    "title = f\"ARIMA(2,2,0): φ={φ}\"\n",
    "stack([arima, diff_1, diff_2], title=title)"
   ]
  },
  {
   "cell_type": "code",
   "execution_count": null,
   "id": "89780ea3-ba5b-4bcc-b45b-d3a3ea376a5f",
   "metadata": {},
   "outputs": [],
   "source": [
    "title = f\"ARIMA(2,2,0) Difference Validation: φ={φ}\"\n",
    "stack([ar, diff_2], title=title, labels=[r\"AR(2) Input\", r\"$\\Delta^2 X_t$\"])"
   ]
  },
  {
   "cell_type": "code",
   "execution_count": null,
   "id": "05bfe1e0-71ff-4506-84bc-53d485341338",
   "metadata": {},
   "outputs": [],
   "source": [
    "result = Test.STATIONARITY.perform(arima)\n",
    "result.summary()"
   ]
  },
  {
   "cell_type": "code",
   "execution_count": null,
   "id": "f826e6d1-47d1-48a6-9d9c-7ae4929a7357",
   "metadata": {},
   "outputs": [],
   "source": [
    "arima.attrs"
   ]
  },
  {
   "cell_type": "code",
   "execution_count": null,
   "id": "7f69c23b-1cdd-4d19-b054-c22a27947d60",
   "metadata": {},
   "outputs": [],
   "source": [
    "result = Test.STATIONARITY.perform(diff_1)\n",
    "result.summary()"
   ]
  },
  {
   "cell_type": "code",
   "execution_count": null,
   "id": "6ace214c-083f-4ab2-ba71-57330ae0d9bf",
   "metadata": {},
   "outputs": [],
   "source": [
    "diff_1.attrs"
   ]
  },
  {
   "cell_type": "code",
   "execution_count": null,
   "id": "07b9f907-f408-4d00-9ba8-75e3edeb1020",
   "metadata": {},
   "outputs": [],
   "source": [
    "result = Test.STATIONARITY.perform(diff_2)\n",
    "result.summary()"
   ]
  },
  {
   "cell_type": "code",
   "execution_count": null,
   "id": "83d35054-040c-4551-a085-597ab7b534aa",
   "metadata": {},
   "outputs": [],
   "source": [
    "diff_2.attrs"
   ]
  },
  {
   "cell_type": "code",
   "execution_count": null,
   "id": "22dadfc1-ec81-4924-9f6f-3fb4ecf724bd",
   "metadata": {},
   "outputs": [],
   "source": [
    "acf = Func.ACF.apply(diff_2, nlags=nlags)\n",
    "pacf = Func.PACF.apply(diff_2, nlags=nlags)\n",
    "title = f\"AR(1) ACF-PACF σ={σ}, \" + r\"$\\varphi=$\"+f\"{φ}\"\n",
    "comparison([acf, pacf], title=title, labels=[\"ACF\", \"PACF\"])"
   ]
  },
  {
   "cell_type": "code",
   "execution_count": null,
   "id": "44f85c0b-0203-429f-95a2-7f2a573180ce",
   "metadata": {},
   "outputs": [],
   "source": [
    "result = Est.AR.perform(diff_2, order=2)\n",
    "result.summary()"
   ]
  }
 ],
 "metadata": {
  "kernelspec": {
   "display_name": "Python 3 (ipykernel)",
   "language": "python",
   "name": "python3"
  },
  "language_info": {
   "codemirror_mode": {
    "name": "ipython",
    "version": 3
   },
   "file_extension": ".py",
   "mimetype": "text/x-python",
   "name": "python",
   "nbconvert_exporter": "python",
   "pygments_lexer": "ipython3",
   "version": "3.9.2"
  }
 },
 "nbformat": 4,
 "nbformat_minor": 5
}
