{
 "cells": [
  {
   "cell_type": "markdown",
   "id": "ef0d3ed0-5f4d-4f9e-a392-9a515631590c",
   "metadata": {},
   "source": [
    "# ARMA\n",
    "\n",
    "The $\\text{ARMA}(p,q)$ process is defined by,\n",
    "\n",
    "$\n",
    "\\begin{align}\n",
    "X_t = \\sum_{i=1}^p \\varphi_i X_{t-i} + \\sum_{i=1}^q \\vartheta_i \\varepsilon_{t-i-1}\n",
    "\\end{align}\n",
    "$\n",
    "\n",
    "where,\n",
    "\n",
    "$\n",
    "\\begin{align}\n",
    "\\varepsilon_t \\sim \\text{Normal}(0, \\sigma^2)\n",
    "\\end{align}\n",
    "$"
   ]
  },
  {
   "cell_type": "markdown",
   "id": "0e45f072-8f8e-4510-843e-e6f55c180982",
   "metadata": {
    "tags": []
   },
   "source": [
    "## Imports"
   ]
  },
  {
   "cell_type": "code",
   "execution_count": 6,
   "id": "bca702bc-3768-4b0e-8588-fd801db29464",
   "metadata": {
    "tags": []
   },
   "outputs": [],
   "source": [
    "%reload_ext autoreload\n",
    "%autoreload 2\n",
    "\n",
    "# import system modules and set local import path\n",
    "import os\n",
    "import sys\n",
    "import numpy\n",
    "from matplotlib import pyplot\n",
    "\n",
    "sys.path.insert(0, os.path.abspath('../..'))\n",
    "\n",
    "# import local modules\n",
    "from lib import plots\n",
    "from lib import config\n",
    "from lib import arma\n",
    "from lib import stats\n",
    "\n",
    "# Config Plot Style\n",
    "pyplot.style.use(config.glyfish_style)"
   ]
  },
  {
   "cell_type": "code",
   "execution_count": null,
   "id": "b6f6e922-2289-47ca-a589-485b43503df0",
   "metadata": {},
   "outputs": [],
   "source": []
  }
 ],
 "metadata": {
  "kernelspec": {
   "display_name": "Python 3 (ipykernel)",
   "language": "python",
   "name": "python3"
  },
  "language_info": {
   "codemirror_mode": {
    "name": "ipython",
    "version": 3
   },
   "file_extension": ".py",
   "mimetype": "text/x-python",
   "name": "python",
   "nbconvert_exporter": "python",
   "pygments_lexer": "ipython3",
   "version": "3.9.2"
  }
 },
 "nbformat": 4,
 "nbformat_minor": 5
}
