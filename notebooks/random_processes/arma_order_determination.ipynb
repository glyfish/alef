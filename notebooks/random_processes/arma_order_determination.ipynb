{
 "cells": [
  {
   "cell_type": "markdown",
   "id": "ef0d3ed0-5f4d-4f9e-a392-9a515631590c",
   "metadata": {},
   "source": [
    "# ARMA Order Determination\n",
    "\n",
    "The $\\text{ARMA}(p,q)$ process is defined by,\n",
    "\n",
    "$\n",
    "\\begin{align}\n",
    "X_t = \\sum_{i=1}^p \\varphi_i X_{t-i} + \\sum_{i=1}^q \\vartheta_i \\varepsilon_{t-i-1}\n",
    "\\end{align}\n",
    "$\n",
    "\n",
    "where,\n",
    "\n",
    "$\n",
    "\\begin{align}\n",
    "\\varepsilon_t \\sim \\text{Normal}(0, \\sigma^2)\n",
    "\\end{align}\n",
    "$\n",
    "\n",
    "Typically a time series is either $\\text{AR}(p)$ or $\\text{MA}(q)$. When calibrating a time series to an $\\text{AR}(p)$</br>\n",
    "or $\\text{MA}(q)$ process a method is needed to determine the values of $p$ and $q$. For an $\\text{MA}(q)$ process</br>\n",
    "the autocorrelation function (ACF) is used. The ACF is defined by,\n",
    "\n",
    "$\n",
    "\\begin{align}\n",
    "\\rho_\\tau = \\frac{\\text{E}[X_t X_{t+\\tau}]}{\\text{E}[X_t^2]}\n",
    "\\end{align}\n",
    "$\n",
    "\n",
    "For values of $\\tau > q$ the ACF is zero for an $\\text{MA}(q)$ process.\n",
    "\n",
    "Similarly, for an $\\text{AR}(p)$ process the partial autocorrelation function (PACF) is used. The PACF</br> \n",
    "is computed using the Yule-Walker equations. Recall that the Yule-Walker equations relate the autocorrelation</br>\n",
    "function to the $\\text{AR}(p)$ coefficients $\\varphi_i$. Define the matrices,\n",
    "\n",
    "$\n",
    "\\begin{align}\n",
    "\\hat{r} =\n",
    "\\begin{bmatrix}\n",
    "\\rho_1 \\\\\n",
    "\\rho_2 \\\\\n",
    "\\rho_3 \\\\\n",
    "\\vdots \\\\\n",
    "\\rho_{p-1} \\\\\n",
    "\\rho_{p}\n",
    "\\end{bmatrix}\n",
    "\\end{align}\n",
    "$\n",
    "\n",
    "$\n",
    "\\begin{align}\n",
    "\\hat{\\Phi} =\n",
    "\\begin{bmatrix}\n",
    "\\varphi_1 \\\\\n",
    "\\varphi_2 \\\\\n",
    "\\varphi_3 \\\\\n",
    "\\vdots \\\\\n",
    "\\varphi_{p-1} \\\\\n",
    "\\varphi_{p}\n",
    "\\end{bmatrix}\n",
    "\\end{align}\n",
    "$\n",
    "\n",
    "$\n",
    "\\begin{align}\n",
    "\\hat{R} =\n",
    "\\begin{bmatrix}\n",
    "1 & \\rho_1 & \\rho_2 & \\cdots & \\rho_{p-2} & \\rho_{p-1} \\\\\n",
    "\\rho_1 & 1 & \\rho_1 & \\cdots & \\rho_{p-3} & \\rho_{p-2} \\\\\n",
    "\\rho_2 & \\rho_1 & 1 & \\cdots & \\rho_{p-4} & \\rho_{p-3} \\\\\n",
    "\\vdots & \\vdots  & \\vdots & \\ddots & \\vdots & \\vdots \\\\\n",
    "\\rho_{p-2} & \\rho_{p-3} & \\rho_{p-4} & \\cdots & 1 & \\rho_1 \\\\\n",
    "\\rho_{p-1} & \\rho_{p-2} & \\rho_{p-3} & \\cdots & \\rho_1 & 1 \\\\\n",
    "\\end{bmatrix}\n",
    "\\end{align}\n",
    "$\n",
    "\n",
    "Then the Yule-Walker equations are given by,\n",
    "\n",
    "$\n",
    "\\begin{align}\n",
    "\\hat{\\Phi} = \\hat{R}^{-1} \\hat{r}\n",
    "\\end{align}\n",
    "$\n",
    "\n",
    "So, the partial autocorrelation function, PACF, is given by,\n",
    "\n",
    "$\n",
    "\\begin{align}\n",
    "\\hat{R}^{-1} \\hat{r}\n",
    "\\end{align}\n",
    "$\n",
    "\n",
    "For lags grater than the time series order $p$ the PACF is zero."
   ]
  },
  {
   "cell_type": "markdown",
   "id": "0e45f072-8f8e-4510-843e-e6f55c180982",
   "metadata": {
    "tags": []
   },
   "source": [
    "## Imports"
   ]
  },
  {
   "cell_type": "code",
   "execution_count": 7,
   "id": "bca702bc-3768-4b0e-8588-fd801db29464",
   "metadata": {
    "tags": []
   },
   "outputs": [],
   "source": [
    "%reload_ext autoreload\n",
    "%autoreload 2\n",
    "\n",
    "# import system modules and set local import path\n",
    "import os\n",
    "import sys\n",
    "import numpy\n",
    "from matplotlib import pyplot\n",
    "\n",
    "sys.path.insert(0, os.path.abspath('../..'))\n",
    "\n",
    "# import local modules\n",
    "from lib import plots\n",
    "from lib import config\n",
    "from lib import arima\n",
    "from lib import stats\n",
    "\n",
    "# Config Plot Style\n",
    "pyplot.style.use(config.glyfish_style)"
   ]
  },
  {
   "cell_type": "markdown",
   "id": "b3b62401-182c-4f3a-97a8-42aa3093029e",
   "metadata": {},
   "source": [
    "## Helpers"
   ]
  },
  {
   "cell_type": "code",
   "execution_count": null,
   "id": "9a3d185d-906c-4108-86de-08ba7f386845",
   "metadata": {},
   "outputs": [],
   "source": []
  },
  {
   "cell_type": "markdown",
   "id": "4d3d9b33-6680-4389-8297-7d7dc85ffeef",
   "metadata": {},
   "source": [
    "## Plots"
   ]
  },
  {
   "cell_type": "code",
   "execution_count": null,
   "id": "a17aa3b6-1de7-43b8-b9eb-20aaefa17105",
   "metadata": {},
   "outputs": [],
   "source": []
  },
  {
   "cell_type": "markdown",
   "id": "a634c430-1056-4d38-ae5c-98e71e2ff090",
   "metadata": {},
   "source": [
    "## $\\text{AR}(p)$"
   ]
  },
  {
   "cell_type": "code",
   "execution_count": null,
   "id": "19628e78-47d4-4aab-b83f-b2228d07a265",
   "metadata": {},
   "outputs": [],
   "source": []
  },
  {
   "cell_type": "markdown",
   "id": "ea178b41-a246-423c-938f-6095e9c5c67b",
   "metadata": {},
   "source": [
    "## $\\text{MA}(q)$"
   ]
  }
 ],
 "metadata": {
  "kernelspec": {
   "display_name": "Python 3 (ipykernel)",
   "language": "python",
   "name": "python3"
  },
  "language_info": {
   "codemirror_mode": {
    "name": "ipython",
    "version": 3
   },
   "file_extension": ".py",
   "mimetype": "text/x-python",
   "name": "python",
   "nbconvert_exporter": "python",
   "pygments_lexer": "ipython3",
   "version": "3.9.2"
  }
 },
 "nbformat": 4,
 "nbformat_minor": 5
}
