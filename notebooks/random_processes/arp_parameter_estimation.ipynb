{
 "cells": [
  {
   "cell_type": "markdown",
   "id": "c29a4949-5589-4413-ab00-8c341a875196",
   "metadata": {},
   "source": [
    "# AR(p) Parameter Estimation\n",
    "\n",
    "The $\\text{AR}(p)$ process is defined by,\n",
    "\n",
    "$\n",
    "\\begin{align}\n",
    "X_t = \\sum_{i=1}^p \\varphi_i X_{t-i} + \\varepsilon_{t}\n",
    "\\end{align}\n",
    "$\n",
    "\n",
    "where,\n",
    "\n",
    "$\n",
    "\\begin{align}\n",
    "\\varepsilon_t \\sim \\text{Normal}(0, \\sigma^2)\n",
    "\\end{align}\n",
    "$\n",
    "\n",
    "The Yule-Walker equations are relate the AR(p) parameters $\\varphi_i$ to the autocorrelation function. If zero mean is</br>\n",
    "assumed it follows that,\n",
    "\n",
    "$\n",
    "\\begin{align}\n",
    "\\rho_n = \\frac{\\text{E}[X_t X_{t-n}]}{\\text{E}[X_t^2]}\n",
    "\\end{align}\n",
    "$\n",
    "\n",
    "The autocorrelation functions can be shown to have the following properties,\n",
    "\n",
    "$\n",
    "\\begin{align}\n",
    "&\\rho_0 = 1 \\\\\n",
    "&\\rho_n \\leq 1 \\\\\n",
    "&\\rho_n = \\rho_{-n}\n",
    "\\end{align}\n",
    "$\n",
    "\n",
    "Define the matrices,\n",
    "\n",
    "$\n",
    "\\begin{align}\n",
    "\\hat{r} =\n",
    "\\begin{bmatrix}\n",
    "\\rho_1 \\\\\n",
    "\\rho_2 \\\\\n",
    "\\rho_3 \\\\\n",
    "\\vdots \\\\\n",
    "\\rho_{n-1} \\\\\n",
    "\\rho_{n}\n",
    "\\end{bmatrix}\n",
    "\\end{align}\n",
    "$\n",
    "\n",
    "$\n",
    "\\begin{align}\n",
    "\\hat{\\Phi} =\n",
    "\\begin{bmatrix}\n",
    "\\varphi_1 \\\\\n",
    "\\varphi_2 \\\\\n",
    "\\varphi_3 \\\\\n",
    "\\vdots \\\\\n",
    "\\varphi_{n-1} \\\\\n",
    "\\varphi_{n}\n",
    "\\end{bmatrix}\n",
    "\\end{align}\n",
    "$\n",
    "\n",
    "$\n",
    "\\begin{align}\n",
    "\\hat{R} =\n",
    "\\begin{bmatrix}\n",
    "1 & \\rho_1 & \\rho_2 & \\cdots & \\rho_{n-2} & \\rho_{n-1} \\\\\n",
    "\\rho_1 & 1 & \\rho_1 & \\cdots & \\rho_{n-3} & \\rho_{n-2} \\\\\n",
    "\\rho_2 & \\rho_1 & 1 & \\cdots & \\rho_{n-4} & \\rho_{n-3} \\\\\n",
    "\\vdots & \\vdots  & \\vdots & \\ddots & \\vdots & \\vdots \\\\\n",
    "\\rho_{n-2} & \\rho_{n-3} & \\rho_{n-4} & \\cdots & 1 & \\rho_1 \\\\\n",
    "\\rho_{n-1} & \\rho_{n-2} & \\rho_{n-3} & \\cdots & \\rho_1 & 1 \\\\\n",
    "\\end{bmatrix}\n",
    "\\end{align}\n",
    "$\n",
    "\n",
    "Then the Yule-Walker equations are given by,\n",
    "\n",
    "$\n",
    "\\begin{align}\n",
    "\\hat{\\Phi} = \\hat{R}^{-1} \\hat{r}\n",
    "\\end{align}\n",
    "$\n",
    "\n",
    "## Examples\n",
    "\n",
    "The Yule-Walker equations for $\\text{AR}(1)$ is given by,\n",
    "\n",
    "$\n",
    "\\begin{align}\n",
    "\\varphi_1 = \\rho_1\n",
    "\\end{align}\n",
    "$\n",
    "\n",
    "This is the OLS solution.\n",
    "\n",
    "For $\\text{AR}(2)$,\n",
    "\n",
    "$\n",
    "\\begin{align}\n",
    "\\varphi_1 &= \\frac{\\rho_1 - \\rho_1 \\rho_2}{1 - \\rho_1^2} \\\\\n",
    "\\varphi_2 &= \\frac{\\rho_2 - \\rho_1^2}{1 - \\rho_1^2}\n",
    "\\end{align}\n",
    "$\n",
    "\n",
    "## Stationaity\n",
    "\n",
    "Stationarity of an $\\text{AR}(p)$ leads to convergence of the moments as $t \\to \\infty$. Recall the shift operator, $L$, defined by,\n",
    "\n",
    "$\n",
    "\\begin{align}\n",
    "&L X_t = X_{t-1} \\\\\n",
    "&L^2 X_t = X_{t-2} \\\\\n",
    "&L^3 X_t = X_{t-3} \\\\\n",
    "&\\vdots\n",
    "\\end{align}\n",
    "$\n",
    "\n",
    "An $\\text{AR}(p)$ process can be written as,\n",
    "\n",
    "$\n",
    "\\begin{align}\n",
    "\\varepsilon_t = (1 - \\varphi L - \\varphi^2 L^2 - \\varphi^3 L^3 - \\cdots - \\varphi^p L^p) X_t\n",
    "\\end{align}\n",
    "$\n",
    "\n",
    "The characteristic equation is obtained by replacing $L$ with the variable $z$ and setting the result to zero,\n",
    "\n",
    "$\n",
    "\\begin{align}\n",
    "1 - \\varphi z - \\varphi^2 z^2 - \\varphi^3 z^3 - \\cdots - \\varphi^p z^p = 0\n",
    "\\end{align}\n",
    "$\n",
    "\n",
    "Stationarity requires that $\\lvert z \\rvert > 1$. To see this consider $\\text{AR}(1)$. The characteristic equation is,\n",
    "\n",
    "$\n",
    "\\begin{align}\n",
    "1 - \\varphi z = 0\n",
    "\\end{align}\n",
    "$\n",
    "\n",
    "The solution is $z = \\frac{1}{\\varphi}$. It follows that stationarity requires,\n",
    "\n",
    "$\n",
    "\\begin{align}\n",
    "\\lvert \\varphi \\rvert < 1\n",
    "\\end{align}\n",
    "$"
   ]
  },
  {
   "cell_type": "markdown",
   "id": "38cffa7a-e817-46a0-8552-a0522640bb49",
   "metadata": {
    "tags": []
   },
   "source": [
    "## Imports"
   ]
  },
  {
   "cell_type": "code",
   "execution_count": 48,
   "id": "abe3d5d9-4984-4d08-9065-31dc09198070",
   "metadata": {},
   "outputs": [],
   "source": [
    "%reload_ext autoreload\n",
    "%autoreload 2\n",
    "\n",
    "# import system modules and set local import path\n",
    "import os\n",
    "import sys\n",
    "import numpy\n",
    "from matplotlib import pyplot\n",
    "\n",
    "sys.path.insert(0, os.path.abspath('../..'))\n",
    "\n",
    "# import local modules\n",
    "from lib import config\n",
    "from lib.models import arima\n",
    "from lib import stats\n",
    "from lib.plots.data import (DataPlotType, stack)\n",
    "from lib.data.func import (DataFunc)\n",
    "from lib.data.schema import (DataType)\n",
    "\n",
    "# Config Plot Style\n",
    "pyplot.style.use(config.glyfish_style)"
   ]
  },
  {
   "cell_type": "markdown",
   "id": "93a488f6-1f18-4866-8d86-f52259989c6c",
   "metadata": {
    "tags": []
   },
   "source": [
    "## Helpers"
   ]
  },
  {
   "cell_type": "code",
   "execution_count": 6,
   "id": "cccf0ba4-5b2b-4a13-8b5d-f7bb71112acb",
   "metadata": {},
   "outputs": [],
   "source": [
    "def φ_labels(φ):\n",
    "    return [r\"$\\varphi=$\"+f\"{numpy.array2string(f, precision=2, separator=',')}\" for f in φ]"
   ]
  },
  {
   "cell_type": "markdown",
   "id": "69620cfc-08cb-49a6-a431-08bb914dd157",
   "metadata": {},
   "source": [
    "## Simulations"
   ]
  },
  {
   "cell_type": "code",
   "execution_count": 49,
   "id": "fdde416a-01a6-41ef-a25c-0c47eb98df3d",
   "metadata": {},
   "outputs": [],
   "source": [
    "nsample = 1000\n",
    "\n",
    "φ1 = numpy.array([0.2])\n",
    "ar1 = arima.arp(φ1, nsample)\n",
    "\n",
    "φ2 = numpy.array([0.2, 0.4])\n",
    "ar2 = arima.arp(φ2, nsample)\n",
    "\n",
    "φ3 = numpy.array([0.2, 0.3, 0.3])\n",
    "ar3 = arima.arp(φ3, nsample)"
   ]
  },
  {
   "cell_type": "code",
   "execution_count": 52,
   "id": "9b9cbf0f-2176-46ce-8f21-1d58976a92e5",
   "metadata": {},
   "outputs": [
    {
     "data": {
      "image/png": "[encoded data removed]",
      "text/plain": [
       "<Figure size 936x720 with 3 Axes>"
      ]
     },
     "metadata": {},
     "output_type": "display_data"
    }
   ],
   "source": [
    "labels = φ_labels([φ1, φ2, φ3])\n",
    "title = \"AR(p) Comparison\"\n",
    "samples = [ar1, ar2, ar3]\n",
    "stack(samples, ylim=[-5.0, 5.0], title=title, labels=labels, plot_type=DataPlotType.TIME_SERIES)"
   ]
  },
  {
   "cell_type": "markdown",
   "id": "581d360d-51e4-4d01-a5f7-cf3d52aa3d50",
   "metadata": {},
   "source": [
    "## Estimation of $\\text{AR}(p)$ Parameters ($\\sigma = 1$)\n",
    "\n",
    "$\\text{AR}(p)$ parameters are estimated using two methods. The Yule-Walker ACF and `statsmodels.tsa.arima_model.ARMA`"
   ]
  },
  {
   "cell_type": "markdown",
   "id": "984d69a2-1169-401e-87f8-ca7d3e1a8631",
   "metadata": {},
   "source": [
    "### AR(1) Example $\\varphi = 0.2$"
   ]
  },
  {
   "cell_type": "code",
   "execution_count": 53,
   "id": "2e3d5d67-7a53-40e0-8339-e1a5750c3e9a",
   "metadata": {
    "tags": []
   },
   "outputs": [
    {
     "data": {
      "text/plain": [
       "0.22677580355355942"
      ]
     },
     "execution_count": 53,
     "metadata": {},
     "output_type": "execute_result"
    }
   ],
   "source": [
    "df = DataFunc.apply_func_type(ar1, DataType.PACF, nlags=1)\n",
    "df[\"PACF\"][1]"
   ]
  },
  {
   "cell_type": "code",
   "execution_count": 54,
   "id": "ddc7f59c-b5ce-4cb9-b55d-65dd5915f12f",
   "metadata": {},
   "outputs": [],
   "source": [
    "result = arima.ar_fit(ar1, 1)"
   ]
  },
  {
   "cell_type": "code",
   "execution_count": 55,
   "id": "83308f12-0c38-4d08-becb-967f1a72f17c",
   "metadata": {},
   "outputs": [
    {
     "data": {
      "text/html": [
       "<table class=\"simpletable\">\n",
       "<caption>SARIMAX Results</caption>\n",
       "<tr>\n",
       "  <th>Dep. Variable:</th>         <td>S(t)</td>       <th>  No. Observations:  </th>   <td>1000</td>   \n",
       "</tr>\n",
       "<tr>\n",
       "  <th>Model:</th>            <td>ARIMA(1, 0, 0)</td>  <th>  Log Likelihood     </th> <td>-1437.715</td>\n",
       "</tr>\n",
       "<tr>\n",
       "  <th>Date:</th>            <td>Fri, 06 May 2022</td> <th>  AIC                </th> <td>2881.431</td> \n",
       "</tr>\n",
       "<tr>\n",
       "  <th>Time:</th>                <td>07:40:59</td>     <th>  BIC                </th> <td>2896.154</td> \n",
       "</tr>\n",
       "<tr>\n",
       "  <th>Sample:</th>                  <td>0</td>        <th>  HQIC               </th> <td>2887.026</td> \n",
       "</tr>\n",
       "<tr>\n",
       "  <th></th>                      <td> - 1000</td>     <th>                     </th>     <td> </td>    \n",
       "</tr>\n",
       "<tr>\n",
       "  <th>Covariance Type:</th>        <td>opg</td>       <th>                     </th>     <td> </td>    \n",
       "</tr>\n",
       "</table>\n",
       "<table class=\"simpletable\">\n",
       "<tr>\n",
       "     <td></td>       <th>coef</th>     <th>std err</th>      <th>z</th>      <th>P>|z|</th>  <th>[0.025</th>    <th>0.975]</th>  \n",
       "</tr>\n",
       "<tr>\n",
       "  <th>const</th>  <td>    0.0567</td> <td>    0.042</td> <td>    1.356</td> <td> 0.175</td> <td>   -0.025</td> <td>    0.139</td>\n",
       "</tr>\n",
       "<tr>\n",
       "  <th>ar.L1</th>  <td>    0.2266</td> <td>    0.031</td> <td>    7.394</td> <td> 0.000</td> <td>    0.167</td> <td>    0.287</td>\n",
       "</tr>\n",
       "<tr>\n",
       "  <th>sigma2</th> <td>    1.0382</td> <td>    0.048</td> <td>   21.662</td> <td> 0.000</td> <td>    0.944</td> <td>    1.132</td>\n",
       "</tr>\n",
       "</table>\n",
       "<table class=\"simpletable\">\n",
       "<tr>\n",
       "  <th>Ljung-Box (L1) (Q):</th>     <td>0.00</td> <th>  Jarque-Bera (JB):  </th> <td>2.27</td> \n",
       "</tr>\n",
       "<tr>\n",
       "  <th>Prob(Q):</th>                <td>0.94</td> <th>  Prob(JB):          </th> <td>0.32</td> \n",
       "</tr>\n",
       "<tr>\n",
       "  <th>Heteroskedasticity (H):</th> <td>0.95</td> <th>  Skew:              </th> <td>-0.10</td>\n",
       "</tr>\n",
       "<tr>\n",
       "  <th>Prob(H) (two-sided):</th>    <td>0.61</td> <th>  Kurtosis:          </th> <td>2.89</td> \n",
       "</tr>\n",
       "</table><br/><br/>Warnings:<br/>[1] Covariance matrix calculated using the outer product of gradients (complex-step)."
      ],
      "text/plain": [
       "<class 'statsmodels.iolib.summary.Summary'>\n",
       "\"\"\"\n",
       "                               SARIMAX Results                                \n",
       "==============================================================================\n",
       "Dep. Variable:                   S(t)   No. Observations:                 1000\n",
       "Model:                 ARIMA(1, 0, 0)   Log Likelihood               -1437.715\n",
       "Date:                Fri, 06 May 2022   AIC                           2881.431\n",
       "Time:                        07:40:59   BIC                           2896.154\n",
       "Sample:                             0   HQIC                          2887.026\n",
       "                               - 1000                                         \n",
       "Covariance Type:                  opg                                         \n",
       "==============================================================================\n",
       "                 coef    std err          z      P>|z|      [0.025      0.975]\n",
       "------------------------------------------------------------------------------\n",
       "const          0.0567      0.042      1.356      0.175      -0.025       0.139\n",
       "ar.L1          0.2266      0.031      7.394      0.000       0.167       0.287\n",
       "sigma2         1.0382      0.048     21.662      0.000       0.944       1.132\n",
       "===================================================================================\n",
       "Ljung-Box (L1) (Q):                   0.00   Jarque-Bera (JB):                 2.27\n",
       "Prob(Q):                              0.94   Prob(JB):                         0.32\n",
       "Heteroskedasticity (H):               0.95   Skew:                            -0.10\n",
       "Prob(H) (two-sided):                  0.61   Kurtosis:                         2.89\n",
       "===================================================================================\n",
       "\n",
       "Warnings:\n",
       "[1] Covariance matrix calculated using the outer product of gradients (complex-step).\n",
       "\"\"\""
      ]
     },
     "execution_count": 55,
     "metadata": {},
     "output_type": "execute_result"
    }
   ],
   "source": [
    "result.summary()"
   ]
  },
  {
   "cell_type": "code",
   "execution_count": 58,
   "id": "aa5afd69-3042-406c-a6ed-2868a8869dcb",
   "metadata": {},
   "outputs": [
    {
     "data": {
      "text/plain": [
       "{'S(t)': {'npts': 1000,\n",
       "  'DataType': <DataType.TIME_SERIES: 2>,\n",
       "  'Parameters': {'φ': array([0.2]), 'θ': [], 'σ': 1.0, 'μ': 0.0, 'γ': 0.0},\n",
       "  'Description': 'ARIMA(1,0,0)',\n",
       "  'ylabel': '$S_t$',\n",
       "  'xlabel': '$t$',\n",
       "  'SourceSchema': None,\n",
       "  'Estimates': {'AR(1)': {'Type': <EstType.AR: 'AR'>,\n",
       "    'Const': [0.05665624536932033, 0.041786893312883384],\n",
       "    'Parameters': [[0.2266106045819656, 0.030648312480951644]],\n",
       "    'Sigma2': [1.0382053031456218, 0.04792760595045777]}},\n",
       "  'Tests': {}},\n",
       " 'Date': '06/05/2022 07:40:12',\n",
       " 'Name': 'ARMA-Simulation-0c588a3b-ecea-4f87-8326-d7c53b627e04'}"
      ]
     },
     "execution_count": 58,
     "metadata": {},
     "output_type": "execute_result"
    }
   ],
   "source": [
    "ar1.attrs"
   ]
  },
  {
   "cell_type": "markdown",
   "id": "1ca5432a-f27c-4bfc-a3e0-c723816445e3",
   "metadata": {},
   "source": [
    "### AR(2) Example $\\varphi = [0.2, 0.4]$"
   ]
  },
  {
   "cell_type": "code",
   "execution_count": 73,
   "id": "31247132-6d3c-4d0c-b08e-90ed1bde32a1",
   "metadata": {},
   "outputs": [
    {
     "data": {
      "text/plain": [
       "1    0.159834\n",
       "2    0.384434\n",
       "Name: PACF, dtype: float64"
      ]
     },
     "execution_count": 73,
     "metadata": {},
     "output_type": "execute_result"
    }
   ],
   "source": [
    "df = DataFunc.apply_func_type(ar2, DataType.PACF, nlags=2)\n",
    "df[\"PACF\"][1:3]"
   ]
  },
  {
   "cell_type": "code",
   "execution_count": 60,
   "id": "601301fc-337d-4c53-8664-a491434fc3c3",
   "metadata": {},
   "outputs": [],
   "source": [
    "result = arima.ar_fit(ar2, 2)"
   ]
  },
  {
   "cell_type": "code",
   "execution_count": 61,
   "id": "c6cb649f-d3b8-432d-b234-db946afd731d",
   "metadata": {},
   "outputs": [
    {
     "data": {
      "text/html": [
       "<table class=\"simpletable\">\n",
       "<caption>SARIMAX Results</caption>\n",
       "<tr>\n",
       "  <th>Dep. Variable:</th>         <td>S(t)</td>       <th>  No. Observations:  </th>   <td>1000</td>   \n",
       "</tr>\n",
       "<tr>\n",
       "  <th>Model:</th>            <td>ARIMA(2, 0, 0)</td>  <th>  Log Likelihood     </th> <td>-1390.057</td>\n",
       "</tr>\n",
       "<tr>\n",
       "  <th>Date:</th>            <td>Fri, 06 May 2022</td> <th>  AIC                </th> <td>2788.114</td> \n",
       "</tr>\n",
       "<tr>\n",
       "  <th>Time:</th>                <td>07:49:24</td>     <th>  BIC                </th> <td>2807.745</td> \n",
       "</tr>\n",
       "<tr>\n",
       "  <th>Sample:</th>                  <td>0</td>        <th>  HQIC               </th> <td>2795.575</td> \n",
       "</tr>\n",
       "<tr>\n",
       "  <th></th>                      <td> - 1000</td>     <th>                     </th>     <td> </td>    \n",
       "</tr>\n",
       "<tr>\n",
       "  <th>Covariance Type:</th>        <td>opg</td>       <th>                     </th>     <td> </td>    \n",
       "</tr>\n",
       "</table>\n",
       "<table class=\"simpletable\">\n",
       "<tr>\n",
       "     <td></td>       <th>coef</th>     <th>std err</th>      <th>z</th>      <th>P>|z|</th>  <th>[0.025</th>    <th>0.975]</th>  \n",
       "</tr>\n",
       "<tr>\n",
       "  <th>const</th>  <td>   -0.1166</td> <td>    0.067</td> <td>   -1.731</td> <td> 0.083</td> <td>   -0.249</td> <td>    0.015</td>\n",
       "</tr>\n",
       "<tr>\n",
       "  <th>ar.L1</th>  <td>    0.1593</td> <td>    0.030</td> <td>    5.367</td> <td> 0.000</td> <td>    0.101</td> <td>    0.218</td>\n",
       "</tr>\n",
       "<tr>\n",
       "  <th>ar.L2</th>  <td>    0.3849</td> <td>    0.029</td> <td>   13.151</td> <td> 0.000</td> <td>    0.327</td> <td>    0.442</td>\n",
       "</tr>\n",
       "<tr>\n",
       "  <th>sigma2</th> <td>    0.9435</td> <td>    0.043</td> <td>   21.843</td> <td> 0.000</td> <td>    0.859</td> <td>    1.028</td>\n",
       "</tr>\n",
       "</table>\n",
       "<table class=\"simpletable\">\n",
       "<tr>\n",
       "  <th>Ljung-Box (L1) (Q):</th>     <td>0.12</td> <th>  Jarque-Bera (JB):  </th> <td>0.55</td>\n",
       "</tr>\n",
       "<tr>\n",
       "  <th>Prob(Q):</th>                <td>0.73</td> <th>  Prob(JB):          </th> <td>0.76</td>\n",
       "</tr>\n",
       "<tr>\n",
       "  <th>Heteroskedasticity (H):</th> <td>0.97</td> <th>  Skew:              </th> <td>0.04</td>\n",
       "</tr>\n",
       "<tr>\n",
       "  <th>Prob(H) (two-sided):</th>    <td>0.78</td> <th>  Kurtosis:          </th> <td>2.92</td>\n",
       "</tr>\n",
       "</table><br/><br/>Warnings:<br/>[1] Covariance matrix calculated using the outer product of gradients (complex-step)."
      ],
      "text/plain": [
       "<class 'statsmodels.iolib.summary.Summary'>\n",
       "\"\"\"\n",
       "                               SARIMAX Results                                \n",
       "==============================================================================\n",
       "Dep. Variable:                   S(t)   No. Observations:                 1000\n",
       "Model:                 ARIMA(2, 0, 0)   Log Likelihood               -1390.057\n",
       "Date:                Fri, 06 May 2022   AIC                           2788.114\n",
       "Time:                        07:49:24   BIC                           2807.745\n",
       "Sample:                             0   HQIC                          2795.575\n",
       "                               - 1000                                         \n",
       "Covariance Type:                  opg                                         \n",
       "==============================================================================\n",
       "                 coef    std err          z      P>|z|      [0.025      0.975]\n",
       "------------------------------------------------------------------------------\n",
       "const         -0.1166      0.067     -1.731      0.083      -0.249       0.015\n",
       "ar.L1          0.1593      0.030      5.367      0.000       0.101       0.218\n",
       "ar.L2          0.3849      0.029     13.151      0.000       0.327       0.442\n",
       "sigma2         0.9435      0.043     21.843      0.000       0.859       1.028\n",
       "===================================================================================\n",
       "Ljung-Box (L1) (Q):                   0.12   Jarque-Bera (JB):                 0.55\n",
       "Prob(Q):                              0.73   Prob(JB):                         0.76\n",
       "Heteroskedasticity (H):               0.97   Skew:                             0.04\n",
       "Prob(H) (two-sided):                  0.78   Kurtosis:                         2.92\n",
       "===================================================================================\n",
       "\n",
       "Warnings:\n",
       "[1] Covariance matrix calculated using the outer product of gradients (complex-step).\n",
       "\"\"\""
      ]
     },
     "execution_count": 61,
     "metadata": {},
     "output_type": "execute_result"
    }
   ],
   "source": [
    "result.summary()"
   ]
  },
  {
   "cell_type": "code",
   "execution_count": 62,
   "id": "417513d1-fbf0-4cda-9ce1-3c966d7da241",
   "metadata": {},
   "outputs": [
    {
     "data": {
      "text/plain": [
       "{'S(t)': {'npts': 1000,\n",
       "  'DataType': <DataType.TIME_SERIES: 2>,\n",
       "  'Parameters': {'φ': array([0.2, 0.4]),\n",
       "   'θ': [],\n",
       "   'σ': 1.0,\n",
       "   'μ': 0.0,\n",
       "   'γ': 0.0},\n",
       "  'Description': 'ARIMA(2,0,0)',\n",
       "  'ylabel': '$S_t$',\n",
       "  'xlabel': '$t$',\n",
       "  'SourceSchema': None,\n",
       "  'Estimates': {'AR(2)': {'Type': <EstType.AR: 'AR'>,\n",
       "    'Const': [-0.116596343566177, 0.06735602120384915],\n",
       "    'Parameters': [[0.15933705500948295, 0.029690438480458412],\n",
       "     [0.38485469692748603, 0.02926473984620184]],\n",
       "    'Sigma2': [0.9434974341695873, 0.04319403342683278]}},\n",
       "  'Tests': {}},\n",
       " 'Date': '06/05/2022 07:40:12',\n",
       " 'Name': 'ARMA-Simulation-cc9e9c92-6484-463b-bb96-68934b90073c'}"
      ]
     },
     "execution_count": 62,
     "metadata": {},
     "output_type": "execute_result"
    }
   ],
   "source": [
    "ar2.attrs"
   ]
  },
  {
   "cell_type": "markdown",
   "id": "ae35d12f-11dd-4215-aba8-65291e9af122",
   "metadata": {
    "tags": []
   },
   "source": [
    "### AR(3) Example $\\varphi = [0.2, 0.3, 0.3]$"
   ]
  },
  {
   "cell_type": "code",
   "execution_count": 75,
   "id": "6a8c6fe1-4a2b-4d28-a2f4-64f50afea394",
   "metadata": {},
   "outputs": [
    {
     "data": {
      "text/plain": [
       "1    0.149664\n",
       "2    0.339744\n",
       "3    0.301149\n",
       "Name: PACF, dtype: float64"
      ]
     },
     "execution_count": 75,
     "metadata": {},
     "output_type": "execute_result"
    }
   ],
   "source": [
    "df = DataFunc.apply_func_type(ar3, DataType.PACF, nlags=3)\n",
    "df[\"PACF\"][1:4]"
   ]
  },
  {
   "cell_type": "code",
   "execution_count": 77,
   "id": "7be08b3d-c93e-4f1d-9fa3-90f80a791cba",
   "metadata": {},
   "outputs": [],
   "source": [
    "result = arima.ar_fit(ar3, 3)"
   ]
  },
  {
   "cell_type": "code",
   "execution_count": 78,
   "id": "98f0095b-a3bd-4840-aa36-e5205b7e2039",
   "metadata": {},
   "outputs": [
    {
     "data": {
      "text/html": [
       "<table class=\"simpletable\">\n",
       "<caption>SARIMAX Results</caption>\n",
       "<tr>\n",
       "  <th>Dep. Variable:</th>         <td>S(t)</td>       <th>  No. Observations:  </th>   <td>1000</td>   \n",
       "</tr>\n",
       "<tr>\n",
       "  <th>Model:</th>            <td>ARIMA(3, 0, 0)</td>  <th>  Log Likelihood     </th> <td>-1431.224</td>\n",
       "</tr>\n",
       "<tr>\n",
       "  <th>Date:</th>            <td>Fri, 06 May 2022</td> <th>  AIC                </th> <td>2872.448</td> \n",
       "</tr>\n",
       "<tr>\n",
       "  <th>Time:</th>                <td>07:57:55</td>     <th>  BIC                </th> <td>2896.986</td> \n",
       "</tr>\n",
       "<tr>\n",
       "  <th>Sample:</th>                  <td>0</td>        <th>  HQIC               </th> <td>2881.774</td> \n",
       "</tr>\n",
       "<tr>\n",
       "  <th></th>                      <td> - 1000</td>     <th>                     </th>     <td> </td>    \n",
       "</tr>\n",
       "<tr>\n",
       "  <th>Covariance Type:</th>        <td>opg</td>       <th>                     </th>     <td> </td>    \n",
       "</tr>\n",
       "</table>\n",
       "<table class=\"simpletable\">\n",
       "<tr>\n",
       "     <td></td>       <th>coef</th>     <th>std err</th>      <th>z</th>      <th>P>|z|</th>  <th>[0.025</th>    <th>0.975]</th>  \n",
       "</tr>\n",
       "<tr>\n",
       "  <th>const</th>  <td>   -0.0367</td> <td>    0.155</td> <td>   -0.237</td> <td> 0.813</td> <td>   -0.340</td> <td>    0.267</td>\n",
       "</tr>\n",
       "<tr>\n",
       "  <th>ar.L1</th>  <td>    0.1466</td> <td>    0.031</td> <td>    4.711</td> <td> 0.000</td> <td>    0.086</td> <td>    0.208</td>\n",
       "</tr>\n",
       "<tr>\n",
       "  <th>ar.L2</th>  <td>    0.3396</td> <td>    0.029</td> <td>   11.738</td> <td> 0.000</td> <td>    0.283</td> <td>    0.396</td>\n",
       "</tr>\n",
       "<tr>\n",
       "  <th>ar.L3</th>  <td>    0.3061</td> <td>    0.031</td> <td>    9.976</td> <td> 0.000</td> <td>    0.246</td> <td>    0.366</td>\n",
       "</tr>\n",
       "<tr>\n",
       "  <th>sigma2</th> <td>    1.0239</td> <td>    0.049</td> <td>   20.956</td> <td> 0.000</td> <td>    0.928</td> <td>    1.120</td>\n",
       "</tr>\n",
       "</table>\n",
       "<table class=\"simpletable\">\n",
       "<tr>\n",
       "  <th>Ljung-Box (L1) (Q):</th>     <td>0.02</td> <th>  Jarque-Bera (JB):  </th> <td>4.23</td>\n",
       "</tr>\n",
       "<tr>\n",
       "  <th>Prob(Q):</th>                <td>0.90</td> <th>  Prob(JB):          </th> <td>0.12</td>\n",
       "</tr>\n",
       "<tr>\n",
       "  <th>Heteroskedasticity (H):</th> <td>0.99</td> <th>  Skew:              </th> <td>0.13</td>\n",
       "</tr>\n",
       "<tr>\n",
       "  <th>Prob(H) (two-sided):</th>    <td>0.89</td> <th>  Kurtosis:          </th> <td>2.81</td>\n",
       "</tr>\n",
       "</table><br/><br/>Warnings:<br/>[1] Covariance matrix calculated using the outer product of gradients (complex-step)."
      ],
      "text/plain": [
       "<class 'statsmodels.iolib.summary.Summary'>\n",
       "\"\"\"\n",
       "                               SARIMAX Results                                \n",
       "==============================================================================\n",
       "Dep. Variable:                   S(t)   No. Observations:                 1000\n",
       "Model:                 ARIMA(3, 0, 0)   Log Likelihood               -1431.224\n",
       "Date:                Fri, 06 May 2022   AIC                           2872.448\n",
       "Time:                        07:57:55   BIC                           2896.986\n",
       "Sample:                             0   HQIC                          2881.774\n",
       "                               - 1000                                         \n",
       "Covariance Type:                  opg                                         \n",
       "==============================================================================\n",
       "                 coef    std err          z      P>|z|      [0.025      0.975]\n",
       "------------------------------------------------------------------------------\n",
       "const         -0.0367      0.155     -0.237      0.813      -0.340       0.267\n",
       "ar.L1          0.1466      0.031      4.711      0.000       0.086       0.208\n",
       "ar.L2          0.3396      0.029     11.738      0.000       0.283       0.396\n",
       "ar.L3          0.3061      0.031      9.976      0.000       0.246       0.366\n",
       "sigma2         1.0239      0.049     20.956      0.000       0.928       1.120\n",
       "===================================================================================\n",
       "Ljung-Box (L1) (Q):                   0.02   Jarque-Bera (JB):                 4.23\n",
       "Prob(Q):                              0.90   Prob(JB):                         0.12\n",
       "Heteroskedasticity (H):               0.99   Skew:                             0.13\n",
       "Prob(H) (two-sided):                  0.89   Kurtosis:                         2.81\n",
       "===================================================================================\n",
       "\n",
       "Warnings:\n",
       "[1] Covariance matrix calculated using the outer product of gradients (complex-step).\n",
       "\"\"\""
      ]
     },
     "execution_count": 78,
     "metadata": {},
     "output_type": "execute_result"
    }
   ],
   "source": [
    "result.summary()"
   ]
  },
  {
   "cell_type": "code",
   "execution_count": 79,
   "id": "4b884654-9db6-4045-8624-a3a08fe9d74f",
   "metadata": {},
   "outputs": [
    {
     "data": {
      "text/plain": [
       "{'S(t)': {'npts': 1000,\n",
       "  'DataType': <DataType.TIME_SERIES: 2>,\n",
       "  'Parameters': {'φ': array([0.2, 0.3, 0.3]),\n",
       "   'θ': [],\n",
       "   'σ': 1.0,\n",
       "   'μ': 0.0,\n",
       "   'γ': 0.0},\n",
       "  'Description': 'ARIMA(3,0,0)',\n",
       "  'ylabel': '$S_t$',\n",
       "  'xlabel': '$t$',\n",
       "  'SourceSchema': None,\n",
       "  'Estimates': {'AR(3)': {'Type': <EstType.AR: 'AR'>,\n",
       "    'Const': [-0.0366854853465707, 0.15485936004492096],\n",
       "    'Parameters': [[0.14663521994099865, 0.031128552219765016],\n",
       "     [0.3395846229718862, 0.02893036274619514],\n",
       "     [0.3061290728600482, 0.03068740938742761]],\n",
       "    'Sigma2': [1.0238870622113343, 0.048859083379277524]}},\n",
       "  'Tests': {}},\n",
       " 'Date': '06/05/2022 07:40:12',\n",
       " 'Name': 'ARMA-Simulation-f81b5126-2af6-4ae9-b722-c4d75c378f5f'}"
      ]
     },
     "execution_count": 79,
     "metadata": {},
     "output_type": "execute_result"
    }
   ],
   "source": [
    "ar3.attrs"
   ]
  },
  {
   "cell_type": "markdown",
   "id": "d68b2f3a-04f4-41d5-b163-4259bd9c97b3",
   "metadata": {},
   "source": [
    "## Simulations $\\sigma = 5.0$"
   ]
  },
  {
   "cell_type": "code",
   "execution_count": 80,
   "id": "108650e2-24b9-4bfb-b50c-cddf824b7582",
   "metadata": {},
   "outputs": [],
   "source": [
    "nsample = 10000\n",
    "σ = 5.0\n",
    "\n",
    "φ1 = numpy.array([0.2])\n",
    "ar1 = arima.arp(φ1, nsample, σ)\n",
    "\n",
    "φ2 = numpy.array([0.2, 0.4])\n",
    "ar2 = arima.arp(φ2, nsample, σ)\n",
    "\n",
    "φ3 = numpy.array([0.2, 0.3, 0.3])\n",
    "ar3 = arima.arp(φ3, nsample, σ)"
   ]
  },
  {
   "cell_type": "code",
   "execution_count": null,
   "id": "1321f575-5ac1-4dd6-ae2a-aa6569fd1f02",
   "metadata": {},
   "outputs": [],
   "source": [
    "labels = [r\"$\\varphi=$\"+f\"{numpy.array2string(φ1, precision=2, separator=',')}\",\n",
    "          r\"$\\varphi=$\"+f\"{numpy.array2string(φ2, precision=2, separator=',')}\",\n",
    "          r\"$\\varphi=$\"+f\"{numpy.array2string(φ3, precision=2, separator=',')}\"]\n",
    "title = \"AR(p) Comparison\"\n",
    "samples = [ar1[:500], ar2[:500], ar3[:500]]\n",
    "stack(samples, ylim=[-15.0, 15.0], title=title, labels=labels, plot_type=DataPlotType.TIME_SERIES)"
   ]
  },
  {
   "cell_type": "markdown",
   "id": "0ed6d07a-e5fd-446d-a264-2ee7b2cc3e46",
   "metadata": {},
   "source": [
    "### AR(1) Example ($\\varphi = 0.2$)"
   ]
  },
  {
   "cell_type": "code",
   "execution_count": 81,
   "id": "f1d06fd6-41ad-4821-98a0-feeee6850384",
   "metadata": {
    "tags": []
   },
   "outputs": [
    {
     "data": {
      "text/plain": [
       "0.19700353150596758"
      ]
     },
     "execution_count": 81,
     "metadata": {},
     "output_type": "execute_result"
    }
   ],
   "source": [
    "df = DataFunc.apply_func_type(ar1, DataType.PACF, nlags=1)\n",
    "df[\"PACF\"][1]"
   ]
  },
  {
   "cell_type": "code",
   "execution_count": 82,
   "id": "8eef19ff-6840-4e68-807a-0782c1c14131",
   "metadata": {},
   "outputs": [],
   "source": [
    "result = arima.ar_fit(ar1, 1)"
   ]
  },
  {
   "cell_type": "code",
   "execution_count": 83,
   "id": "17de5317-7042-4488-a002-b71e630c8a9b",
   "metadata": {},
   "outputs": [
    {
     "data": {
      "text/html": [
       "<table class=\"simpletable\">\n",
       "<caption>SARIMAX Results</caption>\n",
       "<tr>\n",
       "  <th>Dep. Variable:</th>         <td>S(t)</td>       <th>  No. Observations:  </th>    <td>10000</td>  \n",
       "</tr>\n",
       "<tr>\n",
       "  <th>Model:</th>            <td>ARIMA(1, 0, 0)</td>  <th>  Log Likelihood     </th> <td>-30392.285</td>\n",
       "</tr>\n",
       "<tr>\n",
       "  <th>Date:</th>            <td>Fri, 06 May 2022</td> <th>  AIC                </th>  <td>60790.571</td>\n",
       "</tr>\n",
       "<tr>\n",
       "  <th>Time:</th>                <td>07:59:52</td>     <th>  BIC                </th>  <td>60812.202</td>\n",
       "</tr>\n",
       "<tr>\n",
       "  <th>Sample:</th>                  <td>0</td>        <th>  HQIC               </th>  <td>60797.892</td>\n",
       "</tr>\n",
       "<tr>\n",
       "  <th></th>                     <td> - 10000</td>     <th>                     </th>      <td> </td>    \n",
       "</tr>\n",
       "<tr>\n",
       "  <th>Covariance Type:</th>        <td>opg</td>       <th>                     </th>      <td> </td>    \n",
       "</tr>\n",
       "</table>\n",
       "<table class=\"simpletable\">\n",
       "<tr>\n",
       "     <td></td>       <th>coef</th>     <th>std err</th>      <th>z</th>      <th>P>|z|</th>  <th>[0.025</th>    <th>0.975]</th>  \n",
       "</tr>\n",
       "<tr>\n",
       "  <th>const</th>  <td>   -0.0579</td> <td>    0.063</td> <td>   -0.920</td> <td> 0.358</td> <td>   -0.181</td> <td>    0.065</td>\n",
       "</tr>\n",
       "<tr>\n",
       "  <th>ar.L1</th>  <td>    0.1970</td> <td>    0.010</td> <td>   19.701</td> <td> 0.000</td> <td>    0.177</td> <td>    0.217</td>\n",
       "</tr>\n",
       "<tr>\n",
       "  <th>sigma2</th> <td>   25.5500</td> <td>    0.365</td> <td>   70.015</td> <td> 0.000</td> <td>   24.835</td> <td>   26.265</td>\n",
       "</tr>\n",
       "</table>\n",
       "<table class=\"simpletable\">\n",
       "<tr>\n",
       "  <th>Ljung-Box (L1) (Q):</th>     <td>0.01</td> <th>  Jarque-Bera (JB):  </th> <td>0.99</td> \n",
       "</tr>\n",
       "<tr>\n",
       "  <th>Prob(Q):</th>                <td>0.90</td> <th>  Prob(JB):          </th> <td>0.61</td> \n",
       "</tr>\n",
       "<tr>\n",
       "  <th>Heteroskedasticity (H):</th> <td>0.91</td> <th>  Skew:              </th> <td>-0.02</td>\n",
       "</tr>\n",
       "<tr>\n",
       "  <th>Prob(H) (two-sided):</th>    <td>0.01</td> <th>  Kurtosis:          </th> <td>2.96</td> \n",
       "</tr>\n",
       "</table><br/><br/>Warnings:<br/>[1] Covariance matrix calculated using the outer product of gradients (complex-step)."
      ],
      "text/plain": [
       "<class 'statsmodels.iolib.summary.Summary'>\n",
       "\"\"\"\n",
       "                               SARIMAX Results                                \n",
       "==============================================================================\n",
       "Dep. Variable:                   S(t)   No. Observations:                10000\n",
       "Model:                 ARIMA(1, 0, 0)   Log Likelihood              -30392.285\n",
       "Date:                Fri, 06 May 2022   AIC                          60790.571\n",
       "Time:                        07:59:52   BIC                          60812.202\n",
       "Sample:                             0   HQIC                         60797.892\n",
       "                              - 10000                                         \n",
       "Covariance Type:                  opg                                         \n",
       "==============================================================================\n",
       "                 coef    std err          z      P>|z|      [0.025      0.975]\n",
       "------------------------------------------------------------------------------\n",
       "const         -0.0579      0.063     -0.920      0.358      -0.181       0.065\n",
       "ar.L1          0.1970      0.010     19.701      0.000       0.177       0.217\n",
       "sigma2        25.5500      0.365     70.015      0.000      24.835      26.265\n",
       "===================================================================================\n",
       "Ljung-Box (L1) (Q):                   0.01   Jarque-Bera (JB):                 0.99\n",
       "Prob(Q):                              0.90   Prob(JB):                         0.61\n",
       "Heteroskedasticity (H):               0.91   Skew:                            -0.02\n",
       "Prob(H) (two-sided):                  0.01   Kurtosis:                         2.96\n",
       "===================================================================================\n",
       "\n",
       "Warnings:\n",
       "[1] Covariance matrix calculated using the outer product of gradients (complex-step).\n",
       "\"\"\""
      ]
     },
     "execution_count": 83,
     "metadata": {},
     "output_type": "execute_result"
    }
   ],
   "source": [
    "result.summary()"
   ]
  },
  {
   "cell_type": "code",
   "execution_count": 84,
   "id": "b39f328c-f2b4-4389-a39f-5c809959c92b",
   "metadata": {},
   "outputs": [
    {
     "data": {
      "text/plain": [
       "{'S(t)': {'npts': 10000,\n",
       "  'DataType': <DataType.TIME_SERIES: 2>,\n",
       "  'Parameters': {'φ': array([0.2]), 'θ': [], 'σ': 5.0, 'μ': 0.0, 'γ': 0.0},\n",
       "  'Description': 'ARIMA(1,0,0)',\n",
       "  'ylabel': '$S_t$',\n",
       "  'xlabel': '$t$',\n",
       "  'SourceSchema': None,\n",
       "  'Estimates': {'AR(1)': {'Type': <EstType.AR: 'AR'>,\n",
       "    'Const': [-0.05791960416214798, 0.06295557029738051],\n",
       "    'Parameters': [[0.19698219307189369, 0.009998504827455793]],\n",
       "    'Sigma2': [25.54995371737415, 0.3649186414738336]}},\n",
       "  'Tests': {}},\n",
       " 'Date': '06/05/2022 07:59:02',\n",
       " 'Name': 'ARMA-Simulation-bc02b5c4-6c99-4b4d-addb-d692472657a5'}"
      ]
     },
     "execution_count": 84,
     "metadata": {},
     "output_type": "execute_result"
    }
   ],
   "source": [
    "ar1.attrs"
   ]
  },
  {
   "cell_type": "markdown",
   "id": "8f0e24b9-2cc2-452f-afee-711c902a3a8a",
   "metadata": {},
   "source": [
    "### AR(2) Example ($\\varphi = [0.2, 0.4]$)"
   ]
  },
  {
   "cell_type": "code",
   "execution_count": 85,
   "id": "8c11c0f2-baba-4abc-8273-a1a6ae09d6dd",
   "metadata": {},
   "outputs": [
    {
     "data": {
      "text/plain": [
       "1    0.193616\n",
       "2    0.401239\n",
       "Name: PACF, dtype: float64"
      ]
     },
     "execution_count": 85,
     "metadata": {},
     "output_type": "execute_result"
    }
   ],
   "source": [
    "df = DataFunc.apply_func_type(ar2, DataType.PACF, nlags=2)\n",
    "df[\"PACF\"][1:3]"
   ]
  },
  {
   "cell_type": "code",
   "execution_count": 87,
   "id": "e331f46a-724e-46a7-b24f-03000f46ba59",
   "metadata": {},
   "outputs": [],
   "source": [
    "result = arima.ar_fit(ar2, 2)"
   ]
  },
  {
   "cell_type": "code",
   "execution_count": 88,
   "id": "75d57813-66e0-40dd-93ab-b4f690ff32e1",
   "metadata": {},
   "outputs": [
    {
     "data": {
      "text/html": [
       "<table class=\"simpletable\">\n",
       "<caption>SARIMAX Results</caption>\n",
       "<tr>\n",
       "  <th>Dep. Variable:</th>         <td>S(t)</td>       <th>  No. Observations:  </th>    <td>10000</td>  \n",
       "</tr>\n",
       "<tr>\n",
       "  <th>Model:</th>            <td>ARIMA(2, 0, 0)</td>  <th>  Log Likelihood     </th> <td>-30245.071</td>\n",
       "</tr>\n",
       "<tr>\n",
       "  <th>Date:</th>            <td>Fri, 06 May 2022</td> <th>  AIC                </th>  <td>60498.141</td>\n",
       "</tr>\n",
       "<tr>\n",
       "  <th>Time:</th>                <td>08:01:27</td>     <th>  BIC                </th>  <td>60526.983</td>\n",
       "</tr>\n",
       "<tr>\n",
       "  <th>Sample:</th>                  <td>0</td>        <th>  HQIC               </th>  <td>60507.904</td>\n",
       "</tr>\n",
       "<tr>\n",
       "  <th></th>                     <td> - 10000</td>     <th>                     </th>      <td> </td>    \n",
       "</tr>\n",
       "<tr>\n",
       "  <th>Covariance Type:</th>        <td>opg</td>       <th>                     </th>      <td> </td>    \n",
       "</tr>\n",
       "</table>\n",
       "<table class=\"simpletable\">\n",
       "<tr>\n",
       "     <td></td>       <th>coef</th>     <th>std err</th>      <th>z</th>      <th>P>|z|</th>  <th>[0.025</th>    <th>0.975]</th>  \n",
       "</tr>\n",
       "<tr>\n",
       "  <th>const</th>  <td>    0.1538</td> <td>    0.123</td> <td>    1.251</td> <td> 0.211</td> <td>   -0.087</td> <td>    0.395</td>\n",
       "</tr>\n",
       "<tr>\n",
       "  <th>ar.L1</th>  <td>    0.1936</td> <td>    0.009</td> <td>   20.922</td> <td> 0.000</td> <td>    0.175</td> <td>    0.212</td>\n",
       "</tr>\n",
       "<tr>\n",
       "  <th>ar.L2</th>  <td>    0.4012</td> <td>    0.009</td> <td>   44.225</td> <td> 0.000</td> <td>    0.383</td> <td>    0.419</td>\n",
       "</tr>\n",
       "<tr>\n",
       "  <th>sigma2</th> <td>   24.8074</td> <td>    0.349</td> <td>   71.153</td> <td> 0.000</td> <td>   24.124</td> <td>   25.491</td>\n",
       "</tr>\n",
       "</table>\n",
       "<table class=\"simpletable\">\n",
       "<tr>\n",
       "  <th>Ljung-Box (L1) (Q):</th>     <td>0.02</td> <th>  Jarque-Bera (JB):  </th> <td>1.47</td> \n",
       "</tr>\n",
       "<tr>\n",
       "  <th>Prob(Q):</th>                <td>0.89</td> <th>  Prob(JB):          </th> <td>0.48</td> \n",
       "</tr>\n",
       "<tr>\n",
       "  <th>Heteroskedasticity (H):</th> <td>1.04</td> <th>  Skew:              </th> <td>-0.03</td>\n",
       "</tr>\n",
       "<tr>\n",
       "  <th>Prob(H) (two-sided):</th>    <td>0.29</td> <th>  Kurtosis:          </th> <td>3.03</td> \n",
       "</tr>\n",
       "</table><br/><br/>Warnings:<br/>[1] Covariance matrix calculated using the outer product of gradients (complex-step)."
      ],
      "text/plain": [
       "<class 'statsmodels.iolib.summary.Summary'>\n",
       "\"\"\"\n",
       "                               SARIMAX Results                                \n",
       "==============================================================================\n",
       "Dep. Variable:                   S(t)   No. Observations:                10000\n",
       "Model:                 ARIMA(2, 0, 0)   Log Likelihood              -30245.071\n",
       "Date:                Fri, 06 May 2022   AIC                          60498.141\n",
       "Time:                        08:01:27   BIC                          60526.983\n",
       "Sample:                             0   HQIC                         60507.904\n",
       "                              - 10000                                         \n",
       "Covariance Type:                  opg                                         \n",
       "==============================================================================\n",
       "                 coef    std err          z      P>|z|      [0.025      0.975]\n",
       "------------------------------------------------------------------------------\n",
       "const          0.1538      0.123      1.251      0.211      -0.087       0.395\n",
       "ar.L1          0.1936      0.009     20.922      0.000       0.175       0.212\n",
       "ar.L2          0.4012      0.009     44.225      0.000       0.383       0.419\n",
       "sigma2        24.8074      0.349     71.153      0.000      24.124      25.491\n",
       "===================================================================================\n",
       "Ljung-Box (L1) (Q):                   0.02   Jarque-Bera (JB):                 1.47\n",
       "Prob(Q):                              0.89   Prob(JB):                         0.48\n",
       "Heteroskedasticity (H):               1.04   Skew:                            -0.03\n",
       "Prob(H) (two-sided):                  0.29   Kurtosis:                         3.03\n",
       "===================================================================================\n",
       "\n",
       "Warnings:\n",
       "[1] Covariance matrix calculated using the outer product of gradients (complex-step).\n",
       "\"\"\""
      ]
     },
     "execution_count": 88,
     "metadata": {},
     "output_type": "execute_result"
    }
   ],
   "source": [
    "result.summary()"
   ]
  },
  {
   "cell_type": "code",
   "execution_count": 95,
   "id": "5a4afb09-1928-4c57-9937-792894a3e800",
   "metadata": {},
   "outputs": [
    {
     "data": {
      "text/plain": [
       "{'S(t)': {'npts': 10000,\n",
       "  'DataType': <DataType.TIME_SERIES: 2>,\n",
       "  'Parameters': {'φ': array([0.2, 0.4]),\n",
       "   'θ': [],\n",
       "   'σ': 5.0,\n",
       "   'μ': 0.0,\n",
       "   'γ': 0.0},\n",
       "  'Description': 'ARIMA(2,0,0)',\n",
       "  'ylabel': '$S_t$',\n",
       "  'xlabel': '$t$',\n",
       "  'SourceSchema': None,\n",
       "  'Estimates': {'AR(2)': {'Type': <EstType.AR: 'AR'>,\n",
       "    'Const': [0.15375700905941933, 0.12293340414934234],\n",
       "    'Parameters': [[0.19360969334837672, 0.009253840411098821],\n",
       "     [0.4012424227806347, 0.00907284486502802]],\n",
       "    'Sigma2': [24.807394350967314, 0.34864797562486405]}},\n",
       "  'Tests': {}},\n",
       " 'Date': '06/05/2022 07:59:02',\n",
       " 'Name': 'ARMA-Simulation-5058953b-d1e7-4907-91f5-3d182e74aa7b'}"
      ]
     },
     "execution_count": 95,
     "metadata": {},
     "output_type": "execute_result"
    }
   ],
   "source": [
    "ar2.attrs"
   ]
  },
  {
   "cell_type": "markdown",
   "id": "e82891c0-1e0b-4e5e-b92a-fc8bc073d474",
   "metadata": {
    "tags": []
   },
   "source": [
    "### AR(3) Example ($\\varphi = [0.2, 0.3, 0.3]$)"
   ]
  },
  {
   "cell_type": "code",
   "execution_count": 92,
   "id": "4dc42aa3-c1d2-45ee-a300-8f602f349bcb",
   "metadata": {},
   "outputs": [
    {
     "data": {
      "text/plain": [
       "1    0.200636\n",
       "2    0.292579\n",
       "3    0.301547\n",
       "Name: PACF, dtype: float64"
      ]
     },
     "execution_count": 92,
     "metadata": {},
     "output_type": "execute_result"
    }
   ],
   "source": [
    "df = DataFunc.apply_func_type(ar3, DataType.PACF, nlags=3)\n",
    "df[\"PACF\"][1:4]"
   ]
  },
  {
   "cell_type": "code",
   "execution_count": 93,
   "id": "696cbc91-5820-4d5b-ac2f-6e0e656aa7e8",
   "metadata": {},
   "outputs": [],
   "source": [
    "result = arima.ar_fit(ar3, 3)"
   ]
  },
  {
   "cell_type": "code",
   "execution_count": 96,
   "id": "8e3d5d4c-974a-46b7-a405-8e32442721fa",
   "metadata": {},
   "outputs": [
    {
     "data": {
      "text/html": [
       "<table class=\"simpletable\">\n",
       "<caption>SARIMAX Results</caption>\n",
       "<tr>\n",
       "  <th>Dep. Variable:</th>         <td>S(t)</td>       <th>  No. Observations:  </th>    <td>10000</td>  \n",
       "</tr>\n",
       "<tr>\n",
       "  <th>Model:</th>            <td>ARIMA(3, 0, 0)</td>  <th>  Log Likelihood     </th> <td>-30215.457</td>\n",
       "</tr>\n",
       "<tr>\n",
       "  <th>Date:</th>            <td>Fri, 06 May 2022</td> <th>  AIC                </th>  <td>60440.914</td>\n",
       "</tr>\n",
       "<tr>\n",
       "  <th>Time:</th>                <td>08:10:25</td>     <th>  BIC                </th>  <td>60476.966</td>\n",
       "</tr>\n",
       "<tr>\n",
       "  <th>Sample:</th>                  <td>0</td>        <th>  HQIC               </th>  <td>60453.118</td>\n",
       "</tr>\n",
       "<tr>\n",
       "  <th></th>                     <td> - 10000</td>     <th>                     </th>      <td> </td>    \n",
       "</tr>\n",
       "<tr>\n",
       "  <th>Covariance Type:</th>        <td>opg</td>       <th>                     </th>      <td> </td>    \n",
       "</tr>\n",
       "</table>\n",
       "<table class=\"simpletable\">\n",
       "<tr>\n",
       "     <td></td>       <th>coef</th>     <th>std err</th>      <th>z</th>      <th>P>|z|</th>  <th>[0.025</th>    <th>0.975]</th>  \n",
       "</tr>\n",
       "<tr>\n",
       "  <th>const</th>  <td>   -0.1185</td> <td>    0.242</td> <td>   -0.490</td> <td> 0.624</td> <td>   -0.593</td> <td>    0.355</td>\n",
       "</tr>\n",
       "<tr>\n",
       "  <th>ar.L1</th>  <td>    0.2005</td> <td>    0.010</td> <td>   20.927</td> <td> 0.000</td> <td>    0.182</td> <td>    0.219</td>\n",
       "</tr>\n",
       "<tr>\n",
       "  <th>ar.L2</th>  <td>    0.2926</td> <td>    0.009</td> <td>   31.386</td> <td> 0.000</td> <td>    0.274</td> <td>    0.311</td>\n",
       "</tr>\n",
       "<tr>\n",
       "  <th>ar.L3</th>  <td>    0.3017</td> <td>    0.010</td> <td>   31.229</td> <td> 0.000</td> <td>    0.283</td> <td>    0.321</td>\n",
       "</tr>\n",
       "<tr>\n",
       "  <th>sigma2</th> <td>   24.6544</td> <td>    0.347</td> <td>   70.984</td> <td> 0.000</td> <td>   23.974</td> <td>   25.335</td>\n",
       "</tr>\n",
       "</table>\n",
       "<table class=\"simpletable\">\n",
       "<tr>\n",
       "  <th>Ljung-Box (L1) (Q):</th>     <td>0.00</td> <th>  Jarque-Bera (JB):  </th> <td>0.15</td>\n",
       "</tr>\n",
       "<tr>\n",
       "  <th>Prob(Q):</th>                <td>0.96</td> <th>  Prob(JB):          </th> <td>0.93</td>\n",
       "</tr>\n",
       "<tr>\n",
       "  <th>Heteroskedasticity (H):</th> <td>1.03</td> <th>  Skew:              </th> <td>0.01</td>\n",
       "</tr>\n",
       "<tr>\n",
       "  <th>Prob(H) (two-sided):</th>    <td>0.36</td> <th>  Kurtosis:          </th> <td>3.02</td>\n",
       "</tr>\n",
       "</table><br/><br/>Warnings:<br/>[1] Covariance matrix calculated using the outer product of gradients (complex-step)."
      ],
      "text/plain": [
       "<class 'statsmodels.iolib.summary.Summary'>\n",
       "\"\"\"\n",
       "                               SARIMAX Results                                \n",
       "==============================================================================\n",
       "Dep. Variable:                   S(t)   No. Observations:                10000\n",
       "Model:                 ARIMA(3, 0, 0)   Log Likelihood              -30215.457\n",
       "Date:                Fri, 06 May 2022   AIC                          60440.914\n",
       "Time:                        08:10:25   BIC                          60476.966\n",
       "Sample:                             0   HQIC                         60453.118\n",
       "                              - 10000                                         \n",
       "Covariance Type:                  opg                                         \n",
       "==============================================================================\n",
       "                 coef    std err          z      P>|z|      [0.025      0.975]\n",
       "------------------------------------------------------------------------------\n",
       "const         -0.1185      0.242     -0.490      0.624      -0.593       0.355\n",
       "ar.L1          0.2005      0.010     20.927      0.000       0.182       0.219\n",
       "ar.L2          0.2926      0.009     31.386      0.000       0.274       0.311\n",
       "ar.L3          0.3017      0.010     31.229      0.000       0.283       0.321\n",
       "sigma2        24.6544      0.347     70.984      0.000      23.974      25.335\n",
       "===================================================================================\n",
       "Ljung-Box (L1) (Q):                   0.00   Jarque-Bera (JB):                 0.15\n",
       "Prob(Q):                              0.96   Prob(JB):                         0.93\n",
       "Heteroskedasticity (H):               1.03   Skew:                             0.01\n",
       "Prob(H) (two-sided):                  0.36   Kurtosis:                         3.02\n",
       "===================================================================================\n",
       "\n",
       "Warnings:\n",
       "[1] Covariance matrix calculated using the outer product of gradients (complex-step).\n",
       "\"\"\""
      ]
     },
     "execution_count": 96,
     "metadata": {},
     "output_type": "execute_result"
    }
   ],
   "source": [
    "result.summary()"
   ]
  },
  {
   "cell_type": "code",
   "execution_count": 98,
   "id": "84f5239c-6d1b-4987-af0a-236e350f3755",
   "metadata": {},
   "outputs": [
    {
     "data": {
      "text/plain": [
       "{'S(t)': {'npts': 10000,\n",
       "  'DataType': <DataType.TIME_SERIES: 2>,\n",
       "  'Parameters': {'φ': array([0.2, 0.3, 0.3]),\n",
       "   'θ': [],\n",
       "   'σ': 5.0,\n",
       "   'μ': 0.0,\n",
       "   'γ': 0.0},\n",
       "  'Description': 'ARIMA(3,0,0)',\n",
       "  'ylabel': '$S_t$',\n",
       "  'xlabel': '$t$',\n",
       "  'SourceSchema': None,\n",
       "  'Estimates': {'AR(3)': {'Type': <EstType.AR: 'AR'>,\n",
       "    'Const': [-0.1185124740711277, 0.24184195649031598],\n",
       "    'Parameters': [[0.20050369815107844, 0.009581189113578893],\n",
       "     [0.29257503649329114, 0.009321912981880362],\n",
       "     [0.30168797261255603, 0.00966056424874258]],\n",
       "    'Sigma2': [24.65438083504564, 0.34732121917116837]}},\n",
       "  'Tests': {}},\n",
       " 'Date': '06/05/2022 07:59:02',\n",
       " 'Name': 'ARMA-Simulation-8243d42f-7ab6-4f7e-8ba6-741e99e0b3cd'}"
      ]
     },
     "execution_count": 98,
     "metadata": {},
     "output_type": "execute_result"
    }
   ],
   "source": [
    "ar3.attrs"
   ]
  }
 ],
 "metadata": {
  "kernelspec": {
   "display_name": "Python 3 (ipykernel)",
   "language": "python",
   "name": "python3"
  },
  "language_info": {
   "codemirror_mode": {
    "name": "ipython",
    "version": 3
   },
   "file_extension": ".py",
   "mimetype": "text/x-python",
   "name": "python",
   "nbconvert_exporter": "python",
   "pygments_lexer": "ipython3",
   "version": "3.9.2"
  }
 },
 "nbformat": 4,
 "nbformat_minor": 5
}
