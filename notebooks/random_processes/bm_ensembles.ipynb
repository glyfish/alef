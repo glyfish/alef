{
 "cells": [
  {
   "cell_type": "markdown",
   "id": "09b73974-d14d-4fdf-9ee8-0b0eb905d16c",
   "metadata": {},
   "source": [
    "# Brownian Motion Ensembles\n",
    "\n",
    "Ensemble simulations of brownian motion, browninan motion with drift and geometric brownian motion are given.</br>\n",
    "Let $B_t$ denote brownian motion and let $dB_t$ denote its inifinitesimal, with </br>\n",
    "\n",
    "$\n",
    "\\begin{align}\n",
    "&dB_t \\sim N(0,dt) \\\\\n",
    "&\\text{E}[dB_t ] = 0 \\\\\n",
    "&\\text{E} [ ( dB_t )^2 ] = dt\n",
    "\\end{align}\n",
    "$\n",
    "\n",
    "It follows that,\n",
    "\n",
    "$\n",
    "\\begin{align}\n",
    "&\\text{E}(B_t) = 0 \\\\\n",
    "&\\text{Var}(B_t) = t\n",
    "\\end{align}\n",
    "$\n",
    "\n",
    "Brownian motion with drift is defined by the stochastic differential equation,</br>\n",
    "\n",
    "$\n",
    "\\begin{align}\n",
    "dD_t = \\mu dt + \\sigma dB_t\n",
    "\\end{align}\n",
    "$\n",
    "\n",
    "directly inegrating leads to the solution,</br>\n",
    "\n",
    "$\n",
    "\\begin{align}\n",
    "D_t = D_0 + \\mu t + \\sigma B_t\n",
    "\\end{align}\n",
    "$\n",
    "\n",
    "The first and second moments are,\n",
    "\n",
    "$\n",
    "\\begin{align}\n",
    "&\\text{E}[D_t] = D_0 + \\mu t\\\\\n",
    "&\\text{Var}[D_t] = \\sigma^2 t\n",
    "\\end{align}\n",
    "$\n",
    "\n",
    "Geometric brownian motion is defined by stochastic differential equation, </br>\n",
    "\n",
    "$\n",
    "\\begin{align}\n",
    "dS_t = \\mu S_t dt + \\sigma S_t dB_t\n",
    "\\end{align}\n",
    "$\n",
    "\n",
    "Consider $\\ln{S_t}$, applying Ito's lemma,</br>\n",
    "\n",
    "$\n",
    "\\begin{align}\n",
    "d(\\ln{S_t}) = \\frac{dS_t}{S_t} - \\frac{1}{2}\\frac{(dS_t)^2}{S_t^2}\n",
    "\\end{align}\n",
    "$\n",
    "\n",
    "From the stochastic differential equation $(dS_t)^2 = \\sigma^2 dt$ so, \n",
    "\n",
    "$\n",
    "\\begin{align}\n",
    "d(\\ln{S_t}) = \\left( \\mu - \\frac{1}{2}\\sigma^2 \\right) dt + \\sigma dB_t\n",
    "\\end{align}\n",
    "$\n",
    "\n",
    "This equation can be integrated to give the solution,</br>\n",
    "\n",
    "$\n",
    "\\begin{align}\n",
    "S_t=S_0 e^{\\left( \\mu - \\frac{1}{2} \\sigma^2 \\right)t + \\sigma B_t}\n",
    "\\end{align}\n",
    "$\n",
    "\n",
    "The first and second moments of geometric brownian motion are,</br>\n",
    "\n",
    "$\n",
    "\\begin{align}\n",
    "&\\text{E}[S_t] = S_0 e^{\\mu t} \\\\\n",
    "&\\text{Var}[S_t] = S_0^2 e^{2\\mu t}\\left( e^{\\sigma^2 t} - 1 \\right)\n",
    "\\end{align}\n",
    "$\n"
   ]
  },
  {
   "cell_type": "markdown",
   "id": "73ef56d7-bc29-4e80-adf8-f11928c4a15e",
   "metadata": {
    "tags": []
   },
   "source": [
    "## Imports"
   ]
  },
  {
   "cell_type": "code",
   "execution_count": 17,
   "id": "c79425bf-bbba-41cf-89d4-be57ffd1c14d",
   "metadata": {},
   "outputs": [
    {
     "name": "stderr",
     "output_type": "stream",
     "text": [
      "[autoreload of lib.plots failed: Traceback (most recent call last):\n",
      "  File \"/Users/troy/.pyenv/versions/gly.fish.3.9.2/lib/python3.9/site-packages/IPython/extensions/autoreload.py\", line 245, in check\n",
      "    superreload(m, reload, self.old_objects)\n",
      "  File \"/Users/troy/.pyenv/versions/gly.fish.3.9.2/lib/python3.9/site-packages/IPython/extensions/autoreload.py\", line 394, in superreload\n",
      "    module = reload(module)\n",
      "  File \"/Users/troy/.pyenv/versions/3.9.2/lib/python3.9/imp.py\", line 314, in reload\n",
      "    return importlib.reload(module)\n",
      "  File \"/Users/troy/.pyenv/versions/3.9.2/lib/python3.9/importlib/__init__.py\", line 169, in reload\n",
      "    _bootstrap._exec(spec, module)\n",
      "  File \"<frozen importlib._bootstrap>\", line 613, in _exec\n",
      "  File \"<frozen importlib._bootstrap_external>\", line 786, in exec_module\n",
      "  File \"<frozen importlib._bootstrap_external>\", line 923, in get_code\n",
      "  File \"<frozen importlib._bootstrap_external>\", line 853, in source_to_code\n",
      "  File \"<frozen importlib._bootstrap>\", line 228, in _call_with_frames_removed\n",
      "  File \"/Users/troy/Develop/gly.fish/alef/lib/plots.py\", line 316\n",
      "    elif data_type == PlotDataType.GBM_MEAN:\n",
      "    ^\n",
      "IndentationError: expected an indented block\n",
      "]\n",
      "[autoreload of lib.plots failed: Traceback (most recent call last):\n",
      "  File \"/Users/troy/.pyenv/versions/gly.fish.3.9.2/lib/python3.9/site-packages/IPython/extensions/autoreload.py\", line 245, in check\n",
      "    superreload(m, reload, self.old_objects)\n",
      "  File \"/Users/troy/.pyenv/versions/gly.fish.3.9.2/lib/python3.9/site-packages/IPython/extensions/autoreload.py\", line 394, in superreload\n",
      "    module = reload(module)\n",
      "  File \"/Users/troy/.pyenv/versions/3.9.2/lib/python3.9/imp.py\", line 314, in reload\n",
      "    return importlib.reload(module)\n",
      "  File \"/Users/troy/.pyenv/versions/3.9.2/lib/python3.9/importlib/__init__.py\", line 169, in reload\n",
      "    _bootstrap._exec(spec, module)\n",
      "  File \"<frozen importlib._bootstrap>\", line 613, in _exec\n",
      "  File \"<frozen importlib._bootstrap_external>\", line 786, in exec_module\n",
      "  File \"<frozen importlib._bootstrap_external>\", line 923, in get_code\n",
      "  File \"<frozen importlib._bootstrap_external>\", line 853, in source_to_code\n",
      "  File \"<frozen importlib._bootstrap>\", line 228, in _call_with_frames_removed\n",
      "  File \"/Users/troy/Develop/gly.fish/alef/lib/plots.py\", line 316\n",
      "    elif data_type == PlotDataType.GBM_MEAN:\n",
      "    ^\n",
      "IndentationError: expected an indented block\n",
      "]\n"
     ]
    }
   ],
   "source": [
    "%reload_ext autoreload\n",
    "%autoreload 2\n",
    "\n",
    "# import system modules and set local import path\n",
    "import os\n",
    "import sys\n",
    "import numpy\n",
    "from matplotlib import pyplot\n",
    "\n",
    "sys.path.insert(0, os.path.abspath('../..'))\n",
    "\n",
    "# import local modules\n",
    "from lib import bm\n",
    "from lib import plots\n",
    "from lib import config\n",
    "from lib import stats\n",
    "\n",
    "# Config Plot Style\n",
    "pyplot.style.use(config.glyfish_style)"
   ]
  },
  {
   "cell_type": "markdown",
   "id": "72b1aea0-869c-409e-bdae-21f8fdfca884",
   "metadata": {
    "jp-MarkdownHeadingCollapsed": true,
    "tags": []
   },
   "source": [
    "## Helpers"
   ]
  },
  {
   "cell_type": "code",
   "execution_count": 14,
   "id": "bcf0f870-ef14-4d49-84c9-4967b872334a",
   "metadata": {},
   "outputs": [],
   "source": [
    "Δt = 1.0\n",
    "npts = 1024\n",
    "time = numpy.linspace(0.0, float(npts)*Δt, npts)\n",
    "nsim = 1000\n",
    "\n",
    "def generate_ensemble(nsim, npts):\n",
    "    samples = numpy.array([bm.generate(npts, Δt)])\n",
    "    for i in range(1, nsim):\n",
    "        samples = numpy.append(samples, numpy.array([bm.generate(npts, Δt)]), axis=0)\n",
    "    return samples\n",
    "\n",
    "def generate_with_drift_ensemble(nsim, npts, μ, σ):\n",
    "    samples = numpy.array([bm.generate_with_drift(μ, σ, npts, Δt)])\n",
    "    for i in range(1, nsim):\n",
    "        samples = numpy.append(samples, numpy.array([bm.generate_with_drift(μ, σ, npts, Δt)]), axis=0)\n",
    "    return samples\n",
    "\n",
    "def generate_geometric_ensemble(nsim, npts, μ, σ, s0):\n",
    "    samples = numpy.array([bm.generate_geometric(μ, σ, s0, npts, Δt)])\n",
    "    for i in range(1, nsim):\n",
    "        samples = numpy.append(samples, numpy.array([bm.generate_geometric(μ, σ, s0, npts, Δt)]), axis=0)\n",
    "    return samples"
   ]
  },
  {
   "cell_type": "markdown",
   "id": "f905644f-1c76-49a7-bb58-53debbb13c76",
   "metadata": {
    "tags": []
   },
   "source": [
    "## Plots"
   ]
  },
  {
   "cell_type": "code",
   "execution_count": 15,
   "id": "652190f9-b9eb-4c5c-9730-ca3815f8613f",
   "metadata": {},
   "outputs": [],
   "source": [
    "def ensemble_plot(samples, time, title):\n",
    "    nplot = len(samples)\n",
    "    figure, axis = pyplot.subplots(figsize=(15, 12))\n",
    "    axis.set_xlabel(\"Time\")\n",
    "    axis.set_ylabel(r\"$B_t$\")\n",
    "    axis.set_title(title)\n",
    "    for i in range(nplot):\n",
    "        axis.plot(time, samples[i], lw=1)\n",
    "\n",
    "def ensemble_mean_plot(mean, time, μ, lengend_location, title):\n",
    "    figure, axis = pyplot.subplots(figsize=(15, 12))\n",
    "    step = int(len(time) / 10)\n",
    "    axis.set_xlabel(\"Time\")\n",
    "    axis.set_ylabel(r\"$μ_t$\")\n",
    "    axis.set_title(title)\n",
    "    axis.plot(time, mean, label=\"Ensemble Average\")\n",
    "    axis.plot(time[::step], numpy.full(len(time[::step]), μ), label=r\"$\\mu$\", marker='o', linestyle=\"None\", markeredgewidth=1.0, markersize=15.0)\n",
    "    axis.legend(bbox_to_anchor=lengend_location)\n",
    "\n",
    "def ensemble_mean_plot_with_drift(mean, time, μ, lengend_location, title):\n",
    "    figure, axis = pyplot.subplots(figsize=(15, 12))\n",
    "    step = int(len(time) / 10)\n",
    "    axis.set_xlabel(\"Time\")\n",
    "    axis.set_ylabel(r\"$μ_t$\")\n",
    "    axis.set_title(title)\n",
    "    axis.plot(time, mean, label=\"Ensemble Average\")\n",
    "    axis.plot(time[::step], μ*time[::step], label=r\"$\\mu t$\", marker='o', linestyle=\"None\", markeredgewidth=1.0, markersize=15.0)\n",
    "    axis.legend(bbox_to_anchor=lengend_location)\n",
    "\n",
    "def ensemble_std_plot(std, time, σ, lengend_location, title):\n",
    "    figure, axis = pyplot.subplots(figsize=(15, 12))\n",
    "    step = int(len(time) / 10)\n",
    "    axis.set_xlabel(\"Time\")\n",
    "    axis.set_ylabel(r\"$σ_t$\")\n",
    "    axis.set_title(title)\n",
    "    axis.plot(time, std, label=\"Ensemble Average\")\n",
    "    label=r\"$\\sigma \\sqrt{t}$\"\n",
    "    if σ == 1.0:\n",
    "        label = label=r\"$\\sqrt{t}$\"\n",
    "    axis.plot(time[::step], σ*numpy.sqrt(time[::step]), label=label, marker='o', linestyle=\"None\", markeredgewidth=1.0, markersize=15.0)\n",
    "    axis.legend(bbox_to_anchor=lengend_location)\n",
    "    \n",
    "def ensemble_mean_plot_gbm(mean, time, S0, μ, lengend_location, title):\n",
    "    figure, axis = pyplot.subplots(figsize=(15, 12))\n",
    "    step = int(len(time) / 10)\n",
    "    axis.set_xlabel(\"Time\")\n",
    "    axis.set_ylabel(r\"$μ_t$\")\n",
    "    axis.set_title(title)\n",
    "    axis.plot(time, mean, label=\"Ensemble Average\")\n",
    "    axis.plot(time[::step], S0*numpy.exp(μ*time[::step]), label=r\"$S_0 e^{\\mu t}$\", marker='o', linestyle=\"None\", markeredgewidth=1.0, markersize=15.0)\n",
    "    axis.legend(bbox_to_anchor=lengend_location)\n",
    "    \n",
    "def ensemble_std_plot_gbm(std, time, S0, μ, σ, lengend_location, title):\n",
    "    figure, axis = pyplot.subplots(figsize=(15, 12))\n",
    "    step = int(len(time) / 10)\n",
    "    step = int(len(time) / 10)\n",
    "    var = S0**2*numpy.exp(2*μ*time[::step])*(numpy.exp(time[::step]*σ**2) -1)\n",
    "    std_label = r\"$S_0 e^{\\mu t}\\sqrt{e^{\\sigma^2 t} - 1}$\"\n",
    "    axis.set_xlabel(\"Time\")\n",
    "    axis.set_ylabel(r\"$σ_t$\")\n",
    "    axis.set_title(title)\n",
    "    axis.plot(time, std, label=\"Ensemble Average\")\n",
    "    axis.plot(time[::step], numpy.sqrt(var), label=std_label, marker='o', linestyle=\"None\", markeredgewidth=1.0, markersize=15.0)\n",
    "    axis.legend(bbox_to_anchor=lengend_location)"
   ]
  },
  {
   "cell_type": "markdown",
   "id": "c115bedc-41c5-4cd5-b0b7-ed62fd132c17",
   "metadata": {},
   "source": [
    "## Brownian Motion"
   ]
  },
  {
   "cell_type": "code",
   "execution_count": 16,
   "id": "4f2a4d94-0252-4c55-a93e-082cac7e323c",
   "metadata": {},
   "outputs": [
    {
     "ename": "NameError",
     "evalue": "name 'PlotDataType' is not defined",
     "output_type": "error",
     "traceback": [
      "\u001b[0;31m---------------------------------------------------------------------------\u001b[0m",
      "\u001b[0;31mNameError\u001b[0m                                 Traceback (most recent call last)",
      "\u001b[0;32m/var/folders/hc/xc94zvls2pq_pw366sdbqlhr0000gn/T/ipykernel_50211/756802127.py\u001b[0m in \u001b[0;36m<module>\u001b[0;34m\u001b[0m\n\u001b[1;32m      1\u001b[0m \u001b[0mtitle\u001b[0m \u001b[0;34m=\u001b[0m \u001b[0;34mf\"Brownian Motion Ensemble: nsim={nsim}, μ=0.0\"\u001b[0m\u001b[0;34m\u001b[0m\u001b[0;34m\u001b[0m\u001b[0m\n\u001b[1;32m      2\u001b[0m \u001b[0msamples\u001b[0m \u001b[0;34m=\u001b[0m \u001b[0mgenerate_ensemble\u001b[0m\u001b[0;34m(\u001b[0m\u001b[0mnsim\u001b[0m\u001b[0;34m,\u001b[0m \u001b[0mnpts\u001b[0m\u001b[0;34m)\u001b[0m\u001b[0;34m\u001b[0m\u001b[0;34m\u001b[0m\u001b[0m\n\u001b[0;32m----> 3\u001b[0;31m \u001b[0mplots\u001b[0m\u001b[0;34m.\u001b[0m\u001b[0mcomparison\u001b[0m\u001b[0;34m(\u001b[0m\u001b[0mtime\u001b[0m\u001b[0;34m,\u001b[0m \u001b[0msamples\u001b[0m\u001b[0;34m,\u001b[0m \u001b[0mtitle\u001b[0m\u001b[0;34m,\u001b[0m \u001b[0mdata_type\u001b[0m\u001b[0;34m=\u001b[0m\u001b[0mPlotDataType\u001b[0m\u001b[0;34m.\u001b[0m\u001b[0mENSEMBLE\u001b[0m\u001b[0;34m)\u001b[0m\u001b[0;34m\u001b[0m\u001b[0;34m\u001b[0m\u001b[0m\n\u001b[0m",
      "\u001b[0;31mNameError\u001b[0m: name 'PlotDataType' is not defined"
     ]
    }
   ],
   "source": [
    "title = f\"Brownian Motion Ensemble: nsim={nsim}, μ=0.0\"\n",
    "samples = generate_ensemble(nsim, npts)\n",
    "plots.comparison(time, samples, title, data_type=PlotDataType.ENSEMBLE)"
   ]
  },
  {
   "cell_type": "code",
   "execution_count": null,
   "id": "548174b7-5821-4561-b1d4-eb6e082ffc59",
   "metadata": {},
   "outputs": [],
   "source": [
    "mean = stats.ensemble_mean(samples)\n",
    "title = f\"Brownian Motion Ensemble Mean: nsim={nsim}, μ=0.0\"\n",
    "ensemble_mean_plot(mean, time, 0.0, (0.5, 0.3), title)"
   ]
  },
  {
   "cell_type": "code",
   "execution_count": null,
   "id": "63af53fe-0319-4541-9a53-dcdbf04ba4a1",
   "metadata": {},
   "outputs": [],
   "source": [
    "title = f\"Brownian Motion Ensemble Standard Deviation: nsim={nsim}\"\n",
    "std = stats.ensemble_std(samples)\n",
    "ensemble_std_plot(std, time, 1.0, (0.35, 0.75), title)"
   ]
  },
  {
   "cell_type": "markdown",
   "id": "78613428-58bc-4347-bb16-23c39d444a02",
   "metadata": {},
   "source": [
    "## Brownian Motion with Drift"
   ]
  },
  {
   "cell_type": "code",
   "execution_count": null,
   "id": "acb5258e-4e29-4c9e-8033-fa2fc28fb809",
   "metadata": {
    "tags": []
   },
   "outputs": [],
   "source": [
    "μ=0.1\n",
    "σ=1.5\n",
    "title = f\"Brownian Motion Ensemble: nsim={nsim}, μ={μ}, σ={σ}\"\n",
    "samples = generate_with_drift_ensemble(nsim, npts, μ, σ)\n",
    "plots.comparison(time, samples, title, data_type=PlotDataType.ENSEMBLE)"
   ]
  },
  {
   "cell_type": "code",
   "execution_count": null,
   "id": "9bafc08b-4a26-4923-b43b-9bc341514ef6",
   "metadata": {},
   "outputs": [],
   "source": [
    "mean = stats.ensemble_mean(samples)\n",
    "title = f\"Brownian Motion Ensemble Mean: nsim={nsim}, μ=0.0\"\n",
    "ensemble_mean_plot_with_drift(mean, time, μ, (0.5, 0.3), title)"
   ]
  },
  {
   "cell_type": "code",
   "execution_count": null,
   "id": "6ce799e7-05f4-4dd9-8f9f-fd45401c144e",
   "metadata": {},
   "outputs": [],
   "source": [
    "title = f\"Brownian Motion Ensemble Standard Deviation: nsim={nsim}, μ={μ}, σ={σ}\"\n",
    "std = stats.ensemble_std(samples)\n",
    "ensemble_std_plot(std, time, σ, (0.35, 0.75), title)"
   ]
  },
  {
   "cell_type": "markdown",
   "id": "3556e3cc-a3e5-4083-9be4-66f84877e54d",
   "metadata": {},
   "source": [
    "## Geometric Brownian Motion"
   ]
  },
  {
   "cell_type": "code",
   "execution_count": null,
   "id": "fb49e1f8-5907-4c64-82c9-aed2a4a564d6",
   "metadata": {},
   "outputs": [],
   "source": [
    "npts = 1000\n",
    "nsim = 1000\n",
    "time = numpy.linspace(0.0, float(npts)*Δt, npts)\n",
    "μ=0.001\n",
    "σ=0.01\n",
    "S0 = 50.0\n",
    "title = r'Brownian Motion Ensemble: nsim={nsim}, μ={μ}, σ={σ}, $S_0$={S0}'.format(nsim=nsim, μ=μ, σ=σ, S0=S0)\n",
    "samples = generate_geometric_ensemble(nsim, npts, μ, σ, S0)\n",
    "plots.comparison(time, samples, title, data_type=PlotDataType.ENSEMBLE)"
   ]
  },
  {
   "cell_type": "code",
   "execution_count": null,
   "id": "bf84a2f0-394a-440b-8b2d-e81445d062bd",
   "metadata": {},
   "outputs": [],
   "source": [
    "mean = stats.ensemble_mean(samples)\n",
    "title = r'Brownian Motion Ensemble Mean: nsim={nsim}, μ={μ}, σ={σ}, $S_0$={S0}'.format(nsim=nsim, μ=μ, σ=σ, S0=S0)\n",
    "ensemble_mean_plot_gbm(mean, time, S0, μ, (0.6, 0.3), title)"
   ]
  },
  {
   "cell_type": "code",
   "execution_count": null,
   "id": "05306d0d-c7bb-46a6-9d6f-6f060a2492f1",
   "metadata": {},
   "outputs": [],
   "source": [
    "title = r'Brownian Motion Ensemble Standard Deviation: nsim={nsim}, μ={μ}, σ={σ}, $S_0$={S0}'.format(nsim=nsim, μ=μ, σ=σ, S0=S0)\n",
    "std = stats.ensemble_std(samples)\n",
    "ensemble_std_plot_gbm(std, time, S0, μ, σ, (0.35, 0.75), title)"
   ]
  }
 ],
 "metadata": {
  "kernelspec": {
   "display_name": "Python 3 (ipykernel)",
   "language": "python",
   "name": "python3"
  },
  "language_info": {
   "codemirror_mode": {
    "name": "ipython",
    "version": 3
   },
   "file_extension": ".py",
   "mimetype": "text/x-python",
   "name": "python",
   "nbconvert_exporter": "python",
   "pygments_lexer": "ipython3",
   "version": "3.9.2"
  }
 },
 "nbformat": 4,
 "nbformat_minor": 5
}
