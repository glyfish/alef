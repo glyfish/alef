{
 "cells": [
  {
   "cell_type": "markdown",
   "id": "155e1fea-c853-4b39-82a2-0378a3a138b9",
   "metadata": {
    "tags": []
   },
   "source": [
    "# Fractional Brownian Expectations\n",
    "Let $Z_t^H$ denote a fractional brownian motion path with parameter $H$ as a function of time. The mean, variance and covariance are given by,<br>\n",
    "\n",
    "$\n",
    "\\begin{align}\n",
    "&\\text{E}[Z^H_t] = 0 \\\\\n",
    "&\\text{Var}[Z_t^H] = t^{2H} \\\\\n",
    "&R^H(t,s) = \\text{Cov}[Z^H_t Z^H_s] = \\frac{1}{2}[t^{2H}+s^{2H}-(t-s)^{2H}],\n",
    "\\end{align}\n",
    "$\n",
    "\n",
    "where $t > s$.\n",
    "\n",
    "Let $\\Delta Z^H_t$ denote an increment of fractional brownian noise. The autocorrelation function of noise increments<br>\n",
    "separated in time by $n$ is given by,\n",
    "\n",
    "$\n",
    "\\begin{align}\n",
    "&\\text{Var}[\\Delta Z_t^H] = \\Delta t^{2H} \\\\\n",
    "&\\rho^H_n = \\frac{\\text{Cov}[\\Delta Z^H_k \\Delta Z^H_{k+n}]}{\\sqrt{\\text{Var}[\\Delta Z^H_k]\\text{Var}[\\Delta Z^H_{k+n}]}} = \\frac{1}{2}[(n-1)^{2H} + (n+1)^{2H} - 2n^{2H}]\n",
    "\\end{align}\n",
    "$\n",
    "\n",
    "### Limits of Variance, Covariance and Autocorrelation\n",
    "The Qualitative behavior of fractional brownian motions has three different regimes</br> \n",
    "as a function of H, </br>\n",
    "\n",
    "$\n",
    "\\begin{align}\n",
    "1.&\\hspace{3mm} 0 < H < \\frac{1}{2} \\\\\n",
    "2.&\\hspace{3mm} H=\\frac{1}{2} \\\\\n",
    "3.&\\hspace{3mm} \\frac{1}{2} < H < 1\n",
    "\\end{align}\n",
    "$\n",
    "\n",
    "Also, the limit $t \\gg 1$ will be considered\n",
    "\n",
    "#### $H \\rightarrow 0$\n",
    "\n",
    "$\n",
    "\\begin{align}\n",
    "\\lim_{H \\to 0}&\\hspace{1mm} \\text{Var}[Z_t^H] = 1 \\\\\n",
    "\\lim_{H \\to 0}&\\hspace{1mm} R^H(t,s) = \\frac{1}{2} \\\\\n",
    "\\lim_{H\\to 0}&\\hspace{1mm} \\rho^H_n = 0\n",
    "\\end{align}\n",
    "$\n",
    "\n",
    "#### $H \\rightarrow \\frac{1}{2}$\n",
    "\n",
    "$\n",
    "\\begin{align}\n",
    "\\lim_{H \\to \\frac{1}{2}}&\\hspace{1mm}  \\text{Var}[Z_t^H] = t \\\\\n",
    "\\lim_{H \\to \\frac{1}{2}}&\\hspace{1mm} R^H(t,s) = s \\\\\n",
    "\\lim_{H\\to \\frac{1}{2}}&\\hspace{1mm} \\rho^H_n = 0\n",
    "\\end{align}\n",
    "$\n",
    "\n",
    "#### $H \\rightarrow 1$\n",
    "\n",
    "$\n",
    "\\begin{align}\n",
    "\\lim_{H \\to 1}&\\hspace{1mm} \\text{Var}[Z_t^H] = t^2 \\\\\n",
    "\\lim_{H \\to 1}&\\hspace{1mm} R^H(t,s) = ts \\\\\n",
    "\\lim_{H \\to 1}&\\hspace{1mm} \\rho^H_n = \\Delta t^2\n",
    "\\end{align}\n",
    "$\n",
    "\n",
    "#### $t \\gg 1$\n",
    "\n",
    "$\n",
    "\\begin{align}\n",
    "&\\text{Var}[Z_t^H] = t^{2H} \\\\\n",
    "&R^H(t,s) \\approx \\frac{1}{2}\\left( s^{2H} + 2Hst^{2H-1} \\right) \\\\\n",
    "&\\rho^H_n \\approx \\Delta t^{2H}H(2H-1)^{2H-2}\n",
    "\\end{align}\n",
    "$\n"
   ]
  },
  {
   "cell_type": "markdown",
   "id": "00916b44-616e-432a-b52d-cb56c8e5fafd",
   "metadata": {
    "tags": []
   },
   "source": [
    "## Imports"
   ]
  },
  {
   "cell_type": "code",
   "execution_count": 1,
   "id": "a6a0df9d-0e07-4ccd-94ff-4cb6b8306a8b",
   "metadata": {},
   "outputs": [
    {
     "name": "stderr",
     "output_type": "stream",
     "text": [
      "/Users/troy/.pyenv/versions/gly.fish.3.9.2/lib/python3.9/site-packages/pandas/compat/__init__.py:109: UserWarning: Could not import the lzma module. Your installed Python is incomplete. Attempting to use lzma compression will result in a RuntimeError.\n",
      "  warnings.warn(msg)\n"
     ]
    }
   ],
   "source": [
    "%reload_ext autoreload\n",
    "%autoreload 2\n",
    "\n",
    "# import system modules and set local import path\n",
    "import os\n",
    "import sys\n",
    "import numpy\n",
    "from pandas import DataFrame\n",
    "from matplotlib import pyplot\n",
    "\n",
    "sys.path.insert(0, os.path.abspath('../..'))\n",
    "\n",
    "# import local modules\n",
    "from lib.models import fbm\n",
    "from lib import config\n",
    "from lib.plots.data import (DataPlotType, comparison, create_data_plot_type)\n",
    "\n",
    "# Config Plot Style\n",
    "pyplot.style.use(config.glyfish_style)"
   ]
  },
  {
   "cell_type": "markdown",
   "id": "02e3360b-543d-459b-9c82-164159bbb03c",
   "metadata": {
    "tags": []
   },
   "source": [
    "## Helpers"
   ]
  },
  {
   "cell_type": "code",
   "execution_count": 2,
   "id": "1c44689f-efe3-4f0b-abae-53b6ee5bfa24",
   "metadata": {},
   "outputs": [],
   "source": [
    "def labels(H_vals):\n",
    "    return [f\"H={format(H, '1.2f')}\" for H in H_vals]\n",
    "\n",
    "def time(tmax, tstart, Δt):\n",
    "    nsteps = int((tmax-tstart)/Δt)\n",
    "    return numpy.linspace(tstart, tmax, nsteps)\n",
    "    \n",
    "def acf(H_vals, tmax, tstart, Δt):\n",
    "    plot_config = create_data_plot_type(DataPlotType.ACF)\n",
    "    time_vals = time(tmax, tstart, Δt)\n",
    "    acf_values = [fbm.acf(H, time_vals) for H in H_vals]\n",
    "    return [DataFrame({plot_config.ycol: a, plot_config.xcol: time_vals}) for a in acf_values] \n",
    "\n",
    "def cov(H_vals, tmax, tstart, Δt):\n",
    "    plot_config = create_data_plot_type(DataPlotType.COV)\n",
    "    time_vals = time(tmax, tstart, Δt)\n",
    "    cov_values = [fbm.cov(H, tstart, time_vals) for H in H_vals]\n",
    "    return [DataFrame({plot_config.ycol: c, plot_config.xcol: time_vals}) for c in cov_values]    \n",
    "\n",
    "def var(H_vals, tmax, tstart, Δt):\n",
    "    plot_config = create_data_plot_type(DataPlotType.VAR)\n",
    "    time_vals = time(tmax, tstart, Δt)\n",
    "    var_values = [fbm.var(H, time_vals) for H in H_vals]\n",
    "    return [DataFrame({plot_config.ycol: v, plot_config.xcol: time_vals}) for v in var_values]"
   ]
  },
  {
   "cell_type": "markdown",
   "id": "1f87ffbd-f3d1-40bd-818e-e27438184350",
   "metadata": {
    "tags": []
   },
   "source": [
    "## $\\text{Var}[Z_t^H] = t^{2H}$"
   ]
  },
  {
   "cell_type": "code",
   "execution_count": 3,
   "id": "0d14df0c-6dc8-4326-be9a-e383abce5c67",
   "metadata": {},
   "outputs": [
    {
     "ename": "AttributeError",
     "evalue": "VAR",
     "output_type": "error",
     "traceback": [
      "\u001b[0;31m---------------------------------------------------------------------------\u001b[0m",
      "\u001b[0;31mAttributeError\u001b[0m                            Traceback (most recent call last)",
      "\u001b[0;32m/var/folders/hc/xc94zvls2pq_pw366sdbqlhr0000gn/T/ipykernel_10858/739686970.py\u001b[0m in \u001b[0;36m<module>\u001b[0;34m\u001b[0m\n\u001b[1;32m      3\u001b[0m \u001b[0mH_vals\u001b[0m \u001b[0;34m=\u001b[0m \u001b[0;34m[\u001b[0m\u001b[0;36m0.05\u001b[0m\u001b[0;34m,\u001b[0m \u001b[0;36m0.1\u001b[0m\u001b[0;34m,\u001b[0m \u001b[0;36m0.2\u001b[0m\u001b[0;34m,\u001b[0m \u001b[0;36m0.3\u001b[0m\u001b[0;34m,\u001b[0m \u001b[0;36m0.4\u001b[0m\u001b[0;34m,\u001b[0m \u001b[0;36m0.5\u001b[0m\u001b[0;34m,\u001b[0m \u001b[0;36m0.6\u001b[0m\u001b[0;34m,\u001b[0m \u001b[0;36m0.7\u001b[0m\u001b[0;34m,\u001b[0m \u001b[0;36m0.8\u001b[0m\u001b[0;34m,\u001b[0m \u001b[0;36m0.9\u001b[0m\u001b[0;34m,\u001b[0m \u001b[0;36m1.0\u001b[0m\u001b[0;34m]\u001b[0m\u001b[0;34m\u001b[0m\u001b[0;34m\u001b[0m\u001b[0m\n\u001b[1;32m      4\u001b[0m \u001b[0mtitle\u001b[0m \u001b[0;34m=\u001b[0m \u001b[0;34mr\"Fractional Brownian Motion Variance, $t^{2H}$\"\u001b[0m\u001b[0;34m\u001b[0m\u001b[0;34m\u001b[0m\u001b[0m\n\u001b[0;32m----> 5\u001b[0;31m \u001b[0mcomparison\u001b[0m\u001b[0;34m(\u001b[0m\u001b[0mvar\u001b[0m\u001b[0;34m(\u001b[0m\u001b[0mH_vals\u001b[0m\u001b[0;34m,\u001b[0m \u001b[0mtmax\u001b[0m\u001b[0;34m,\u001b[0m \u001b[0;36m0.0\u001b[0m\u001b[0;34m,\u001b[0m \u001b[0mΔt\u001b[0m\u001b[0;34m)\u001b[0m\u001b[0;34m,\u001b[0m \u001b[0mtitle\u001b[0m\u001b[0;34m=\u001b[0m\u001b[0mtitle\u001b[0m\u001b[0;34m,\u001b[0m \u001b[0mlabels\u001b[0m\u001b[0;34m=\u001b[0m\u001b[0mlabels\u001b[0m\u001b[0;34m(\u001b[0m\u001b[0mH_vals\u001b[0m\u001b[0;34m)\u001b[0m\u001b[0;34m,\u001b[0m \u001b[0mplot_type\u001b[0m\u001b[0;34m=\u001b[0m\u001b[0mDataPlotType\u001b[0m\u001b[0;34m.\u001b[0m\u001b[0mVAR\u001b[0m\u001b[0;34m)\u001b[0m\u001b[0;34m\u001b[0m\u001b[0;34m\u001b[0m\u001b[0m\n\u001b[0m",
      "\u001b[0;32m/var/folders/hc/xc94zvls2pq_pw366sdbqlhr0000gn/T/ipykernel_10858/2522927857.py\u001b[0m in \u001b[0;36mvar\u001b[0;34m(H_vals, tmax, tstart, Δt)\u001b[0m\n\u001b[1;32m     19\u001b[0m \u001b[0;34m\u001b[0m\u001b[0m\n\u001b[1;32m     20\u001b[0m \u001b[0;32mdef\u001b[0m \u001b[0mvar\u001b[0m\u001b[0;34m(\u001b[0m\u001b[0mH_vals\u001b[0m\u001b[0;34m,\u001b[0m \u001b[0mtmax\u001b[0m\u001b[0;34m,\u001b[0m \u001b[0mtstart\u001b[0m\u001b[0;34m,\u001b[0m \u001b[0mΔt\u001b[0m\u001b[0;34m)\u001b[0m\u001b[0;34m:\u001b[0m\u001b[0;34m\u001b[0m\u001b[0;34m\u001b[0m\u001b[0m\n\u001b[0;32m---> 21\u001b[0;31m     \u001b[0mplot_config\u001b[0m \u001b[0;34m=\u001b[0m \u001b[0mcreate_data_plot_type\u001b[0m\u001b[0;34m(\u001b[0m\u001b[0mDataPlotType\u001b[0m\u001b[0;34m.\u001b[0m\u001b[0mVAR\u001b[0m\u001b[0;34m)\u001b[0m\u001b[0;34m\u001b[0m\u001b[0;34m\u001b[0m\u001b[0m\n\u001b[0m\u001b[1;32m     22\u001b[0m     \u001b[0mtime_vals\u001b[0m \u001b[0;34m=\u001b[0m \u001b[0mtime\u001b[0m\u001b[0;34m(\u001b[0m\u001b[0mtmax\u001b[0m\u001b[0;34m,\u001b[0m \u001b[0mtstart\u001b[0m\u001b[0;34m,\u001b[0m \u001b[0mΔt\u001b[0m\u001b[0;34m)\u001b[0m\u001b[0;34m\u001b[0m\u001b[0;34m\u001b[0m\u001b[0m\n\u001b[1;32m     23\u001b[0m     \u001b[0mvar_values\u001b[0m \u001b[0;34m=\u001b[0m \u001b[0;34m[\u001b[0m\u001b[0mfbm\u001b[0m\u001b[0;34m.\u001b[0m\u001b[0mvar\u001b[0m\u001b[0;34m(\u001b[0m\u001b[0mH\u001b[0m\u001b[0;34m,\u001b[0m \u001b[0mtime_vals\u001b[0m\u001b[0;34m)\u001b[0m \u001b[0;32mfor\u001b[0m \u001b[0mH\u001b[0m \u001b[0;32min\u001b[0m \u001b[0mH_vals\u001b[0m\u001b[0;34m]\u001b[0m\u001b[0;34m\u001b[0m\u001b[0;34m\u001b[0m\u001b[0m\n",
      "\u001b[0;32m~/Develop/gly.fish/alef/lib/plots/data.py\u001b[0m in \u001b[0;36mcreate_data_plot_type\u001b[0;34m(plot_type)\u001b[0m\n\u001b[1;32m     49\u001b[0m         \u001b[0;32mreturn\u001b[0m \u001b[0mDataPlotConfig\u001b[0m\u001b[0;34m(\u001b[0m\u001b[0mxlabel\u001b[0m\u001b[0;34m=\u001b[0m\u001b[0;34mr\"$t$\"\u001b[0m\u001b[0;34m,\u001b[0m \u001b[0mylabel\u001b[0m\u001b[0;34m=\u001b[0m\u001b[0;34mr\"$\\Delta^2 S_t$\"\u001b[0m\u001b[0;34m,\u001b[0m \u001b[0mschema\u001b[0m\u001b[0;34m=\u001b[0m\u001b[0mschema\u001b[0m\u001b[0;34m,\u001b[0m \u001b[0mplot_type\u001b[0m\u001b[0;34m=\u001b[0m\u001b[0mPlotType\u001b[0m\u001b[0;34m.\u001b[0m\u001b[0mLINEAR\u001b[0m\u001b[0;34m)\u001b[0m\u001b[0;34m\u001b[0m\u001b[0;34m\u001b[0m\u001b[0m\n\u001b[1;32m     50\u001b[0m     \u001b[0;32melif\u001b[0m \u001b[0mplot_type\u001b[0m\u001b[0;34m.\u001b[0m\u001b[0mvalue\u001b[0m \u001b[0;34m==\u001b[0m \u001b[0mDataPlotType\u001b[0m\u001b[0;34m.\u001b[0m\u001b[0mVAR\u001b[0m\u001b[0;34m.\u001b[0m\u001b[0mvalue\u001b[0m\u001b[0;34m:\u001b[0m\u001b[0;34m\u001b[0m\u001b[0;34m\u001b[0m\u001b[0m\n\u001b[0;32m---> 51\u001b[0;31m         \u001b[0mschema\u001b[0m \u001b[0;34m=\u001b[0m \u001b[0mcreate_schema\u001b[0m\u001b[0;34m(\u001b[0m\u001b[0mDataType\u001b[0m\u001b[0;34m.\u001b[0m\u001b[0mVAR\u001b[0m\u001b[0;34m)\u001b[0m\u001b[0;34m\u001b[0m\u001b[0;34m\u001b[0m\u001b[0m\n\u001b[0m\u001b[1;32m     52\u001b[0m         \u001b[0;32mreturn\u001b[0m \u001b[0mDataPlotConfig\u001b[0m\u001b[0;34m(\u001b[0m\u001b[0mxlabel\u001b[0m\u001b[0;34m=\u001b[0m\u001b[0;34mr\"$t$\"\u001b[0m\u001b[0;34m,\u001b[0m \u001b[0mylabel\u001b[0m\u001b[0;34m=\u001b[0m\u001b[0;34mr\"$\\sigma_t^2$\"\u001b[0m\u001b[0;34m,\u001b[0m \u001b[0mschema\u001b[0m\u001b[0;34m=\u001b[0m\u001b[0mschema\u001b[0m\u001b[0;34m,\u001b[0m \u001b[0mplot_type\u001b[0m\u001b[0;34m=\u001b[0m\u001b[0mPlotType\u001b[0m\u001b[0;34m.\u001b[0m\u001b[0mLINEAR\u001b[0m\u001b[0;34m)\u001b[0m\u001b[0;34m\u001b[0m\u001b[0;34m\u001b[0m\u001b[0m\n\u001b[1;32m     53\u001b[0m     \u001b[0;32melif\u001b[0m \u001b[0mplot_type\u001b[0m\u001b[0;34m.\u001b[0m\u001b[0mvalue\u001b[0m \u001b[0;34m==\u001b[0m \u001b[0mDataPlotType\u001b[0m\u001b[0;34m.\u001b[0m\u001b[0mCOV\u001b[0m\u001b[0;34m.\u001b[0m\u001b[0mvalue\u001b[0m\u001b[0;34m:\u001b[0m\u001b[0;34m\u001b[0m\u001b[0;34m\u001b[0m\u001b[0m\n",
      "\u001b[0;32m~/.pyenv/versions/3.9.2/lib/python3.9/enum.py\u001b[0m in \u001b[0;36m__getattr__\u001b[0;34m(cls, name)\u001b[0m\n\u001b[1;32m    403\u001b[0m             \u001b[0;32mreturn\u001b[0m \u001b[0mcls\u001b[0m\u001b[0;34m.\u001b[0m\u001b[0m_member_map_\u001b[0m\u001b[0;34m[\u001b[0m\u001b[0mname\u001b[0m\u001b[0;34m]\u001b[0m\u001b[0;34m\u001b[0m\u001b[0;34m\u001b[0m\u001b[0m\n\u001b[1;32m    404\u001b[0m         \u001b[0;32mexcept\u001b[0m \u001b[0mKeyError\u001b[0m\u001b[0;34m:\u001b[0m\u001b[0;34m\u001b[0m\u001b[0;34m\u001b[0m\u001b[0m\n\u001b[0;32m--> 405\u001b[0;31m             \u001b[0;32mraise\u001b[0m \u001b[0mAttributeError\u001b[0m\u001b[0;34m(\u001b[0m\u001b[0mname\u001b[0m\u001b[0;34m)\u001b[0m \u001b[0;32mfrom\u001b[0m \u001b[0;32mNone\u001b[0m\u001b[0;34m\u001b[0m\u001b[0;34m\u001b[0m\u001b[0m\n\u001b[0m\u001b[1;32m    406\u001b[0m \u001b[0;34m\u001b[0m\u001b[0m\n\u001b[1;32m    407\u001b[0m     \u001b[0;32mdef\u001b[0m \u001b[0m__getitem__\u001b[0m\u001b[0;34m(\u001b[0m\u001b[0mcls\u001b[0m\u001b[0;34m,\u001b[0m \u001b[0mname\u001b[0m\u001b[0;34m)\u001b[0m\u001b[0;34m:\u001b[0m\u001b[0;34m\u001b[0m\u001b[0;34m\u001b[0m\u001b[0m\n",
      "\u001b[0;31mAttributeError\u001b[0m: VAR"
     ]
    }
   ],
   "source": [
    "tmax = 1.5\n",
    "Δt = 0.001\n",
    "H_vals = [0.05, 0.1, 0.2, 0.3, 0.4, 0.5, 0.6, 0.7, 0.8, 0.9, 1.0]\n",
    "title = r\"Fractional Brownian Motion Variance, $t^{2H}$\"\n",
    "comparison(var(H_vals, tmax, 0.0, Δt), title=title, labels=labels(H_vals), plot_type=DataPlotType.VAR)"
   ]
  },
  {
   "cell_type": "markdown",
   "id": "aecee71e-e268-47ed-8458-0de74f40b780",
   "metadata": {},
   "source": [
    "## $R^H(t,s) = \\frac{1}{2}[t^{2H}+s^{2H}-(t-s)^{2H}]$"
   ]
  },
  {
   "cell_type": "code",
   "execution_count": null,
   "id": "9cbdb082-b810-44d6-be16-ad82a4907318",
   "metadata": {},
   "outputs": [],
   "source": [
    "tmax = 1.5\n",
    "Δt = 0.001\n",
    "H_vals = [0.05, 0.1, 0.2, 0.3, 0.4, 0.5, 0.6, 0.7, 0.8, 0.9, 1.0]\n",
    "s = 0.25\n",
    "title = r\"Fractional Brownian Motion Covariance, $\\frac{1}{2}[t^{2H} + s^{2H} - \\mid t-s \\mid^{2H}]$\" + f\", s={format(s, '1.2f')}\"\n",
    "comparison(cov(H_vals, tmax, s, Δt), title=title, labels=labels(H_vals), plot_type=DataPlotType.COV)"
   ]
  },
  {
   "cell_type": "code",
   "execution_count": null,
   "id": "e4f2cbc3-51b9-400b-9238-631e1e9bcdb0",
   "metadata": {},
   "outputs": [],
   "source": [
    "tmax = 100\n",
    "Δt = 0.01\n",
    "H_vals = [0.05, 0.1, 0.2, 0.3, 0.4, 0.5]\n",
    "s = 1.0\n",
    "title = r\"Fractional Brownian Motion Covariance, $\\frac{1}{2}[t^{2H} + s^{2H} - \\mid t-s \\mid^{2H}]$\" + f\", s={format(s, '1.2f')}\"\n",
    "comparison(cov(H_vals, tmax, s, Δt), title=title, labels=labels(H_vals), plot_type=DataPlotType.COV)"
   ]
  },
  {
   "cell_type": "code",
   "execution_count": null,
   "id": "9dcdee2d-df30-4db8-b0a4-05acb905fef2",
   "metadata": {},
   "outputs": [],
   "source": [
    "tmax = 100\n",
    "Δt = 0.01\n",
    "nsteps = int(tmax/Δt)\n",
    "H_vals = [0.55, 0.6, 0.7, 0.8, 0.9, 1.0]\n",
    "s = 1.0\n",
    "title = r\"Fractional Brownian Motion Covariance, $\\frac{1}{2}[t^{2H} + s^{2H} - \\mid t-s \\mid^{2H}]$\" + f\", s={format(s, '1.2f')}\"\n",
    "comparison(cov(H_vals, tmax, s, Δt), title=title, labels=labels(H_vals), plot_type=DataPlotType.COV)"
   ]
  },
  {
   "cell_type": "markdown",
   "id": "fe39c4fc-7ce8-43e9-8bcd-79bb6076ea2e",
   "metadata": {},
   "source": [
    "## $\\rho^H_n = \\frac{1}{2} [(n-1)^{2H} + (n+1)^{2H} - 2n^{2H}]$"
   ]
  },
  {
   "cell_type": "code",
   "execution_count": null,
   "id": "71e6f0e5-f9d7-4394-9484-6f3a8a18a342",
   "metadata": {},
   "outputs": [],
   "source": [
    "tmax = 10.0\n",
    "Δt = 1.0\n",
    "H_vals = [0.05, 0.1, 0.2, 0.3, 0.4, 0.5]\n",
    "title = r\"Fractional Brownian Motion ACF, $\\rho^{H}_{n}=\\frac{1}{2}[(n-1)^{2H} + (n+1)^{2H} - 2n^{2H}]$\"\n",
    "comparison(acf(H_vals, tmax, 1.0, Δt), title=title, labels=labels(H_vals), plot_type=DataPlotType.ACF)"
   ]
  },
  {
   "cell_type": "code",
   "execution_count": null,
   "id": "0d81f7ad-c4b9-41e9-b8be-6b2d070526df",
   "metadata": {},
   "outputs": [],
   "source": [
    "tmax = 10.0\n",
    "Δt = 1.0\n",
    "nsteps = int(tmax/Δt)\n",
    "H_vals = [0.6, 0.7, 0.8, 0.9, 0.95, 0.975, 0.99, 1.0]\n",
    "title = r\"Fractional Brownian Motion ACF, $\\rho^{H}_{n}=\\frac{1}{2}[(n-1)^{2H} + (n+1)^{2H} - 2n^{2H}]$\"\n",
    "comparison(acf(H_vals, tmax, 1.0, Δt), title=title, labels=labels(H_vals), plot_type=DataPlotType.ACF)"
   ]
  },
  {
   "cell_type": "code",
   "execution_count": null,
   "id": "24032ba7-410b-4968-9ab7-5ab66d6e00df",
   "metadata": {},
   "outputs": [],
   "source": [
    "tmax = 100.0\n",
    "Δt = 1.0\n",
    "nsteps = int(tmax/Δt)\n",
    "H_vals = [0.05, 0.1, 0.2, 0.3, 0.4, 0.5]\n",
    "title = r\"Fractional Brownian Motion ACF, $\\rho^{H}_{n}=\\frac{1}{2}[(n-1)^{2H} + (n+1)^{2H} - 2n^{2H}]$\"\n",
    "comparison(acf(H_vals, tmax, 1.0, Δt), title=title, labels=labels(H_vals), plot_type=DataPlotType.ACF)"
   ]
  },
  {
   "cell_type": "code",
   "execution_count": null,
   "id": "4908a783-d538-4687-8ada-a55a148e9322",
   "metadata": {},
   "outputs": [],
   "source": [
    "tmax = 100.0\n",
    "Δt = 1.0\n",
    "nsteps = int(tmax/Δt)\n",
    "H_vals = [0.6, 0.7, 0.8, 0.9, 0.95, 0.975, 0.99, 1.0]\n",
    "title = r\"Fractional Brownian Motion ACF, $\\rho^{H}_{n}=\\frac{1}{2}[(n-1)^{2H} + (n+1)^{2H} - 2n^{2H}]$\"\n",
    "comparison(acf(H_vals, tmax, 1.0, Δt), title=title, labels=labels(H_vals), plot_type=DataPlotType.ACF)"
   ]
  }
 ],
 "metadata": {
  "kernelspec": {
   "display_name": "Python 3 (ipykernel)",
   "language": "python",
   "name": "python3"
  },
  "language_info": {
   "codemirror_mode": {
    "name": "ipython",
    "version": 3
   },
   "file_extension": ".py",
   "mimetype": "text/x-python",
   "name": "python",
   "nbconvert_exporter": "python",
   "pygments_lexer": "ipython3",
   "version": "3.9.2"
  }
 },
 "nbformat": 4,
 "nbformat_minor": 5
}
