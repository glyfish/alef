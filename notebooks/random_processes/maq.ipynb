{
 "cells": [
  {
   "cell_type": "markdown",
   "id": "48e9334d-fe44-4f8d-8dff-2518af25e3dc",
   "metadata": {
    "tags": []
   },
   "source": [
    "# MA(q)\n",
    "\n",
    "The moving average model of order $q$, denoted by $\\text{MA}(q)$, is defined by,\n",
    "\n",
    "$\n",
    "\\begin{align}\n",
    "X_t = \\sum_{i=1}^q \\vartheta_i \\varepsilon_{t-i} + \\varepsilon_t\n",
    "\\end{align}\n",
    "$\n",
    "\n",
    "where $\\varepsilon_t$ are independent and identically distributed random variables with distribution,\n",
    "\n",
    "$\n",
    "\\begin{align}\n",
    "\\varepsilon_i \\sim \\text{Normal}(0, \\sigma)\n",
    "\\end{align}\n",
    "$\n",
    "\n",
    "It follows that,\n",
    "\n",
    "$\n",
    "\\begin{align}\n",
    "&\\text{E}[\\varepsilon_t] = 0 \\\\\n",
    "&\\text{E}[\\varepsilon_t^2] = \\sigma^2 \\\\\n",
    "&\\text{E}[\\varepsilon_t \\varepsilon_s] = \\delta_{ts} \\sigma^2\n",
    "\\end{align}\n",
    "$\n",
    "\n",
    "For $\\text{MA}(q)$ it can be shown that,\n",
    "\n",
    "$\n",
    "\\begin{align}\n",
    "&\\text{E}[X_t] = 0 \\\\\n",
    "&\\text{E}[X_t^2] = \\sigma^2 \\left( \\sum_{i=1}^q \\vartheta_i^2 + 1 \\right) \\\\\n",
    "&\\text{E}[X_t X_{t+n}] = \\sigma^2 \\left( \\sum_{i=i}^{q-n} \\vartheta_i \\vartheta_{i+n} + \\vartheta_n \\right)\n",
    "\\end{align}\n",
    "$\n",
    "\n",
    "The autocorrelation is defined by,\n",
    "\n",
    "$\n",
    "\\begin{align}\n",
    "\\rho_n = \\frac{\\text{E}[X_t X_{t+n}]}{\\text{E}[X_t^2]}\n",
    "\\end{align}\n",
    "$\n",
    "\n",
    "Note that $\\gamma_n$ is independent of $t$. This is in contrast to $\\text{AR}(1)$ which depends on $t$. Also, for</br>\n",
    "$n \\geq q$ it is seen that $\\gamma_n=0$.\n",
    "\n",
    "### Example $\\text{MA}(1)$\n",
    "\n",
    "First consider $\\text{MA}(1)$,\n",
    "\n",
    "$\n",
    "\\begin{align}\n",
    "X_t = \\varepsilon_t + \\vartheta_1 \\varepsilon_{t-1}\n",
    "\\end{align}\n",
    "$\n",
    "\n",
    "The moments are given by,\n",
    "\n",
    "$\n",
    "\\begin{align}\n",
    "&\\text{E}[X_t] = 0 \\\\\n",
    "&\\text{E}[X_t^2] = \\sigma^2 \\left( \\vartheta_1^2 + 1 \\right) \\\\\n",
    "\\end{align}\n",
    "$\n",
    "\n",
    "For $n=1$,\n",
    "\n",
    "$\n",
    "\\begin{align}\n",
    "&\\text{E}[X_t X_{t+1}] = \\sigma^2 \\theta_1 \\\\\n",
    "&\\gamma_1 = \\theta_1\n",
    "\\end{align}\n",
    "$\n",
    "\n",
    "and $n > 2$,\n",
    "\n",
    "$\n",
    "\\begin{align}\n",
    "&\\text{E}[X_t X_{t+2}] = 0 \\\\\n",
    "&\\gamma_n = 0\n",
    "\\end{align}\n",
    "$\n",
    "\n",
    "### Example $\\text{MA}(2)$\n",
    "\n",
    "Next consider $\\text{MA}(2)$,\n",
    "\n",
    "$\n",
    "\\begin{align}\n",
    "X_t = \\varepsilon_t + \\vartheta_1 \\varepsilon_{t-1} + \\vartheta_2 \\varepsilon_{t-2} \n",
    "\\end{align}\n",
    "$\n",
    "\n",
    "The moments are given by,\n",
    "\n",
    "$\n",
    "\\begin{align}\n",
    "&\\text{E}[X_t] = 0 \\\\\n",
    "&\\text{E}[X_t^2] = \\sigma^2 \\left( \\vartheta_1^2 + \\vartheta_2^2 + 1 \\right) \\\\\n",
    "\\end{align}\n",
    "$\n",
    "\n",
    "For $n=1$,\n",
    "\n",
    "$\n",
    "\\begin{align}\n",
    "&\\text{E}[X_t X_{t+1}] = \\sigma^2 \\left( \\vartheta_1 \\vartheta_2 + \\vartheta_1 \\right) \\\\\n",
    "&\\gamma_1 = \\vartheta_1 \\vartheta_2 + \\vartheta_1 + \\vartheta_2\n",
    "\\end{align}\n",
    "$\n",
    "\n",
    "For $n=2$,\n",
    "\n",
    "$\n",
    "\\begin{align}\n",
    "&\\text{E}[X_t X_{t+1}] = \\sigma^2 \\vartheta_2 \\\\\n",
    "&\\gamma_2 = \\vartheta_2\n",
    "\\end{align}\n",
    "$\n",
    "\n",
    "and $n>2$,\n",
    "\n",
    "$\n",
    "\\begin{align}\n",
    "&\\text{E}[X_t X_{t+1}] = 0 \\\\\n",
    "&\\gamma_n = 0\n",
    "\\end{align}\n",
    "$\n",
    "\n",
    "### Relation to $\\text{AR}(1)$\n",
    "AR(1) is related to $\\text{MA}(\\infty)$. To see this consider $\\text{AR}(1)$,\n",
    "\n",
    "$\n",
    "\\begin{align}\n",
    "X_t = \\left( 1 - \\varphi L \\right)^{-1} \\varepsilon_t\n",
    "\\end{align}\n",
    "$\n",
    "\n",
    "where $L$ is the shift operator,\n",
    "\n",
    "$\n",
    "\\begin{align}\n",
    "&L X_t = X_{t-1} \\\\\n",
    "&L^2 X_t = X_{t-2} \\\\\n",
    "&L^3 X_t = X_{t-3} \\\\\n",
    "&\\vdots\n",
    "\\end{align}\n",
    "$\n",
    "\n",
    "In the limit $t \\to \\infty$ it can be shown that for $\\lvert \\varphi \\rvert < 1$,\n",
    "\n",
    "$\n",
    "\\begin{align}\n",
    "\\left( 1 - \\varphi L \\right)^{-1} = \\sum_{i = 0}^{\\infty} \\varphi^i L^i\n",
    "\\end{align}\n",
    "$\n",
    "\n",
    "It follows that,\n",
    "\n",
    "$\n",
    "\\begin{align}\n",
    "X_t = \\sum_{i=0}^{\\infty} \\varphi^i L^i \\varepsilon_t\n",
    "\\end{align}\n",
    "$\n",
    "\n",
    "which is $\\text{MA}(\\infty)$ with $\\vartheta_i = \\varphi^i$.\n"
   ]
  },
  {
   "cell_type": "markdown",
   "id": "0f8c4801-be92-4abb-8421-86b204acbbc9",
   "metadata": {},
   "source": [
    "## Imports"
   ]
  },
  {
   "cell_type": "code",
   "execution_count": null,
   "id": "c0b85170-fa19-458f-9e7a-e3e5171d895a",
   "metadata": {},
   "outputs": [],
   "source": [
    "%reload_ext autoreload\n",
    "%autoreload 2\n",
    "\n",
    "# import system modules and set local import path\n",
    "import os\n",
    "import sys\n",
    "import numpy\n",
    "from matplotlib import pyplot\n",
    "\n",
    "sys.path.insert(0, os.path.abspath('../..'))\n",
    "\n",
    "# import local modules\n",
    "from lib import plots\n",
    "from lib import config\n",
    "from lib import arima\n",
    "from lib import stats\n",
    "\n",
    "# Config Plot Style\n",
    "pyplot.style.use(config.glyfish_style)"
   ]
  },
  {
   "cell_type": "markdown",
   "id": "23fa06d6-ff6c-4e74-98f9-2fa466957834",
   "metadata": {},
   "source": [
    "## Helpers"
   ]
  },
  {
   "cell_type": "code",
   "execution_count": null,
   "id": "061ec796-7630-43e7-a22d-e7cec862b1e8",
   "metadata": {},
   "outputs": [],
   "source": [
    "σ = 1\n",
    "\n",
    "def sigma(θ):\n",
    "    q = len(θ)\n",
    "    v = 0\n",
    "    for u in θ:\n",
    "        v += u**2\n",
    "    return σ * numpy.sqrt(v + 1)\n",
    "\n",
    "def cov(θ):\n",
    "    q = len(θ)\n",
    "    c = numpy.zeros(q)\n",
    "    s = numpy.zeros(q)\n",
    "    for n in range(1,q):\n",
    "        for i in range(q-n):\n",
    "            c[n] += θ[i]*θ[i+n]\n",
    "    for n in range(q):\n",
    "        s[n] = θ[n]\n",
    "    return σ**2 * (c + s)\n",
    "\n",
    "def auto_correlation(θ):\n",
    "    return cov(θ) / sigma(θ)**2\n",
    "    \n",
    "def ma_ensemble(θ, nsample, nsim):\n",
    "    series = numpy.array([arima.maq(θ2, nsample, σ)])\n",
    "    for i in range(1, nsim):\n",
    "        series = numpy.append(series, numpy.array([arima.maq(θ2, nsample, σ)]), axis=0)\n",
    "    return series"
   ]
  },
  {
   "cell_type": "markdown",
   "id": "14e6c58c-2465-4118-90c9-605bda3c697e",
   "metadata": {
    "tags": []
   },
   "source": [
    "## Plots"
   ]
  },
  {
   "cell_type": "code",
   "execution_count": null,
   "id": "5fe79cc1-0048-4041-97b0-6d9f5b28054b",
   "metadata": {
    "tags": []
   },
   "outputs": [],
   "source": [
    "def auto_correlation_plot(ac_sample, θ, nplot, title, ylim):\n",
    "    ac = auto_correlation(θ)\n",
    "    ac_eq = numpy.zeros(nplot)\n",
    "    ac_eq[0] = 1\n",
    "    for i in range(len(ac)):\n",
    "        ac_eq[i+1] = ac[i]\n",
    "    figure, axis = pyplot.subplots(figsize=(15, 12))\n",
    "    axis.set_ylabel(r\"$γ_{\\tau}$\")\n",
    "    axis.set_xlabel(r\"Time Lag $(\\tau)$\")\n",
    "    axis.set_ylim(ylim)\n",
    "    axis.set_title(title)\n",
    "    axis.plot(range(nplot), numpy.real(ac_sample[:nplot]), lw=\"2\", label=\"Simualtion\", zorder=5)\n",
    "    axis.plot(range(nplot), ac_eq, marker='o', markersize=10.0, linestyle=\"None\", markeredgewidth=1.0, alpha=0.75, label=r\"$\\rho_\\tau$\", zorder=6)\n",
    "    axis.legend(bbox_to_anchor=(0.8, 0.8), fontsize=16)"
   ]
  },
  {
   "cell_type": "markdown",
   "id": "a41d7723-4649-4999-b2dc-2a5680b0c569",
   "metadata": {},
   "source": [
    "## Simulations"
   ]
  },
  {
   "cell_type": "code",
   "execution_count": null,
   "id": "dd5a76a2-05ac-4119-9e73-5d05bf0db29a",
   "metadata": {},
   "outputs": [],
   "source": [
    "nsample = 1000\n",
    "\n",
    "θ1 = numpy.array([0.2])\n",
    "ma1 = arima.maq(θ1, nsample, σ)\n",
    "\n",
    "θ2 = numpy.array([0.2, 0.4])\n",
    "ma2 = arima.maq(θ2, nsample, σ)\n",
    "\n",
    "θ3 = numpy.array([0.2, 0.4, 0.5])\n",
    "ma3 = arima.maq(θ3, nsample, σ)"
   ]
  },
  {
   "cell_type": "code",
   "execution_count": null,
   "id": "32a4beb6-f89c-4b88-8aa6-52d6f8b5d1d3",
   "metadata": {},
   "outputs": [],
   "source": [
    "labels = [r\"$\\vartheta=$\"+f\"{numpy.array2string(θ1, precision=2, separator=',')}\",\n",
    "          r\"$\\vartheta=$\"+f\"{numpy.array2string(θ2, precision=2, separator=',')}\",\n",
    "          r\"$\\vartheta=$\"+f\"{numpy.array2string(θ3, precision=2, separator=',')}\"]\n",
    "title = \"ΜΑ(q) Comparison\"\n",
    "samples = numpy.array([ma1, ma2, ma3])\n",
    "plots.stack(samples, [-5.0, 5.0], title, labels)"
   ]
  },
  {
   "cell_type": "code",
   "execution_count": null,
   "id": "058abe59-c7d3-4afd-94da-b8a8a105e4b3",
   "metadata": {},
   "outputs": [],
   "source": [
    "nsample = 1000\n",
    "\n",
    "θ1 = numpy.array([-0.2])\n",
    "ma1 = arima.maq(θ1, nsample)\n",
    "\n",
    "θ2 = numpy.array([-0.2, -0.4])\n",
    "ma2 = arima.maq(θ2, nsample, σ)\n",
    "\n",
    "θ3 = numpy.array([0.2, -0.4, -0.5])\n",
    "ma3 = arima.maq(θ3, nsample)"
   ]
  },
  {
   "cell_type": "code",
   "execution_count": null,
   "id": "49255e33-6575-48df-9bd4-f3cd6b75208a",
   "metadata": {},
   "outputs": [],
   "source": [
    "labels = [r\"$\\vartheta=$\"+f\"{numpy.array2string(θ1, precision=2, separator=',')}\",\n",
    "          r\"$\\vartheta=$\"+f\"{numpy.array2string(θ2, precision=2, separator=',')}\",\n",
    "          r\"$\\vartheta=$\"+f\"{numpy.array2string(θ3, precision=2, separator=',')}\"]\n",
    "title = \"ΜΑ(q) Comparison\"\n",
    "samples = numpy.array([ma1, ma2, ma3])\n",
    "plots.stack(samples, [-5.0, 5.0], title, labels)"
   ]
  },
  {
   "cell_type": "code",
   "execution_count": null,
   "id": "8f8487bc-7728-4c25-a7ce-78ab3dbdd2b6",
   "metadata": {},
   "outputs": [],
   "source": [
    "θ1 = numpy.array([2.4])\n",
    "ma1 = arima.maq(θ1, nsample)\n",
    "\n",
    "θ2 = numpy.array([1.5, -1.5])\n",
    "ma2 = arima.maq(θ2, nsample, σ)\n",
    "\n",
    "θ3 = numpy.array([1.2, -3.4, -1.5])\n",
    "ma3 = arima.maq(θ3, nsample)"
   ]
  },
  {
   "cell_type": "code",
   "execution_count": null,
   "id": "ded3e4fd-2be2-4690-9517-2335f60634de",
   "metadata": {},
   "outputs": [],
   "source": [
    "labels = [r\"$\\vartheta=$\"+f\"{numpy.array2string(θ1, precision=2, separator=',')}\",\n",
    "          r\"$\\vartheta=$\"+f\"{numpy.array2string(θ2, precision=2, separator=',')}\",\n",
    "          r\"$\\vartheta=$\"+f\"{numpy.array2string(θ3, precision=2, separator=',')}\"]\n",
    "title = \"ΜΑ(q) Comparison\"\n",
    "samples = numpy.array([ma1, ma2, ma3])\n",
    "plots.stack(samples, [-10.0, 10.0], title, labels)"
   ]
  },
  {
   "cell_type": "markdown",
   "id": "8a1d971f-c5b5-4835-8ad2-8a27a028c3f5",
   "metadata": {},
   "source": [
    "## Mean"
   ]
  },
  {
   "cell_type": "code",
   "execution_count": null,
   "id": "27f21cb7-ad04-4cdc-b099-ca5f5b82d002",
   "metadata": {},
   "outputs": [],
   "source": [
    "nsample = 100000\n",
    "θ = numpy.array([2.4])\n",
    "title = \"MA(1) Cumulative \" + r\"$\\mu_t$: \" + f\"σ={σ}, θ={θ}\"\n",
    "label = r\"$\\mu_t$\"\n",
    "samples = arima.maq(θ, nsample)\n",
    "accum = stats.cummean(samples)\n",
    "target = 0.0\n",
    "plots.cumulative(accum, target, title, label)"
   ]
  },
  {
   "cell_type": "code",
   "execution_count": null,
   "id": "800e637a-6bbe-484c-89d4-506dc31b5d2b",
   "metadata": {
    "tags": []
   },
   "outputs": [],
   "source": [
    "nsample = 100000\n",
    "θ = numpy.array([2.4, -0.9])\n",
    "title = \"MA(2) Cumulative \" + r\"$\\mu_t$: \" + f\"σ={σ}, θ={θ}\"\n",
    "label = r\"$\\mu_t$\"\n",
    "samples = arima.maq(θ, nsample)\n",
    "accum = stats.cummean(samples)\n",
    "target = 0.0\n",
    "plots.cumulative(accum, target, title, label)"
   ]
  },
  {
   "cell_type": "code",
   "execution_count": null,
   "id": "23feca17-f77a-487a-9fc5-b2562f372782",
   "metadata": {},
   "outputs": [],
   "source": [
    "nsample = 100000\n",
    "θ = numpy.array([2.4, -0.9, 0.3])\n",
    "title = \"MA(3) Cumulative \" + r\"$\\mu_t$: \" + f\"σ={σ}, θ={θ}\"\n",
    "label = r\"$\\mu_t$\"\n",
    "samples = arima.maq(θ, nsample)\n",
    "accum = stats.cummean(samples)\n",
    "target = 0.0\n",
    "plots.cumulative(accum, target, title, label)"
   ]
  },
  {
   "cell_type": "markdown",
   "id": "198104b5-0b02-4b63-9684-f196ebea7f03",
   "metadata": {},
   "source": [
    "## Standard Deviation"
   ]
  },
  {
   "cell_type": "code",
   "execution_count": null,
   "id": "94ac571e-827e-4dd5-87d4-4987b6840d50",
   "metadata": {},
   "outputs": [],
   "source": [
    "θ = numpy.array([2.4])\n",
    "nsample = 100000\n",
    "title = \"MA(1) Cumulative \" + r\"$\\sigma_t$: \" + f\"σ={σ}, θ={θ}\"\n",
    "label = r\"$\\sigma_t$\"\n",
    "samples = arima.maq(θ, nsample)\n",
    "accum = stats.cumsigma(samples)\n",
    "target = sigma(θ)\n",
    "plots.cumulative(accum, target, title, label)"
   ]
  },
  {
   "cell_type": "code",
   "execution_count": null,
   "id": "e1f633a4-6186-4b73-9675-4973dff684e4",
   "metadata": {},
   "outputs": [],
   "source": [
    "θ = numpy.array([2.4, -1.2])\n",
    "nsample = 100000\n",
    "label = r\"$\\sigma_t$\"\n",
    "samples = arima.maq(θ, nsample)\n",
    "accum = stats.cumsigma(samples)\n",
    "target = sigma(θ)\n",
    "title = \"MA(2) Cumulative \" + r\"$\\sigma_t$: \" + f\"σ={σ}, θ={θ}\"\n",
    "plots.cumulative(accum, target, title, label)"
   ]
  },
  {
   "cell_type": "code",
   "execution_count": null,
   "id": "78ea4b3f-4589-4c4c-a9de-2878685622f2",
   "metadata": {},
   "outputs": [],
   "source": [
    "θ = numpy.array([2.4, -1.2, 0.6])\n",
    "nsample = 100000\n",
    "label = r\"$\\sigma_t$\"\n",
    "samples = arima.maq(θ, nsample)\n",
    "accum = stats.cumsigma(samples)\n",
    "target = sigma(θ)\n",
    "title = \"MA(3) Cumulative \" + r\"$\\sigma_t$: \" + f\"σ={σ}, θ={θ}\"\n",
    "plots.cumulative(accum, target, title, label)"
   ]
  },
  {
   "cell_type": "markdown",
   "id": "6fb90d19-212d-4cb0-8404-2035992c75a7",
   "metadata": {},
   "source": [
    "## Autocorrelation"
   ]
  },
  {
   "cell_type": "code",
   "execution_count": null,
   "id": "61feea00-566e-4263-90f1-63abec660b60",
   "metadata": {},
   "outputs": [],
   "source": [
    "θ = numpy.array([0.2])\n",
    "lag = 10\n",
    "nsample = 50000\n",
    "title = f\"MA(1) Autocorrelation: σ={σ}, φ={θ}\"\n",
    "samples = arima.maq(θ, nsample, σ)\n",
    "ac = stats.acf(samples, lag)\n",
    "auto_correlation_plot(ac, θ, lag, title, [-1.1, 1.1])"
   ]
  },
  {
   "cell_type": "code",
   "execution_count": null,
   "id": "25d04806-ca7a-4dc7-9912-42f10cd32911",
   "metadata": {},
   "outputs": [],
   "source": [
    "θ = numpy.array([-0.2])\n",
    "lag = 10\n",
    "nsample = 50000\n",
    "title = f\"MA(1) Autocorrelation: σ={σ}, φ={θ}\"\n",
    "samples = arima.maq(θ, nsample, σ)\n",
    "ac = stats.acf(samples, lag)\n",
    "auto_correlation_plot(ac, θ, lag, title, [-1.1, 1.1])"
   ]
  },
  {
   "cell_type": "code",
   "execution_count": null,
   "id": "d05a712e-1baa-41ef-aa6d-196d4aca714a",
   "metadata": {},
   "outputs": [],
   "source": [
    "θ = numpy.array([0.4, 0.2])\n",
    "lag = 10\n",
    "nsample = 50000\n",
    "title = f\"MA(2) Autocorrelation: σ={σ}, φ={θ}\"\n",
    "samples = arima.maq(θ, nsample, σ)\n",
    "ac = stats.acf(samples, lag)\n",
    "auto_correlation_plot(ac, θ, lag, title, [-1.1, 1.1])"
   ]
  },
  {
   "cell_type": "code",
   "execution_count": null,
   "id": "0d46ac1e-1cd6-451b-89cc-d6f13f1d0846",
   "metadata": {},
   "outputs": [],
   "source": [
    "θ = numpy.array([0.2, -0.2])\n",
    "lag = 10\n",
    "nsample = 50000\n",
    "title = f\"MA(2) Autocorrelation: σ={σ}, φ={θ}\"\n",
    "samples = arima.maq(θ, nsample, σ)\n",
    "ac = stats.acf(samples, lag)\n",
    "auto_correlation_plot(ac, θ, lag, title, [-1.1, 1.1])"
   ]
  },
  {
   "cell_type": "code",
   "execution_count": null,
   "id": "7993071d-6400-4856-be41-5256db228f05",
   "metadata": {},
   "outputs": [],
   "source": [
    "θ = numpy.array([0.2, 0.3, 0.1])\n",
    "lag = 10\n",
    "nsample = 500000\n",
    "title = f\"MA() Autocorrelation: σ={σ}, φ={θ}\"\n",
    "samples = arima.maq(θ, nsample, σ)\n",
    "ac = stats.acf(samples, lag)\n",
    "auto_correlation_plot(ac, θ, lag, title, [-1.1, 1.1])"
   ]
  },
  {
   "cell_type": "code",
   "execution_count": null,
   "id": "b3df1677-2895-4763-a697-314529c76208",
   "metadata": {},
   "outputs": [],
   "source": [
    "θ = numpy.array([0.4, -0.2, -0.1])\n",
    "lag = 10\n",
    "nsample = 50000\n",
    "title = f\"MA(3) Autocorrelation: σ={σ}, φ={θ}\"\n",
    "samples = arima.maq(θ, nsample, σ)\n",
    "ac = stats.acf(samples, lag)\n",
    "auto_correlation_plot(ac, θ, lag, title, [-1.1, 1.1])"
   ]
  }
 ],
 "metadata": {
  "kernelspec": {
   "display_name": "Python 3 (ipykernel)",
   "language": "python",
   "name": "python3"
  },
  "language_info": {
   "codemirror_mode": {
    "name": "ipython",
    "version": 3
   },
   "file_extension": ".py",
   "mimetype": "text/x-python",
   "name": "python",
   "nbconvert_exporter": "python",
   "pygments_lexer": "ipython3",
   "version": "3.9.2"
  }
 },
 "nbformat": 4,
 "nbformat_minor": 5
}
