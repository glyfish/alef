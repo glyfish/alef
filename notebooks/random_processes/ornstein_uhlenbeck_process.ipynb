{
 "cells": [
  {
   "cell_type": "markdown",
   "id": "de3b7201-2d1a-4241-8e07-c44029162fbd",
   "metadata": {},
   "source": [
    "# Ornstein-Uhlenbeck Process\n",
    "\n",
    "The $\\text{AR}(1)$  process with constant offset can be written as,\n",
    "\n",
    "$\n",
    "\\begin{align}\n",
    "\\Delta X_t = \\lambda \\left( X_{t-1} - \\mu \\right) + \\sigma \\Delta B_t\n",
    "\\end{align}\n",
    "$\n",
    "\n",
    "where $\\Delta B_t \\sim \\text{Normal}(0, \\Delta t)$. The differential form of this equation is the Ornstein-Uhlenbeck SDE, namely,\n",
    "\n",
    "$\n",
    "\\begin{align}\n",
    "dX_t = \\lambda \\left( X_t - \\mu\\right) dt + \\sigma dB_t\n",
    "\\end{align}\n",
    "$\n",
    "\n",
    "The Ornstein-Uhlenbeck SDE models a mean reverting random process.\n"
   ]
  },
  {
   "cell_type": "code",
   "execution_count": null,
   "id": "81c43e2d-0d30-4364-b48a-3f0fbaca98c6",
   "metadata": {},
   "outputs": [],
   "source": []
  }
 ],
 "metadata": {
  "kernelspec": {
   "display_name": "Python 3 (ipykernel)",
   "language": "python",
   "name": "python3"
  },
  "language_info": {
   "codemirror_mode": {
    "name": "ipython",
    "version": 3
   },
   "file_extension": ".py",
   "mimetype": "text/x-python",
   "name": "python",
   "nbconvert_exporter": "python",
   "pygments_lexer": "ipython3",
   "version": "3.9.2"
  }
 },
 "nbformat": 4,
 "nbformat_minor": 5
}
