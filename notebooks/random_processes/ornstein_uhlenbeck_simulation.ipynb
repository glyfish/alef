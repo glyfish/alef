{
 "cells": [
  {
   "cell_type": "markdown",
   "id": "40a824b2-b8bd-4c94-a067-23bbe047e254",
   "metadata": {},
   "source": [
    "# Ornstein-Uhlenbeck Process Simulation\n",
    "\n",
    "The Ornstein-Uhlenbeck SDE models a mean reverting random process and is defined by,\n",
    "\n",
    "$\n",
    "\\begin{align}\n",
    "dX_t = \\lambda \\left( \\mu - X_t \\right) dt + \\sigma dB_t\n",
    "\\end{align}\n",
    "$\n",
    "\n",
    "where $dB_t \\sim \\text{Normal}(0, dt)$.\n",
    "\n",
    "The model can be descritized using the Euler method from continuous differential equations. The stochastic version of it is called</br>\n",
    "the [Euler-Maruyama](https://en.wikipedia.org/wiki/Euler%E2%80%93Maruyama_method) method. Replacing the continuous differential with finite differences gives,\n",
    "\n",
    "$\n",
    "\\begin{align}\n",
    "&\\Delta X_t = \\lambda \\left( \\mu - X_t \\right) \\Delta t + \\sigma \\Delta B_t \\\\\n",
    "\\Rightarrow &X_{t+1} = X_t + \\lambda \\left( \\mu - X_t \\right) \\Delta t + \\sigma \\Delta B_t\n",
    "\\end{align}\n",
    "$\n",
    "\n",
    "but $\\Delta B_t \\sim \\text{Normal}(0, \\Delta t)$. It follows that the simulated model is given by,\n",
    "\n",
    "$\n",
    "\\begin{align}\n",
    "X_{t+1} = X_t + \\lambda \\left( \\mu - X_t \\right) \\Delta t + \\sigma \\Delta t\\hspace{2pt} \\varepsilon_t\n",
    "\\end{align}\n",
    "$\n",
    "\n",
    "where $\\varepsilon \\sim \\text{Normal}(0,1)$.\n",
    "\n",
    "The solution to the Ornstein-Uhlenbeck SDE is given by,\n",
    "\n",
    "$\n",
    "\\begin{align}\n",
    "X_t &= \\text{E}[X_t] + \\sqrt{\\text{Var}(X_t)}\\hspace{2pt}\\varepsilon_t \\\\\n",
    "&= X_0 e^{-\\lambda t} + \\mu \\left( 1 - e^{-\\lambda t} \\right) + \\sqrt{ \\frac{\\sigma^2}{2\\lambda} \\left( 1 - e^{-2\\lambda t} \\right)} \\hspace{5pt} \\varepsilon_t \\hspace{30pt} (4)\n",
    "\\end{align}\n",
    "$\n",
    "\n",
    "where $\\varepsilon_t \\sim \\text{Normal}(0,1)$.\n"
   ]
  },
  {
   "cell_type": "markdown",
   "id": "afdf8ac3-dddb-446e-b825-16ad89f62a3f",
   "metadata": {},
   "source": [
    "## Imports"
   ]
  },
  {
   "cell_type": "code",
   "execution_count": null,
   "id": "00bcc71c-3939-491e-a7d0-13fc04a8a68a",
   "metadata": {},
   "outputs": [],
   "source": []
  }
 ],
 "metadata": {
  "kernelspec": {
   "display_name": "Python 3 (ipykernel)",
   "language": "python",
   "name": "python3"
  },
  "language_info": {
   "codemirror_mode": {
    "name": "ipython",
    "version": 3
   },
   "file_extension": ".py",
   "mimetype": "text/x-python",
   "name": "python",
   "nbconvert_exporter": "python",
   "pygments_lexer": "ipython3",
   "version": "3.9.2"
  }
 },
 "nbformat": 4,
 "nbformat_minor": 5
}
