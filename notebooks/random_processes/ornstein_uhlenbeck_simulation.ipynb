{
 "cells": [
  {
   "cell_type": "markdown",
   "id": "40a824b2-b8bd-4c94-a067-23bbe047e254",
   "metadata": {},
   "source": [
    "# Ornstein-Uhlenbeck Process Simulation\n",
    "\n",
    "The Ornstein-Uhlenbeck process can be descritized using the Euler method from continuous differential equations. The stochastic version of it is called</br>\n",
    "[Euler-Maruyama](https://en.wikipedia.org/wiki/Euler%E2%80%93Maruyama_method) method. Recal the Ornstein-Uhlenbeck SDE is given by,\n",
    "\n",
    "$\n",
    "\\begin{align}\n",
    "dX_t = \\lambda \\left( \\mu^* - X_t \\right) dt + \\sigma dB_t\n",
    "\\end{align}\n",
    "$\n",
    "\n",
    "where $dB_t \\sim \\text{Normal}(0,dt)$. Replacing the continuous differential with finite differences gives,\n",
    "\n",
    "$\n",
    "\\begin{align}\n",
    "&\\Delta X_t = \\lambda \\left( \\mu^* - X_t \\right) \\Delta t + \\sigma \\Delta B_t \\\\\n",
    "\\Rightarrow &X_{t+1} = X_t + \\lambda \\left( \\mu^* - X_t \\right) \\Delta t + \\sigma \\Delta B_t\n",
    "\\end{align}\n",
    "$\n",
    "\n",
    "but $\\Delta B_t \\sim \\text{Normal}(0, \\Delta t)$ so,\n",
    "\n",
    "$\n",
    "\\begin{align}\n",
    "X_{t+1} = X_t + \\lambda \\left( \\mu^* - X_t \\right) \\Delta t + \\sigma \\Delta t \\varepsilon_t\n",
    "\\end{align}\n",
    "$\n",
    "\n",
    "where $\\varepsilon \\sim \\text{Normal}(0,1)$.\n",
    "\n"
   ]
  },
  {
   "cell_type": "markdown",
   "id": "afdf8ac3-dddb-446e-b825-16ad89f62a3f",
   "metadata": {},
   "source": [
    "## Imports"
   ]
  },
  {
   "cell_type": "code",
   "execution_count": null,
   "id": "00bcc71c-3939-491e-a7d0-13fc04a8a68a",
   "metadata": {},
   "outputs": [],
   "source": []
  }
 ],
 "metadata": {
  "kernelspec": {
   "display_name": "",
   "name": ""
  },
  "language_info": {
   "name": ""
  }
 },
 "nbformat": 4,
 "nbformat_minor": 5
}
