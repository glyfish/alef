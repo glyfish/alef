{
 "cells": [
  {
   "cell_type": "markdown",
   "id": "e0d9f9ec-3647-4306-b9bf-1c6cf243c137",
   "metadata": {},
   "source": [
    "# AR(1)"
   ]
  },
  {
   "cell_type": "code",
   "execution_count": null,
   "id": "61d21bc9-a612-4b85-938f-43153f60b5e1",
   "metadata": {},
   "outputs": [],
   "source": []
  }
 ],
 "metadata": {
  "kernelspec": {
   "display_name": "Python 3 (ipykernel)",
   "language": "python",
   "name": "python3"
  },
  "language_info": {
   "codemirror_mode": {
    "name": "ipython",
    "version": 3
   },
   "file_extension": ".py",
   "mimetype": "text/x-python",
   "name": "python",
   "nbconvert_exporter": "python",
   "pygments_lexer": "ipython3",
   "version": "3.9.2"
  }
 },
 "nbformat": 4,
 "nbformat_minor": 5
}
